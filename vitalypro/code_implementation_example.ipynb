{
 "cells": [
  {
   "cell_type": "code",
   "execution_count": 18,
   "metadata": {
    "ExecuteTime": {
     "end_time": "2021-10-29T00:22:54.876849Z",
     "start_time": "2021-10-29T00:22:54.815867Z"
    }
   },
   "outputs": [
    {
     "data": {
      "application/vnd.plotly.v1+json": {
       "config": {
        "plotlyServerURL": "https://plot.ly"
       },
       "data": [
        {
         "marker": {
          "color": "black"
         },
         "mode": "lines",
         "name": "markers",
         "showlegend": false,
         "type": "scatter",
         "x": [
          1,
          2,
          3,
          4,
          5,
          6,
          7,
          8,
          9,
          10,
          11
         ],
         "xaxis": "x",
         "y": [
          -2.8999998569488525,
          -2.8899998664855957,
          -2.860999822616577,
          -2.811999797821045,
          -2.744999885559082,
          -2.6589999198913574,
          -2.553999900817871,
          -2.5189998149871826,
          -2.4079997539520264,
          -2.311999797821045,
          -2.2689998149871826
         ],
         "yaxis": "y"
        },
        {
         "marker": {
          "color": "black"
         },
         "mode": "lines",
         "name": "markers",
         "showlegend": false,
         "type": "scatter",
         "x": [
          1,
          2,
          3,
          4,
          5,
          6,
          7,
          8,
          9,
          10,
          11
         ],
         "xaxis": "x",
         "y": [
          -0.4329996109008789,
          -0.5479998588562012,
          -0.8379998207092285,
          -1.2189998626708984,
          -1.6419997215270996,
          -2.0839996337890625,
          -2.5349998474121094,
          -2.430999755859375,
          -2.2909998893737793,
          -2.138000011444092,
          -2.0190000534057617
         ],
         "yaxis": "y"
        },
        {
         "marker": {
          "color": "black"
         },
         "mode": "lines",
         "name": "markers",
         "showlegend": false,
         "type": "scatter",
         "x": [
          1,
          2,
          3,
          4,
          5,
          6,
          7,
          8,
          9,
          10,
          11
         ],
         "xaxis": "x",
         "y": [
          -0.0429997444152832,
          -0.09200000762939453,
          -0.2259998321533203,
          -0.4159998893737793,
          -0.6349997520446777,
          -0.866999626159668,
          -1.0999999046325684,
          -1.3269996643066406,
          -1.5439996719360352,
          -1.7430000305175781,
          -1.8779997825622559
         ],
         "yaxis": "y"
        },
        {
         "marker": {
          "color": "black"
         },
         "mode": "lines",
         "name": "markers",
         "showlegend": false,
         "type": "scatter",
         "x": [
          1,
          2,
          3,
          4,
          5,
          6,
          7,
          8,
          9,
          10,
          11
         ],
         "xaxis": "x",
         "y": [
          -0.013000011444091797,
          -0.06199979782104492,
          -0.19499969482421875,
          -0.38299989700317383,
          -0.5980000495910645,
          -0.8229999542236328,
          -1.0460000038146973,
          -1.2569999694824219,
          -1.4439997673034668,
          -1.5869998931884766,
          -1.6449999809265137
         ],
         "yaxis": "y"
        },
        {
         "marker": {
          "color": "black"
         },
         "mode": "lines",
         "name": "markers",
         "showlegend": false,
         "type": "scatter",
         "x": [
          1,
          2,
          3,
          4,
          5,
          6,
          7,
          8,
          9,
          10,
          11
         ],
         "xaxis": "x",
         "y": [
          0.14300012588500977,
          0.20300006866455078,
          0.37400007247924805,
          0.5989999771118164,
          0.6040000915527344,
          0.6280002593994141,
          0.6680002212524414,
          0.7220001220703125,
          0.7820000648498535,
          0.8340001106262207,
          0.8570003509521484
         ],
         "yaxis": "y"
        },
        {
         "marker": {
          "color": "black"
         },
         "mode": "lines",
         "name": "markers",
         "showlegend": false,
         "type": "scatter",
         "x": [
          1,
          2,
          3,
          4,
          5,
          6,
          7,
          8,
          9,
          10,
          11
         ],
         "xaxis": "x",
         "y": [
          0.14400005340576172,
          0.20399999618530273,
          0.375,
          0.6400003433227539,
          0.9809999465942383,
          1.3819999694824219,
          1.569000244140625,
          1.5789999961853027,
          1.5120000839233398,
          1.439000129699707,
          1.4079999923706055
         ],
         "yaxis": "y"
        },
        {
         "marker": {
          "color": "black"
         },
         "mode": "lines",
         "name": "markers",
         "showlegend": false,
         "type": "scatter",
         "x": [
          1,
          2,
          3,
          4,
          5,
          6,
          7,
          8,
          9,
          10,
          11
         ],
         "xaxis": "x",
         "y": [
          0.6579999923706055,
          0.6380000114440918,
          0.6110000610351562,
          0.6410002708435059,
          0.9820003509521484,
          1.383000373840332,
          1.830000400543213,
          2.2480006217956543,
          2.4390006065368652,
          2.6790003776550293,
          2.8680005073547363
         ],
         "yaxis": "y"
        },
        {
         "marker": {
          "color": "black"
         },
         "mode": "lines",
         "name": "markers",
         "showlegend": false,
         "type": "scatter",
         "x": [
          1,
          2,
          3,
          4,
          5,
          6,
          7,
          8,
          9,
          10,
          11
         ],
         "xaxis": "x",
         "y": [
          0.8220000267028809,
          0.8700003623962402,
          1.010000228881836,
          1.1620001792907715,
          1.308000087738037,
          1.4580001831054688,
          1.8309998512268066,
          2.316000461578369,
          2.8340001106262207,
          3.2170004844665527,
          3.0450005531311035
         ],
         "yaxis": "y"
        },
        {
         "marker": {
          "color": "black"
         },
         "mode": "lines",
         "name": "markers",
         "showlegend": false,
         "type": "scatter",
         "x": [
          1,
          2,
          3,
          4,
          5,
          6,
          7,
          8,
          9,
          10,
          11
         ],
         "xaxis": "x2",
         "y": [
          -2.809000015258789,
          -2.8459999561309814,
          -2.9469997882843018,
          -3.0889999866485596,
          -3.0239999294281006,
          -2.934000015258789,
          -2.8259999752044678,
          -2.7779998779296875,
          -2.6610000133514404,
          -2.557999849319458,
          -2.5119998455047607
         ],
         "yaxis": "y2"
        },
        {
         "marker": {
          "color": "black"
         },
         "mode": "lines",
         "name": "markers",
         "showlegend": false,
         "type": "scatter",
         "x": [
          1,
          2,
          3,
          4,
          5,
          6,
          7,
          8,
          9,
          10,
          11
         ],
         "xaxis": "x2",
         "y": [
          -0.3249998092651367,
          -0.36999988555908203,
          -0.6719999313354492,
          -1.0869998931884766,
          -1.5180001258850098,
          -1.9529998302459717,
          -2.384999990463257,
          -2.6989998817443848,
          -2.553999900817871,
          -2.3969998359680176,
          -2.2769999504089355
         ],
         "yaxis": "y2"
        },
        {
         "marker": {
          "color": "black"
         },
         "mode": "lines",
         "name": "markers",
         "showlegend": false,
         "type": "scatter",
         "x": [
          1,
          2,
          3,
          4,
          5,
          6,
          7,
          8,
          9,
          10,
          11
         ],
         "xaxis": "x2",
         "y": [
          -0.29199981689453125,
          -0.3359999656677246,
          -0.4930000305175781,
          -0.6719999313354492,
          -0.8829998970031738,
          -1.1100001335144043,
          -1.3420000076293945,
          -1.5699996948242188,
          -1.7879998683929443,
          -1.9909999370574951,
          -2.126999855041504
         ],
         "yaxis": "y2"
        },
        {
         "marker": {
          "color": "black"
         },
         "mode": "lines",
         "name": "markers",
         "showlegend": false,
         "type": "scatter",
         "x": [
          1,
          2,
          3,
          4,
          5,
          6,
          7,
          8,
          9,
          10,
          11
         ],
         "xaxis": "x2",
         "y": [
          -0.15000009536743164,
          -0.315000057220459,
          -0.4590001106262207,
          -0.6359996795654297,
          -0.8439998626708984,
          -1.065999984741211,
          -1.2880001068115234,
          -1.5,
          -1.691999912261963,
          -1.8399999141693115,
          -1.9019999504089355
         ],
         "yaxis": "y2"
        },
        {
         "marker": {
          "color": "black"
         },
         "mode": "lines",
         "name": "markers",
         "showlegend": false,
         "type": "scatter",
         "x": [
          1,
          2,
          3,
          4,
          5,
          6,
          7,
          8,
          9,
          10,
          11
         ],
         "xaxis": "x2",
         "y": [
          0.2670001983642578,
          0.22700023651123047,
          0.17500019073486328,
          0.14400005340576172,
          0.1360001564025879,
          0.1510000228881836,
          0.18800020217895508,
          0.24300003051757812,
          0.30900001525878906,
          0.3710002899169922,
          0.3990001678466797
         ],
         "yaxis": "y2"
        },
        {
         "marker": {
          "color": "black"
         },
         "mode": "lines",
         "name": "markers",
         "showlegend": false,
         "type": "scatter",
         "x": [
          1,
          2,
          3,
          4,
          5,
          6,
          7,
          8,
          9,
          10,
          11
         ],
         "xaxis": "x2",
         "y": [
          0.3959999084472656,
          0.46199989318847656,
          0.6500000953674316,
          0.8340001106262207,
          1.0120000839233398,
          1.1800003051757812,
          1.25,
          1.1760001182556152,
          1.0560002326965332,
          0.9530000686645508,
          0.9100003242492676
         ],
         "yaxis": "y2"
        },
        {
         "marker": {
          "color": "black"
         },
         "mode": "lines",
         "name": "markers",
         "showlegend": false,
         "type": "scatter",
         "x": [
          1,
          2,
          3,
          4,
          5,
          6,
          7,
          8,
          9,
          10,
          11
         ],
         "xaxis": "x2",
         "y": [
          0.3970003128051758,
          0.4630002975463867,
          0.6519999504089355,
          0.940000057220459,
          1.308000087738037,
          1.7360000610351562,
          1.8020000457763672,
          1.9770002365112305,
          2.2280001640319824,
          2.492000102996826,
          2.672999858856201
         ],
         "yaxis": "y2"
        },
        {
         "marker": {
          "color": "black"
         },
         "mode": "lines",
         "name": "markers",
         "showlegend": false,
         "type": "scatter",
         "x": [
          1,
          2,
          3,
          4,
          5,
          6,
          7,
          8,
          9,
          10,
          11
         ],
         "xaxis": "x2",
         "y": [
          0.5180001258850098,
          0.560999870300293,
          0.6770000457763672,
          0.9419999122619629,
          1.309999942779541,
          1.7379999160766602,
          2.2100000381469727,
          2.7219996452331543,
          3.073000431060791,
          2.9830002784729004,
          2.858999729156494
         ],
         "yaxis": "y2"
        },
        {
         "line": {
          "color": "RoyalBlue",
          "dash": "dot",
          "width": 3
         },
         "mode": "lines",
         "name": "markers",
         "showlegend": false,
         "type": "scatter",
         "x": [
          1,
          11
         ],
         "xaxis": "x",
         "y": [
          0,
          0
         ],
         "yaxis": "y"
        },
        {
         "line": {
          "color": "RoyalBlue",
          "dash": "dot",
          "width": 3
         },
         "mode": "lines",
         "name": "markers",
         "showlegend": false,
         "type": "scatter",
         "x": [
          1,
          11
         ],
         "xaxis": "x2",
         "y": [
          0,
          0
         ],
         "yaxis": "y2"
        }
       ],
       "layout": {
        "annotations": [
         {
          "font": {
           "size": 16
          },
          "showarrow": false,
          "text": "strain 0%",
          "x": 0.225,
          "xanchor": "center",
          "xref": "paper",
          "y": 1,
          "yanchor": "bottom",
          "yref": "paper"
         },
         {
          "font": {
           "size": 16
          },
          "showarrow": false,
          "text": "strain 5%",
          "x": 0.775,
          "xanchor": "center",
          "xref": "paper",
          "y": 1,
          "yanchor": "bottom",
          "yref": "paper"
         }
        ],
        "height": 650,
        "plot_bgcolor": "white",
        "template": {
         "data": {
          "bar": [
           {
            "error_x": {
             "color": "#2a3f5f"
            },
            "error_y": {
             "color": "#2a3f5f"
            },
            "marker": {
             "line": {
              "color": "#E5ECF6",
              "width": 0.5
             }
            },
            "type": "bar"
           }
          ],
          "barpolar": [
           {
            "marker": {
             "line": {
              "color": "#E5ECF6",
              "width": 0.5
             }
            },
            "type": "barpolar"
           }
          ],
          "carpet": [
           {
            "aaxis": {
             "endlinecolor": "#2a3f5f",
             "gridcolor": "white",
             "linecolor": "white",
             "minorgridcolor": "white",
             "startlinecolor": "#2a3f5f"
            },
            "baxis": {
             "endlinecolor": "#2a3f5f",
             "gridcolor": "white",
             "linecolor": "white",
             "minorgridcolor": "white",
             "startlinecolor": "#2a3f5f"
            },
            "type": "carpet"
           }
          ],
          "choropleth": [
           {
            "colorbar": {
             "outlinewidth": 0,
             "ticks": ""
            },
            "type": "choropleth"
           }
          ],
          "contour": [
           {
            "colorbar": {
             "outlinewidth": 0,
             "ticks": ""
            },
            "colorscale": [
             [
              0,
              "#0d0887"
             ],
             [
              0.1111111111111111,
              "#46039f"
             ],
             [
              0.2222222222222222,
              "#7201a8"
             ],
             [
              0.3333333333333333,
              "#9c179e"
             ],
             [
              0.4444444444444444,
              "#bd3786"
             ],
             [
              0.5555555555555556,
              "#d8576b"
             ],
             [
              0.6666666666666666,
              "#ed7953"
             ],
             [
              0.7777777777777778,
              "#fb9f3a"
             ],
             [
              0.8888888888888888,
              "#fdca26"
             ],
             [
              1,
              "#f0f921"
             ]
            ],
            "type": "contour"
           }
          ],
          "contourcarpet": [
           {
            "colorbar": {
             "outlinewidth": 0,
             "ticks": ""
            },
            "type": "contourcarpet"
           }
          ],
          "heatmap": [
           {
            "colorbar": {
             "outlinewidth": 0,
             "ticks": ""
            },
            "colorscale": [
             [
              0,
              "#0d0887"
             ],
             [
              0.1111111111111111,
              "#46039f"
             ],
             [
              0.2222222222222222,
              "#7201a8"
             ],
             [
              0.3333333333333333,
              "#9c179e"
             ],
             [
              0.4444444444444444,
              "#bd3786"
             ],
             [
              0.5555555555555556,
              "#d8576b"
             ],
             [
              0.6666666666666666,
              "#ed7953"
             ],
             [
              0.7777777777777778,
              "#fb9f3a"
             ],
             [
              0.8888888888888888,
              "#fdca26"
             ],
             [
              1,
              "#f0f921"
             ]
            ],
            "type": "heatmap"
           }
          ],
          "heatmapgl": [
           {
            "colorbar": {
             "outlinewidth": 0,
             "ticks": ""
            },
            "colorscale": [
             [
              0,
              "#0d0887"
             ],
             [
              0.1111111111111111,
              "#46039f"
             ],
             [
              0.2222222222222222,
              "#7201a8"
             ],
             [
              0.3333333333333333,
              "#9c179e"
             ],
             [
              0.4444444444444444,
              "#bd3786"
             ],
             [
              0.5555555555555556,
              "#d8576b"
             ],
             [
              0.6666666666666666,
              "#ed7953"
             ],
             [
              0.7777777777777778,
              "#fb9f3a"
             ],
             [
              0.8888888888888888,
              "#fdca26"
             ],
             [
              1,
              "#f0f921"
             ]
            ],
            "type": "heatmapgl"
           }
          ],
          "histogram": [
           {
            "marker": {
             "colorbar": {
              "outlinewidth": 0,
              "ticks": ""
             }
            },
            "type": "histogram"
           }
          ],
          "histogram2d": [
           {
            "colorbar": {
             "outlinewidth": 0,
             "ticks": ""
            },
            "colorscale": [
             [
              0,
              "#0d0887"
             ],
             [
              0.1111111111111111,
              "#46039f"
             ],
             [
              0.2222222222222222,
              "#7201a8"
             ],
             [
              0.3333333333333333,
              "#9c179e"
             ],
             [
              0.4444444444444444,
              "#bd3786"
             ],
             [
              0.5555555555555556,
              "#d8576b"
             ],
             [
              0.6666666666666666,
              "#ed7953"
             ],
             [
              0.7777777777777778,
              "#fb9f3a"
             ],
             [
              0.8888888888888888,
              "#fdca26"
             ],
             [
              1,
              "#f0f921"
             ]
            ],
            "type": "histogram2d"
           }
          ],
          "histogram2dcontour": [
           {
            "colorbar": {
             "outlinewidth": 0,
             "ticks": ""
            },
            "colorscale": [
             [
              0,
              "#0d0887"
             ],
             [
              0.1111111111111111,
              "#46039f"
             ],
             [
              0.2222222222222222,
              "#7201a8"
             ],
             [
              0.3333333333333333,
              "#9c179e"
             ],
             [
              0.4444444444444444,
              "#bd3786"
             ],
             [
              0.5555555555555556,
              "#d8576b"
             ],
             [
              0.6666666666666666,
              "#ed7953"
             ],
             [
              0.7777777777777778,
              "#fb9f3a"
             ],
             [
              0.8888888888888888,
              "#fdca26"
             ],
             [
              1,
              "#f0f921"
             ]
            ],
            "type": "histogram2dcontour"
           }
          ],
          "mesh3d": [
           {
            "colorbar": {
             "outlinewidth": 0,
             "ticks": ""
            },
            "type": "mesh3d"
           }
          ],
          "parcoords": [
           {
            "line": {
             "colorbar": {
              "outlinewidth": 0,
              "ticks": ""
             }
            },
            "type": "parcoords"
           }
          ],
          "pie": [
           {
            "automargin": true,
            "type": "pie"
           }
          ],
          "scatter": [
           {
            "marker": {
             "colorbar": {
              "outlinewidth": 0,
              "ticks": ""
             }
            },
            "type": "scatter"
           }
          ],
          "scatter3d": [
           {
            "line": {
             "colorbar": {
              "outlinewidth": 0,
              "ticks": ""
             }
            },
            "marker": {
             "colorbar": {
              "outlinewidth": 0,
              "ticks": ""
             }
            },
            "type": "scatter3d"
           }
          ],
          "scattercarpet": [
           {
            "marker": {
             "colorbar": {
              "outlinewidth": 0,
              "ticks": ""
             }
            },
            "type": "scattercarpet"
           }
          ],
          "scattergeo": [
           {
            "marker": {
             "colorbar": {
              "outlinewidth": 0,
              "ticks": ""
             }
            },
            "type": "scattergeo"
           }
          ],
          "scattergl": [
           {
            "marker": {
             "colorbar": {
              "outlinewidth": 0,
              "ticks": ""
             }
            },
            "type": "scattergl"
           }
          ],
          "scattermapbox": [
           {
            "marker": {
             "colorbar": {
              "outlinewidth": 0,
              "ticks": ""
             }
            },
            "type": "scattermapbox"
           }
          ],
          "scatterpolar": [
           {
            "marker": {
             "colorbar": {
              "outlinewidth": 0,
              "ticks": ""
             }
            },
            "type": "scatterpolar"
           }
          ],
          "scatterpolargl": [
           {
            "marker": {
             "colorbar": {
              "outlinewidth": 0,
              "ticks": ""
             }
            },
            "type": "scatterpolargl"
           }
          ],
          "scatterternary": [
           {
            "marker": {
             "colorbar": {
              "outlinewidth": 0,
              "ticks": ""
             }
            },
            "type": "scatterternary"
           }
          ],
          "surface": [
           {
            "colorbar": {
             "outlinewidth": 0,
             "ticks": ""
            },
            "colorscale": [
             [
              0,
              "#0d0887"
             ],
             [
              0.1111111111111111,
              "#46039f"
             ],
             [
              0.2222222222222222,
              "#7201a8"
             ],
             [
              0.3333333333333333,
              "#9c179e"
             ],
             [
              0.4444444444444444,
              "#bd3786"
             ],
             [
              0.5555555555555556,
              "#d8576b"
             ],
             [
              0.6666666666666666,
              "#ed7953"
             ],
             [
              0.7777777777777778,
              "#fb9f3a"
             ],
             [
              0.8888888888888888,
              "#fdca26"
             ],
             [
              1,
              "#f0f921"
             ]
            ],
            "type": "surface"
           }
          ],
          "table": [
           {
            "cells": {
             "fill": {
              "color": "#EBF0F8"
             },
             "line": {
              "color": "white"
             }
            },
            "header": {
             "fill": {
              "color": "#C8D4E3"
             },
             "line": {
              "color": "white"
             }
            },
            "type": "table"
           }
          ]
         },
         "layout": {
          "annotationdefaults": {
           "arrowcolor": "#2a3f5f",
           "arrowhead": 0,
           "arrowwidth": 1
          },
          "coloraxis": {
           "colorbar": {
            "outlinewidth": 0,
            "ticks": ""
           }
          },
          "colorscale": {
           "diverging": [
            [
             0,
             "#8e0152"
            ],
            [
             0.1,
             "#c51b7d"
            ],
            [
             0.2,
             "#de77ae"
            ],
            [
             0.3,
             "#f1b6da"
            ],
            [
             0.4,
             "#fde0ef"
            ],
            [
             0.5,
             "#f7f7f7"
            ],
            [
             0.6,
             "#e6f5d0"
            ],
            [
             0.7,
             "#b8e186"
            ],
            [
             0.8,
             "#7fbc41"
            ],
            [
             0.9,
             "#4d9221"
            ],
            [
             1,
             "#276419"
            ]
           ],
           "sequential": [
            [
             0,
             "#0d0887"
            ],
            [
             0.1111111111111111,
             "#46039f"
            ],
            [
             0.2222222222222222,
             "#7201a8"
            ],
            [
             0.3333333333333333,
             "#9c179e"
            ],
            [
             0.4444444444444444,
             "#bd3786"
            ],
            [
             0.5555555555555556,
             "#d8576b"
            ],
            [
             0.6666666666666666,
             "#ed7953"
            ],
            [
             0.7777777777777778,
             "#fb9f3a"
            ],
            [
             0.8888888888888888,
             "#fdca26"
            ],
            [
             1,
             "#f0f921"
            ]
           ],
           "sequentialminus": [
            [
             0,
             "#0d0887"
            ],
            [
             0.1111111111111111,
             "#46039f"
            ],
            [
             0.2222222222222222,
             "#7201a8"
            ],
            [
             0.3333333333333333,
             "#9c179e"
            ],
            [
             0.4444444444444444,
             "#bd3786"
            ],
            [
             0.5555555555555556,
             "#d8576b"
            ],
            [
             0.6666666666666666,
             "#ed7953"
            ],
            [
             0.7777777777777778,
             "#fb9f3a"
            ],
            [
             0.8888888888888888,
             "#fdca26"
            ],
            [
             1,
             "#f0f921"
            ]
           ]
          },
          "colorway": [
           "#636efa",
           "#EF553B",
           "#00cc96",
           "#ab63fa",
           "#FFA15A",
           "#19d3f3",
           "#FF6692",
           "#B6E880",
           "#FF97FF",
           "#FECB52"
          ],
          "font": {
           "color": "#2a3f5f"
          },
          "geo": {
           "bgcolor": "white",
           "lakecolor": "white",
           "landcolor": "#E5ECF6",
           "showlakes": true,
           "showland": true,
           "subunitcolor": "white"
          },
          "hoverlabel": {
           "align": "left"
          },
          "hovermode": "closest",
          "mapbox": {
           "style": "light"
          },
          "paper_bgcolor": "white",
          "plot_bgcolor": "#E5ECF6",
          "polar": {
           "angularaxis": {
            "gridcolor": "white",
            "linecolor": "white",
            "ticks": ""
           },
           "bgcolor": "#E5ECF6",
           "radialaxis": {
            "gridcolor": "white",
            "linecolor": "white",
            "ticks": ""
           }
          },
          "scene": {
           "xaxis": {
            "backgroundcolor": "#E5ECF6",
            "gridcolor": "white",
            "gridwidth": 2,
            "linecolor": "white",
            "showbackground": true,
            "ticks": "",
            "zerolinecolor": "white"
           },
           "yaxis": {
            "backgroundcolor": "#E5ECF6",
            "gridcolor": "white",
            "gridwidth": 2,
            "linecolor": "white",
            "showbackground": true,
            "ticks": "",
            "zerolinecolor": "white"
           },
           "zaxis": {
            "backgroundcolor": "#E5ECF6",
            "gridcolor": "white",
            "gridwidth": 2,
            "linecolor": "white",
            "showbackground": true,
            "ticks": "",
            "zerolinecolor": "white"
           }
          },
          "shapedefaults": {
           "line": {
            "color": "#2a3f5f"
           }
          },
          "ternary": {
           "aaxis": {
            "gridcolor": "white",
            "linecolor": "white",
            "ticks": ""
           },
           "baxis": {
            "gridcolor": "white",
            "linecolor": "white",
            "ticks": ""
           },
           "bgcolor": "#E5ECF6",
           "caxis": {
            "gridcolor": "white",
            "linecolor": "white",
            "ticks": ""
           }
          },
          "title": {
           "x": 0.05
          },
          "xaxis": {
           "automargin": true,
           "gridcolor": "white",
           "linecolor": "white",
           "ticks": "",
           "title": {
            "standoff": 15
           },
           "zerolinecolor": "white",
           "zerolinewidth": 2
          },
          "yaxis": {
           "automargin": true,
           "gridcolor": "white",
           "linecolor": "white",
           "ticks": "",
           "title": {
            "standoff": 15
           },
           "zerolinecolor": "white",
           "zerolinewidth": 2
          }
         }
        },
        "width": 900,
        "xaxis": {
         "anchor": "y",
         "domain": [
          0,
          0.45
         ],
         "gridcolor": "lightgrey",
         "gridwidth": 0.5,
         "linecolor": "black",
         "linewidth": 1,
         "mirror": true,
         "range": [
          1,
          11
         ],
         "showgrid": true,
         "ticks": "inside",
         "ticktext": [
          "G",
          "Z"
         ],
         "tickvals": [
          1,
          11
         ]
        },
        "xaxis2": {
         "anchor": "y2",
         "domain": [
          0.55,
          1
         ],
         "gridcolor": "lightgrey",
         "gridwidth": 0.5,
         "linecolor": "black",
         "linewidth": 1,
         "mirror": true,
         "range": [
          1,
          11
         ],
         "showgrid": true,
         "ticks": "inside",
         "ticktext": [
          "G",
          "Z"
         ],
         "tickvals": [
          1,
          11
         ]
        },
        "yaxis": {
         "anchor": "x",
         "domain": [
          0,
          1
         ],
         "gridcolor": "lightgrey",
         "gridwidth": 0.5,
         "linecolor": "black",
         "linewidth": 1,
         "mirror": true,
         "showgrid": true,
         "ticks": "inside",
         "title": {
          "text": "Energy, eV"
         }
        },
        "yaxis2": {
         "anchor": "x2",
         "domain": [
          0,
          1
         ],
         "gridcolor": "lightgrey",
         "gridwidth": 0.5,
         "linecolor": "black",
         "linewidth": 1,
         "mirror": true,
         "showgrid": true,
         "ticks": "inside",
         "title": {
          "text": "Energy, eV"
         }
        }
       }
      },
      "text/html": [
       "<div>\n",
       "        \n",
       "        \n",
       "            <div id=\"d971cd9f-f14d-4d6d-8314-ceb676f5ca4f\" class=\"plotly-graph-div\" style=\"height:650px; width:900px;\"></div>\n",
       "            <script type=\"text/javascript\">\n",
       "                require([\"plotly\"], function(Plotly) {\n",
       "                    window.PLOTLYENV=window.PLOTLYENV || {};\n",
       "                    \n",
       "                if (document.getElementById(\"d971cd9f-f14d-4d6d-8314-ceb676f5ca4f\")) {\n",
       "                    Plotly.newPlot(\n",
       "                        'd971cd9f-f14d-4d6d-8314-ceb676f5ca4f',\n",
       "                        [{\"marker\": {\"color\": \"black\"}, \"mode\": \"lines\", \"name\": \"markers\", \"showlegend\": false, \"type\": \"scatter\", \"x\": [1, 2, 3, 4, 5, 6, 7, 8, 9, 10, 11], \"xaxis\": \"x\", \"y\": [-2.8999998569488525, -2.8899998664855957, -2.860999822616577, -2.811999797821045, -2.744999885559082, -2.6589999198913574, -2.553999900817871, -2.5189998149871826, -2.4079997539520264, -2.311999797821045, -2.2689998149871826], \"yaxis\": \"y\"}, {\"marker\": {\"color\": \"black\"}, \"mode\": \"lines\", \"name\": \"markers\", \"showlegend\": false, \"type\": \"scatter\", \"x\": [1, 2, 3, 4, 5, 6, 7, 8, 9, 10, 11], \"xaxis\": \"x\", \"y\": [-0.4329996109008789, -0.5479998588562012, -0.8379998207092285, -1.2189998626708984, -1.6419997215270996, -2.0839996337890625, -2.5349998474121094, -2.430999755859375, -2.2909998893737793, -2.138000011444092, -2.0190000534057617], \"yaxis\": \"y\"}, {\"marker\": {\"color\": \"black\"}, \"mode\": \"lines\", \"name\": \"markers\", \"showlegend\": false, \"type\": \"scatter\", \"x\": [1, 2, 3, 4, 5, 6, 7, 8, 9, 10, 11], \"xaxis\": \"x\", \"y\": [-0.0429997444152832, -0.09200000762939453, -0.2259998321533203, -0.4159998893737793, -0.6349997520446777, -0.866999626159668, -1.0999999046325684, -1.3269996643066406, -1.5439996719360352, -1.7430000305175781, -1.8779997825622559], \"yaxis\": \"y\"}, {\"marker\": {\"color\": \"black\"}, \"mode\": \"lines\", \"name\": \"markers\", \"showlegend\": false, \"type\": \"scatter\", \"x\": [1, 2, 3, 4, 5, 6, 7, 8, 9, 10, 11], \"xaxis\": \"x\", \"y\": [-0.013000011444091797, -0.06199979782104492, -0.19499969482421875, -0.38299989700317383, -0.5980000495910645, -0.8229999542236328, -1.0460000038146973, -1.2569999694824219, -1.4439997673034668, -1.5869998931884766, -1.6449999809265137], \"yaxis\": \"y\"}, {\"marker\": {\"color\": \"black\"}, \"mode\": \"lines\", \"name\": \"markers\", \"showlegend\": false, \"type\": \"scatter\", \"x\": [1, 2, 3, 4, 5, 6, 7, 8, 9, 10, 11], \"xaxis\": \"x\", \"y\": [0.14300012588500977, 0.20300006866455078, 0.37400007247924805, 0.5989999771118164, 0.6040000915527344, 0.6280002593994141, 0.6680002212524414, 0.7220001220703125, 0.7820000648498535, 0.8340001106262207, 0.8570003509521484], \"yaxis\": \"y\"}, {\"marker\": {\"color\": \"black\"}, \"mode\": \"lines\", \"name\": \"markers\", \"showlegend\": false, \"type\": \"scatter\", \"x\": [1, 2, 3, 4, 5, 6, 7, 8, 9, 10, 11], \"xaxis\": \"x\", \"y\": [0.14400005340576172, 0.20399999618530273, 0.375, 0.6400003433227539, 0.9809999465942383, 1.3819999694824219, 1.569000244140625, 1.5789999961853027, 1.5120000839233398, 1.439000129699707, 1.4079999923706055], \"yaxis\": \"y\"}, {\"marker\": {\"color\": \"black\"}, \"mode\": \"lines\", \"name\": \"markers\", \"showlegend\": false, \"type\": \"scatter\", \"x\": [1, 2, 3, 4, 5, 6, 7, 8, 9, 10, 11], \"xaxis\": \"x\", \"y\": [0.6579999923706055, 0.6380000114440918, 0.6110000610351562, 0.6410002708435059, 0.9820003509521484, 1.383000373840332, 1.830000400543213, 2.2480006217956543, 2.4390006065368652, 2.6790003776550293, 2.8680005073547363], \"yaxis\": \"y\"}, {\"marker\": {\"color\": \"black\"}, \"mode\": \"lines\", \"name\": \"markers\", \"showlegend\": false, \"type\": \"scatter\", \"x\": [1, 2, 3, 4, 5, 6, 7, 8, 9, 10, 11], \"xaxis\": \"x\", \"y\": [0.8220000267028809, 0.8700003623962402, 1.010000228881836, 1.1620001792907715, 1.308000087738037, 1.4580001831054688, 1.8309998512268066, 2.316000461578369, 2.8340001106262207, 3.2170004844665527, 3.0450005531311035], \"yaxis\": \"y\"}, {\"marker\": {\"color\": \"black\"}, \"mode\": \"lines\", \"name\": \"markers\", \"showlegend\": false, \"type\": \"scatter\", \"x\": [1, 2, 3, 4, 5, 6, 7, 8, 9, 10, 11], \"xaxis\": \"x2\", \"y\": [-2.809000015258789, -2.8459999561309814, -2.9469997882843018, -3.0889999866485596, -3.0239999294281006, -2.934000015258789, -2.8259999752044678, -2.7779998779296875, -2.6610000133514404, -2.557999849319458, -2.5119998455047607], \"yaxis\": \"y2\"}, {\"marker\": {\"color\": \"black\"}, \"mode\": \"lines\", \"name\": \"markers\", \"showlegend\": false, \"type\": \"scatter\", \"x\": [1, 2, 3, 4, 5, 6, 7, 8, 9, 10, 11], \"xaxis\": \"x2\", \"y\": [-0.3249998092651367, -0.36999988555908203, -0.6719999313354492, -1.0869998931884766, -1.5180001258850098, -1.9529998302459717, -2.384999990463257, -2.6989998817443848, -2.553999900817871, -2.3969998359680176, -2.2769999504089355], \"yaxis\": \"y2\"}, {\"marker\": {\"color\": \"black\"}, \"mode\": \"lines\", \"name\": \"markers\", \"showlegend\": false, \"type\": \"scatter\", \"x\": [1, 2, 3, 4, 5, 6, 7, 8, 9, 10, 11], \"xaxis\": \"x2\", \"y\": [-0.29199981689453125, -0.3359999656677246, -0.4930000305175781, -0.6719999313354492, -0.8829998970031738, -1.1100001335144043, -1.3420000076293945, -1.5699996948242188, -1.7879998683929443, -1.9909999370574951, -2.126999855041504], \"yaxis\": \"y2\"}, {\"marker\": {\"color\": \"black\"}, \"mode\": \"lines\", \"name\": \"markers\", \"showlegend\": false, \"type\": \"scatter\", \"x\": [1, 2, 3, 4, 5, 6, 7, 8, 9, 10, 11], \"xaxis\": \"x2\", \"y\": [-0.15000009536743164, -0.315000057220459, -0.4590001106262207, -0.6359996795654297, -0.8439998626708984, -1.065999984741211, -1.2880001068115234, -1.5, -1.691999912261963, -1.8399999141693115, -1.9019999504089355], \"yaxis\": \"y2\"}, {\"marker\": {\"color\": \"black\"}, \"mode\": \"lines\", \"name\": \"markers\", \"showlegend\": false, \"type\": \"scatter\", \"x\": [1, 2, 3, 4, 5, 6, 7, 8, 9, 10, 11], \"xaxis\": \"x2\", \"y\": [0.2670001983642578, 0.22700023651123047, 0.17500019073486328, 0.14400005340576172, 0.1360001564025879, 0.1510000228881836, 0.18800020217895508, 0.24300003051757812, 0.30900001525878906, 0.3710002899169922, 0.3990001678466797], \"yaxis\": \"y2\"}, {\"marker\": {\"color\": \"black\"}, \"mode\": \"lines\", \"name\": \"markers\", \"showlegend\": false, \"type\": \"scatter\", \"x\": [1, 2, 3, 4, 5, 6, 7, 8, 9, 10, 11], \"xaxis\": \"x2\", \"y\": [0.3959999084472656, 0.46199989318847656, 0.6500000953674316, 0.8340001106262207, 1.0120000839233398, 1.1800003051757812, 1.25, 1.1760001182556152, 1.0560002326965332, 0.9530000686645508, 0.9100003242492676], \"yaxis\": \"y2\"}, {\"marker\": {\"color\": \"black\"}, \"mode\": \"lines\", \"name\": \"markers\", \"showlegend\": false, \"type\": \"scatter\", \"x\": [1, 2, 3, 4, 5, 6, 7, 8, 9, 10, 11], \"xaxis\": \"x2\", \"y\": [0.3970003128051758, 0.4630002975463867, 0.6519999504089355, 0.940000057220459, 1.308000087738037, 1.7360000610351562, 1.8020000457763672, 1.9770002365112305, 2.2280001640319824, 2.492000102996826, 2.672999858856201], \"yaxis\": \"y2\"}, {\"marker\": {\"color\": \"black\"}, \"mode\": \"lines\", \"name\": \"markers\", \"showlegend\": false, \"type\": \"scatter\", \"x\": [1, 2, 3, 4, 5, 6, 7, 8, 9, 10, 11], \"xaxis\": \"x2\", \"y\": [0.5180001258850098, 0.560999870300293, 0.6770000457763672, 0.9419999122619629, 1.309999942779541, 1.7379999160766602, 2.2100000381469727, 2.7219996452331543, 3.073000431060791, 2.9830002784729004, 2.858999729156494], \"yaxis\": \"y2\"}, {\"line\": {\"color\": \"RoyalBlue\", \"dash\": \"dot\", \"width\": 3}, \"mode\": \"lines\", \"name\": \"markers\", \"showlegend\": false, \"type\": \"scatter\", \"x\": [1, 11], \"xaxis\": \"x\", \"y\": [0, 0], \"yaxis\": \"y\"}, {\"line\": {\"color\": \"RoyalBlue\", \"dash\": \"dot\", \"width\": 3}, \"mode\": \"lines\", \"name\": \"markers\", \"showlegend\": false, \"type\": \"scatter\", \"x\": [1, 11], \"xaxis\": \"x2\", \"y\": [0, 0], \"yaxis\": \"y2\"}],\n",
       "                        {\"annotations\": [{\"font\": {\"size\": 16}, \"showarrow\": false, \"text\": \"strain 0%\", \"x\": 0.225, \"xanchor\": \"center\", \"xref\": \"paper\", \"y\": 1.0, \"yanchor\": \"bottom\", \"yref\": \"paper\"}, {\"font\": {\"size\": 16}, \"showarrow\": false, \"text\": \"strain 5%\", \"x\": 0.775, \"xanchor\": \"center\", \"xref\": \"paper\", \"y\": 1.0, \"yanchor\": \"bottom\", \"yref\": \"paper\"}], \"height\": 650, \"plot_bgcolor\": \"white\", \"template\": {\"data\": {\"bar\": [{\"error_x\": {\"color\": \"#2a3f5f\"}, \"error_y\": {\"color\": \"#2a3f5f\"}, \"marker\": {\"line\": {\"color\": \"#E5ECF6\", \"width\": 0.5}}, \"type\": \"bar\"}], \"barpolar\": [{\"marker\": {\"line\": {\"color\": \"#E5ECF6\", \"width\": 0.5}}, \"type\": \"barpolar\"}], \"carpet\": [{\"aaxis\": {\"endlinecolor\": \"#2a3f5f\", \"gridcolor\": \"white\", \"linecolor\": \"white\", \"minorgridcolor\": \"white\", \"startlinecolor\": \"#2a3f5f\"}, \"baxis\": {\"endlinecolor\": \"#2a3f5f\", \"gridcolor\": \"white\", \"linecolor\": \"white\", \"minorgridcolor\": \"white\", \"startlinecolor\": \"#2a3f5f\"}, \"type\": \"carpet\"}], \"choropleth\": [{\"colorbar\": {\"outlinewidth\": 0, \"ticks\": \"\"}, \"type\": \"choropleth\"}], \"contour\": [{\"colorbar\": {\"outlinewidth\": 0, \"ticks\": \"\"}, \"colorscale\": [[0.0, \"#0d0887\"], [0.1111111111111111, \"#46039f\"], [0.2222222222222222, \"#7201a8\"], [0.3333333333333333, \"#9c179e\"], [0.4444444444444444, \"#bd3786\"], [0.5555555555555556, \"#d8576b\"], [0.6666666666666666, \"#ed7953\"], [0.7777777777777778, \"#fb9f3a\"], [0.8888888888888888, \"#fdca26\"], [1.0, \"#f0f921\"]], \"type\": \"contour\"}], \"contourcarpet\": [{\"colorbar\": {\"outlinewidth\": 0, \"ticks\": \"\"}, \"type\": \"contourcarpet\"}], \"heatmap\": [{\"colorbar\": {\"outlinewidth\": 0, \"ticks\": \"\"}, \"colorscale\": [[0.0, \"#0d0887\"], [0.1111111111111111, \"#46039f\"], [0.2222222222222222, \"#7201a8\"], [0.3333333333333333, \"#9c179e\"], [0.4444444444444444, \"#bd3786\"], [0.5555555555555556, \"#d8576b\"], [0.6666666666666666, \"#ed7953\"], [0.7777777777777778, \"#fb9f3a\"], [0.8888888888888888, \"#fdca26\"], [1.0, \"#f0f921\"]], \"type\": \"heatmap\"}], \"heatmapgl\": [{\"colorbar\": {\"outlinewidth\": 0, \"ticks\": \"\"}, \"colorscale\": [[0.0, \"#0d0887\"], [0.1111111111111111, \"#46039f\"], [0.2222222222222222, \"#7201a8\"], [0.3333333333333333, \"#9c179e\"], [0.4444444444444444, \"#bd3786\"], [0.5555555555555556, \"#d8576b\"], [0.6666666666666666, \"#ed7953\"], [0.7777777777777778, \"#fb9f3a\"], [0.8888888888888888, \"#fdca26\"], [1.0, \"#f0f921\"]], \"type\": \"heatmapgl\"}], \"histogram\": [{\"marker\": {\"colorbar\": {\"outlinewidth\": 0, \"ticks\": \"\"}}, \"type\": \"histogram\"}], \"histogram2d\": [{\"colorbar\": {\"outlinewidth\": 0, \"ticks\": \"\"}, \"colorscale\": [[0.0, \"#0d0887\"], [0.1111111111111111, \"#46039f\"], [0.2222222222222222, \"#7201a8\"], [0.3333333333333333, \"#9c179e\"], [0.4444444444444444, \"#bd3786\"], [0.5555555555555556, \"#d8576b\"], [0.6666666666666666, \"#ed7953\"], [0.7777777777777778, \"#fb9f3a\"], [0.8888888888888888, \"#fdca26\"], [1.0, \"#f0f921\"]], \"type\": \"histogram2d\"}], \"histogram2dcontour\": [{\"colorbar\": {\"outlinewidth\": 0, \"ticks\": \"\"}, \"colorscale\": [[0.0, \"#0d0887\"], [0.1111111111111111, \"#46039f\"], [0.2222222222222222, \"#7201a8\"], [0.3333333333333333, \"#9c179e\"], [0.4444444444444444, \"#bd3786\"], [0.5555555555555556, \"#d8576b\"], [0.6666666666666666, \"#ed7953\"], [0.7777777777777778, \"#fb9f3a\"], [0.8888888888888888, \"#fdca26\"], [1.0, \"#f0f921\"]], \"type\": \"histogram2dcontour\"}], \"mesh3d\": [{\"colorbar\": {\"outlinewidth\": 0, \"ticks\": \"\"}, \"type\": \"mesh3d\"}], \"parcoords\": [{\"line\": {\"colorbar\": {\"outlinewidth\": 0, \"ticks\": \"\"}}, \"type\": \"parcoords\"}], \"pie\": [{\"automargin\": true, \"type\": \"pie\"}], \"scatter\": [{\"marker\": {\"colorbar\": {\"outlinewidth\": 0, \"ticks\": \"\"}}, \"type\": \"scatter\"}], \"scatter3d\": [{\"line\": {\"colorbar\": {\"outlinewidth\": 0, \"ticks\": \"\"}}, \"marker\": {\"colorbar\": {\"outlinewidth\": 0, \"ticks\": \"\"}}, \"type\": \"scatter3d\"}], \"scattercarpet\": [{\"marker\": {\"colorbar\": {\"outlinewidth\": 0, \"ticks\": \"\"}}, \"type\": \"scattercarpet\"}], \"scattergeo\": [{\"marker\": {\"colorbar\": {\"outlinewidth\": 0, \"ticks\": \"\"}}, \"type\": \"scattergeo\"}], \"scattergl\": [{\"marker\": {\"colorbar\": {\"outlinewidth\": 0, \"ticks\": \"\"}}, \"type\": \"scattergl\"}], \"scattermapbox\": [{\"marker\": {\"colorbar\": {\"outlinewidth\": 0, \"ticks\": \"\"}}, \"type\": \"scattermapbox\"}], \"scatterpolar\": [{\"marker\": {\"colorbar\": {\"outlinewidth\": 0, \"ticks\": \"\"}}, \"type\": \"scatterpolar\"}], \"scatterpolargl\": [{\"marker\": {\"colorbar\": {\"outlinewidth\": 0, \"ticks\": \"\"}}, \"type\": \"scatterpolargl\"}], \"scatterternary\": [{\"marker\": {\"colorbar\": {\"outlinewidth\": 0, \"ticks\": \"\"}}, \"type\": \"scatterternary\"}], \"surface\": [{\"colorbar\": {\"outlinewidth\": 0, \"ticks\": \"\"}, \"colorscale\": [[0.0, \"#0d0887\"], [0.1111111111111111, \"#46039f\"], [0.2222222222222222, \"#7201a8\"], [0.3333333333333333, \"#9c179e\"], [0.4444444444444444, \"#bd3786\"], [0.5555555555555556, \"#d8576b\"], [0.6666666666666666, \"#ed7953\"], [0.7777777777777778, \"#fb9f3a\"], [0.8888888888888888, \"#fdca26\"], [1.0, \"#f0f921\"]], \"type\": \"surface\"}], \"table\": [{\"cells\": {\"fill\": {\"color\": \"#EBF0F8\"}, \"line\": {\"color\": \"white\"}}, \"header\": {\"fill\": {\"color\": \"#C8D4E3\"}, \"line\": {\"color\": \"white\"}}, \"type\": \"table\"}]}, \"layout\": {\"annotationdefaults\": {\"arrowcolor\": \"#2a3f5f\", \"arrowhead\": 0, \"arrowwidth\": 1}, \"coloraxis\": {\"colorbar\": {\"outlinewidth\": 0, \"ticks\": \"\"}}, \"colorscale\": {\"diverging\": [[0, \"#8e0152\"], [0.1, \"#c51b7d\"], [0.2, \"#de77ae\"], [0.3, \"#f1b6da\"], [0.4, \"#fde0ef\"], [0.5, \"#f7f7f7\"], [0.6, \"#e6f5d0\"], [0.7, \"#b8e186\"], [0.8, \"#7fbc41\"], [0.9, \"#4d9221\"], [1, \"#276419\"]], \"sequential\": [[0.0, \"#0d0887\"], [0.1111111111111111, \"#46039f\"], [0.2222222222222222, \"#7201a8\"], [0.3333333333333333, \"#9c179e\"], [0.4444444444444444, \"#bd3786\"], [0.5555555555555556, \"#d8576b\"], [0.6666666666666666, \"#ed7953\"], [0.7777777777777778, \"#fb9f3a\"], [0.8888888888888888, \"#fdca26\"], [1.0, \"#f0f921\"]], \"sequentialminus\": [[0.0, \"#0d0887\"], [0.1111111111111111, \"#46039f\"], [0.2222222222222222, \"#7201a8\"], [0.3333333333333333, \"#9c179e\"], [0.4444444444444444, \"#bd3786\"], [0.5555555555555556, \"#d8576b\"], [0.6666666666666666, \"#ed7953\"], [0.7777777777777778, \"#fb9f3a\"], [0.8888888888888888, \"#fdca26\"], [1.0, \"#f0f921\"]]}, \"colorway\": [\"#636efa\", \"#EF553B\", \"#00cc96\", \"#ab63fa\", \"#FFA15A\", \"#19d3f3\", \"#FF6692\", \"#B6E880\", \"#FF97FF\", \"#FECB52\"], \"font\": {\"color\": \"#2a3f5f\"}, \"geo\": {\"bgcolor\": \"white\", \"lakecolor\": \"white\", \"landcolor\": \"#E5ECF6\", \"showlakes\": true, \"showland\": true, \"subunitcolor\": \"white\"}, \"hoverlabel\": {\"align\": \"left\"}, \"hovermode\": \"closest\", \"mapbox\": {\"style\": \"light\"}, \"paper_bgcolor\": \"white\", \"plot_bgcolor\": \"#E5ECF6\", \"polar\": {\"angularaxis\": {\"gridcolor\": \"white\", \"linecolor\": \"white\", \"ticks\": \"\"}, \"bgcolor\": \"#E5ECF6\", \"radialaxis\": {\"gridcolor\": \"white\", \"linecolor\": \"white\", \"ticks\": \"\"}}, \"scene\": {\"xaxis\": {\"backgroundcolor\": \"#E5ECF6\", \"gridcolor\": \"white\", \"gridwidth\": 2, \"linecolor\": \"white\", \"showbackground\": true, \"ticks\": \"\", \"zerolinecolor\": \"white\"}, \"yaxis\": {\"backgroundcolor\": \"#E5ECF6\", \"gridcolor\": \"white\", \"gridwidth\": 2, \"linecolor\": \"white\", \"showbackground\": true, \"ticks\": \"\", \"zerolinecolor\": \"white\"}, \"zaxis\": {\"backgroundcolor\": \"#E5ECF6\", \"gridcolor\": \"white\", \"gridwidth\": 2, \"linecolor\": \"white\", \"showbackground\": true, \"ticks\": \"\", \"zerolinecolor\": \"white\"}}, \"shapedefaults\": {\"line\": {\"color\": \"#2a3f5f\"}}, \"ternary\": {\"aaxis\": {\"gridcolor\": \"white\", \"linecolor\": \"white\", \"ticks\": \"\"}, \"baxis\": {\"gridcolor\": \"white\", \"linecolor\": \"white\", \"ticks\": \"\"}, \"bgcolor\": \"#E5ECF6\", \"caxis\": {\"gridcolor\": \"white\", \"linecolor\": \"white\", \"ticks\": \"\"}}, \"title\": {\"x\": 0.05}, \"xaxis\": {\"automargin\": true, \"gridcolor\": \"white\", \"linecolor\": \"white\", \"ticks\": \"\", \"title\": {\"standoff\": 15}, \"zerolinecolor\": \"white\", \"zerolinewidth\": 2}, \"yaxis\": {\"automargin\": true, \"gridcolor\": \"white\", \"linecolor\": \"white\", \"ticks\": \"\", \"title\": {\"standoff\": 15}, \"zerolinecolor\": \"white\", \"zerolinewidth\": 2}}}, \"width\": 900, \"xaxis\": {\"anchor\": \"y\", \"domain\": [0.0, 0.45], \"gridcolor\": \"lightgrey\", \"gridwidth\": 0.5, \"linecolor\": \"black\", \"linewidth\": 1, \"mirror\": true, \"range\": [1, 11], \"showgrid\": true, \"ticks\": \"inside\", \"ticktext\": [\"G\", \"Z\"], \"tickvals\": [1, 11]}, \"xaxis2\": {\"anchor\": \"y2\", \"domain\": [0.55, 1.0], \"gridcolor\": \"lightgrey\", \"gridwidth\": 0.5, \"linecolor\": \"black\", \"linewidth\": 1, \"mirror\": true, \"range\": [1, 11], \"showgrid\": true, \"ticks\": \"inside\", \"ticktext\": [\"G\", \"Z\"], \"tickvals\": [1, 11]}, \"yaxis\": {\"anchor\": \"x\", \"domain\": [0.0, 1.0], \"gridcolor\": \"lightgrey\", \"gridwidth\": 0.5, \"linecolor\": \"black\", \"linewidth\": 1, \"mirror\": true, \"showgrid\": true, \"ticks\": \"inside\", \"title\": {\"text\": \"Energy, eV\"}}, \"yaxis2\": {\"anchor\": \"x2\", \"domain\": [0.0, 1.0], \"gridcolor\": \"lightgrey\", \"gridwidth\": 0.5, \"linecolor\": \"black\", \"linewidth\": 1, \"mirror\": true, \"showgrid\": true, \"ticks\": \"inside\", \"title\": {\"text\": \"Energy, eV\"}}},\n",
       "                        {\"responsive\": true}\n",
       "                    ).then(function(){\n",
       "                            \n",
       "var gd = document.getElementById('d971cd9f-f14d-4d6d-8314-ceb676f5ca4f');\n",
       "var x = new MutationObserver(function (mutations, observer) {{\n",
       "        var display = window.getComputedStyle(gd).display;\n",
       "        if (!display || display === 'none') {{\n",
       "            console.log([gd, 'removed!']);\n",
       "            Plotly.purge(gd);\n",
       "            observer.disconnect();\n",
       "        }}\n",
       "}});\n",
       "\n",
       "// Listen for the removal of the full notebook cells\n",
       "var notebookContainer = gd.closest('#notebook-container');\n",
       "if (notebookContainer) {{\n",
       "    x.observe(notebookContainer, {childList: true});\n",
       "}}\n",
       "\n",
       "// Listen for the clearing of the current output cell\n",
       "var outputEl = gd.closest('.output');\n",
       "if (outputEl) {{\n",
       "    x.observe(outputEl, {childList: true});\n",
       "}}\n",
       "\n",
       "                        })\n",
       "                };\n",
       "                });\n",
       "            </script>\n",
       "        </div>"
      ]
     },
     "metadata": {},
     "output_type": "display_data"
    }
   ],
   "source": [
    "#load ml_modeling_module \n",
    "from ml_modeling_module import *\n",
    "from os import walk\n",
    "\n",
    "#first let's plot sige bandstructure\n",
    "#read QE output file with bands for 0% strain\n",
    "data=read_data('bands/si2ge2_0.dat')\n",
    "bands0=data.read_bands_ml(fermi=6.18, bands_num=4)\n",
    "\n",
    "#read QE output file with bands for 5% strain\n",
    "data=read_data('bands/si2ge2_5.dat')\n",
    "bands5=data.read_bands_ml(fermi=5.60, bands_num=4)\n",
    "# reshape data: 8 bands 11 k-points\n",
    "bands0=bands0.reshape(8,11)\n",
    "bands5=bands5.reshape(8,11)\n",
    "\n",
    "import plotly.graph_objects as go\n",
    "from plotly.subplots import make_subplots\n",
    "fig = make_subplots(rows=1, cols=2,subplot_titles=(\"strain 0%\", \"strain 5%\"))\n",
    "\n",
    "for i in range(bands0.shape[0]):\n",
    "    fig.add_trace(go.Scatter(x=np.arange(1,12,1), y=bands0[i],\n",
    "                        mode='lines', marker=dict(color='black'), showlegend=False, \n",
    "                        name='markers'), col=1, row=1)  \n",
    "for i in range(bands5.shape[0]):\n",
    "    fig.add_trace(go.Scatter(x=np.arange(1,12,1), y=bands5[i],\n",
    "                        mode='lines', marker=dict(color='black'), showlegend=False, \n",
    "                        name='markers'), col=2, row=1) \n",
    "fig.add_trace(go.Scatter(x=[1,11], y=[0,0],\n",
    "                        mode='lines', line=dict(color= \"RoyalBlue\",width=3, dash='dot'), showlegend=False, \n",
    "                        name='markers'), col=1, row=1) \n",
    "fig.add_trace(go.Scatter(x=[1,11], y=[0,0],\n",
    "                        mode='lines', line=dict(color= \"RoyalBlue\",width=3, dash='dot'), showlegend=False, \n",
    "                        name='markers'), col=2, row=1) \n",
    "fig.update_xaxes(showgrid=True,  \n",
    "                 gridwidth=0.5, \n",
    "                 gridcolor='lightgrey', \n",
    "                 ticks='inside' ,                        \n",
    "                 linecolor= 'black',                      \n",
    "                 linewidth= 1,\n",
    "                 mirror= True,\n",
    "                 ticktext=['G', 'Z'],\n",
    "                 tickvals=[1,11],\n",
    "                 range=[1,11],\n",
    "                 )\n",
    "fig.update_yaxes(title='Energy, eV', \n",
    "                 showgrid=True,  \n",
    "                 gridwidth=0.5, \n",
    "                 gridcolor='lightgrey', \n",
    "                 ticks='inside' ,                        \n",
    "                 linecolor= 'black',\n",
    "                 linewidth= 1,\n",
    "                 mirror= True,\n",
    "                )\n",
    "\n",
    "fig.update_layout(width=900, height=650, plot_bgcolor='white')\n",
    "fig.show()\n",
    "\n"
   ]
  },
  {
   "cell_type": "code",
   "execution_count": 10,
   "metadata": {
    "ExecuteTime": {
     "end_time": "2021-10-28T01:35:59.383994Z",
     "start_time": "2021-10-28T01:35:59.368990Z"
    }
   },
   "outputs": [],
   "source": [
    "# reading cell parameters from QE output file : NEED TO add a fucntion \n",
    "#(lattice constants are in bohr)\n",
    "# X=np.array([[10.34568, 10.79211],\n",
    "#             [10.45682, 10.71265],\n",
    "#             [10.56082, 10.64615], \n",
    "#             [10.66056, 10.57623],\n",
    "#             [10.76056, 10.50342],\n",
    "#             [10.87056, 10.42435],\n",
    "#             [10.60789, 10.610219]\n",
    "#            ])\n",
    "# X.shape\n",
    "\n",
    "\n",
    "mypath='cell_param/'\n",
    "filenames = next(walk(mypath), (None, None, []))[2]\n",
    "\n",
    "lattice=[]\n",
    "fermi=[]\n",
    "for file in filenames:\n",
    "    data=read_data(mypath+file)\n",
    "    (a, c, composition) = data.read_lattice_parameters()\n",
    "    lattice.append ([a, c, composition])\n",
    "    \n",
    "    fermi_level = data.read_fermi_levle()\n",
    "    fermi.append(fermi_level)\n",
    "    \n",
    "X=lattice=np.array(lattice)\n",
    "\n"
   ]
  },
  {
   "cell_type": "code",
   "execution_count": 11,
   "metadata": {
    "ExecuteTime": {
     "end_time": "2021-10-28T01:36:01.189343Z",
     "start_time": "2021-10-28T01:36:01.176340Z"
    }
   },
   "outputs": [
    {
     "data": {
      "text/plain": [
       "(7, 44)"
      ]
     },
     "execution_count": 11,
     "metadata": {},
     "output_type": "execute_result"
    }
   ],
   "source": [
    "# reading bands from all QE output file\n",
    "\n",
    "mypath='bands/'\n",
    "filenames = next(walk(mypath), (None, None, []))[2]\n",
    "\n",
    "y=[]\n",
    "for i in range(len(filenames)):\n",
    "    data=read_data(mypath+filenames[i])\n",
    "    bands_ml=data.read_bands_ml(fermi=fermi[i], bands_num=2)\n",
    "    y= np.append(y, bands_ml)\n",
    "y=y.reshape(len(filenames),44)\n",
    "y.shape"
   ]
  },
  {
   "cell_type": "markdown",
   "metadata": {},
   "source": [
    "# prepare data for modeling: split for training and testig sets"
   ]
  },
  {
   "cell_type": "code",
   "execution_count": 12,
   "metadata": {
    "ExecuteTime": {
     "end_time": "2021-10-28T01:36:08.269404Z",
     "start_time": "2021-10-28T01:36:02.873180Z"
    }
   },
   "outputs": [
    {
     "name": "stdout",
     "output_type": "stream",
     "text": [
      "Time taken for RF: 0:00:05.295193\n",
      "Train:\n",
      "R^2:0.91 RMSE:0.03\n",
      "Test:\n",
      "R^2:nan RMSE: 0.04\n"
     ]
    },
    {
     "name": "stderr",
     "output_type": "stream",
     "text": [
      "C:\\Users\\exx\\Anaconda3\\envs\\tensorflow\\lib\\site-packages\\sklearn\\base.py:434: FutureWarning:\n",
      "\n",
      "The default value of multioutput (not exposed in score method) will change from 'variance_weighted' to 'uniform_average' in 0.23 to keep consistent with 'metrics.r2_score'. To specify the default value manually and avoid the warning, please either call 'metrics.r2_score' directly or make a custom scorer with 'metrics.make_scorer' (the built-in scorer 'r2' uses multioutput='uniform_average').\n",
      "\n",
      "C:\\Users\\exx\\Anaconda3\\envs\\tensorflow\\lib\\site-packages\\sklearn\\metrics\\_regression.py:582: UndefinedMetricWarning:\n",
      "\n",
      "R^2 score is not well-defined with less than two samples.\n",
      "\n"
     ]
    }
   ],
   "source": [
    "my_data=data_preparation(X,y)\n",
    "(X_train, X_test, Y_train, Y_test)=my_data.select_train_test(test_row_number=[6])\n",
    "#random split could also be used\n",
    "#(X_train, X_test, Y_train, Y_test)=my_data.random_split(train_split=0.8, seed=42)\n",
    "\n",
    "my_model=modeling(X_train, Y_train, X_test, Y_test, scaler='None')\n",
    "\n",
    "#train Random forest model with No initial guess\n",
    "(y_fit_RF, y_predict_RF, trials_RF, best_space_RF, regressorRF, text_RF)=my_model.RandomForest( max_evals=10, timeout=150*60,loss_threshold=0.01, cv=5, verbose=1)\n",
    "\n",
    "print(text_RF)\n",
    "\n",
    "\n",
    "#"
   ]
  },
  {
   "cell_type": "code",
   "execution_count": 7,
   "metadata": {
    "ExecuteTime": {
     "end_time": "2021-10-27T19:18:56.522361Z",
     "start_time": "2021-10-27T19:11:21.055477Z"
    }
   },
   "outputs": [
    {
     "name": "stderr",
     "output_type": "stream",
     "text": [
      "C:\\Users\\exx\\Anaconda3\\envs\\tensorflow\\lib\\site-packages\\xgboost\\core.py:614: UserWarning:\n",
      "\n",
      "Use subset (sliced data) of np.ndarray is not recommended because it will generate extra copies and increase memory consumption\n",
      "\n"
     ]
    },
    {
     "name": "stdout",
     "output_type": "stream",
     "text": [
      "Time taken for XGB: 0:07:34.327627\n",
      "Train:\n",
      "R^2:-0.0 RMSE:0.11\n",
      "Test:\n",
      "R^2:nan RMSE: 0.08\n"
     ]
    },
    {
     "name": "stderr",
     "output_type": "stream",
     "text": [
      "C:\\Users\\exx\\Anaconda3\\envs\\tensorflow\\lib\\site-packages\\sklearn\\metrics\\_regression.py:582: UndefinedMetricWarning:\n",
      "\n",
      "R^2 score is not well-defined with less than two samples.\n",
      "\n"
     ]
    }
   ],
   "source": [
    "## DOES NOT WORK YET \n",
    "\n",
    "# train XGboost model with initial guess\n",
    "# best_space = {'alpha': 0.0, 'max_depth': 3.0, 'min_split_loss': 5.6, 'n_estimators': 100, 'x_reg_lambda': 1.00, 'x_subsample': 1.0}\n",
    "# (y_fit_XG, y_predict_XG, trials_XG, best_space_XG, regressorXGB, text_XG)=my_model.XGB( max_evals=4, timeout=150*60,loss_threshold=0.01,init_vals=[best_space],cv=5, verbose=1) \n",
    "# print(text_XG)"
   ]
  },
  {
   "cell_type": "markdown",
   "metadata": {},
   "source": [
    "# let's plot predicted bands vs calculated bands"
   ]
  },
  {
   "cell_type": "code",
   "execution_count": 13,
   "metadata": {
    "ExecuteTime": {
     "end_time": "2021-10-28T01:36:20.414535Z",
     "start_time": "2021-10-28T01:36:20.359524Z"
    }
   },
   "outputs": [
    {
     "data": {
      "application/vnd.plotly.v1+json": {
       "config": {
        "plotlyServerURL": "https://plot.ly"
       },
       "data": [
        {
         "marker": {
          "color": "black"
         },
         "mode": "lines",
         "name": "markers",
         "showlegend": false,
         "type": "scatter",
         "x": [
          1,
          2,
          3,
          4,
          5,
          6,
          7,
          8,
          9,
          10,
          11
         ],
         "y": [
          -2.8399999141693115,
          -2.874000072479248,
          -2.8910000324249268,
          -2.8420000076293945,
          -2.7730000019073486,
          -2.684999942779541,
          -2.578000068664551,
          -2.5290000438690186,
          -2.4159998893737793,
          -2.316999912261963,
          -2.2730000019073486
         ]
        },
        {
         "marker": {
          "color": "black"
         },
         "mode": "lines",
         "name": "markers",
         "showlegend": false,
         "type": "scatter",
         "x": [
          1,
          2,
          3,
          4,
          5,
          6,
          7,
          8,
          9,
          10,
          11
         ],
         "y": [
          -0.1490001678466797,
          -0.2839999198913574,
          -0.6040000915527344,
          -1.001999855041504,
          -1.428999900817871,
          -1.86899995803833,
          -2.309999942779541,
          -2.453000068664551,
          -2.311000108718872,
          -2.1559998989105225,
          -2.0369999408721924
         ]
        },
        {
         "marker": {
          "color": "black"
         },
         "mode": "lines",
         "name": "markers",
         "showlegend": false,
         "type": "scatter",
         "x": [
          1,
          2,
          3,
          4,
          5,
          6,
          7,
          8,
          9,
          10,
          11
         ],
         "y": [
          -0.06799983978271484,
          -0.11499977111816406,
          -0.24399995803833008,
          -0.4289999008178711,
          -0.6449999809265137,
          -0.875999927520752,
          -1.1079998016357422,
          -1.3359999656677246,
          -1.553999900817871,
          -1.755000114440918,
          -1.8900001049041748
         ]
        },
        {
         "marker": {
          "color": "black"
         },
         "mode": "lines",
         "name": "markers",
         "showlegend": false,
         "type": "scatter",
         "x": [
          1,
          2,
          3,
          4,
          5,
          6,
          7,
          8,
          9,
          10,
          11
         ],
         "y": [
          -0.034999847412109375,
          -0.0819997787475586,
          -0.2090001106262207,
          -0.39099979400634766,
          -0.6030001640319824,
          -0.8260002136230469,
          -1.0479998588562012,
          -1.2589998245239258,
          -1.4479999542236328,
          -1.5929999351501465,
          -1.6529998779296875
         ]
        },
        {
         "marker": {
          "color": "black"
         },
         "mode": "lines",
         "name": "markers",
         "showlegend": false,
         "type": "scatter",
         "x": [
          1,
          2,
          3,
          4,
          5,
          6,
          7,
          8,
          9,
          10,
          11
         ],
         "y": [
          0.39099979400634766,
          0.4530000686645508,
          0.5139999389648438,
          0.49200010299682617,
          0.4910001754760742,
          0.5110001564025879,
          0.5500001907348633,
          0.6040000915527344,
          0.6680002212524414,
          0.7249999046325684,
          0.75
         ]
        },
        {
         "marker": {
          "color": "black"
         },
         "mode": "lines",
         "name": "markers",
         "showlegend": false,
         "type": "scatter",
         "x": [
          1,
          2,
          3,
          4,
          5,
          6,
          7,
          8,
          9,
          10,
          11
         ],
         "y": [
          0.40399980545043945,
          0.46700000762939453,
          0.6329998970031738,
          0.9099998474121094,
          1.2649998664855957,
          1.433000087738037,
          1.5300002098083496,
          1.500999927520752,
          1.4060001373291016,
          1.3179998397827148,
          1.2810001373291016
         ]
        },
        {
         "marker": {
          "color": "black"
         },
         "mode": "lines",
         "name": "markers",
         "showlegend": false,
         "type": "scatter",
         "x": [
          1,
          2,
          3,
          4,
          5,
          6,
          7,
          8,
          9,
          10,
          11
         ],
         "y": [
          0.5850000381469727,
          0.5539999008178711,
          0.6469998359680176,
          0.9239997863769531,
          1.2729997634887695,
          1.6779999732971191,
          2.0929999351501465,
          2.2170000076293945,
          2.439999580383301,
          2.694000244140625,
          2.878999710083008
         ]
        },
        {
         "marker": {
          "color": "black"
         },
         "mode": "lines",
         "name": "markers",
         "showlegend": false,
         "type": "scatter",
         "x": [
          1,
          2,
          3,
          4,
          5,
          6,
          7,
          8,
          9,
          10,
          11
         ],
         "y": [
          0.809999942779541,
          0.8610000610351562,
          0.9699997901916504,
          1.1110000610351562,
          1.2789998054504395,
          1.6929998397827148,
          2.1399998664855957,
          2.6389999389648438,
          3.168999671936035,
          3.2170000076293945,
          3.067999839782715
         ]
        },
        {
         "marker": {
          "color": "red"
         },
         "mode": "markers",
         "name": "markers",
         "showlegend": false,
         "type": "scatter",
         "x": [
          1,
          2,
          3,
          4,
          5,
          6,
          7,
          8,
          9,
          10,
          11
         ],
         "y": [
          -0.0968265739488013,
          -0.14425764701984545,
          -0.27376741744853833,
          -0.4591038612671841,
          -0.6754977341051455,
          -0.9050019128822986,
          -1.1375761282296828,
          -1.3645883948714645,
          -1.5820143004994336,
          -1.7833303784146723,
          -1.9181698309050665
         ]
        },
        {
         "marker": {
          "color": "red"
         },
         "mode": "markers",
         "name": "markers",
         "showlegend": false,
         "type": "scatter",
         "x": [
          1,
          2,
          3,
          4,
          5,
          6,
          7,
          8,
          9,
          10,
          11
         ],
         "y": [
          -0.06459085588101987,
          -0.11334270047552791,
          -0.24187730359442441,
          -0.4253810758943911,
          -0.6374470428184227,
          -0.8612427137516163,
          -1.0838168682875458,
          -1.2952427290104054,
          -1.4836443653813116,
          -1.629213641013628,
          -1.6889433981459818
         ]
        },
        {
         "marker": {
          "color": "red"
         },
         "mode": "markers",
         "name": "markers",
         "showlegend": false,
         "type": "scatter",
         "x": [
          1,
          2,
          3,
          4,
          5,
          6,
          7,
          8,
          9,
          10,
          11
         ],
         "y": [
          0.32998809549543584,
          0.390847506346526,
          0.46483320983839627,
          0.4727746171715818,
          0.4730129771762424,
          0.49312778784904965,
          0.5323368690632008,
          0.5866894106806062,
          0.6492708983244719,
          0.7065084277847667,
          0.7307375089621837
         ]
        },
        {
         "marker": {
          "color": "red"
         },
         "mode": "markers",
         "name": "markers",
         "showlegend": false,
         "type": "scatter",
         "x": [
          1,
          2,
          3,
          4,
          5,
          6,
          7,
          8,
          9,
          10,
          11
         ],
         "y": [
          0.33215487915792574,
          0.39473631941241977,
          0.572400497212822,
          0.8468697700971437,
          1.1727522673430266,
          1.399751858063686,
          1.503012901176641,
          1.4788147190470753,
          1.3870289540585177,
          1.3001690999961195,
          1.264079460096948
         ]
        },
        {
         "line": {
          "color": "RoyalBlue",
          "dash": "dot",
          "width": 3
         },
         "mode": "lines",
         "name": "markers",
         "showlegend": false,
         "type": "scatter",
         "x": [
          1,
          11
         ],
         "y": [
          0,
          0
         ]
        }
       ],
       "layout": {
        "height": 650,
        "plot_bgcolor": "white",
        "template": {
         "data": {
          "bar": [
           {
            "error_x": {
             "color": "#2a3f5f"
            },
            "error_y": {
             "color": "#2a3f5f"
            },
            "marker": {
             "line": {
              "color": "#E5ECF6",
              "width": 0.5
             }
            },
            "type": "bar"
           }
          ],
          "barpolar": [
           {
            "marker": {
             "line": {
              "color": "#E5ECF6",
              "width": 0.5
             }
            },
            "type": "barpolar"
           }
          ],
          "carpet": [
           {
            "aaxis": {
             "endlinecolor": "#2a3f5f",
             "gridcolor": "white",
             "linecolor": "white",
             "minorgridcolor": "white",
             "startlinecolor": "#2a3f5f"
            },
            "baxis": {
             "endlinecolor": "#2a3f5f",
             "gridcolor": "white",
             "linecolor": "white",
             "minorgridcolor": "white",
             "startlinecolor": "#2a3f5f"
            },
            "type": "carpet"
           }
          ],
          "choropleth": [
           {
            "colorbar": {
             "outlinewidth": 0,
             "ticks": ""
            },
            "type": "choropleth"
           }
          ],
          "contour": [
           {
            "colorbar": {
             "outlinewidth": 0,
             "ticks": ""
            },
            "colorscale": [
             [
              0,
              "#0d0887"
             ],
             [
              0.1111111111111111,
              "#46039f"
             ],
             [
              0.2222222222222222,
              "#7201a8"
             ],
             [
              0.3333333333333333,
              "#9c179e"
             ],
             [
              0.4444444444444444,
              "#bd3786"
             ],
             [
              0.5555555555555556,
              "#d8576b"
             ],
             [
              0.6666666666666666,
              "#ed7953"
             ],
             [
              0.7777777777777778,
              "#fb9f3a"
             ],
             [
              0.8888888888888888,
              "#fdca26"
             ],
             [
              1,
              "#f0f921"
             ]
            ],
            "type": "contour"
           }
          ],
          "contourcarpet": [
           {
            "colorbar": {
             "outlinewidth": 0,
             "ticks": ""
            },
            "type": "contourcarpet"
           }
          ],
          "heatmap": [
           {
            "colorbar": {
             "outlinewidth": 0,
             "ticks": ""
            },
            "colorscale": [
             [
              0,
              "#0d0887"
             ],
             [
              0.1111111111111111,
              "#46039f"
             ],
             [
              0.2222222222222222,
              "#7201a8"
             ],
             [
              0.3333333333333333,
              "#9c179e"
             ],
             [
              0.4444444444444444,
              "#bd3786"
             ],
             [
              0.5555555555555556,
              "#d8576b"
             ],
             [
              0.6666666666666666,
              "#ed7953"
             ],
             [
              0.7777777777777778,
              "#fb9f3a"
             ],
             [
              0.8888888888888888,
              "#fdca26"
             ],
             [
              1,
              "#f0f921"
             ]
            ],
            "type": "heatmap"
           }
          ],
          "heatmapgl": [
           {
            "colorbar": {
             "outlinewidth": 0,
             "ticks": ""
            },
            "colorscale": [
             [
              0,
              "#0d0887"
             ],
             [
              0.1111111111111111,
              "#46039f"
             ],
             [
              0.2222222222222222,
              "#7201a8"
             ],
             [
              0.3333333333333333,
              "#9c179e"
             ],
             [
              0.4444444444444444,
              "#bd3786"
             ],
             [
              0.5555555555555556,
              "#d8576b"
             ],
             [
              0.6666666666666666,
              "#ed7953"
             ],
             [
              0.7777777777777778,
              "#fb9f3a"
             ],
             [
              0.8888888888888888,
              "#fdca26"
             ],
             [
              1,
              "#f0f921"
             ]
            ],
            "type": "heatmapgl"
           }
          ],
          "histogram": [
           {
            "marker": {
             "colorbar": {
              "outlinewidth": 0,
              "ticks": ""
             }
            },
            "type": "histogram"
           }
          ],
          "histogram2d": [
           {
            "colorbar": {
             "outlinewidth": 0,
             "ticks": ""
            },
            "colorscale": [
             [
              0,
              "#0d0887"
             ],
             [
              0.1111111111111111,
              "#46039f"
             ],
             [
              0.2222222222222222,
              "#7201a8"
             ],
             [
              0.3333333333333333,
              "#9c179e"
             ],
             [
              0.4444444444444444,
              "#bd3786"
             ],
             [
              0.5555555555555556,
              "#d8576b"
             ],
             [
              0.6666666666666666,
              "#ed7953"
             ],
             [
              0.7777777777777778,
              "#fb9f3a"
             ],
             [
              0.8888888888888888,
              "#fdca26"
             ],
             [
              1,
              "#f0f921"
             ]
            ],
            "type": "histogram2d"
           }
          ],
          "histogram2dcontour": [
           {
            "colorbar": {
             "outlinewidth": 0,
             "ticks": ""
            },
            "colorscale": [
             [
              0,
              "#0d0887"
             ],
             [
              0.1111111111111111,
              "#46039f"
             ],
             [
              0.2222222222222222,
              "#7201a8"
             ],
             [
              0.3333333333333333,
              "#9c179e"
             ],
             [
              0.4444444444444444,
              "#bd3786"
             ],
             [
              0.5555555555555556,
              "#d8576b"
             ],
             [
              0.6666666666666666,
              "#ed7953"
             ],
             [
              0.7777777777777778,
              "#fb9f3a"
             ],
             [
              0.8888888888888888,
              "#fdca26"
             ],
             [
              1,
              "#f0f921"
             ]
            ],
            "type": "histogram2dcontour"
           }
          ],
          "mesh3d": [
           {
            "colorbar": {
             "outlinewidth": 0,
             "ticks": ""
            },
            "type": "mesh3d"
           }
          ],
          "parcoords": [
           {
            "line": {
             "colorbar": {
              "outlinewidth": 0,
              "ticks": ""
             }
            },
            "type": "parcoords"
           }
          ],
          "pie": [
           {
            "automargin": true,
            "type": "pie"
           }
          ],
          "scatter": [
           {
            "marker": {
             "colorbar": {
              "outlinewidth": 0,
              "ticks": ""
             }
            },
            "type": "scatter"
           }
          ],
          "scatter3d": [
           {
            "line": {
             "colorbar": {
              "outlinewidth": 0,
              "ticks": ""
             }
            },
            "marker": {
             "colorbar": {
              "outlinewidth": 0,
              "ticks": ""
             }
            },
            "type": "scatter3d"
           }
          ],
          "scattercarpet": [
           {
            "marker": {
             "colorbar": {
              "outlinewidth": 0,
              "ticks": ""
             }
            },
            "type": "scattercarpet"
           }
          ],
          "scattergeo": [
           {
            "marker": {
             "colorbar": {
              "outlinewidth": 0,
              "ticks": ""
             }
            },
            "type": "scattergeo"
           }
          ],
          "scattergl": [
           {
            "marker": {
             "colorbar": {
              "outlinewidth": 0,
              "ticks": ""
             }
            },
            "type": "scattergl"
           }
          ],
          "scattermapbox": [
           {
            "marker": {
             "colorbar": {
              "outlinewidth": 0,
              "ticks": ""
             }
            },
            "type": "scattermapbox"
           }
          ],
          "scatterpolar": [
           {
            "marker": {
             "colorbar": {
              "outlinewidth": 0,
              "ticks": ""
             }
            },
            "type": "scatterpolar"
           }
          ],
          "scatterpolargl": [
           {
            "marker": {
             "colorbar": {
              "outlinewidth": 0,
              "ticks": ""
             }
            },
            "type": "scatterpolargl"
           }
          ],
          "scatterternary": [
           {
            "marker": {
             "colorbar": {
              "outlinewidth": 0,
              "ticks": ""
             }
            },
            "type": "scatterternary"
           }
          ],
          "surface": [
           {
            "colorbar": {
             "outlinewidth": 0,
             "ticks": ""
            },
            "colorscale": [
             [
              0,
              "#0d0887"
             ],
             [
              0.1111111111111111,
              "#46039f"
             ],
             [
              0.2222222222222222,
              "#7201a8"
             ],
             [
              0.3333333333333333,
              "#9c179e"
             ],
             [
              0.4444444444444444,
              "#bd3786"
             ],
             [
              0.5555555555555556,
              "#d8576b"
             ],
             [
              0.6666666666666666,
              "#ed7953"
             ],
             [
              0.7777777777777778,
              "#fb9f3a"
             ],
             [
              0.8888888888888888,
              "#fdca26"
             ],
             [
              1,
              "#f0f921"
             ]
            ],
            "type": "surface"
           }
          ],
          "table": [
           {
            "cells": {
             "fill": {
              "color": "#EBF0F8"
             },
             "line": {
              "color": "white"
             }
            },
            "header": {
             "fill": {
              "color": "#C8D4E3"
             },
             "line": {
              "color": "white"
             }
            },
            "type": "table"
           }
          ]
         },
         "layout": {
          "annotationdefaults": {
           "arrowcolor": "#2a3f5f",
           "arrowhead": 0,
           "arrowwidth": 1
          },
          "coloraxis": {
           "colorbar": {
            "outlinewidth": 0,
            "ticks": ""
           }
          },
          "colorscale": {
           "diverging": [
            [
             0,
             "#8e0152"
            ],
            [
             0.1,
             "#c51b7d"
            ],
            [
             0.2,
             "#de77ae"
            ],
            [
             0.3,
             "#f1b6da"
            ],
            [
             0.4,
             "#fde0ef"
            ],
            [
             0.5,
             "#f7f7f7"
            ],
            [
             0.6,
             "#e6f5d0"
            ],
            [
             0.7,
             "#b8e186"
            ],
            [
             0.8,
             "#7fbc41"
            ],
            [
             0.9,
             "#4d9221"
            ],
            [
             1,
             "#276419"
            ]
           ],
           "sequential": [
            [
             0,
             "#0d0887"
            ],
            [
             0.1111111111111111,
             "#46039f"
            ],
            [
             0.2222222222222222,
             "#7201a8"
            ],
            [
             0.3333333333333333,
             "#9c179e"
            ],
            [
             0.4444444444444444,
             "#bd3786"
            ],
            [
             0.5555555555555556,
             "#d8576b"
            ],
            [
             0.6666666666666666,
             "#ed7953"
            ],
            [
             0.7777777777777778,
             "#fb9f3a"
            ],
            [
             0.8888888888888888,
             "#fdca26"
            ],
            [
             1,
             "#f0f921"
            ]
           ],
           "sequentialminus": [
            [
             0,
             "#0d0887"
            ],
            [
             0.1111111111111111,
             "#46039f"
            ],
            [
             0.2222222222222222,
             "#7201a8"
            ],
            [
             0.3333333333333333,
             "#9c179e"
            ],
            [
             0.4444444444444444,
             "#bd3786"
            ],
            [
             0.5555555555555556,
             "#d8576b"
            ],
            [
             0.6666666666666666,
             "#ed7953"
            ],
            [
             0.7777777777777778,
             "#fb9f3a"
            ],
            [
             0.8888888888888888,
             "#fdca26"
            ],
            [
             1,
             "#f0f921"
            ]
           ]
          },
          "colorway": [
           "#636efa",
           "#EF553B",
           "#00cc96",
           "#ab63fa",
           "#FFA15A",
           "#19d3f3",
           "#FF6692",
           "#B6E880",
           "#FF97FF",
           "#FECB52"
          ],
          "font": {
           "color": "#2a3f5f"
          },
          "geo": {
           "bgcolor": "white",
           "lakecolor": "white",
           "landcolor": "#E5ECF6",
           "showlakes": true,
           "showland": true,
           "subunitcolor": "white"
          },
          "hoverlabel": {
           "align": "left"
          },
          "hovermode": "closest",
          "mapbox": {
           "style": "light"
          },
          "paper_bgcolor": "white",
          "plot_bgcolor": "#E5ECF6",
          "polar": {
           "angularaxis": {
            "gridcolor": "white",
            "linecolor": "white",
            "ticks": ""
           },
           "bgcolor": "#E5ECF6",
           "radialaxis": {
            "gridcolor": "white",
            "linecolor": "white",
            "ticks": ""
           }
          },
          "scene": {
           "xaxis": {
            "backgroundcolor": "#E5ECF6",
            "gridcolor": "white",
            "gridwidth": 2,
            "linecolor": "white",
            "showbackground": true,
            "ticks": "",
            "zerolinecolor": "white"
           },
           "yaxis": {
            "backgroundcolor": "#E5ECF6",
            "gridcolor": "white",
            "gridwidth": 2,
            "linecolor": "white",
            "showbackground": true,
            "ticks": "",
            "zerolinecolor": "white"
           },
           "zaxis": {
            "backgroundcolor": "#E5ECF6",
            "gridcolor": "white",
            "gridwidth": 2,
            "linecolor": "white",
            "showbackground": true,
            "ticks": "",
            "zerolinecolor": "white"
           }
          },
          "shapedefaults": {
           "line": {
            "color": "#2a3f5f"
           }
          },
          "ternary": {
           "aaxis": {
            "gridcolor": "white",
            "linecolor": "white",
            "ticks": ""
           },
           "baxis": {
            "gridcolor": "white",
            "linecolor": "white",
            "ticks": ""
           },
           "bgcolor": "#E5ECF6",
           "caxis": {
            "gridcolor": "white",
            "linecolor": "white",
            "ticks": ""
           }
          },
          "title": {
           "x": 0.05
          },
          "xaxis": {
           "automargin": true,
           "gridcolor": "white",
           "linecolor": "white",
           "ticks": "",
           "title": {
            "standoff": 15
           },
           "zerolinecolor": "white",
           "zerolinewidth": 2
          },
          "yaxis": {
           "automargin": true,
           "gridcolor": "white",
           "linecolor": "white",
           "ticks": "",
           "title": {
            "standoff": 15
           },
           "zerolinecolor": "white",
           "zerolinewidth": 2
          }
         }
        },
        "title": {
         "text": "Si2Ge2 relaxed"
        },
        "width": 450,
        "xaxis": {
         "gridcolor": "lightgrey",
         "gridwidth": 0.5,
         "linecolor": "black",
         "linewidth": 1,
         "mirror": true,
         "range": [
          1,
          11
         ],
         "showgrid": true,
         "ticks": "inside",
         "ticktext": [
          "G",
          "Z"
         ],
         "tickvals": [
          1,
          11
         ]
        },
        "yaxis": {
         "gridcolor": "lightgrey",
         "gridwidth": 0.5,
         "linecolor": "black",
         "linewidth": 1,
         "mirror": true,
         "showgrid": true,
         "ticks": "inside",
         "title": {
          "text": "Energy, eV"
         }
        }
       }
      },
      "text/html": [
       "<div>\n",
       "        \n",
       "        \n",
       "            <div id=\"cf77ed7c-2c12-4e30-b511-884b00f77ed7\" class=\"plotly-graph-div\" style=\"height:650px; width:450px;\"></div>\n",
       "            <script type=\"text/javascript\">\n",
       "                require([\"plotly\"], function(Plotly) {\n",
       "                    window.PLOTLYENV=window.PLOTLYENV || {};\n",
       "                    \n",
       "                if (document.getElementById(\"cf77ed7c-2c12-4e30-b511-884b00f77ed7\")) {\n",
       "                    Plotly.newPlot(\n",
       "                        'cf77ed7c-2c12-4e30-b511-884b00f77ed7',\n",
       "                        [{\"marker\": {\"color\": \"black\"}, \"mode\": \"lines\", \"name\": \"markers\", \"showlegend\": false, \"type\": \"scatter\", \"x\": [1, 2, 3, 4, 5, 6, 7, 8, 9, 10, 11], \"y\": [-2.8399999141693115, -2.874000072479248, -2.8910000324249268, -2.8420000076293945, -2.7730000019073486, -2.684999942779541, -2.578000068664551, -2.5290000438690186, -2.4159998893737793, -2.316999912261963, -2.2730000019073486]}, {\"marker\": {\"color\": \"black\"}, \"mode\": \"lines\", \"name\": \"markers\", \"showlegend\": false, \"type\": \"scatter\", \"x\": [1, 2, 3, 4, 5, 6, 7, 8, 9, 10, 11], \"y\": [-0.1490001678466797, -0.2839999198913574, -0.6040000915527344, -1.001999855041504, -1.428999900817871, -1.86899995803833, -2.309999942779541, -2.453000068664551, -2.311000108718872, -2.1559998989105225, -2.0369999408721924]}, {\"marker\": {\"color\": \"black\"}, \"mode\": \"lines\", \"name\": \"markers\", \"showlegend\": false, \"type\": \"scatter\", \"x\": [1, 2, 3, 4, 5, 6, 7, 8, 9, 10, 11], \"y\": [-0.06799983978271484, -0.11499977111816406, -0.24399995803833008, -0.4289999008178711, -0.6449999809265137, -0.875999927520752, -1.1079998016357422, -1.3359999656677246, -1.553999900817871, -1.755000114440918, -1.8900001049041748]}, {\"marker\": {\"color\": \"black\"}, \"mode\": \"lines\", \"name\": \"markers\", \"showlegend\": false, \"type\": \"scatter\", \"x\": [1, 2, 3, 4, 5, 6, 7, 8, 9, 10, 11], \"y\": [-0.034999847412109375, -0.0819997787475586, -0.2090001106262207, -0.39099979400634766, -0.6030001640319824, -0.8260002136230469, -1.0479998588562012, -1.2589998245239258, -1.4479999542236328, -1.5929999351501465, -1.6529998779296875]}, {\"marker\": {\"color\": \"black\"}, \"mode\": \"lines\", \"name\": \"markers\", \"showlegend\": false, \"type\": \"scatter\", \"x\": [1, 2, 3, 4, 5, 6, 7, 8, 9, 10, 11], \"y\": [0.39099979400634766, 0.4530000686645508, 0.5139999389648438, 0.49200010299682617, 0.4910001754760742, 0.5110001564025879, 0.5500001907348633, 0.6040000915527344, 0.6680002212524414, 0.7249999046325684, 0.75]}, {\"marker\": {\"color\": \"black\"}, \"mode\": \"lines\", \"name\": \"markers\", \"showlegend\": false, \"type\": \"scatter\", \"x\": [1, 2, 3, 4, 5, 6, 7, 8, 9, 10, 11], \"y\": [0.40399980545043945, 0.46700000762939453, 0.6329998970031738, 0.9099998474121094, 1.2649998664855957, 1.433000087738037, 1.5300002098083496, 1.500999927520752, 1.4060001373291016, 1.3179998397827148, 1.2810001373291016]}, {\"marker\": {\"color\": \"black\"}, \"mode\": \"lines\", \"name\": \"markers\", \"showlegend\": false, \"type\": \"scatter\", \"x\": [1, 2, 3, 4, 5, 6, 7, 8, 9, 10, 11], \"y\": [0.5850000381469727, 0.5539999008178711, 0.6469998359680176, 0.9239997863769531, 1.2729997634887695, 1.6779999732971191, 2.0929999351501465, 2.2170000076293945, 2.439999580383301, 2.694000244140625, 2.878999710083008]}, {\"marker\": {\"color\": \"black\"}, \"mode\": \"lines\", \"name\": \"markers\", \"showlegend\": false, \"type\": \"scatter\", \"x\": [1, 2, 3, 4, 5, 6, 7, 8, 9, 10, 11], \"y\": [0.809999942779541, 0.8610000610351562, 0.9699997901916504, 1.1110000610351562, 1.2789998054504395, 1.6929998397827148, 2.1399998664855957, 2.6389999389648438, 3.168999671936035, 3.2170000076293945, 3.067999839782715]}, {\"marker\": {\"color\": \"red\"}, \"mode\": \"markers\", \"name\": \"markers\", \"showlegend\": false, \"type\": \"scatter\", \"x\": [1, 2, 3, 4, 5, 6, 7, 8, 9, 10, 11], \"y\": [-0.0968265739488013, -0.14425764701984545, -0.27376741744853833, -0.4591038612671841, -0.6754977341051455, -0.9050019128822986, -1.1375761282296828, -1.3645883948714645, -1.5820143004994336, -1.7833303784146723, -1.9181698309050665]}, {\"marker\": {\"color\": \"red\"}, \"mode\": \"markers\", \"name\": \"markers\", \"showlegend\": false, \"type\": \"scatter\", \"x\": [1, 2, 3, 4, 5, 6, 7, 8, 9, 10, 11], \"y\": [-0.06459085588101987, -0.11334270047552791, -0.24187730359442441, -0.4253810758943911, -0.6374470428184227, -0.8612427137516163, -1.0838168682875458, -1.2952427290104054, -1.4836443653813116, -1.629213641013628, -1.6889433981459818]}, {\"marker\": {\"color\": \"red\"}, \"mode\": \"markers\", \"name\": \"markers\", \"showlegend\": false, \"type\": \"scatter\", \"x\": [1, 2, 3, 4, 5, 6, 7, 8, 9, 10, 11], \"y\": [0.32998809549543584, 0.390847506346526, 0.46483320983839627, 0.4727746171715818, 0.4730129771762424, 0.49312778784904965, 0.5323368690632008, 0.5866894106806062, 0.6492708983244719, 0.7065084277847667, 0.7307375089621837]}, {\"marker\": {\"color\": \"red\"}, \"mode\": \"markers\", \"name\": \"markers\", \"showlegend\": false, \"type\": \"scatter\", \"x\": [1, 2, 3, 4, 5, 6, 7, 8, 9, 10, 11], \"y\": [0.33215487915792574, 0.39473631941241977, 0.572400497212822, 0.8468697700971437, 1.1727522673430266, 1.399751858063686, 1.503012901176641, 1.4788147190470753, 1.3870289540585177, 1.3001690999961195, 1.264079460096948]}, {\"line\": {\"color\": \"RoyalBlue\", \"dash\": \"dot\", \"width\": 3}, \"mode\": \"lines\", \"name\": \"markers\", \"showlegend\": false, \"type\": \"scatter\", \"x\": [1, 11], \"y\": [0, 0]}],\n",
       "                        {\"height\": 650, \"plot_bgcolor\": \"white\", \"template\": {\"data\": {\"bar\": [{\"error_x\": {\"color\": \"#2a3f5f\"}, \"error_y\": {\"color\": \"#2a3f5f\"}, \"marker\": {\"line\": {\"color\": \"#E5ECF6\", \"width\": 0.5}}, \"type\": \"bar\"}], \"barpolar\": [{\"marker\": {\"line\": {\"color\": \"#E5ECF6\", \"width\": 0.5}}, \"type\": \"barpolar\"}], \"carpet\": [{\"aaxis\": {\"endlinecolor\": \"#2a3f5f\", \"gridcolor\": \"white\", \"linecolor\": \"white\", \"minorgridcolor\": \"white\", \"startlinecolor\": \"#2a3f5f\"}, \"baxis\": {\"endlinecolor\": \"#2a3f5f\", \"gridcolor\": \"white\", \"linecolor\": \"white\", \"minorgridcolor\": \"white\", \"startlinecolor\": \"#2a3f5f\"}, \"type\": \"carpet\"}], \"choropleth\": [{\"colorbar\": {\"outlinewidth\": 0, \"ticks\": \"\"}, \"type\": \"choropleth\"}], \"contour\": [{\"colorbar\": {\"outlinewidth\": 0, \"ticks\": \"\"}, \"colorscale\": [[0.0, \"#0d0887\"], [0.1111111111111111, \"#46039f\"], [0.2222222222222222, \"#7201a8\"], [0.3333333333333333, \"#9c179e\"], [0.4444444444444444, \"#bd3786\"], [0.5555555555555556, \"#d8576b\"], [0.6666666666666666, \"#ed7953\"], [0.7777777777777778, \"#fb9f3a\"], [0.8888888888888888, \"#fdca26\"], [1.0, \"#f0f921\"]], \"type\": \"contour\"}], \"contourcarpet\": [{\"colorbar\": {\"outlinewidth\": 0, \"ticks\": \"\"}, \"type\": \"contourcarpet\"}], \"heatmap\": [{\"colorbar\": {\"outlinewidth\": 0, \"ticks\": \"\"}, \"colorscale\": [[0.0, \"#0d0887\"], [0.1111111111111111, \"#46039f\"], [0.2222222222222222, \"#7201a8\"], [0.3333333333333333, \"#9c179e\"], [0.4444444444444444, \"#bd3786\"], [0.5555555555555556, \"#d8576b\"], [0.6666666666666666, \"#ed7953\"], [0.7777777777777778, \"#fb9f3a\"], [0.8888888888888888, \"#fdca26\"], [1.0, \"#f0f921\"]], \"type\": \"heatmap\"}], \"heatmapgl\": [{\"colorbar\": {\"outlinewidth\": 0, \"ticks\": \"\"}, \"colorscale\": [[0.0, \"#0d0887\"], [0.1111111111111111, \"#46039f\"], [0.2222222222222222, \"#7201a8\"], [0.3333333333333333, \"#9c179e\"], [0.4444444444444444, \"#bd3786\"], [0.5555555555555556, \"#d8576b\"], [0.6666666666666666, \"#ed7953\"], [0.7777777777777778, \"#fb9f3a\"], [0.8888888888888888, \"#fdca26\"], [1.0, \"#f0f921\"]], \"type\": \"heatmapgl\"}], \"histogram\": [{\"marker\": {\"colorbar\": {\"outlinewidth\": 0, \"ticks\": \"\"}}, \"type\": \"histogram\"}], \"histogram2d\": [{\"colorbar\": {\"outlinewidth\": 0, \"ticks\": \"\"}, \"colorscale\": [[0.0, \"#0d0887\"], [0.1111111111111111, \"#46039f\"], [0.2222222222222222, \"#7201a8\"], [0.3333333333333333, \"#9c179e\"], [0.4444444444444444, \"#bd3786\"], [0.5555555555555556, \"#d8576b\"], [0.6666666666666666, \"#ed7953\"], [0.7777777777777778, \"#fb9f3a\"], [0.8888888888888888, \"#fdca26\"], [1.0, \"#f0f921\"]], \"type\": \"histogram2d\"}], \"histogram2dcontour\": [{\"colorbar\": {\"outlinewidth\": 0, \"ticks\": \"\"}, \"colorscale\": [[0.0, \"#0d0887\"], [0.1111111111111111, \"#46039f\"], [0.2222222222222222, \"#7201a8\"], [0.3333333333333333, \"#9c179e\"], [0.4444444444444444, \"#bd3786\"], [0.5555555555555556, \"#d8576b\"], [0.6666666666666666, \"#ed7953\"], [0.7777777777777778, \"#fb9f3a\"], [0.8888888888888888, \"#fdca26\"], [1.0, \"#f0f921\"]], \"type\": \"histogram2dcontour\"}], \"mesh3d\": [{\"colorbar\": {\"outlinewidth\": 0, \"ticks\": \"\"}, \"type\": \"mesh3d\"}], \"parcoords\": [{\"line\": {\"colorbar\": {\"outlinewidth\": 0, \"ticks\": \"\"}}, \"type\": \"parcoords\"}], \"pie\": [{\"automargin\": true, \"type\": \"pie\"}], \"scatter\": [{\"marker\": {\"colorbar\": {\"outlinewidth\": 0, \"ticks\": \"\"}}, \"type\": \"scatter\"}], \"scatter3d\": [{\"line\": {\"colorbar\": {\"outlinewidth\": 0, \"ticks\": \"\"}}, \"marker\": {\"colorbar\": {\"outlinewidth\": 0, \"ticks\": \"\"}}, \"type\": \"scatter3d\"}], \"scattercarpet\": [{\"marker\": {\"colorbar\": {\"outlinewidth\": 0, \"ticks\": \"\"}}, \"type\": \"scattercarpet\"}], \"scattergeo\": [{\"marker\": {\"colorbar\": {\"outlinewidth\": 0, \"ticks\": \"\"}}, \"type\": \"scattergeo\"}], \"scattergl\": [{\"marker\": {\"colorbar\": {\"outlinewidth\": 0, \"ticks\": \"\"}}, \"type\": \"scattergl\"}], \"scattermapbox\": [{\"marker\": {\"colorbar\": {\"outlinewidth\": 0, \"ticks\": \"\"}}, \"type\": \"scattermapbox\"}], \"scatterpolar\": [{\"marker\": {\"colorbar\": {\"outlinewidth\": 0, \"ticks\": \"\"}}, \"type\": \"scatterpolar\"}], \"scatterpolargl\": [{\"marker\": {\"colorbar\": {\"outlinewidth\": 0, \"ticks\": \"\"}}, \"type\": \"scatterpolargl\"}], \"scatterternary\": [{\"marker\": {\"colorbar\": {\"outlinewidth\": 0, \"ticks\": \"\"}}, \"type\": \"scatterternary\"}], \"surface\": [{\"colorbar\": {\"outlinewidth\": 0, \"ticks\": \"\"}, \"colorscale\": [[0.0, \"#0d0887\"], [0.1111111111111111, \"#46039f\"], [0.2222222222222222, \"#7201a8\"], [0.3333333333333333, \"#9c179e\"], [0.4444444444444444, \"#bd3786\"], [0.5555555555555556, \"#d8576b\"], [0.6666666666666666, \"#ed7953\"], [0.7777777777777778, \"#fb9f3a\"], [0.8888888888888888, \"#fdca26\"], [1.0, \"#f0f921\"]], \"type\": \"surface\"}], \"table\": [{\"cells\": {\"fill\": {\"color\": \"#EBF0F8\"}, \"line\": {\"color\": \"white\"}}, \"header\": {\"fill\": {\"color\": \"#C8D4E3\"}, \"line\": {\"color\": \"white\"}}, \"type\": \"table\"}]}, \"layout\": {\"annotationdefaults\": {\"arrowcolor\": \"#2a3f5f\", \"arrowhead\": 0, \"arrowwidth\": 1}, \"coloraxis\": {\"colorbar\": {\"outlinewidth\": 0, \"ticks\": \"\"}}, \"colorscale\": {\"diverging\": [[0, \"#8e0152\"], [0.1, \"#c51b7d\"], [0.2, \"#de77ae\"], [0.3, \"#f1b6da\"], [0.4, \"#fde0ef\"], [0.5, \"#f7f7f7\"], [0.6, \"#e6f5d0\"], [0.7, \"#b8e186\"], [0.8, \"#7fbc41\"], [0.9, \"#4d9221\"], [1, \"#276419\"]], \"sequential\": [[0.0, \"#0d0887\"], [0.1111111111111111, \"#46039f\"], [0.2222222222222222, \"#7201a8\"], [0.3333333333333333, \"#9c179e\"], [0.4444444444444444, \"#bd3786\"], [0.5555555555555556, \"#d8576b\"], [0.6666666666666666, \"#ed7953\"], [0.7777777777777778, \"#fb9f3a\"], [0.8888888888888888, \"#fdca26\"], [1.0, \"#f0f921\"]], \"sequentialminus\": [[0.0, \"#0d0887\"], [0.1111111111111111, \"#46039f\"], [0.2222222222222222, \"#7201a8\"], [0.3333333333333333, \"#9c179e\"], [0.4444444444444444, \"#bd3786\"], [0.5555555555555556, \"#d8576b\"], [0.6666666666666666, \"#ed7953\"], [0.7777777777777778, \"#fb9f3a\"], [0.8888888888888888, \"#fdca26\"], [1.0, \"#f0f921\"]]}, \"colorway\": [\"#636efa\", \"#EF553B\", \"#00cc96\", \"#ab63fa\", \"#FFA15A\", \"#19d3f3\", \"#FF6692\", \"#B6E880\", \"#FF97FF\", \"#FECB52\"], \"font\": {\"color\": \"#2a3f5f\"}, \"geo\": {\"bgcolor\": \"white\", \"lakecolor\": \"white\", \"landcolor\": \"#E5ECF6\", \"showlakes\": true, \"showland\": true, \"subunitcolor\": \"white\"}, \"hoverlabel\": {\"align\": \"left\"}, \"hovermode\": \"closest\", \"mapbox\": {\"style\": \"light\"}, \"paper_bgcolor\": \"white\", \"plot_bgcolor\": \"#E5ECF6\", \"polar\": {\"angularaxis\": {\"gridcolor\": \"white\", \"linecolor\": \"white\", \"ticks\": \"\"}, \"bgcolor\": \"#E5ECF6\", \"radialaxis\": {\"gridcolor\": \"white\", \"linecolor\": \"white\", \"ticks\": \"\"}}, \"scene\": {\"xaxis\": {\"backgroundcolor\": \"#E5ECF6\", \"gridcolor\": \"white\", \"gridwidth\": 2, \"linecolor\": \"white\", \"showbackground\": true, \"ticks\": \"\", \"zerolinecolor\": \"white\"}, \"yaxis\": {\"backgroundcolor\": \"#E5ECF6\", \"gridcolor\": \"white\", \"gridwidth\": 2, \"linecolor\": \"white\", \"showbackground\": true, \"ticks\": \"\", \"zerolinecolor\": \"white\"}, \"zaxis\": {\"backgroundcolor\": \"#E5ECF6\", \"gridcolor\": \"white\", \"gridwidth\": 2, \"linecolor\": \"white\", \"showbackground\": true, \"ticks\": \"\", \"zerolinecolor\": \"white\"}}, \"shapedefaults\": {\"line\": {\"color\": \"#2a3f5f\"}}, \"ternary\": {\"aaxis\": {\"gridcolor\": \"white\", \"linecolor\": \"white\", \"ticks\": \"\"}, \"baxis\": {\"gridcolor\": \"white\", \"linecolor\": \"white\", \"ticks\": \"\"}, \"bgcolor\": \"#E5ECF6\", \"caxis\": {\"gridcolor\": \"white\", \"linecolor\": \"white\", \"ticks\": \"\"}}, \"title\": {\"x\": 0.05}, \"xaxis\": {\"automargin\": true, \"gridcolor\": \"white\", \"linecolor\": \"white\", \"ticks\": \"\", \"title\": {\"standoff\": 15}, \"zerolinecolor\": \"white\", \"zerolinewidth\": 2}, \"yaxis\": {\"automargin\": true, \"gridcolor\": \"white\", \"linecolor\": \"white\", \"ticks\": \"\", \"title\": {\"standoff\": 15}, \"zerolinecolor\": \"white\", \"zerolinewidth\": 2}}}, \"title\": {\"text\": \"Si2Ge2 relaxed\"}, \"width\": 450, \"xaxis\": {\"gridcolor\": \"lightgrey\", \"gridwidth\": 0.5, \"linecolor\": \"black\", \"linewidth\": 1, \"mirror\": true, \"range\": [1, 11], \"showgrid\": true, \"ticks\": \"inside\", \"ticktext\": [\"G\", \"Z\"], \"tickvals\": [1, 11]}, \"yaxis\": {\"gridcolor\": \"lightgrey\", \"gridwidth\": 0.5, \"linecolor\": \"black\", \"linewidth\": 1, \"mirror\": true, \"showgrid\": true, \"ticks\": \"inside\", \"title\": {\"text\": \"Energy, eV\"}}},\n",
       "                        {\"responsive\": true}\n",
       "                    ).then(function(){\n",
       "                            \n",
       "var gd = document.getElementById('cf77ed7c-2c12-4e30-b511-884b00f77ed7');\n",
       "var x = new MutationObserver(function (mutations, observer) {{\n",
       "        var display = window.getComputedStyle(gd).display;\n",
       "        if (!display || display === 'none') {{\n",
       "            console.log([gd, 'removed!']);\n",
       "            Plotly.purge(gd);\n",
       "            observer.disconnect();\n",
       "        }}\n",
       "}});\n",
       "\n",
       "// Listen for the removal of the full notebook cells\n",
       "var notebookContainer = gd.closest('#notebook-container');\n",
       "if (notebookContainer) {{\n",
       "    x.observe(notebookContainer, {childList: true});\n",
       "}}\n",
       "\n",
       "// Listen for the clearing of the current output cell\n",
       "var outputEl = gd.closest('.output');\n",
       "if (outputEl) {{\n",
       "    x.observe(outputEl, {childList: true});\n",
       "}}\n",
       "\n",
       "                        })\n",
       "                };\n",
       "                });\n",
       "            </script>\n",
       "        </div>"
      ]
     },
     "metadata": {},
     "output_type": "display_data"
    }
   ],
   "source": [
    "# let's plot predicted bands vs calculated bands\n",
    "#reading calculated bands:\n",
    "data=read_data('bands/si2ge2_relax.dat')\n",
    "bands=data.read_bands_ml(fermi=5.75, bands_num=4)\n",
    "bands=bands.reshape(8,11)\n",
    "#predicted bands\n",
    "bands_RF=y_predict_RF.reshape(4,11)\n",
    "#bands_XG=y_predict_XG.reshape(4,11)\n",
    "\n",
    "import plotly.graph_objects as go\n",
    "fig = go.Figure()\n",
    "\n",
    "for i in range(bands.shape[0]):\n",
    "    fig.add_trace(go.Scatter(x=np.arange(1,12,1), y=bands[i],\n",
    "                        mode='lines', marker=dict(color='black'), showlegend=False, \n",
    "                        name='markers'))\n",
    "    \n",
    "for i in range(bands_RF.shape[0]):\n",
    "    fig.add_trace(go.Scatter(x=np.arange(1,12,1), y=bands_RF[i],\n",
    "                        mode='markers', marker=dict(color='red'), showlegend=False, \n",
    "                        name='markers'))\n",
    "fig.add_trace(go.Scatter(x=[1,11], y=[0,0],\n",
    "                        mode='lines', line=dict(color= \"RoyalBlue\",width=3, dash='dot'), showlegend=False, \n",
    "                        name='markers'))    \n",
    "\n",
    "fig.update_xaxes(showgrid=True,  \n",
    "                 gridwidth=0.5, \n",
    "                 gridcolor='lightgrey', \n",
    "                 ticks='inside' ,                        \n",
    "                 linecolor= 'black',                      \n",
    "                 linewidth= 1,\n",
    "                 mirror= True,\n",
    "                 ticktext=['G', 'Z'],\n",
    "                 tickvals=[1,11],\n",
    "                 range=[1,11]\n",
    "                 )\n",
    "fig.update_yaxes(title='Energy, eV', \n",
    "                 showgrid=True,  \n",
    "                 gridwidth=0.5, \n",
    "                 gridcolor='lightgrey', \n",
    "                 ticks='inside' ,                        \n",
    "                 linecolor= 'black',\n",
    "                 linewidth= 1,\n",
    "                 mirror= True,\n",
    "                )\n",
    "fig.update_layout(title='Si2Ge2 relaxed', width=450, height=650, plot_bgcolor='white')\n",
    "fig.show()"
   ]
  },
  {
   "cell_type": "markdown",
   "metadata": {},
   "source": [
    "# example of solving reverse problem "
   ]
  },
  {
   "cell_type": "code",
   "execution_count": 17,
   "metadata": {
    "ExecuteTime": {
     "end_time": "2021-10-28T01:38:31.999609Z",
     "start_time": "2021-10-28T01:38:21.249186Z"
    }
   },
   "outputs": [
    {
     "name": "stdout",
     "output_type": "stream",
     "text": [
      "Lattice parameters:[10.40470426 10.59502318  0.        ]\n",
      "MSE: 0.002944861666935311\n"
     ]
    }
   ],
   "source": [
    "# in this example we predict lattice constants for a given bandstructure (lattice constants are in bohr)\n",
    "\n",
    "import GPyOpt\n",
    "from GPyOpt.methods import BayesianOptimization\n",
    "from sklearn.metrics import mean_squared_error\n",
    "\n",
    "data=read_data('bands/si2ge2_relax.dat')\n",
    "bands=data.read_bands_ml(fermi=5.75, bands_num=2)\n",
    "\n",
    "\n",
    "def objfunc(x):\n",
    "\n",
    "    x1 = float(x[0,0])\n",
    "    x2 = float(x[0,1])\n",
    "    x3 = float(x[0,2])\n",
    "\n",
    "    return  mean_squared_error(regressorRF.predict([[x1,x2,x3]]).reshape(1,44), bands.reshape(1,44))\n",
    "\n",
    "maxiter = 40\n",
    "domain =    [\n",
    "             {'name': 'a_paral', 'type': 'continuous', 'domain': (10, 11)},\n",
    "             {'name': 'a_perp',  'type': 'continuous', 'domain': (10, 11)},\n",
    "             {'name': 'composition',  'type': 'continuous', 'domain': (0, 1)}\n",
    "            ]\n",
    "\n",
    "\n",
    "\n",
    "Bopt = GPyOpt.methods.BayesianOptimization(objfunc, domain=domain)\n",
    "Bopt.run_optimization(max_iter = maxiter)\n",
    "\n",
    "print(\"Lattice parameters:\"+str(Bopt.x_opt))    \n",
    "print(\"MSE: \"+str(Bopt.fx_opt)) "
   ]
  }
 ],
 "metadata": {
  "kernelspec": {
   "display_name": "Python 3",
   "language": "python",
   "name": "python3"
  },
  "language_info": {
   "codemirror_mode": {
    "name": "ipython",
    "version": 3
   },
   "file_extension": ".py",
   "mimetype": "text/x-python",
   "name": "python",
   "nbconvert_exporter": "python",
   "pygments_lexer": "ipython3",
   "version": "3.6.10"
  },
  "varInspector": {
   "cols": {
    "lenName": 16,
    "lenType": 16,
    "lenVar": 40
   },
   "kernels_config": {
    "python": {
     "delete_cmd_postfix": "",
     "delete_cmd_prefix": "del ",
     "library": "var_list.py",
     "varRefreshCmd": "print(var_dic_list())"
    },
    "r": {
     "delete_cmd_postfix": ") ",
     "delete_cmd_prefix": "rm(",
     "library": "var_list.r",
     "varRefreshCmd": "cat(var_dic_list()) "
    }
   },
   "types_to_exclude": [
    "module",
    "function",
    "builtin_function_or_method",
    "instance",
    "_Feature"
   ],
   "window_display": false
  }
 },
 "nbformat": 4,
 "nbformat_minor": 4
}
