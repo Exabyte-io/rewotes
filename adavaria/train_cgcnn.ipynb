{
 "cells": [
  {
   "cell_type": "code",
   "execution_count": 2,
   "metadata": {},
   "outputs": [],
   "source": [
    "from mlband.imports import *\n",
    "import mlband.data\n",
    "import mlband.config\n",
    "import mlband.model\n",
    "import mlband.features"
   ]
  },
  {
   "cell_type": "code",
   "execution_count": 2,
   "metadata": {},
   "outputs": [
    {
     "name": "stdout",
     "output_type": "stream",
     "text": [
      "Preparing the config...\n"
     ]
    }
   ],
   "source": [
    "data_set_path = 'data/mp-test-2/'\n",
    "results_dir = 'results/test-2/'\n",
    "\n",
    "print('Preparing the config...', flush=True)\n",
    "config = mlband.config.Config(\n",
    "    data_path=data_set_path, \n",
    "    workers=4, \n",
    "    results_dir=results_dir,\n",
    "    original_features=True,\n",
    "    print_freq=100,\n",
    "    )"
   ]
  },
  {
   "cell_type": "code",
   "execution_count": 3,
   "metadata": {},
   "outputs": [
    {
     "name": "stdout",
     "output_type": "stream",
     "text": [
      "Downloading the data from MP...\n"
     ]
    },
    {
     "data": {
      "application/vnd.jupyter.widget-view+json": {
       "model_id": "f72a750e356046d5889a6a20c2e52239",
       "version_major": 2,
       "version_minor": 0
      },
      "text/plain": [
       "Retrieving SummaryDoc documents:   0%|          | 0/40000 [00:00<?, ?it/s]"
      ]
     },
     "metadata": {},
     "output_type": "display_data"
    },
    {
     "name": "stdout",
     "output_type": "stream",
     "text": [
      "Number of missing values:  2\n"
     ]
    }
   ],
   "source": [
    "print('Downloading the data from MP...' ,flush=True)\n",
    "df, data = mlband.data.get_list_of_materials(num_chunks=40)"
   ]
  },
  {
   "cell_type": "code",
   "execution_count": 4,
   "metadata": {},
   "outputs": [
    {
     "name": "stdout",
     "output_type": "stream",
     "text": [
      "Creating the dataset...\n"
     ]
    },
    {
     "name": "stderr",
     "output_type": "stream",
     "text": [
      "/Users/ali/mambaforge/envs/cgcnn/lib/python3.11/site-packages/pymatgen/core/periodic_table.py:120: UserWarning: No Pauling electronegativity for Ar. Setting to NaN. This has no physical meaning, and is mainly done to avoid errors caused by the code expecting a float.\n",
      "  warnings.warn(\n"
     ]
    }
   ],
   "source": [
    "print('Creating the dataset...', flush=True)\n",
    "mlband.data.create_dataset(df=df, path=data_set_path)"
   ]
  },
  {
   "cell_type": "code",
   "execution_count": 5,
   "metadata": {},
   "outputs": [
    {
     "name": "stdout",
     "output_type": "stream",
     "text": [
      "Creating the physical features...\n"
     ]
    }
   ],
   "source": [
    "print('Creating the physical features...', flush=True)\n",
    "mlband.features.one_hot_encode_elements(config)"
   ]
  },
  {
   "cell_type": "code",
   "execution_count": 7,
   "metadata": {},
   "outputs": [
    {
     "name": "stdout",
     "output_type": "stream",
     "text": [
      "Creating and training the model...\n"
     ]
    },
    {
     "name": "stdout",
     "output_type": "stream",
     "text": [
      "Training the model...\n",
      "Epoch: [0][0/500]\tTime 21.107 (21.107)\tData 17.464 (17.464)\tLoss 1.0621 (1.0621)\tMAE 1.037 (1.037)\n",
      "Test: [0/63]\tTime 8.918 (8.918)\tLoss 0.4582 (0.4582)\tMAE 0.736 (0.736)\n",
      "* MAE 0.758\n",
      "Epoch: [1][0/500]\tTime 17.260 (17.260)\tData 14.009 (14.009)\tLoss 0.5957 (0.5957)\tMAE 0.835 (0.835)\n",
      "Test: [0/63]\tTime 11.642 (11.642)\tLoss 0.4780 (0.4780)\tMAE 0.625 (0.625)\n",
      "* MAE 0.693\n",
      "Epoch: [2][0/500]\tTime 16.469 (16.469)\tData 13.378 (13.378)\tLoss 0.4486 (0.4486)\tMAE 0.663 (0.663)\n",
      "Test: [0/63]\tTime 13.246 (13.246)\tLoss 0.4347 (0.4347)\tMAE 0.625 (0.625)\n",
      "* MAE 0.634\n",
      "Epoch: [3][0/500]\tTime 16.687 (16.687)\tData 13.987 (13.987)\tLoss 0.4238 (0.4238)\tMAE 0.578 (0.578)\n",
      "Test: [0/63]\tTime 12.243 (12.243)\tLoss 0.4460 (0.4460)\tMAE 0.589 (0.589)\n",
      "* MAE 0.692\n",
      "Epoch: [4][0/500]\tTime 15.792 (15.792)\tData 13.262 (13.262)\tLoss 0.2359 (0.2359)\tMAE 0.473 (0.473)\n",
      "Test: [0/63]\tTime 11.502 (11.502)\tLoss 0.4708 (0.4708)\tMAE 0.691 (0.691)\n",
      "* MAE 0.596\n",
      "Epoch: [5][0/500]\tTime 16.802 (16.802)\tData 13.959 (13.959)\tLoss 0.3425 (0.3425)\tMAE 0.597 (0.597)\n",
      "Test: [0/63]\tTime 12.731 (12.731)\tLoss 0.3664 (0.3664)\tMAE 0.595 (0.595)\n",
      "* MAE 0.570\n",
      "Epoch: [6][0/500]\tTime 16.460 (16.460)\tData 13.763 (13.763)\tLoss 0.2584 (0.2584)\tMAE 0.506 (0.506)\n",
      "Test: [0/63]\tTime 13.052 (13.052)\tLoss 0.3243 (0.3243)\tMAE 0.583 (0.583)\n",
      "* MAE 0.571\n",
      "Epoch: [7][0/500]\tTime 16.119 (16.119)\tData 13.650 (13.650)\tLoss 0.2520 (0.2520)\tMAE 0.509 (0.509)\n",
      "Test: [0/63]\tTime 12.259 (12.259)\tLoss 0.3185 (0.3185)\tMAE 0.625 (0.625)\n",
      "* MAE 0.557\n",
      "Epoch: [8][0/500]\tTime 15.440 (15.440)\tData 13.341 (13.341)\tLoss 0.4828 (0.4828)\tMAE 0.714 (0.714)\n",
      "Test: [0/63]\tTime 13.234 (13.234)\tLoss 0.5613 (0.5613)\tMAE 0.753 (0.753)\n",
      "* MAE 0.532\n",
      "Epoch: [9][0/500]\tTime 17.608 (17.608)\tData 14.073 (14.073)\tLoss 0.3108 (0.3108)\tMAE 0.607 (0.607)\n",
      "Test: [0/63]\tTime 12.735 (12.735)\tLoss 0.4146 (0.4146)\tMAE 0.639 (0.639)\n",
      "* MAE 0.517\n",
      "Epoch: [10][0/500]\tTime 17.894 (17.894)\tData 14.771 (14.771)\tLoss 0.3295 (0.3295)\tMAE 0.536 (0.536)\n",
      "Test: [0/63]\tTime 12.174 (12.174)\tLoss 0.1863 (0.1863)\tMAE 0.436 (0.436)\n",
      "* MAE 0.529\n",
      "Epoch: [11][0/500]\tTime 16.214 (16.214)\tData 13.744 (13.744)\tLoss 0.2154 (0.2154)\tMAE 0.486 (0.486)\n",
      "Test: [0/63]\tTime 12.534 (12.534)\tLoss 0.4862 (0.4862)\tMAE 0.582 (0.582)\n",
      "* MAE 0.495\n",
      "Epoch: [12][0/500]\tTime 16.875 (16.875)\tData 13.855 (13.855)\tLoss 0.1784 (0.1784)\tMAE 0.391 (0.391)\n",
      "Test: [0/63]\tTime 11.520 (11.520)\tLoss 0.1782 (0.1782)\tMAE 0.484 (0.484)\n",
      "* MAE 0.568\n",
      "Epoch: [13][0/500]\tTime 17.819 (17.819)\tData 14.870 (14.870)\tLoss 0.2968 (0.2968)\tMAE 0.589 (0.589)\n",
      "Test: [0/63]\tTime 12.410 (12.410)\tLoss 0.2117 (0.2117)\tMAE 0.402 (0.402)\n",
      "* MAE 0.498\n",
      "Epoch: [14][0/500]\tTime 17.500 (17.500)\tData 13.961 (13.961)\tLoss 0.3027 (0.3027)\tMAE 0.469 (0.469)\n",
      "Test: [0/63]\tTime 13.770 (13.770)\tLoss 0.2684 (0.2684)\tMAE 0.476 (0.476)\n",
      "* MAE 0.510\n",
      "Epoch: [15][0/500]\tTime 15.880 (15.880)\tData 13.407 (13.407)\tLoss 0.2566 (0.2566)\tMAE 0.568 (0.568)\n",
      "Test: [0/63]\tTime 11.490 (11.490)\tLoss 0.4080 (0.4080)\tMAE 0.468 (0.468)\n",
      "* MAE 0.497\n",
      "Epoch: [16][0/500]\tTime 17.515 (17.515)\tData 14.617 (14.617)\tLoss 0.1734 (0.1734)\tMAE 0.420 (0.420)\n",
      "Test: [0/63]\tTime 11.858 (11.858)\tLoss 0.2879 (0.2879)\tMAE 0.507 (0.507)\n",
      "* MAE 0.472\n",
      "Epoch: [17][0/500]\tTime 17.691 (17.691)\tData 14.675 (14.675)\tLoss 0.2464 (0.2464)\tMAE 0.501 (0.501)\n",
      "Test: [0/63]\tTime 13.971 (13.971)\tLoss 0.2274 (0.2274)\tMAE 0.462 (0.462)\n",
      "* MAE 0.460\n",
      "Epoch: [18][0/500]\tTime 16.739 (16.739)\tData 14.427 (14.427)\tLoss 0.2131 (0.2131)\tMAE 0.471 (0.471)\n",
      "Test: [0/63]\tTime 12.042 (12.042)\tLoss 0.3554 (0.3554)\tMAE 0.576 (0.576)\n",
      "* MAE 0.501\n",
      "Epoch: [19][0/500]\tTime 17.114 (17.114)\tData 14.140 (14.140)\tLoss 0.1652 (0.1652)\tMAE 0.454 (0.454)\n",
      "Test: [0/63]\tTime 12.444 (12.444)\tLoss 0.3312 (0.3312)\tMAE 0.548 (0.548)\n",
      "* MAE 0.452\n",
      "Epoch: [20][0/500]\tTime 16.996 (16.996)\tData 14.147 (14.147)\tLoss 0.1962 (0.1962)\tMAE 0.432 (0.432)\n",
      "Test: [0/63]\tTime 12.134 (12.134)\tLoss 0.2997 (0.2997)\tMAE 0.522 (0.522)\n",
      "* MAE 0.485\n",
      "Epoch: [21][0/500]\tTime 18.389 (18.389)\tData 15.488 (15.488)\tLoss 0.1859 (0.1859)\tMAE 0.438 (0.438)\n",
      "Test: [0/63]\tTime 11.972 (11.972)\tLoss 0.3207 (0.3207)\tMAE 0.510 (0.510)\n",
      "* MAE 0.459\n",
      "Epoch: [22][0/500]\tTime 17.904 (17.904)\tData 14.930 (14.930)\tLoss 0.2122 (0.2122)\tMAE 0.387 (0.387)\n",
      "Test: [0/63]\tTime 12.487 (12.487)\tLoss 0.2262 (0.2262)\tMAE 0.482 (0.482)\n",
      "* MAE 0.503\n",
      "Epoch: [23][0/500]\tTime 16.428 (16.428)\tData 13.754 (13.754)\tLoss 0.4746 (0.4746)\tMAE 0.572 (0.572)\n",
      "Test: [0/63]\tTime 14.973 (14.973)\tLoss 0.1626 (0.1626)\tMAE 0.374 (0.374)\n",
      "* MAE 0.446\n",
      "Epoch: [24][0/500]\tTime 22.696 (22.696)\tData 17.323 (17.323)\tLoss 0.0897 (0.0897)\tMAE 0.269 (0.269)\n",
      "Test: [0/63]\tTime 15.372 (15.372)\tLoss 0.2241 (0.2241)\tMAE 0.407 (0.407)\n",
      "* MAE 0.465\n",
      "Epoch: [25][0/500]\tTime 25.602 (25.602)\tData 19.498 (19.498)\tLoss 0.2068 (0.2068)\tMAE 0.469 (0.469)\n",
      "Test: [0/63]\tTime 12.493 (12.493)\tLoss 0.1294 (0.1294)\tMAE 0.384 (0.384)\n",
      "* MAE 0.439\n",
      "Epoch: [26][0/500]\tTime 18.257 (18.257)\tData 15.000 (15.000)\tLoss 0.0932 (0.0932)\tMAE 0.304 (0.304)\n",
      "Test: [0/63]\tTime 15.212 (15.212)\tLoss 0.1325 (0.1325)\tMAE 0.376 (0.376)\n",
      "* MAE 0.470\n",
      "Epoch: [27][0/500]\tTime 17.136 (17.136)\tData 14.089 (14.089)\tLoss 0.3763 (0.3763)\tMAE 0.619 (0.619)\n",
      "Test: [0/63]\tTime 12.901 (12.901)\tLoss 0.1491 (0.1491)\tMAE 0.445 (0.445)\n",
      "* MAE 0.524\n",
      "Epoch: [28][0/500]\tTime 20.938 (20.938)\tData 17.498 (17.498)\tLoss 0.2409 (0.2409)\tMAE 0.533 (0.533)\n",
      "Test: [0/63]\tTime 10.014 (10.014)\tLoss 0.3095 (0.3095)\tMAE 0.530 (0.530)\n",
      "* MAE 0.481\n",
      "Epoch: [29][0/500]\tTime 21.578 (21.578)\tData 18.145 (18.145)\tLoss 0.1196 (0.1196)\tMAE 0.340 (0.340)\n",
      "Test: [0/63]\tTime 14.748 (14.748)\tLoss 0.1905 (0.1905)\tMAE 0.374 (0.374)\n",
      "* MAE 0.443\n",
      "---------Evaluate Model on Test Set---------------\n",
      "Test: [0/63]\tTime 13.635 (13.635)\tLoss 0.3114 (0.3114)\tMAE 0.513 (0.513)\n",
      "** MAE 0.449\n",
      "Training and test evaluation completed!\n",
      "CPU times: user 1.6 s, sys: 4.56 s, total: 6.16 s\n",
      "Wall time: 11h 43min 51s\n"
     ]
    }
   ],
   "source": [
    "%%time\n",
    "print('Creating and training the model...', flush=True)\n",
    "mlband.model.train(config)"
   ]
  },
  {
   "cell_type": "code",
   "execution_count": 10,
   "metadata": {},
   "outputs": [
    {
     "name": "stdout",
     "output_type": "stream",
     "text": [
      "Evaluating the data sets...\n",
      "Evaluating the train set...\n",
      "Saving the predictions to results/test-2/predictions_train.csv\n",
      "MSE for train set: 0.3749\n",
      "MAE for train set: 0.3918\n",
      "Evaluating the val set...\n",
      "Saving the predictions to results/test-2/predictions_val.csv\n",
      "MSE for val set: 0.5022\n",
      "MAE for val set: 0.4450\n",
      "Evaluating the test set...\n",
      "Saving the predictions to results/test-2/predictions_test.csv\n",
      "MSE for test set: 0.5067\n",
      "MAE for test set: 0.4488\n"
     ]
    }
   ],
   "source": [
    "print('Evaluating the data sets...', flush=True)\n",
    "mlband.model.evaluate_model(config)"
   ]
  },
  {
   "cell_type": "code",
   "execution_count": 25,
   "metadata": {},
   "outputs": [
    {
     "data": {
      "text/html": [
       "<div>\n",
       "<style scoped>\n",
       "    .dataframe tbody tr th:only-of-type {\n",
       "        vertical-align: middle;\n",
       "    }\n",
       "\n",
       "    .dataframe tbody tr th {\n",
       "        vertical-align: top;\n",
       "    }\n",
       "\n",
       "    .dataframe thead th {\n",
       "        text-align: right;\n",
       "    }\n",
       "</style>\n",
       "<table border=\"1\" class=\"dataframe\">\n",
       "  <thead>\n",
       "    <tr style=\"text-align: right;\">\n",
       "      <th></th>\n",
       "      <th>ID</th>\n",
       "      <th>True_Label</th>\n",
       "      <th>Prediction</th>\n",
       "    </tr>\n",
       "  </thead>\n",
       "  <tbody>\n",
       "    <tr>\n",
       "      <th>0</th>\n",
       "      <td>mp-9937</td>\n",
       "      <td>0.0000</td>\n",
       "      <td>-0.052763</td>\n",
       "    </tr>\n",
       "    <tr>\n",
       "      <th>1</th>\n",
       "      <td>mp-1172967</td>\n",
       "      <td>0.0000</td>\n",
       "      <td>0.140506</td>\n",
       "    </tr>\n",
       "    <tr>\n",
       "      <th>2</th>\n",
       "      <td>mp-982366</td>\n",
       "      <td>2.5126</td>\n",
       "      <td>1.816474</td>\n",
       "    </tr>\n",
       "    <tr>\n",
       "      <th>3</th>\n",
       "      <td>mp-1175038</td>\n",
       "      <td>0.0000</td>\n",
       "      <td>0.352745</td>\n",
       "    </tr>\n",
       "    <tr>\n",
       "      <th>4</th>\n",
       "      <td>mp-768127</td>\n",
       "      <td>3.1253</td>\n",
       "      <td>2.300649</td>\n",
       "    </tr>\n",
       "    <tr>\n",
       "      <th>...</th>\n",
       "      <td>...</td>\n",
       "      <td>...</td>\n",
       "      <td>...</td>\n",
       "    </tr>\n",
       "    <tr>\n",
       "      <th>3994</th>\n",
       "      <td>mp-8399</td>\n",
       "      <td>3.2859</td>\n",
       "      <td>1.227919</td>\n",
       "    </tr>\n",
       "    <tr>\n",
       "      <th>3995</th>\n",
       "      <td>mp-1112109</td>\n",
       "      <td>2.2573</td>\n",
       "      <td>1.406988</td>\n",
       "    </tr>\n",
       "    <tr>\n",
       "      <th>3996</th>\n",
       "      <td>mp-1021162</td>\n",
       "      <td>0.0000</td>\n",
       "      <td>0.039211</td>\n",
       "    </tr>\n",
       "    <tr>\n",
       "      <th>3997</th>\n",
       "      <td>mp-1062676</td>\n",
       "      <td>1.3146</td>\n",
       "      <td>0.079352</td>\n",
       "    </tr>\n",
       "    <tr>\n",
       "      <th>3998</th>\n",
       "      <td>mp-1187282</td>\n",
       "      <td>0.0000</td>\n",
       "      <td>-0.043594</td>\n",
       "    </tr>\n",
       "  </tbody>\n",
       "</table>\n",
       "<p>3999 rows × 3 columns</p>\n",
       "</div>"
      ],
      "text/plain": [
       "              ID  True_Label  Prediction\n",
       "0        mp-9937      0.0000   -0.052763\n",
       "1     mp-1172967      0.0000    0.140506\n",
       "2      mp-982366      2.5126    1.816474\n",
       "3     mp-1175038      0.0000    0.352745\n",
       "4      mp-768127      3.1253    2.300649\n",
       "...          ...         ...         ...\n",
       "3994     mp-8399      3.2859    1.227919\n",
       "3995  mp-1112109      2.2573    1.406988\n",
       "3996  mp-1021162      0.0000    0.039211\n",
       "3997  mp-1062676      1.3146    0.079352\n",
       "3998  mp-1187282      0.0000   -0.043594\n",
       "\n",
       "[3999 rows x 3 columns]"
      ]
     },
     "execution_count": 25,
     "metadata": {},
     "output_type": "execute_result"
    }
   ],
   "source": [
    "df = pd.read_csv(config.results_dir / 'predictions_test.csv')\n",
    "df"
   ]
  },
  {
   "cell_type": "code",
   "execution_count": 24,
   "metadata": {},
   "outputs": [
    {
     "data": {
      "image/png": "[encoded data removed]",
      "text/plain": [
       "<Figure size 354.331x218.989 with 1 Axes>"
      ]
     },
     "metadata": {},
     "output_type": "display_data"
    },
    {
     "data": {
      "text/plain": [
       "0.44878078555627543"
      ]
     },
     "execution_count": 24,
     "metadata": {},
     "output_type": "execute_result"
    }
   ],
   "source": [
    "# Plot the predicted vs target values parity plot\n",
    "import matplotlib.pyplot as plt\n",
    "\n",
    "plt.scatter(df['True_Label'], df['Prediction'], alpha=0.25)\n",
    "plt.xlabel('target')\n",
    "plt.ylabel('predicted')\n",
    "\n",
    "x = np.linspace(-1, 7, 6)\n",
    "y = x\n",
    "plt.plot(x, y, '-r', label='parity')\n",
    "\n",
    "plt.show()\n",
    "\n",
    "# pring the mean absolute error\n",
    "from sklearn.metrics import mean_absolute_error\n",
    "\n",
    "mean_absolute_error(df['True_Label'], df['Prediction'])"
   ]
  }
 ],
 "metadata": {
  "kernelspec": {
   "display_name": "cgcnn",
   "language": "python",
   "name": "python3"
  },
  "language_info": {
   "codemirror_mode": {
    "name": "ipython",
    "version": 3
   },
   "file_extension": ".py",
   "mimetype": "text/x-python",
   "name": "python",
   "nbconvert_exporter": "python",
   "pygments_lexer": "ipython3",
   "version": "3.11.6"
  }
 },
 "nbformat": 4,
 "nbformat_minor": 2
}
