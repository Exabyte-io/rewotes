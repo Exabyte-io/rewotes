{
 "cells": [
  {
   "cell_type": "code",
   "execution_count": 1,
   "metadata": {},
   "outputs": [],
   "source": [
    "from mlband.imports import *\n",
    "import mlband.data\n",
    "import mlband.config\n",
    "import mlband.model\n",
    "import mlband.features"
   ]
  },
  {
   "cell_type": "code",
   "execution_count": 2,
   "metadata": {},
   "outputs": [
    {
     "name": "stdout",
     "output_type": "stream",
     "text": [
      "Preparing the config...\n"
     ]
    }
   ],
   "source": [
    "data_set_path = 'data/mp-test-2/'\n",
    "results_dir = 'results/test-2/'\n",
    "\n",
    "print('Preparing the config...', flush=True)\n",
    "config = mlband.config.Config(\n",
    "    data_path=data_set_path, \n",
    "    workers=4, \n",
    "    results_dir=results_dir,\n",
    "    original_features=True,\n",
    "    print_freq=1000,\n",
    "    )"
   ]
  },
  {
   "cell_type": "code",
   "execution_count": 3,
   "metadata": {},
   "outputs": [
    {
     "name": "stdout",
     "output_type": "stream",
     "text": [
      "Downloading the data from MP...\n"
     ]
    },
    {
     "data": {
      "application/vnd.jupyter.widget-view+json": {
       "model_id": "f72a750e356046d5889a6a20c2e52239",
       "version_major": 2,
       "version_minor": 0
      },
      "text/plain": [
       "Retrieving SummaryDoc documents:   0%|          | 0/40000 [00:00<?, ?it/s]"
      ]
     },
     "metadata": {},
     "output_type": "display_data"
    },
    {
     "name": "stdout",
     "output_type": "stream",
     "text": [
      "Number of missing values:  2\n"
     ]
    }
   ],
   "source": [
    "print('Downloading the data from MP...' ,flush=True)\n",
    "df, data = mlband.data.get_list_of_materials(num_chunks=40)"
   ]
  },
  {
   "cell_type": "code",
   "execution_count": 4,
   "metadata": {},
   "outputs": [
    {
     "name": "stdout",
     "output_type": "stream",
     "text": [
      "Creating the dataset...\n"
     ]
    },
    {
     "name": "stderr",
     "output_type": "stream",
     "text": [
      "/Users/ali/mambaforge/envs/cgcnn/lib/python3.11/site-packages/pymatgen/core/periodic_table.py:120: UserWarning: No Pauling electronegativity for Ar. Setting to NaN. This has no physical meaning, and is mainly done to avoid errors caused by the code expecting a float.\n",
      "  warnings.warn(\n"
     ]
    }
   ],
   "source": [
    "print('Creating the dataset...', flush=True)\n",
    "mlband.data.create_dataset(df=df, path=data_set_path)"
   ]
  },
  {
   "cell_type": "code",
   "execution_count": 5,
   "metadata": {},
   "outputs": [
    {
     "name": "stdout",
     "output_type": "stream",
     "text": [
      "Creating the physical features...\n"
     ]
    }
   ],
   "source": [
    "print('Creating the physical features...', flush=True)\n",
    "mlband.features.one_hot_encode_elements(config)"
   ]
  },
  {
   "cell_type": "code",
   "execution_count": 6,
   "metadata": {},
   "outputs": [
    {
     "name": "stdout",
     "output_type": "stream",
     "text": [
      "Creating and training the model...\n",
      "Training the model...\n",
      "Epoch: [0][0/500]\tTime 11.146 (11.146)\tData 8.056 (8.056)\tLoss 1.0336 (1.0336)\tMAE 0.899 (0.899)\n"
     ]
    }
   ],
   "source": [
    "%%time\n",
    "print('Creating and training the model...', flush=True)\n",
    "mlband.model.train(config)"
   ]
  }
 ],
 "metadata": {
  "kernelspec": {
   "display_name": "cgcnn",
   "language": "python",
   "name": "python3"
  },
  "language_info": {
   "codemirror_mode": {
    "name": "ipython",
    "version": 3
   },
   "file_extension": ".py",
   "mimetype": "text/x-python",
   "name": "python",
   "nbconvert_exporter": "python",
   "pygments_lexer": "ipython3",
   "version": "3.11.6"
  }
 },
 "nbformat": 4,
 "nbformat_minor": 2
}
