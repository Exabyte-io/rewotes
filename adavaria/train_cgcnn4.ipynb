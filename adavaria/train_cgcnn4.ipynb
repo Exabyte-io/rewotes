{
 "cells": [
  {
   "cell_type": "code",
   "execution_count": 1,
   "metadata": {},
   "outputs": [],
   "source": [
    "from mlband.imports import *\n",
    "import mlband.data\n",
    "import mlband.config\n",
    "import mlband.model\n",
    "import mlband.features"
   ]
  },
  {
   "cell_type": "code",
   "execution_count": 2,
   "metadata": {},
   "outputs": [
    {
     "name": "stdout",
     "output_type": "stream",
     "text": [
      "Preparing the config...\n"
     ]
    }
   ],
   "source": [
    "data_set_path = 'data/mp-test-3/'\n",
    "results_dir = 'results/test-3/'\n",
    "\n",
    "print('Preparing the config...', flush=True)\n",
    "config = mlband.config.Config(\n",
    "    data_path=data_set_path, \n",
    "    workers=4, \n",
    "    results_dir=results_dir,\n",
    "    original_features=True,\n",
    "    print_freq=1,\n",
    "    epochs=3,\n",
    "    )"
   ]
  },
  {
   "cell_type": "code",
   "execution_count": 3,
   "metadata": {},
   "outputs": [
    {
     "name": "stdout",
     "output_type": "stream",
     "text": [
      "Downloading the data from MP...\n"
     ]
    },
    {
     "data": {
      "application/vnd.jupyter.widget-view+json": {
       "model_id": "1b576fc1143d41d1aed15f2b19422c3e",
       "version_major": 2,
       "version_minor": 0
      },
      "text/plain": [
       "Retrieving SummaryDoc documents:   0%|          | 0/1000 [00:00<?, ?it/s]"
      ]
     },
     "metadata": {},
     "output_type": "display_data"
    },
    {
     "name": "stdout",
     "output_type": "stream",
     "text": [
      "Number of missing values:  0\n"
     ]
    }
   ],
   "source": [
    "print('Downloading the data from MP...' ,flush=True)\n",
    "df, data = mlband.data.get_list_of_materials(num_chunks=1)"
   ]
  },
  {
   "cell_type": "code",
   "execution_count": 4,
   "metadata": {},
   "outputs": [],
   "source": [
    "df = df[:100]"
   ]
  },
  {
   "cell_type": "code",
   "execution_count": 5,
   "metadata": {},
   "outputs": [
    {
     "name": "stdout",
     "output_type": "stream",
     "text": [
      "Creating the dataset...\n"
     ]
    }
   ],
   "source": [
    "print('Creating the dataset...', flush=True)\n",
    "mlband.data.create_dataset(df=df, path=data_set_path)"
   ]
  },
  {
   "cell_type": "code",
   "execution_count": 6,
   "metadata": {},
   "outputs": [
    {
     "name": "stdout",
     "output_type": "stream",
     "text": [
      "Creating the physical features...\n"
     ]
    }
   ],
   "source": [
    "print('Creating the physical features...', flush=True)\n",
    "mlband.features.one_hot_encode_elements(config)"
   ]
  },
  {
   "cell_type": "code",
   "execution_count": 3,
   "metadata": {},
   "outputs": [
    {
     "name": "stdout",
     "output_type": "stream",
     "text": [
      "Creating and training the model...\n",
      "Training the model...\n",
      "Epoch: [0][0/2]\tTime 5.818 (5.818)\tData 5.391 (5.391)\tLoss 1.1430 (1.1430)\tMAE 1.236 (1.236)\n",
      "Epoch: [0][1/2]\tTime 0.052 (2.935)\tData 0.001 (2.696)\tLoss 21.9530 (5.3050)\tMAE 7.592 (2.507)\n",
      "Test: [0/1]\tTime 4.186 (4.186)\tLoss 6.9031 (6.9031)\tMAE 3.484 (3.484)\n",
      " * MAE 3.484\n",
      "Epoch: [1][0/2]\tTime 6.465 (6.465)\tData 5.810 (5.810)\tLoss 1.1783 (1.1783)\tMAE 1.522 (1.522)\n",
      "Epoch: [1][1/2]\tTime 0.227 (3.346)\tData 0.000 (2.905)\tLoss 6.1876 (2.1801)\tMAE 3.649 (1.947)\n",
      "Test: [0/1]\tTime 4.334 (4.334)\tLoss 9.3106 (9.3106)\tMAE 4.733 (4.733)\n",
      " * MAE 4.733\n",
      "Epoch: [2][0/2]\tTime 5.907 (5.907)\tData 5.180 (5.180)\tLoss 4.8135 (4.8135)\tMAE 3.335 (3.335)\n",
      "Epoch: [2][1/2]\tTime 0.332 (3.120)\tData 0.001 (2.590)\tLoss 4.2978 (4.7103)\tMAE 2.682 (3.204)\n",
      "Test: [0/1]\tTime 4.597 (4.597)\tLoss 1.0253 (1.0253)\tMAE 1.080 (1.080)\n",
      " * MAE 1.080\n",
      "Epoch: [3][0/2]\tTime 6.558 (6.558)\tData 5.744 (5.744)\tLoss 1.2980 (1.2980)\tMAE 1.358 (1.358)\n",
      "Epoch: [3][1/2]\tTime 0.374 (3.466)\tData 0.001 (2.872)\tLoss 0.9141 (1.2212)\tMAE 0.925 (1.272)\n",
      "Test: [0/1]\tTime 5.173 (5.173)\tLoss 1.1548 (1.1548)\tMAE 1.437 (1.437)\n",
      " * MAE 1.437\n",
      "Epoch: [4][0/2]\tTime 7.338 (7.338)\tData 6.277 (6.277)\tLoss 0.7562 (0.7562)\tMAE 1.103 (1.103)\n",
      "Epoch: [4][1/2]\tTime 0.327 (3.833)\tData 0.001 (3.139)\tLoss 0.4807 (0.7011)\tMAE 1.079 (1.098)\n",
      "Test: [0/1]\tTime 5.185 (5.185)\tLoss 1.7782 (1.7782)\tMAE 1.816 (1.816)\n",
      " * MAE 1.816\n",
      "Training and test evaluation completed!\n",
      "CPU times: user 23.5 s, sys: 1.53 s, total: 25 s\n",
      "Wall time: 2min 13s\n"
     ]
    }
   ],
   "source": [
    "%%time\n",
    "print('Creating and training the model...', flush=True)\n",
    "mlband.model.train(config)"
   ]
  },
  {
   "cell_type": "code",
   "execution_count": 4,
   "metadata": {},
   "outputs": [
    {
     "name": "stdout",
     "output_type": "stream",
     "text": [
      "Evaluating the data sets...\n",
      "Evaluating the train set...\n",
      "Saving the predictions to results/test-3/predictions_train.csv\n",
      "MSE for train set: 2.3706\n",
      "MAE for train set: 0.9971\n",
      "Evaluating the val set...\n",
      "Saving the predictions to results/test-3/predictions_val.csv\n",
      "MSE for val set: 2.7721\n",
      "MAE for val set: 1.0795\n",
      "Evaluating the test set...\n",
      "Saving the predictions to results/test-3/predictions_test.csv\n",
      "MSE for test set: 1.8385\n",
      "MAE for test set: 1.0594\n"
     ]
    }
   ],
   "source": [
    "print('Evaluating the data sets...', flush=True)\n",
    "mlband.model.evaluate_model(config)"
   ]
  },
  {
   "cell_type": "code",
   "execution_count": 7,
   "metadata": {},
   "outputs": [
    {
     "data": {
      "text/html": [
       "<div>\n",
       "<style scoped>\n",
       "    .dataframe tbody tr th:only-of-type {\n",
       "        vertical-align: middle;\n",
       "    }\n",
       "\n",
       "    .dataframe tbody tr th {\n",
       "        vertical-align: top;\n",
       "    }\n",
       "\n",
       "    .dataframe thead th {\n",
       "        text-align: right;\n",
       "    }\n",
       "</style>\n",
       "<table border=\"1\" class=\"dataframe\">\n",
       "  <thead>\n",
       "    <tr style=\"text-align: right;\">\n",
       "      <th></th>\n",
       "      <th>ID</th>\n",
       "      <th>True_Label</th>\n",
       "      <th>Prediction</th>\n",
       "    </tr>\n",
       "  </thead>\n",
       "  <tbody>\n",
       "    <tr>\n",
       "      <th>0</th>\n",
       "      <td>mp-849283</td>\n",
       "      <td>3.5932</td>\n",
       "      <td>0.569189</td>\n",
       "    </tr>\n",
       "    <tr>\n",
       "      <th>1</th>\n",
       "      <td>mp-1293179</td>\n",
       "      <td>0.0000</td>\n",
       "      <td>0.293489</td>\n",
       "    </tr>\n",
       "    <tr>\n",
       "      <th>2</th>\n",
       "      <td>mp-546266</td>\n",
       "      <td>1.3668</td>\n",
       "      <td>0.557808</td>\n",
       "    </tr>\n",
       "    <tr>\n",
       "      <th>3</th>\n",
       "      <td>mp-1187285</td>\n",
       "      <td>0.0000</td>\n",
       "      <td>0.041292</td>\n",
       "    </tr>\n",
       "    <tr>\n",
       "      <th>4</th>\n",
       "      <td>mp-756721</td>\n",
       "      <td>2.2792</td>\n",
       "      <td>0.656142</td>\n",
       "    </tr>\n",
       "    <tr>\n",
       "      <th>5</th>\n",
       "      <td>mp-3922</td>\n",
       "      <td>1.3716</td>\n",
       "      <td>-0.069001</td>\n",
       "    </tr>\n",
       "    <tr>\n",
       "      <th>6</th>\n",
       "      <td>mp-1078325</td>\n",
       "      <td>0.0000</td>\n",
       "      <td>-0.193643</td>\n",
       "    </tr>\n",
       "    <tr>\n",
       "      <th>7</th>\n",
       "      <td>mp-1042447</td>\n",
       "      <td>0.0000</td>\n",
       "      <td>0.729092</td>\n",
       "    </tr>\n",
       "    <tr>\n",
       "      <th>8</th>\n",
       "      <td>mp-1201009</td>\n",
       "      <td>0.0000</td>\n",
       "      <td>1.568316</td>\n",
       "    </tr>\n",
       "    <tr>\n",
       "      <th>9</th>\n",
       "      <td>mp-1229129</td>\n",
       "      <td>0.0000</td>\n",
       "      <td>0.871742</td>\n",
       "    </tr>\n",
       "  </tbody>\n",
       "</table>\n",
       "</div>"
      ],
      "text/plain": [
       "           ID  True_Label  Prediction\n",
       "0   mp-849283      3.5932    0.569189\n",
       "1  mp-1293179      0.0000    0.293489\n",
       "2   mp-546266      1.3668    0.557808\n",
       "3  mp-1187285      0.0000    0.041292\n",
       "4   mp-756721      2.2792    0.656142\n",
       "5     mp-3922      1.3716   -0.069001\n",
       "6  mp-1078325      0.0000   -0.193643\n",
       "7  mp-1042447      0.0000    0.729092\n",
       "8  mp-1201009      0.0000    1.568316\n",
       "9  mp-1229129      0.0000    0.871742"
      ]
     },
     "execution_count": 7,
     "metadata": {},
     "output_type": "execute_result"
    }
   ],
   "source": [
    "df = pd.read_csv(config.results_dir / 'predictions_test.csv')\n",
    "df"
   ]
  },
  {
   "cell_type": "code",
   "execution_count": 8,
   "metadata": {},
   "outputs": [
    {
     "data": {
      "image/png": "[encoded data removed]",
      "text/plain": [
       "<Figure size 354.331x218.989 with 1 Axes>"
      ]
     },
     "metadata": {},
     "output_type": "display_data"
    },
    {
     "data": {
      "text/plain": [
       "1.0594236612319947"
      ]
     },
     "execution_count": 8,
     "metadata": {},
     "output_type": "execute_result"
    }
   ],
   "source": [
    "# Plot the predicted vs target values parity plot\n",
    "import matplotlib.pyplot as plt\n",
    "\n",
    "plt.scatter(df['True_Label'], df['Prediction'], alpha=0.25)\n",
    "plt.xlabel('target')\n",
    "plt.ylabel('predicted')\n",
    "\n",
    "x = np.linspace(-1, 7, 6)\n",
    "y = x\n",
    "plt.plot(x, y, '-r', label='parity')\n",
    "\n",
    "plt.show()\n",
    "\n",
    "# pring the mean absolute error\n",
    "from sklearn.metrics import mean_absolute_error\n",
    "\n",
    "mean_absolute_error(df['True_Label'], df['Prediction'])"
   ]
  }
 ],
 "metadata": {
  "kernelspec": {
   "display_name": "cgcnn",
   "language": "python",
   "name": "python3"
  },
  "language_info": {
   "codemirror_mode": {
    "name": "ipython",
    "version": 3
   },
   "file_extension": ".py",
   "mimetype": "text/x-python",
   "name": "python",
   "nbconvert_exporter": "python",
   "pygments_lexer": "ipython3",
   "version": "3.11.6"
  }
 },
 "nbformat": 4,
 "nbformat_minor": 2
}
