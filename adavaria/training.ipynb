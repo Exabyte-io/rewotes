{
 "cells": [
  {
   "cell_type": "code",
   "execution_count": 2,
   "metadata": {},
   "outputs": [],
   "source": [
    "from mlband.imports import *\n",
    "from mlband.data import *\n",
    "from mlband.model import *\n",
    "from mlband.args import *\n"
   ]
  },
  {
   "cell_type": "code",
   "execution_count": 3,
   "metadata": {},
   "outputs": [],
   "source": [
    "cifpath = Path('data/mp/')\n",
    "dataset = CIFData(cifpath, radius=15)\n",
    "train_loader, val_loader, test_loader = get_train_val_test_loader(\n",
    "    dataset=dataset,\n",
    "    collate_fn=collate_pool,\n",
    "    batch_size=args.batch_size,\n",
    "    train_ratio=args.train_ratio,\n",
    "    num_workers=args.workers,\n",
    "    val_ratio=args.val_ratio,\n",
    "    test_ratio=args.test_ratio,\n",
    "    pin_memory=args.cuda,\n",
    "    train_size=args.train_size,\n",
    "    val_size=args.val_size,\n",
    "    test_size=args.test_size,\n",
    "    return_test=True)"
   ]
  },
  {
   "cell_type": "code",
   "execution_count": 4,
   "metadata": {},
   "outputs": [
    {
     "name": "stderr",
     "output_type": "stream",
     "text": [
      "/Users/ali/mambaforge/envs/cgcnn/lib/python3.11/site-packages/pymatgen/io/cif.py:1186: UserWarning: The default value of primitive was changed from True to False in https://github.com/materialsproject/pymatgen/pull/3419. CifParser now returns the cell in the CIF file as is. If you want the primitive cell, please set primitive=True explicitly.\n",
      "  warnings.warn(\n",
      "/Users/ali/mambaforge/envs/cgcnn/lib/python3.11/site-packages/pymatgen/io/cif.py:1219: UserWarning: Issues encountered while parsing CIF: 20 fractional coordinates rounded to ideal values to avoid issues with finite precision.\n",
      "  warnings.warn(\"Issues encountered while parsing CIF: \" + \"\\n\".join(self.warnings))\n",
      "/Users/ali/mambaforge/envs/cgcnn/lib/python3.11/site-packages/pymatgen/io/cif.py:1219: UserWarning: Issues encountered while parsing CIF: 28 fractional coordinates rounded to ideal values to avoid issues with finite precision.\n",
      "  warnings.warn(\"Issues encountered while parsing CIF: \" + \"\\n\".join(self.warnings))\n",
      "/Users/ali/mambaforge/envs/cgcnn/lib/python3.11/site-packages/pymatgen/io/cif.py:1219: UserWarning: Issues encountered while parsing CIF: 4 fractional coordinates rounded to ideal values to avoid issues with finite precision.\n",
      "  warnings.warn(\"Issues encountered while parsing CIF: \" + \"\\n\".join(self.warnings))\n",
      "/Users/ali/mambaforge/envs/cgcnn/lib/python3.11/site-packages/pymatgen/io/cif.py:1219: UserWarning: Issues encountered while parsing CIF: 12 fractional coordinates rounded to ideal values to avoid issues with finite precision.\n",
      "  warnings.warn(\"Issues encountered while parsing CIF: \" + \"\\n\".join(self.warnings))\n",
      "/Users/ali/mambaforge/envs/cgcnn/lib/python3.11/site-packages/pymatgen/io/cif.py:1219: UserWarning: Issues encountered while parsing CIF: 8 fractional coordinates rounded to ideal values to avoid issues with finite precision.\n",
      "  warnings.warn(\"Issues encountered while parsing CIF: \" + \"\\n\".join(self.warnings))\n",
      "/Users/ali/mambaforge/envs/cgcnn/lib/python3.11/site-packages/pymatgen/io/cif.py:1219: UserWarning: Issues encountered while parsing CIF: 1 fractional coordinates rounded to ideal values to avoid issues with finite precision.\n",
      "  warnings.warn(\"Issues encountered while parsing CIF: \" + \"\\n\".join(self.warnings))\n",
      "/Users/ali/mambaforge/envs/cgcnn/lib/python3.11/site-packages/pymatgen/io/cif.py:1219: UserWarning: Issues encountered while parsing CIF: 2 fractional coordinates rounded to ideal values to avoid issues with finite precision.\n",
      "  warnings.warn(\"Issues encountered while parsing CIF: \" + \"\\n\".join(self.warnings))\n",
      "/Users/ali/mambaforge/envs/cgcnn/lib/python3.11/site-packages/pymatgen/io/cif.py:1219: UserWarning: Issues encountered while parsing CIF: 24 fractional coordinates rounded to ideal values to avoid issues with finite precision.\n",
      "  warnings.warn(\"Issues encountered while parsing CIF: \" + \"\\n\".join(self.warnings))\n",
      "/Users/ali/mambaforge/envs/cgcnn/lib/python3.11/site-packages/pymatgen/io/cif.py:1219: UserWarning: Issues encountered while parsing CIF: 18 fractional coordinates rounded to ideal values to avoid issues with finite precision.\n",
      "  warnings.warn(\"Issues encountered while parsing CIF: \" + \"\\n\".join(self.warnings))\n",
      "/Users/ali/mambaforge/envs/cgcnn/lib/python3.11/site-packages/pymatgen/io/cif.py:1219: UserWarning: Issues encountered while parsing CIF: 7 fractional coordinates rounded to ideal values to avoid issues with finite precision.\n",
      "  warnings.warn(\"Issues encountered while parsing CIF: \" + \"\\n\".join(self.warnings))\n",
      "/Users/ali/mambaforge/envs/cgcnn/lib/python3.11/site-packages/pymatgen/io/cif.py:1219: UserWarning: Issues encountered while parsing CIF: 6 fractional coordinates rounded to ideal values to avoid issues with finite precision.\n",
      "  warnings.warn(\"Issues encountered while parsing CIF: \" + \"\\n\".join(self.warnings))\n",
      "/Users/ali/mambaforge/envs/cgcnn/lib/python3.11/site-packages/pymatgen/io/cif.py:1219: UserWarning: Issues encountered while parsing CIF: 3 fractional coordinates rounded to ideal values to avoid issues with finite precision.\n",
      "  warnings.warn(\"Issues encountered while parsing CIF: \" + \"\\n\".join(self.warnings))\n"
     ]
    }
   ],
   "source": [
    "sample_data_list = [dataset[i] for i in\n",
    "                    random.sample(range(len(dataset)), min(500, len(dataset)))]"
   ]
  },
  {
   "cell_type": "code",
   "execution_count": 5,
   "metadata": {},
   "outputs": [],
   "source": [
    "from mlband.model import Normalizer"
   ]
  },
  {
   "cell_type": "code",
   "execution_count": 7,
   "metadata": {},
   "outputs": [],
   "source": [
    "_, sample_target, _ = collate_pool(sample_data_list)\n",
    "normalizer = Normalizer(sample_target)"
   ]
  },
  {
   "cell_type": "code",
   "execution_count": 21,
   "metadata": {},
   "outputs": [
    {
     "data": {
      "text/plain": [
       "(92, 76)"
      ]
     },
     "execution_count": 21,
     "metadata": {},
     "output_type": "execute_result"
    }
   ],
   "source": [
    "orig_atom_fea_len, nbr_fea_len"
   ]
  },
  {
   "cell_type": "code",
   "execution_count": 19,
   "metadata": {},
   "outputs": [],
   "source": [
    "structures, _, _ = dataset[0]\n",
    "orig_atom_fea_len = structures[0].shape[-1]\n",
    "nbr_fea_len = structures[1].shape[-1]\n",
    "model = CrystalGraphConvNet(orig_atom_fea_len, nbr_fea_len,\n",
    "                            atom_fea_len=args.atom_fea_len,\n",
    "                            n_conv=args.n_conv,\n",
    "                            h_fea_len=args.h_fea_len,\n",
    "                            n_h=args.n_h,\n",
    "                            classification=True if args.task ==\n",
    "                                                    'classification' else False)"
   ]
  },
  {
   "cell_type": "code",
   "execution_count": 11,
   "metadata": {},
   "outputs": [
    {
     "data": {
      "text/plain": [
       "CrystalGraphConvNet(\n",
       "  (embedding): Linear(in_features=92, out_features=64, bias=True)\n",
       "  (convs): ModuleList(\n",
       "    (0-2): 3 x ConvLayer(\n",
       "      (fc_full): Linear(in_features=204, out_features=128, bias=True)\n",
       "      (sigmoid): Sigmoid()\n",
       "      (softplus1): Softplus(beta=1, threshold=20)\n",
       "      (bn1): BatchNorm1d(128, eps=1e-05, momentum=0.1, affine=True, track_running_stats=True)\n",
       "      (bn2): BatchNorm1d(64, eps=1e-05, momentum=0.1, affine=True, track_running_stats=True)\n",
       "      (softplus2): Softplus(beta=1, threshold=20)\n",
       "    )\n",
       "  )\n",
       "  (conv_to_fc): Linear(in_features=64, out_features=128, bias=True)\n",
       "  (conv_to_fc_softplus): Softplus(beta=1, threshold=20)\n",
       "  (fc_out): Linear(in_features=128, out_features=1, bias=True)\n",
       ")"
      ]
     },
     "execution_count": 11,
     "metadata": {},
     "output_type": "execute_result"
    }
   ],
   "source": [
    "model"
   ]
  }
 ],
 "metadata": {
  "kernelspec": {
   "display_name": "cgcnn",
   "language": "python",
   "name": "python3"
  },
  "language_info": {
   "codemirror_mode": {
    "name": "ipython",
    "version": 3
   },
   "file_extension": ".py",
   "mimetype": "text/x-python",
   "name": "python",
   "nbconvert_exporter": "python",
   "pygments_lexer": "ipython3",
   "version": "3.11.6"
  }
 },
 "nbformat": 4,
 "nbformat_minor": 2
}
