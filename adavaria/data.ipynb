{
 "cells": [
  {
   "cell_type": "code",
   "execution_count": 70,
   "metadata": {},
   "outputs": [],
   "source": [
    "import mlband.mp as MP\n",
    "from mlband.imports import *\n",
    "from mlband import plot_formatter\n",
    "import mlband.data"
   ]
  },
  {
   "cell_type": "code",
   "execution_count": 71,
   "metadata": {},
   "outputs": [],
   "source": [
    "from mp_api.client import MPRester"
   ]
  },
  {
   "cell_type": "code",
   "execution_count": 72,
   "metadata": {},
   "outputs": [
    {
     "data": {
      "text/plain": [
       "<module 'mlband.data' from '/Users/ali/GitHub/rewotes/adavaria/mlband/data.py'>"
      ]
     },
     "execution_count": 72,
     "metadata": {},
     "output_type": "execute_result"
    }
   ],
   "source": [
    "importlib.reload(MP)\n",
    "importlib.reload(mlband.data)"
   ]
  },
  {
   "cell_type": "markdown",
   "metadata": {},
   "source": [
    "### Getting the list of materials"
   ]
  },
  {
   "cell_type": "code",
   "execution_count": 76,
   "metadata": {},
   "outputs": [
    {
     "name": "stderr",
     "output_type": "stream",
     "text": [
      "Retrieving SummaryDoc documents: 100%|██████████| 20000/20000 [00:19<00:00, 1049.67it/s]"
     ]
    },
    {
     "name": "stdout",
     "output_type": "stream",
     "text": [
      "Number of missing values:  2\n"
     ]
    },
    {
     "name": "stderr",
     "output_type": "stream",
     "text": [
      "\n"
     ]
    }
   ],
   "source": [
    "df, data = mlband.data.get_list_of_materials(num_chunks=20)"
   ]
  },
  {
   "cell_type": "code",
   "execution_count": 77,
   "metadata": {},
   "outputs": [
    {
     "data": {
      "text/html": [
       "<div>\n",
       "<style scoped>\n",
       "    .dataframe tbody tr th:only-of-type {\n",
       "        vertical-align: middle;\n",
       "    }\n",
       "\n",
       "    .dataframe tbody tr th {\n",
       "        vertical-align: top;\n",
       "    }\n",
       "\n",
       "    .dataframe thead th {\n",
       "        text-align: right;\n",
       "    }\n",
       "</style>\n",
       "<table border=\"1\" class=\"dataframe\">\n",
       "  <thead>\n",
       "    <tr style=\"text-align: right;\">\n",
       "      <th></th>\n",
       "      <th>material_id</th>\n",
       "      <th>band_gap</th>\n",
       "      <th>structure</th>\n",
       "    </tr>\n",
       "  </thead>\n",
       "  <tbody>\n",
       "    <tr>\n",
       "      <th>0</th>\n",
       "      <td>mp-757220</td>\n",
       "      <td>5.3849</td>\n",
       "      <td>[[6.53586997 0.39866238 2.62533396] Lu, [6.928...</td>\n",
       "    </tr>\n",
       "    <tr>\n",
       "      <th>1</th>\n",
       "      <td>mp-573369</td>\n",
       "      <td>3.7419</td>\n",
       "      <td>[[ 1.63145925  0.23570193 10.77716588] Cs, [1....</td>\n",
       "    </tr>\n",
       "    <tr>\n",
       "      <th>2</th>\n",
       "      <td>mp-28967</td>\n",
       "      <td>0.7792</td>\n",
       "      <td>[[4.55529863 5.11963834 2.01471426] Ba, [1.801...</td>\n",
       "    </tr>\n",
       "    <tr>\n",
       "      <th>3</th>\n",
       "      <td>mp-559295</td>\n",
       "      <td>2.6721</td>\n",
       "      <td>[[0.57211092 2.00312375 5.90744327] Fe, [3.888...</td>\n",
       "    </tr>\n",
       "    <tr>\n",
       "      <th>4</th>\n",
       "      <td>mp-1293179</td>\n",
       "      <td>0.0000</td>\n",
       "      <td>[[-8.73143724 -5.0599669  -7.23635549] Li, [-2...</td>\n",
       "    </tr>\n",
       "    <tr>\n",
       "      <th>...</th>\n",
       "      <td>...</td>\n",
       "      <td>...</td>\n",
       "      <td>...</td>\n",
       "    </tr>\n",
       "    <tr>\n",
       "      <th>19993</th>\n",
       "      <td>mp-2715949</td>\n",
       "      <td>1.5098</td>\n",
       "      <td>[[-2.79248853  4.83813866  5.78084703] Na, [6....</td>\n",
       "    </tr>\n",
       "    <tr>\n",
       "      <th>19994</th>\n",
       "      <td>mp-1207979</td>\n",
       "      <td>0.0000</td>\n",
       "      <td>[[ 1.99364737 -7.0085493   0.        ] U, [1.9...</td>\n",
       "    </tr>\n",
       "    <tr>\n",
       "      <th>19995</th>\n",
       "      <td>mp-1218689</td>\n",
       "      <td>0.7712</td>\n",
       "      <td>[[2.982158   1.68966376 0.        ] Sr, [ 2.98...</td>\n",
       "    </tr>\n",
       "    <tr>\n",
       "      <th>19996</th>\n",
       "      <td>mp-2222762</td>\n",
       "      <td>0.0000</td>\n",
       "      <td>[[3.11575461 3.11575461 3.11575461] Sm, [1.341...</td>\n",
       "    </tr>\n",
       "    <tr>\n",
       "      <th>19997</th>\n",
       "      <td>mp-1247060</td>\n",
       "      <td>0.0535</td>\n",
       "      <td>[[4.52454226 3.10094945 7.83685747] Dy, [4.524...</td>\n",
       "    </tr>\n",
       "  </tbody>\n",
       "</table>\n",
       "<p>19998 rows × 3 columns</p>\n",
       "</div>"
      ],
      "text/plain": [
       "      material_id  band_gap                                          structure\n",
       "0       mp-757220    5.3849  [[6.53586997 0.39866238 2.62533396] Lu, [6.928...\n",
       "1       mp-573369    3.7419  [[ 1.63145925  0.23570193 10.77716588] Cs, [1....\n",
       "2        mp-28967    0.7792  [[4.55529863 5.11963834 2.01471426] Ba, [1.801...\n",
       "3       mp-559295    2.6721  [[0.57211092 2.00312375 5.90744327] Fe, [3.888...\n",
       "4      mp-1293179    0.0000  [[-8.73143724 -5.0599669  -7.23635549] Li, [-2...\n",
       "...           ...       ...                                                ...\n",
       "19993  mp-2715949    1.5098  [[-2.79248853  4.83813866  5.78084703] Na, [6....\n",
       "19994  mp-1207979    0.0000  [[ 1.99364737 -7.0085493   0.        ] U, [1.9...\n",
       "19995  mp-1218689    0.7712  [[2.982158   1.68966376 0.        ] Sr, [ 2.98...\n",
       "19996  mp-2222762    0.0000  [[3.11575461 3.11575461 3.11575461] Sm, [1.341...\n",
       "19997  mp-1247060    0.0535  [[4.52454226 3.10094945 7.83685747] Dy, [4.524...\n",
       "\n",
       "[19998 rows x 3 columns]"
      ]
     },
     "execution_count": 77,
     "metadata": {},
     "output_type": "execute_result"
    }
   ],
   "source": [
    "df"
   ]
  },
  {
   "cell_type": "code",
   "execution_count": 81,
   "metadata": {},
   "outputs": [
    {
     "data": {
      "text/plain": [
       "<module 'mlband.data' from '/Users/ali/GitHub/rewotes/adavaria/mlband/data.py'>"
      ]
     },
     "execution_count": 81,
     "metadata": {},
     "output_type": "execute_result"
    }
   ],
   "source": [
    "importlib.reload(mlband.data)"
   ]
  },
  {
   "cell_type": "code",
   "execution_count": 82,
   "metadata": {},
   "outputs": [
    {
     "name": "stderr",
     "output_type": "stream",
     "text": [
      "/Users/ali/mambaforge/envs/cgcnn/lib/python3.11/site-packages/pymatgen/core/periodic_table.py:120: UserWarning: No Pauling electronegativity for Ar. Setting to NaN. This has no physical meaning, and is mainly done to avoid errors caused by the code expecting a float.\n",
      "  warnings.warn(\n"
     ]
    }
   ],
   "source": [
    "mlband.data.create_dataset(df=df, path='data/mp/')"
   ]
  },
  {
   "cell_type": "code",
   "execution_count": 79,
   "metadata": {},
   "outputs": [
    {
     "data": {
      "image/png": "[encoded data removed]",
      "text/plain": [
       "<Figure size 354.331x218.989 with 1 Axes>"
      ]
     },
     "metadata": {},
     "output_type": "display_data"
    }
   ],
   "source": [
    "ax = df['band_gap'].hist()\n",
    "ax.set_xlabel('Band gap (eV)')\n",
    "ax.set_ylabel('Count')\n",
    "ax.set_title('Band gap distribution in MP')\n",
    "pass"
   ]
  },
  {
   "cell_type": "code",
   "execution_count": 11,
   "metadata": {},
   "outputs": [
    {
     "name": "stderr",
     "output_type": "stream",
     "text": [
      "Retrieving SummaryDoc documents: 100%|██████████| 1000/1000 [00:00<00:00, 35848752.14it/s]\n"
     ]
    }
   ],
   "source": [
    "data = MP.mpr.materials.summary.search(\n",
    "    # chemsys=\"Si-O\", \n",
    "    fields=['material_id', 'composition', 'band_gap', 'structure'],\n",
    "    chunk_size=1000,\n",
    "    num_chunks=1,\n",
    ")\n",
    "\n",
    "df = MP.mp_summary_to_df(data)"
   ]
  },
  {
   "cell_type": "code",
   "execution_count": 85,
   "metadata": {},
   "outputs": [
    {
     "name": "stdout",
     "output_type": "stream",
     "text": [
      "Number of missing values:  0\n"
     ]
    }
   ],
   "source": [
    "# Checking the missing values\n",
    "ind = ~(df['band_gap'] >= 0)\n",
    "print('Number of missing values: ', ind.sum())\n",
    "# Drop the missing values\n",
    "df = df.loc[~ind, :]\n",
    "# Reset the index\n",
    "df.reset_index(drop=True, inplace=True)"
   ]
  },
  {
   "cell_type": "code",
   "execution_count": 55,
   "metadata": {},
   "outputs": [],
   "source": [
    "df.to_pickle('data/mp.pkl')"
   ]
  }
 ],
 "metadata": {
  "kernelspec": {
   "display_name": "py38",
   "language": "python",
   "name": "python3"
  },
  "language_info": {
   "codemirror_mode": {
    "name": "ipython",
    "version": 3
   },
   "file_extension": ".py",
   "mimetype": "text/x-python",
   "name": "python",
   "nbconvert_exporter": "python",
   "pygments_lexer": "ipython3",
   "version": "3.11.6"
  }
 },
 "nbformat": 4,
 "nbformat_minor": 2
}
