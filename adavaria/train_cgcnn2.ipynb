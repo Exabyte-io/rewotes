{
 "cells": [
  {
   "cell_type": "code",
   "execution_count": 2,
   "metadata": {},
   "outputs": [],
   "source": [
    "from mlband.imports import *\n"
   ]
  },
  {
   "cell_type": "code",
   "execution_count": 3,
   "metadata": {},
   "outputs": [],
   "source": [
    "import mlband.data\n",
    "import mlband.model\n",
    "import mlband.main"
   ]
  },
  {
   "cell_type": "code",
   "execution_count": 5,
   "metadata": {},
   "outputs": [],
   "source": [
    "# Replace sys.argv with the arguments you want to pass\n",
    "# sys.argv = ['main.py', './data/mp/', '--disable-cuda', '--workers', '4']\n",
    "\n"
   ]
  },
  {
   "cell_type": "code",
   "execution_count": 6,
   "metadata": {},
   "outputs": [],
   "source": [
    "# sys.path.append(Path('./cgcnn/').absolute().__str__())"
   ]
  },
  {
   "cell_type": "code",
   "execution_count": 7,
   "metadata": {},
   "outputs": [
    {
     "data": {
      "text/plain": [
       "['/Users/ali/GitHub/rewotes/adavaria',\n",
       " '/Users/ali/mambaforge/envs/cgcnn/lib/python311.zip',\n",
       " '/Users/ali/mambaforge/envs/cgcnn/lib/python3.11',\n",
       " '/Users/ali/mambaforge/envs/cgcnn/lib/python3.11/lib-dynload',\n",
       " '',\n",
       " '/Users/ali/mambaforge/envs/cgcnn/lib/python3.11/site-packages',\n",
       " '/Users/ali/GitHub/rewotes/adavaria/cgcnn']"
      ]
     },
     "execution_count": 7,
     "metadata": {},
     "output_type": "execute_result"
    }
   ],
   "source": [
    "sys.path"
   ]
  },
  {
   "cell_type": "code",
   "execution_count": 8,
   "metadata": {},
   "outputs": [
    {
     "name": "stdout",
     "output_type": "stream",
     "text": [
      "Preparing the config...\n",
      "Downloading the data from MP...\n",
      "Creating the dataset...\n",
      "Creating the physical features...\n",
      "Creating and training the model...\n",
      "Training the model...\n",
      "Epoch: [0][0/13]\tTime 5.923 (5.923)\tData 4.374 (4.374)\tLoss 0.9585 (0.9585)\tMAE 1.313 (1.313)\n",
      "Epoch: [0][10/13]\tTime 0.238 (0.928)\tData 0.002 (0.404)\tLoss 0.9098 (1.3264)\tMAE 1.249 (1.412)\n",
      "Test: [0/2]\tTime 3.532 (3.532)\tLoss 1.2315 (1.2315)\tMAE 1.544 (1.544)\n",
      "* MAE 1.514\n",
      "Epoch: [1][0/13]\tTime 5.337 (5.337)\tData 3.637 (3.637)\tLoss 0.6114 (0.6114)\tMAE 1.051 (1.051)\n",
      "Epoch: [1][10/13]\tTime 0.138 (0.900)\tData 0.000 (0.332)\tLoss 0.7168 (0.7648)\tMAE 1.118 (1.032)\n",
      "Test: [0/2]\tTime 3.380 (3.380)\tLoss 1.0128 (1.0128)\tMAE 1.380 (1.380)\n",
      "* MAE 1.309\n",
      "Epoch: [2][0/13]\tTime 4.996 (4.996)\tData 3.423 (3.423)\tLoss 0.6594 (0.6594)\tMAE 0.917 (0.917)\n",
      "Epoch: [2][10/13]\tTime 0.169 (0.943)\tData 0.000 (0.314)\tLoss 0.4646 (0.6085)\tMAE 0.885 (0.965)\n",
      "Test: [0/2]\tTime 3.827 (3.827)\tLoss 0.6977 (0.6977)\tMAE 0.989 (0.989)\n",
      "* MAE 1.011\n",
      "Epoch: [3][0/13]\tTime 4.677 (4.677)\tData 3.529 (3.529)\tLoss 0.4568 (0.4568)\tMAE 0.823 (0.823)\n",
      "Epoch: [3][10/13]\tTime 0.238 (0.934)\tData 0.002 (0.323)\tLoss 0.7413 (0.5797)\tMAE 1.006 (0.880)\n",
      "Test: [0/2]\tTime 3.653 (3.653)\tLoss 0.7442 (0.7442)\tMAE 1.121 (1.121)\n",
      "* MAE 1.063\n",
      "Epoch: [4][0/13]\tTime 4.761 (4.761)\tData 3.373 (3.373)\tLoss 0.5609 (0.5609)\tMAE 0.971 (0.971)\n",
      "Epoch: [4][10/13]\tTime 0.133 (0.948)\tData 0.000 (0.308)\tLoss 0.7483 (0.5223)\tMAE 0.969 (0.847)\n",
      "Test: [0/2]\tTime 3.834 (3.834)\tLoss 0.7456 (0.7456)\tMAE 0.929 (0.929)\n",
      "* MAE 0.965\n",
      "Epoch: [5][0/13]\tTime 7.683 (7.683)\tData 5.547 (5.547)\tLoss 0.4373 (0.4373)\tMAE 0.799 (0.799)\n",
      "Epoch: [5][10/13]\tTime 0.366 (1.327)\tData 0.002 (0.507)\tLoss 0.6062 (0.5061)\tMAE 0.815 (0.833)\n",
      "Test: [0/2]\tTime 3.836 (3.836)\tLoss 0.9436 (0.9436)\tMAE 1.211 (1.211)\n",
      "* MAE 1.126\n",
      "Epoch: [6][0/13]\tTime 5.548 (5.548)\tData 3.679 (3.679)\tLoss 0.5773 (0.5773)\tMAE 0.876 (0.876)\n",
      "Epoch: [6][10/13]\tTime 0.232 (1.001)\tData 0.003 (0.337)\tLoss 0.4767 (0.5227)\tMAE 0.812 (0.857)\n",
      "Test: [0/2]\tTime 3.761 (3.761)\tLoss 0.7235 (0.7235)\tMAE 0.900 (0.900)\n",
      "* MAE 0.977\n",
      "Epoch: [7][0/13]\tTime 5.303 (5.303)\tData 3.642 (3.642)\tLoss 0.6710 (0.6710)\tMAE 1.007 (1.007)\n",
      "Epoch: [7][10/13]\tTime 0.373 (1.237)\tData 0.002 (0.333)\tLoss 0.4296 (0.4384)\tMAE 0.760 (0.760)\n",
      "Test: [0/2]\tTime 4.167 (4.167)\tLoss 0.4972 (0.4972)\tMAE 0.827 (0.827)\n",
      "* MAE 0.886\n",
      "Epoch: [8][0/13]\tTime 5.183 (5.183)\tData 3.586 (3.586)\tLoss 0.3656 (0.3656)\tMAE 0.678 (0.678)\n",
      "Epoch: [8][10/13]\tTime 0.303 (1.099)\tData 0.000 (0.329)\tLoss 0.2548 (0.3974)\tMAE 0.607 (0.722)\n",
      "Test: [0/2]\tTime 4.386 (4.386)\tLoss 0.5846 (0.5846)\tMAE 0.885 (0.885)\n",
      "* MAE 0.883\n",
      "Epoch: [9][0/13]\tTime 5.480 (5.480)\tData 3.942 (3.942)\tLoss 0.2957 (0.2957)\tMAE 0.648 (0.648)\n",
      "Epoch: [9][10/13]\tTime 0.188 (1.114)\tData 0.002 (0.361)\tLoss 0.3570 (0.3597)\tMAE 0.676 (0.701)\n",
      "Test: [0/2]\tTime 3.712 (3.712)\tLoss 0.6654 (0.6654)\tMAE 0.914 (0.914)\n",
      "* MAE 0.907\n",
      "Epoch: [10][0/13]\tTime 6.023 (6.023)\tData 4.289 (4.289)\tLoss 0.4349 (0.4349)\tMAE 0.783 (0.783)\n",
      "Epoch: [10][10/13]\tTime 0.298 (1.176)\tData 0.002 (0.393)\tLoss 0.6067 (0.4381)\tMAE 0.840 (0.740)\n",
      "Test: [0/2]\tTime 4.193 (4.193)\tLoss 0.6415 (0.6415)\tMAE 0.937 (0.937)\n",
      "* MAE 0.942\n",
      "Epoch: [11][0/13]\tTime 5.166 (5.166)\tData 3.757 (3.757)\tLoss 0.4209 (0.4209)\tMAE 0.814 (0.814)\n",
      "Epoch: [11][10/13]\tTime 0.172 (0.969)\tData 0.000 (0.344)\tLoss 0.3177 (0.4067)\tMAE 0.625 (0.740)\n",
      "Test: [0/2]\tTime 3.700 (3.700)\tLoss 0.6178 (0.6178)\tMAE 0.991 (0.991)\n",
      "* MAE 0.956\n",
      "Epoch: [12][0/13]\tTime 5.573 (5.573)\tData 3.811 (3.811)\tLoss 0.3984 (0.3984)\tMAE 0.827 (0.827)\n",
      "Epoch: [12][10/13]\tTime 0.136 (0.971)\tData 0.000 (0.348)\tLoss 0.3230 (0.3665)\tMAE 0.590 (0.716)\n",
      "Test: [0/2]\tTime 3.757 (3.757)\tLoss 0.6057 (0.6057)\tMAE 0.898 (0.898)\n",
      "* MAE 0.926\n",
      "Epoch: [13][0/13]\tTime 7.702 (7.702)\tData 5.396 (5.396)\tLoss 0.2149 (0.2149)\tMAE 0.521 (0.521)\n",
      "Epoch: [13][10/13]\tTime 0.123 (1.497)\tData 0.000 (0.493)\tLoss 0.4968 (0.3636)\tMAE 0.789 (0.677)\n",
      "Test: [0/2]\tTime 3.983 (3.983)\tLoss 0.6516 (0.6516)\tMAE 0.972 (0.972)\n",
      "* MAE 0.965\n",
      "Epoch: [14][0/13]\tTime 6.663 (6.663)\tData 4.474 (4.474)\tLoss 0.3590 (0.3590)\tMAE 0.713 (0.713)\n",
      "Epoch: [14][10/13]\tTime 0.606 (1.259)\tData 0.000 (0.410)\tLoss 0.4167 (0.3658)\tMAE 0.712 (0.720)\n",
      "Test: [0/2]\tTime 3.638 (3.638)\tLoss 0.5191 (0.5191)\tMAE 0.810 (0.810)\n",
      "* MAE 0.910\n",
      "Epoch: [15][0/13]\tTime 5.872 (5.872)\tData 4.181 (4.181)\tLoss 0.3536 (0.3536)\tMAE 0.714 (0.714)\n",
      "Epoch: [15][10/13]\tTime 0.198 (0.982)\tData 0.002 (0.382)\tLoss 0.4522 (0.4208)\tMAE 0.798 (0.780)\n",
      "Test: [0/2]\tTime 3.564 (3.564)\tLoss 1.5308 (1.5308)\tMAE 1.212 (1.212)\n",
      "* MAE 1.175\n",
      "Epoch: [16][0/13]\tTime 5.984 (5.984)\tData 4.390 (4.390)\tLoss 0.3742 (0.3742)\tMAE 0.689 (0.689)\n",
      "Epoch: [16][10/13]\tTime 0.670 (1.451)\tData 0.002 (0.402)\tLoss 0.4124 (0.4237)\tMAE 0.788 (0.721)\n",
      "Test: [0/2]\tTime 4.585 (4.585)\tLoss 0.5248 (0.5248)\tMAE 0.937 (0.937)\n",
      "* MAE 0.937\n",
      "Epoch: [17][0/13]\tTime 5.651 (5.651)\tData 4.573 (4.573)\tLoss 0.5167 (0.5167)\tMAE 0.799 (0.799)\n",
      "Epoch: [17][10/13]\tTime 0.137 (1.009)\tData 0.002 (0.419)\tLoss 0.3161 (0.3352)\tMAE 0.630 (0.681)\n",
      "Test: [0/2]\tTime 4.679 (4.679)\tLoss 0.5788 (0.5788)\tMAE 0.814 (0.814)\n",
      "* MAE 0.888\n",
      "Epoch: [18][0/13]\tTime 5.529 (5.529)\tData 3.908 (3.908)\tLoss 0.2431 (0.2431)\tMAE 0.573 (0.573)\n",
      "Epoch: [18][10/13]\tTime 0.167 (0.943)\tData 0.002 (0.357)\tLoss 0.3927 (0.3628)\tMAE 0.783 (0.675)\n",
      "Test: [0/2]\tTime 3.762 (3.762)\tLoss 0.5709 (0.5709)\tMAE 0.888 (0.888)\n",
      "* MAE 0.899\n",
      "Epoch: [19][0/13]\tTime 8.987 (8.987)\tData 6.089 (6.089)\tLoss 0.2757 (0.2757)\tMAE 0.617 (0.617)\n",
      "Epoch: [19][10/13]\tTime 0.225 (1.713)\tData 0.002 (0.562)\tLoss 0.3336 (0.3112)\tMAE 0.646 (0.634)\n",
      "Test: [0/2]\tTime 3.768 (3.768)\tLoss 0.4586 (0.4586)\tMAE 0.829 (0.829)\n",
      "* MAE 0.850\n",
      "Epoch: [20][0/13]\tTime 6.070 (6.070)\tData 4.025 (4.025)\tLoss 0.2952 (0.2952)\tMAE 0.665 (0.665)\n",
      "Epoch: [20][10/13]\tTime 0.167 (1.051)\tData 0.002 (0.369)\tLoss 0.3228 (0.2744)\tMAE 0.647 (0.604)\n",
      "Test: [0/2]\tTime 3.840 (3.840)\tLoss 0.5118 (0.5118)\tMAE 0.827 (0.827)\n",
      "* MAE 0.829\n",
      "Epoch: [21][0/13]\tTime 4.440 (4.440)\tData 3.419 (3.419)\tLoss 0.2831 (0.2831)\tMAE 0.588 (0.588)\n",
      "Epoch: [21][10/13]\tTime 0.222 (0.945)\tData 0.000 (0.314)\tLoss 0.3663 (0.2757)\tMAE 0.623 (0.608)\n",
      "Test: [0/2]\tTime 3.662 (3.662)\tLoss 0.6278 (0.6278)\tMAE 0.938 (0.938)\n",
      "* MAE 0.907\n",
      "Epoch: [22][0/13]\tTime 4.786 (4.786)\tData 3.476 (3.476)\tLoss 0.3243 (0.3243)\tMAE 0.594 (0.594)\n",
      "Epoch: [22][10/13]\tTime 0.152 (1.077)\tData 0.002 (0.319)\tLoss 0.2563 (0.3213)\tMAE 0.594 (0.623)\n",
      "Test: [0/2]\tTime 4.001 (4.001)\tLoss 0.6488 (0.6488)\tMAE 0.880 (0.880)\n",
      "* MAE 0.864\n",
      "Epoch: [23][0/13]\tTime 5.092 (5.092)\tData 3.818 (3.818)\tLoss 0.3546 (0.3546)\tMAE 0.690 (0.690)\n",
      "Epoch: [23][10/13]\tTime 0.194 (0.946)\tData 0.000 (0.350)\tLoss 0.3231 (0.3103)\tMAE 0.688 (0.632)\n",
      "Test: [0/2]\tTime 3.559 (3.559)\tLoss 0.6042 (0.6042)\tMAE 0.891 (0.891)\n",
      "* MAE 0.944\n",
      "Epoch: [24][0/13]\tTime 5.719 (5.719)\tData 4.165 (4.165)\tLoss 0.2468 (0.2468)\tMAE 0.614 (0.614)\n",
      "Epoch: [24][10/13]\tTime 0.555 (1.200)\tData 0.000 (0.382)\tLoss 0.2497 (0.3224)\tMAE 0.681 (0.680)\n",
      "Test: [0/2]\tTime 4.001 (4.001)\tLoss 0.4883 (0.4883)\tMAE 0.839 (0.839)\n",
      "* MAE 0.895\n",
      "Epoch: [25][0/13]\tTime 5.970 (5.970)\tData 4.226 (4.226)\tLoss 0.4284 (0.4284)\tMAE 0.743 (0.743)\n",
      "Epoch: [25][10/13]\tTime 0.194 (0.970)\tData 0.002 (0.386)\tLoss 0.4231 (0.3268)\tMAE 0.806 (0.657)\n",
      "Test: [0/2]\tTime 3.604 (3.604)\tLoss 0.6142 (0.6142)\tMAE 0.915 (0.915)\n",
      "* MAE 0.912\n",
      "Epoch: [26][0/13]\tTime 5.117 (5.117)\tData 3.820 (3.820)\tLoss 0.2088 (0.2088)\tMAE 0.561 (0.561)\n",
      "Epoch: [26][10/13]\tTime 0.218 (0.937)\tData 0.000 (0.349)\tLoss 0.2029 (0.2957)\tMAE 0.507 (0.618)\n",
      "Test: [0/2]\tTime 3.931 (3.931)\tLoss 0.8521 (0.8521)\tMAE 0.931 (0.931)\n",
      "* MAE 0.869\n",
      "Epoch: [27][0/13]\tTime 5.105 (5.105)\tData 4.086 (4.086)\tLoss 0.3370 (0.3370)\tMAE 0.716 (0.716)\n",
      "Epoch: [27][10/13]\tTime 0.180 (0.885)\tData 0.002 (0.373)\tLoss 0.4370 (0.2860)\tMAE 0.733 (0.623)\n",
      "Test: [0/2]\tTime 3.815 (3.815)\tLoss 0.4915 (0.4915)\tMAE 0.763 (0.763)\n",
      "* MAE 0.824\n",
      "Epoch: [28][0/13]\tTime 5.059 (5.059)\tData 3.715 (3.715)\tLoss 0.2403 (0.2403)\tMAE 0.581 (0.581)\n",
      "Epoch: [28][10/13]\tTime 0.138 (0.896)\tData 0.000 (0.341)\tLoss 0.3775 (0.3121)\tMAE 0.650 (0.611)\n",
      "Test: [0/2]\tTime 3.675 (3.675)\tLoss 0.4803 (0.4803)\tMAE 0.849 (0.849)\n",
      "* MAE 0.879\n",
      "Epoch: [29][0/13]\tTime 4.756 (4.756)\tData 3.433 (3.433)\tLoss 0.2848 (0.2848)\tMAE 0.623 (0.623)\n",
      "Epoch: [29][10/13]\tTime 0.210 (0.992)\tData 0.000 (0.317)\tLoss 0.3634 (0.2475)\tMAE 0.601 (0.570)\n",
      "Test: [0/2]\tTime 3.893 (3.893)\tLoss 0.6896 (0.6896)\tMAE 0.877 (0.877)\n",
      "* MAE 0.848\n",
      "---------Evaluate Model on Test Set---------------\n",
      "Test: [0/2]\tTime 3.092 (3.092)\tLoss 0.5646 (0.5646)\tMAE 0.727 (0.727)\n",
      "** MAE 0.680\n",
      "Training and test evaluation completed!\n",
      "Evaluating the training set...\n",
      "Evaluating the train set...\n",
      "Saving the predictions to results/test-1/predictions_train.csv\n",
      "MSE for train set: 0.5237\n",
      "Evaluating the val set...\n",
      "Saving the predictions to results/test-1/predictions_val.csv\n",
      "MSE for val set: 1.3904\n",
      "Evaluating the test set...\n",
      "Saving the predictions to results/test-1/predictions_test.csv\n",
      "MSE for test set: 1.3775\n"
     ]
    }
   ],
   "source": [
    "mlband.main.main()"
   ]
  },
  {
   "cell_type": "code",
   "execution_count": 15,
   "metadata": {},
   "outputs": [],
   "source": [
    "# There is no index and header in the csv file\n",
    "# df = pd.read_csv('./data/mp/id_prop.csv', index_col=None, header=None)\n",
    "#Save it again with no index and header\n",
    "# df.to_csv('./data/mp/id_prop_org.csv', index=False, header=False)\n",
    "# df.to_csv('./data/mp/id_prop.csv', index=False, header=False)\n",
    "# df[:100].to_csv('./data/mp/id_prop.csv', index=False, header=False)"
   ]
  },
  {
   "cell_type": "code",
   "execution_count": 26,
   "metadata": {},
   "outputs": [
    {
     "name": "stdout",
     "output_type": "stream",
     "text": [
      "[Warning] train_ratio is None, using 1 - val_ratio - test_ratio = 0.8 as training data.\n"
     ]
    },
    {
     "name": "stderr",
     "output_type": "stream",
     "text": [
      "<string>:117: UserWarning: Dataset has less than 500 data points. Lower accuracy is expected. \n",
      "/Users/ali/mambaforge/envs/cgcnn/lib/python3.11/site-packages/pymatgen/io/cif.py:1186: UserWarning: The default value of primitive was changed from True to False in https://github.com/materialsproject/pymatgen/pull/3419. CifParser now returns the cell in the CIF file as is. If you want the primitive cell, please set primitive=True explicitly.\n",
      "  warnings.warn(\n",
      "/Users/ali/mambaforge/envs/cgcnn/lib/python3.11/site-packages/pymatgen/io/cif.py:1219: UserWarning: Issues encountered while parsing CIF: 4 fractional coordinates rounded to ideal values to avoid issues with finite precision.\n",
      "  warnings.warn(\"Issues encountered while parsing CIF: \" + \"\\n\".join(self.warnings))\n",
      "/Users/ali/mambaforge/envs/cgcnn/lib/python3.11/site-packages/pymatgen/io/cif.py:1219: UserWarning: Issues encountered while parsing CIF: 1 fractional coordinates rounded to ideal values to avoid issues with finite precision.\n",
      "  warnings.warn(\"Issues encountered while parsing CIF: \" + \"\\n\".join(self.warnings))\n",
      "/Users/ali/mambaforge/envs/cgcnn/lib/python3.11/site-packages/pymatgen/io/cif.py:1219: UserWarning: Issues encountered while parsing CIF: 8 fractional coordinates rounded to ideal values to avoid issues with finite precision.\n",
      "  warnings.warn(\"Issues encountered while parsing CIF: \" + \"\\n\".join(self.warnings))\n",
      "/Users/ali/mambaforge/envs/cgcnn/lib/python3.11/site-packages/pymatgen/io/cif.py:1219: UserWarning: Issues encountered while parsing CIF: 24 fractional coordinates rounded to ideal values to avoid issues with finite precision.\n",
      "  warnings.warn(\"Issues encountered while parsing CIF: \" + \"\\n\".join(self.warnings))\n",
      "/Users/ali/GitHub/rewotes/adavaria/cgcnn/cgcnn/data.py:333: UserWarning: mp-1096590 not find enough neighbors to build graph. If it happens frequently, consider increase radius.\n",
      "  warnings.warn('{} not find enough neighbors to build graph. '\n",
      "/Users/ali/GitHub/rewotes/adavaria/cgcnn/cgcnn/data.py:333: UserWarning: mp-1095862 not find enough neighbors to build graph. If it happens frequently, consider increase radius.\n",
      "  warnings.warn('{} not find enough neighbors to build graph. '\n",
      "/Users/ali/GitHub/rewotes/adavaria/cgcnn/cgcnn/data.py:333: UserWarning: mp-1096735 not find enough neighbors to build graph. If it happens frequently, consider increase radius.\n",
      "  warnings.warn('{} not find enough neighbors to build graph. '\n",
      "/Users/ali/GitHub/rewotes/adavaria/cgcnn/cgcnn/data.py:333: UserWarning: mp-1097393 not find enough neighbors to build graph. If it happens frequently, consider increase radius.\n",
      "  warnings.warn('{} not find enough neighbors to build graph. '\n",
      "/Users/ali/GitHub/rewotes/adavaria/cgcnn/cgcnn/data.py:333: UserWarning: mp-1096736 not find enough neighbors to build graph. If it happens frequently, consider increase radius.\n",
      "  warnings.warn('{} not find enough neighbors to build graph. '\n",
      "/Users/ali/mambaforge/envs/cgcnn/lib/python3.11/site-packages/pymatgen/io/cif.py:1186: UserWarning: The default value of primitive was changed from True to False in https://github.com/materialsproject/pymatgen/pull/3419. CifParser now returns the cell in the CIF file as is. If you want the primitive cell, please set primitive=True explicitly.\n",
      "  warnings.warn(\n",
      "/Users/ali/mambaforge/envs/cgcnn/lib/python3.11/site-packages/pymatgen/io/cif.py:1219: UserWarning: Issues encountered while parsing CIF: 8 fractional coordinates rounded to ideal values to avoid issues with finite precision.\n",
      "  warnings.warn(\"Issues encountered while parsing CIF: \" + \"\\n\".join(self.warnings))\n",
      "/Users/ali/mambaforge/envs/cgcnn/lib/python3.11/site-packages/pymatgen/io/cif.py:1219: UserWarning: Issues encountered while parsing CIF: 4 fractional coordinates rounded to ideal values to avoid issues with finite precision.\n",
      "  warnings.warn(\"Issues encountered while parsing CIF: \" + \"\\n\".join(self.warnings))\n",
      "/Users/ali/mambaforge/envs/cgcnn/lib/python3.11/site-packages/pymatgen/io/cif.py:1219: UserWarning: Issues encountered while parsing CIF: 1 fractional coordinates rounded to ideal values to avoid issues with finite precision.\n",
      "  warnings.warn(\"Issues encountered while parsing CIF: \" + \"\\n\".join(self.warnings))\n",
      "/Users/ali/mambaforge/envs/cgcnn/lib/python3.11/site-packages/pymatgen/io/cif.py:1219: UserWarning: Issues encountered while parsing CIF: 24 fractional coordinates rounded to ideal values to avoid issues with finite precision.\n",
      "  warnings.warn(\"Issues encountered while parsing CIF: \" + \"\\n\".join(self.warnings))\n",
      "/Users/ali/GitHub/rewotes/adavaria/cgcnn/cgcnn/data.py:333: UserWarning: mp-1096590 not find enough neighbors to build graph. If it happens frequently, consider increase radius.\n",
      "  warnings.warn('{} not find enough neighbors to build graph. '\n",
      "/Users/ali/GitHub/rewotes/adavaria/cgcnn/cgcnn/data.py:333: UserWarning: mp-1095862 not find enough neighbors to build graph. If it happens frequently, consider increase radius.\n",
      "  warnings.warn('{} not find enough neighbors to build graph. '\n",
      "/Users/ali/GitHub/rewotes/adavaria/cgcnn/cgcnn/data.py:333: UserWarning: mp-1096735 not find enough neighbors to build graph. If it happens frequently, consider increase radius.\n",
      "  warnings.warn('{} not find enough neighbors to build graph. '\n",
      "/Users/ali/GitHub/rewotes/adavaria/cgcnn/cgcnn/data.py:333: UserWarning: mp-1097393 not find enough neighbors to build graph. If it happens frequently, consider increase radius.\n",
      "  warnings.warn('{} not find enough neighbors to build graph. '\n"
     ]
    },
    {
     "name": "stdout",
     "output_type": "stream",
     "text": [
      "Epoch: [0][0/1]\tTime 3.851 (3.851)\tData 3.434 (3.434)\tLoss 2.5725 (2.5725)\tMAE 2.383 (2.383)\n"
     ]
    },
    {
     "name": "stderr",
     "output_type": "stream",
     "text": [
      "/Users/ali/mambaforge/envs/cgcnn/lib/python3.11/site-packages/pymatgen/io/cif.py:1186: UserWarning: The default value of primitive was changed from True to False in https://github.com/materialsproject/pymatgen/pull/3419. CifParser now returns the cell in the CIF file as is. If you want the primitive cell, please set primitive=True explicitly.\n",
      "  warnings.warn(\n",
      "/Users/ali/GitHub/rewotes/adavaria/cgcnn/cgcnn/data.py:333: UserWarning: mp-1096736 not find enough neighbors to build graph. If it happens frequently, consider increase radius.\n",
      "  warnings.warn('{} not find enough neighbors to build graph. '\n"
     ]
    },
    {
     "name": "stdout",
     "output_type": "stream",
     "text": [
      "Test: [0/1]\tTime 1.866 (1.866)\tLoss 315.8683 (315.8683)\tMAE 29.184 (29.184)\n",
      " * MAE 29.184\n"
     ]
    },
    {
     "name": "stderr",
     "output_type": "stream",
     "text": [
      "/Users/ali/mambaforge/envs/cgcnn/lib/python3.11/site-packages/pymatgen/io/cif.py:1186: UserWarning: The default value of primitive was changed from True to False in https://github.com/materialsproject/pymatgen/pull/3419. CifParser now returns the cell in the CIF file as is. If you want the primitive cell, please set primitive=True explicitly.\n",
      "  warnings.warn(\n",
      "/Users/ali/mambaforge/envs/cgcnn/lib/python3.11/site-packages/pymatgen/io/cif.py:1219: UserWarning: Issues encountered while parsing CIF: 4 fractional coordinates rounded to ideal values to avoid issues with finite precision.\n",
      "  warnings.warn(\"Issues encountered while parsing CIF: \" + \"\\n\".join(self.warnings))\n",
      "/Users/ali/mambaforge/envs/cgcnn/lib/python3.11/site-packages/pymatgen/io/cif.py:1219: UserWarning: Issues encountered while parsing CIF: 8 fractional coordinates rounded to ideal values to avoid issues with finite precision.\n",
      "  warnings.warn(\"Issues encountered while parsing CIF: \" + \"\\n\".join(self.warnings))\n",
      "/Users/ali/GitHub/rewotes/adavaria/cgcnn/cgcnn/data.py:333: UserWarning: mp-1096735 not find enough neighbors to build graph. If it happens frequently, consider increase radius.\n",
      "  warnings.warn('{} not find enough neighbors to build graph. '\n",
      "/Users/ali/mambaforge/envs/cgcnn/lib/python3.11/site-packages/pymatgen/io/cif.py:1219: UserWarning: Issues encountered while parsing CIF: 1 fractional coordinates rounded to ideal values to avoid issues with finite precision.\n",
      "  warnings.warn(\"Issues encountered while parsing CIF: \" + \"\\n\".join(self.warnings))\n",
      "/Users/ali/mambaforge/envs/cgcnn/lib/python3.11/site-packages/pymatgen/io/cif.py:1219: UserWarning: Issues encountered while parsing CIF: 24 fractional coordinates rounded to ideal values to avoid issues with finite precision.\n",
      "  warnings.warn(\"Issues encountered while parsing CIF: \" + \"\\n\".join(self.warnings))\n",
      "/Users/ali/GitHub/rewotes/adavaria/cgcnn/cgcnn/data.py:333: UserWarning: mp-1097393 not find enough neighbors to build graph. If it happens frequently, consider increase radius.\n",
      "  warnings.warn('{} not find enough neighbors to build graph. '\n",
      "/Users/ali/GitHub/rewotes/adavaria/cgcnn/cgcnn/data.py:333: UserWarning: mp-1096590 not find enough neighbors to build graph. If it happens frequently, consider increase radius.\n",
      "  warnings.warn('{} not find enough neighbors to build graph. '\n",
      "/Users/ali/GitHub/rewotes/adavaria/cgcnn/cgcnn/data.py:333: UserWarning: mp-1095862 not find enough neighbors to build graph. If it happens frequently, consider increase radius.\n",
      "  warnings.warn('{} not find enough neighbors to build graph. '\n"
     ]
    },
    {
     "name": "stdout",
     "output_type": "stream",
     "text": [
      "Epoch: [1][0/1]\tTime 3.291 (3.291)\tData 2.971 (2.971)\tLoss 12.6239 (12.6239)\tMAE 5.594 (5.594)\n"
     ]
    },
    {
     "name": "stderr",
     "output_type": "stream",
     "text": [
      "/Users/ali/mambaforge/envs/cgcnn/lib/python3.11/site-packages/pymatgen/io/cif.py:1186: UserWarning: The default value of primitive was changed from True to False in https://github.com/materialsproject/pymatgen/pull/3419. CifParser now returns the cell in the CIF file as is. If you want the primitive cell, please set primitive=True explicitly.\n",
      "  warnings.warn(\n",
      "/Users/ali/GitHub/rewotes/adavaria/cgcnn/cgcnn/data.py:333: UserWarning: mp-1096736 not find enough neighbors to build graph. If it happens frequently, consider increase radius.\n",
      "  warnings.warn('{} not find enough neighbors to build graph. '\n"
     ]
    },
    {
     "name": "stdout",
     "output_type": "stream",
     "text": [
      "Test: [0/1]\tTime 1.959 (1.959)\tLoss 103.8997 (103.8997)\tMAE 16.678 (16.678)\n",
      " * MAE 16.678\n"
     ]
    },
    {
     "name": "stderr",
     "output_type": "stream",
     "text": [
      "/Users/ali/mambaforge/envs/cgcnn/lib/python3.11/site-packages/pymatgen/io/cif.py:1186: UserWarning: The default value of primitive was changed from True to False in https://github.com/materialsproject/pymatgen/pull/3419. CifParser now returns the cell in the CIF file as is. If you want the primitive cell, please set primitive=True explicitly.\n",
      "  warnings.warn(\n",
      "/Users/ali/mambaforge/envs/cgcnn/lib/python3.11/site-packages/pymatgen/io/cif.py:1219: UserWarning: Issues encountered while parsing CIF: 8 fractional coordinates rounded to ideal values to avoid issues with finite precision.\n",
      "  warnings.warn(\"Issues encountered while parsing CIF: \" + \"\\n\".join(self.warnings))\n",
      "/Users/ali/mambaforge/envs/cgcnn/lib/python3.11/site-packages/pymatgen/io/cif.py:1219: UserWarning: Issues encountered while parsing CIF: 4 fractional coordinates rounded to ideal values to avoid issues with finite precision.\n",
      "  warnings.warn(\"Issues encountered while parsing CIF: \" + \"\\n\".join(self.warnings))\n",
      "/Users/ali/mambaforge/envs/cgcnn/lib/python3.11/site-packages/pymatgen/io/cif.py:1219: UserWarning: Issues encountered while parsing CIF: 1 fractional coordinates rounded to ideal values to avoid issues with finite precision.\n",
      "  warnings.warn(\"Issues encountered while parsing CIF: \" + \"\\n\".join(self.warnings))\n",
      "/Users/ali/GitHub/rewotes/adavaria/cgcnn/cgcnn/data.py:333: UserWarning: mp-1096590 not find enough neighbors to build graph. If it happens frequently, consider increase radius.\n",
      "  warnings.warn('{} not find enough neighbors to build graph. '\n",
      "/Users/ali/mambaforge/envs/cgcnn/lib/python3.11/site-packages/pymatgen/io/cif.py:1219: UserWarning: Issues encountered while parsing CIF: 24 fractional coordinates rounded to ideal values to avoid issues with finite precision.\n",
      "  warnings.warn(\"Issues encountered while parsing CIF: \" + \"\\n\".join(self.warnings))\n",
      "/Users/ali/GitHub/rewotes/adavaria/cgcnn/cgcnn/data.py:333: UserWarning: mp-1097393 not find enough neighbors to build graph. If it happens frequently, consider increase radius.\n",
      "  warnings.warn('{} not find enough neighbors to build graph. '\n",
      "/Users/ali/GitHub/rewotes/adavaria/cgcnn/cgcnn/data.py:333: UserWarning: mp-1096735 not find enough neighbors to build graph. If it happens frequently, consider increase radius.\n",
      "  warnings.warn('{} not find enough neighbors to build graph. '\n",
      "/Users/ali/GitHub/rewotes/adavaria/cgcnn/cgcnn/data.py:333: UserWarning: mp-1095862 not find enough neighbors to build graph. If it happens frequently, consider increase radius.\n",
      "  warnings.warn('{} not find enough neighbors to build graph. '\n"
     ]
    },
    {
     "name": "stdout",
     "output_type": "stream",
     "text": [
      "Epoch: [2][0/1]\tTime 3.317 (3.317)\tData 3.074 (3.074)\tLoss 14.7207 (14.7207)\tMAE 6.107 (6.107)\n"
     ]
    },
    {
     "name": "stderr",
     "output_type": "stream",
     "text": [
      "/Users/ali/mambaforge/envs/cgcnn/lib/python3.11/site-packages/pymatgen/io/cif.py:1186: UserWarning: The default value of primitive was changed from True to False in https://github.com/materialsproject/pymatgen/pull/3419. CifParser now returns the cell in the CIF file as is. If you want the primitive cell, please set primitive=True explicitly.\n",
      "  warnings.warn(\n",
      "/Users/ali/GitHub/rewotes/adavaria/cgcnn/cgcnn/data.py:333: UserWarning: mp-1096736 not find enough neighbors to build graph. If it happens frequently, consider increase radius.\n",
      "  warnings.warn('{} not find enough neighbors to build graph. '\n"
     ]
    },
    {
     "name": "stdout",
     "output_type": "stream",
     "text": [
      "Test: [0/1]\tTime 1.951 (1.951)\tLoss 3.1366 (3.1366)\tMAE 2.834 (2.834)\n",
      " * MAE 2.834\n"
     ]
    },
    {
     "name": "stderr",
     "output_type": "stream",
     "text": [
      "/Users/ali/mambaforge/envs/cgcnn/lib/python3.11/site-packages/pymatgen/io/cif.py:1186: UserWarning: The default value of primitive was changed from True to False in https://github.com/materialsproject/pymatgen/pull/3419. CifParser now returns the cell in the CIF file as is. If you want the primitive cell, please set primitive=True explicitly.\n",
      "  warnings.warn(\n",
      "/Users/ali/mambaforge/envs/cgcnn/lib/python3.11/site-packages/pymatgen/io/cif.py:1219: UserWarning: Issues encountered while parsing CIF: 4 fractional coordinates rounded to ideal values to avoid issues with finite precision.\n",
      "  warnings.warn(\"Issues encountered while parsing CIF: \" + \"\\n\".join(self.warnings))\n",
      "/Users/ali/mambaforge/envs/cgcnn/lib/python3.11/site-packages/pymatgen/io/cif.py:1219: UserWarning: Issues encountered while parsing CIF: 1 fractional coordinates rounded to ideal values to avoid issues with finite precision.\n",
      "  warnings.warn(\"Issues encountered while parsing CIF: \" + \"\\n\".join(self.warnings))\n",
      "/Users/ali/mambaforge/envs/cgcnn/lib/python3.11/site-packages/pymatgen/io/cif.py:1219: UserWarning: Issues encountered while parsing CIF: 8 fractional coordinates rounded to ideal values to avoid issues with finite precision.\n",
      "  warnings.warn(\"Issues encountered while parsing CIF: \" + \"\\n\".join(self.warnings))\n",
      "/Users/ali/GitHub/rewotes/adavaria/cgcnn/cgcnn/data.py:333: UserWarning: mp-1096735 not find enough neighbors to build graph. If it happens frequently, consider increase radius.\n",
      "  warnings.warn('{} not find enough neighbors to build graph. '\n",
      "/Users/ali/GitHub/rewotes/adavaria/cgcnn/cgcnn/data.py:333: UserWarning: mp-1095862 not find enough neighbors to build graph. If it happens frequently, consider increase radius.\n",
      "  warnings.warn('{} not find enough neighbors to build graph. '\n",
      "/Users/ali/GitHub/rewotes/adavaria/cgcnn/cgcnn/data.py:333: UserWarning: mp-1097393 not find enough neighbors to build graph. If it happens frequently, consider increase radius.\n",
      "  warnings.warn('{} not find enough neighbors to build graph. '\n",
      "/Users/ali/mambaforge/envs/cgcnn/lib/python3.11/site-packages/pymatgen/io/cif.py:1219: UserWarning: Issues encountered while parsing CIF: 24 fractional coordinates rounded to ideal values to avoid issues with finite precision.\n",
      "  warnings.warn(\"Issues encountered while parsing CIF: \" + \"\\n\".join(self.warnings))\n",
      "/Users/ali/GitHub/rewotes/adavaria/cgcnn/cgcnn/data.py:333: UserWarning: mp-1096590 not find enough neighbors to build graph. If it happens frequently, consider increase radius.\n",
      "  warnings.warn('{} not find enough neighbors to build graph. '\n"
     ]
    },
    {
     "name": "stdout",
     "output_type": "stream",
     "text": [
      "Epoch: [3][0/1]\tTime 3.424 (3.424)\tData 3.151 (3.151)\tLoss 1.8129 (1.8129)\tMAE 2.033 (2.033)\n"
     ]
    },
    {
     "name": "stderr",
     "output_type": "stream",
     "text": [
      "/Users/ali/mambaforge/envs/cgcnn/lib/python3.11/site-packages/pymatgen/io/cif.py:1186: UserWarning: The default value of primitive was changed from True to False in https://github.com/materialsproject/pymatgen/pull/3419. CifParser now returns the cell in the CIF file as is. If you want the primitive cell, please set primitive=True explicitly.\n",
      "  warnings.warn(\n",
      "/Users/ali/GitHub/rewotes/adavaria/cgcnn/cgcnn/data.py:333: UserWarning: mp-1096736 not find enough neighbors to build graph. If it happens frequently, consider increase radius.\n",
      "  warnings.warn('{} not find enough neighbors to build graph. '\n"
     ]
    },
    {
     "name": "stdout",
     "output_type": "stream",
     "text": [
      "Test: [0/1]\tTime 1.897 (1.897)\tLoss 1.1368 (1.1368)\tMAE 1.022 (1.022)\n",
      " * MAE 1.022\n"
     ]
    },
    {
     "name": "stderr",
     "output_type": "stream",
     "text": [
      "/Users/ali/mambaforge/envs/cgcnn/lib/python3.11/site-packages/pymatgen/io/cif.py:1186: UserWarning: The default value of primitive was changed from True to False in https://github.com/materialsproject/pymatgen/pull/3419. CifParser now returns the cell in the CIF file as is. If you want the primitive cell, please set primitive=True explicitly.\n",
      "  warnings.warn(\n",
      "/Users/ali/mambaforge/envs/cgcnn/lib/python3.11/site-packages/pymatgen/io/cif.py:1219: UserWarning: Issues encountered while parsing CIF: 4 fractional coordinates rounded to ideal values to avoid issues with finite precision.\n",
      "  warnings.warn(\"Issues encountered while parsing CIF: \" + \"\\n\".join(self.warnings))\n",
      "/Users/ali/mambaforge/envs/cgcnn/lib/python3.11/site-packages/pymatgen/io/cif.py:1219: UserWarning: Issues encountered while parsing CIF: 1 fractional coordinates rounded to ideal values to avoid issues with finite precision.\n",
      "  warnings.warn(\"Issues encountered while parsing CIF: \" + \"\\n\".join(self.warnings))\n",
      "/Users/ali/GitHub/rewotes/adavaria/cgcnn/cgcnn/data.py:333: UserWarning: mp-1096735 not find enough neighbors to build graph. If it happens frequently, consider increase radius.\n",
      "  warnings.warn('{} not find enough neighbors to build graph. '\n",
      "/Users/ali/GitHub/rewotes/adavaria/cgcnn/cgcnn/data.py:333: UserWarning: mp-1097393 not find enough neighbors to build graph. If it happens frequently, consider increase radius.\n",
      "  warnings.warn('{} not find enough neighbors to build graph. '\n",
      "/Users/ali/GitHub/rewotes/adavaria/cgcnn/cgcnn/data.py:333: UserWarning: mp-1096590 not find enough neighbors to build graph. If it happens frequently, consider increase radius.\n",
      "  warnings.warn('{} not find enough neighbors to build graph. '\n",
      "/Users/ali/mambaforge/envs/cgcnn/lib/python3.11/site-packages/pymatgen/io/cif.py:1219: UserWarning: Issues encountered while parsing CIF: 8 fractional coordinates rounded to ideal values to avoid issues with finite precision.\n",
      "  warnings.warn(\"Issues encountered while parsing CIF: \" + \"\\n\".join(self.warnings))\n",
      "/Users/ali/mambaforge/envs/cgcnn/lib/python3.11/site-packages/pymatgen/io/cif.py:1219: UserWarning: Issues encountered while parsing CIF: 24 fractional coordinates rounded to ideal values to avoid issues with finite precision.\n",
      "  warnings.warn(\"Issues encountered while parsing CIF: \" + \"\\n\".join(self.warnings))\n",
      "/Users/ali/GitHub/rewotes/adavaria/cgcnn/cgcnn/data.py:333: UserWarning: mp-1095862 not find enough neighbors to build graph. If it happens frequently, consider increase radius.\n",
      "  warnings.warn('{} not find enough neighbors to build graph. '\n"
     ]
    },
    {
     "name": "stdout",
     "output_type": "stream",
     "text": [
      "Epoch: [4][0/1]\tTime 3.315 (3.315)\tData 3.001 (3.001)\tLoss 1.3597 (1.3597)\tMAE 1.129 (1.129)\n"
     ]
    },
    {
     "name": "stderr",
     "output_type": "stream",
     "text": [
      "/Users/ali/mambaforge/envs/cgcnn/lib/python3.11/site-packages/pymatgen/io/cif.py:1186: UserWarning: The default value of primitive was changed from True to False in https://github.com/materialsproject/pymatgen/pull/3419. CifParser now returns the cell in the CIF file as is. If you want the primitive cell, please set primitive=True explicitly.\n",
      "  warnings.warn(\n",
      "/Users/ali/GitHub/rewotes/adavaria/cgcnn/cgcnn/data.py:333: UserWarning: mp-1096736 not find enough neighbors to build graph. If it happens frequently, consider increase radius.\n",
      "  warnings.warn('{} not find enough neighbors to build graph. '\n"
     ]
    },
    {
     "name": "stdout",
     "output_type": "stream",
     "text": [
      "Test: [0/1]\tTime 1.917 (1.917)\tLoss 1.2817 (1.2817)\tMAE 1.011 (1.011)\n",
      " * MAE 1.011\n"
     ]
    },
    {
     "name": "stderr",
     "output_type": "stream",
     "text": [
      "/Users/ali/mambaforge/envs/cgcnn/lib/python3.11/site-packages/pymatgen/io/cif.py:1186: UserWarning: The default value of primitive was changed from True to False in https://github.com/materialsproject/pymatgen/pull/3419. CifParser now returns the cell in the CIF file as is. If you want the primitive cell, please set primitive=True explicitly.\n",
      "  warnings.warn(\n",
      "/Users/ali/GitHub/rewotes/adavaria/cgcnn/cgcnn/data.py:333: UserWarning: mp-1097393 not find enough neighbors to build graph. If it happens frequently, consider increase radius.\n",
      "  warnings.warn('{} not find enough neighbors to build graph. '\n",
      "/Users/ali/mambaforge/envs/cgcnn/lib/python3.11/site-packages/pymatgen/io/cif.py:1219: UserWarning: Issues encountered while parsing CIF: 1 fractional coordinates rounded to ideal values to avoid issues with finite precision.\n",
      "  warnings.warn(\"Issues encountered while parsing CIF: \" + \"\\n\".join(self.warnings))\n",
      "/Users/ali/mambaforge/envs/cgcnn/lib/python3.11/site-packages/pymatgen/io/cif.py:1219: UserWarning: Issues encountered while parsing CIF: 8 fractional coordinates rounded to ideal values to avoid issues with finite precision.\n",
      "  warnings.warn(\"Issues encountered while parsing CIF: \" + \"\\n\".join(self.warnings))\n",
      "/Users/ali/mambaforge/envs/cgcnn/lib/python3.11/site-packages/pymatgen/io/cif.py:1219: UserWarning: Issues encountered while parsing CIF: 4 fractional coordinates rounded to ideal values to avoid issues with finite precision.\n",
      "  warnings.warn(\"Issues encountered while parsing CIF: \" + \"\\n\".join(self.warnings))\n",
      "/Users/ali/mambaforge/envs/cgcnn/lib/python3.11/site-packages/pymatgen/io/cif.py:1219: UserWarning: Issues encountered while parsing CIF: 24 fractional coordinates rounded to ideal values to avoid issues with finite precision.\n",
      "  warnings.warn(\"Issues encountered while parsing CIF: \" + \"\\n\".join(self.warnings))\n",
      "/Users/ali/GitHub/rewotes/adavaria/cgcnn/cgcnn/data.py:333: UserWarning: mp-1096590 not find enough neighbors to build graph. If it happens frequently, consider increase radius.\n",
      "  warnings.warn('{} not find enough neighbors to build graph. '\n",
      "/Users/ali/GitHub/rewotes/adavaria/cgcnn/cgcnn/data.py:333: UserWarning: mp-1095862 not find enough neighbors to build graph. If it happens frequently, consider increase radius.\n",
      "  warnings.warn('{} not find enough neighbors to build graph. '\n",
      "/Users/ali/GitHub/rewotes/adavaria/cgcnn/cgcnn/data.py:333: UserWarning: mp-1096735 not find enough neighbors to build graph. If it happens frequently, consider increase radius.\n",
      "  warnings.warn('{} not find enough neighbors to build graph. '\n"
     ]
    },
    {
     "name": "stdout",
     "output_type": "stream",
     "text": [
      "Epoch: [5][0/1]\tTime 3.299 (3.299)\tData 3.035 (3.035)\tLoss 2.0884 (2.0884)\tMAE 1.761 (1.761)\n"
     ]
    },
    {
     "name": "stderr",
     "output_type": "stream",
     "text": [
      "/Users/ali/mambaforge/envs/cgcnn/lib/python3.11/site-packages/pymatgen/io/cif.py:1186: UserWarning: The default value of primitive was changed from True to False in https://github.com/materialsproject/pymatgen/pull/3419. CifParser now returns the cell in the CIF file as is. If you want the primitive cell, please set primitive=True explicitly.\n",
      "  warnings.warn(\n",
      "/Users/ali/GitHub/rewotes/adavaria/cgcnn/cgcnn/data.py:333: UserWarning: mp-1096736 not find enough neighbors to build graph. If it happens frequently, consider increase radius.\n",
      "  warnings.warn('{} not find enough neighbors to build graph. '\n"
     ]
    },
    {
     "name": "stdout",
     "output_type": "stream",
     "text": [
      "Test: [0/1]\tTime 2.065 (2.065)\tLoss 1.2424 (1.2424)\tMAE 1.005 (1.005)\n"
     ]
    },
    {
     "ename": "KeyboardInterrupt",
     "evalue": "",
     "output_type": "error",
     "traceback": [
      "\u001b[0;31m---------------------------------------------------------------------------\u001b[0m",
      "\u001b[0;31mKeyboardInterrupt\u001b[0m                         Traceback (most recent call last)",
      "\u001b[1;32m/Users/ali/GitHub/rewotes/adavaria/train_cgcnn2.ipynb Cell 8\u001b[0m line \u001b[0;36m2\n\u001b[1;32m      <a href='vscode-notebook-cell:/Users/ali/GitHub/rewotes/adavaria/train_cgcnn2.ipynb#W5sZmlsZQ%3D%3D?line=0'>1</a>\u001b[0m \u001b[39mwith\u001b[39;00m \u001b[39mopen\u001b[39m(\u001b[39m'\u001b[39m\u001b[39m./cgcnn/main.py\u001b[39m\u001b[39m'\u001b[39m, \u001b[39m'\u001b[39m\u001b[39mr\u001b[39m\u001b[39m'\u001b[39m) \u001b[39mas\u001b[39;00m file:\n\u001b[0;32m----> <a href='vscode-notebook-cell:/Users/ali/GitHub/rewotes/adavaria/train_cgcnn2.ipynb#W5sZmlsZQ%3D%3D?line=1'>2</a>\u001b[0m     exec(file\u001b[39m.\u001b[39;49mread())\n",
      "File \u001b[0;32m<string>:513\u001b[0m\n",
      "File \u001b[0;32m<string>:178\u001b[0m, in \u001b[0;36mmain\u001b[0;34m()\u001b[0m\n",
      "File \u001b[0;32m<string>:325\u001b[0m, in \u001b[0;36mvalidate\u001b[0;34m(val_loader, model, criterion, normalizer, test)\u001b[0m\n",
      "File \u001b[0;32m~/mambaforge/envs/cgcnn/lib/python3.11/site-packages/torch/utils/data/dataloader.py:630\u001b[0m, in \u001b[0;36m_BaseDataLoaderIter.__next__\u001b[0;34m(self)\u001b[0m\n\u001b[1;32m    627\u001b[0m \u001b[39mif\u001b[39;00m \u001b[39mself\u001b[39m\u001b[39m.\u001b[39m_sampler_iter \u001b[39mis\u001b[39;00m \u001b[39mNone\u001b[39;00m:\n\u001b[1;32m    628\u001b[0m     \u001b[39m# TODO(https://github.com/pytorch/pytorch/issues/76750)\u001b[39;00m\n\u001b[1;32m    629\u001b[0m     \u001b[39mself\u001b[39m\u001b[39m.\u001b[39m_reset()  \u001b[39m# type: ignore[call-arg]\u001b[39;00m\n\u001b[0;32m--> 630\u001b[0m data \u001b[39m=\u001b[39m \u001b[39mself\u001b[39;49m\u001b[39m.\u001b[39;49m_next_data()\n\u001b[1;32m    631\u001b[0m \u001b[39mself\u001b[39m\u001b[39m.\u001b[39m_num_yielded \u001b[39m+\u001b[39m\u001b[39m=\u001b[39m \u001b[39m1\u001b[39m\n\u001b[1;32m    632\u001b[0m \u001b[39mif\u001b[39;00m \u001b[39mself\u001b[39m\u001b[39m.\u001b[39m_dataset_kind \u001b[39m==\u001b[39m _DatasetKind\u001b[39m.\u001b[39mIterable \u001b[39mand\u001b[39;00m \\\n\u001b[1;32m    633\u001b[0m         \u001b[39mself\u001b[39m\u001b[39m.\u001b[39m_IterableDataset_len_called \u001b[39mis\u001b[39;00m \u001b[39mnot\u001b[39;00m \u001b[39mNone\u001b[39;00m \u001b[39mand\u001b[39;00m \\\n\u001b[1;32m    634\u001b[0m         \u001b[39mself\u001b[39m\u001b[39m.\u001b[39m_num_yielded \u001b[39m>\u001b[39m \u001b[39mself\u001b[39m\u001b[39m.\u001b[39m_IterableDataset_len_called:\n",
      "File \u001b[0;32m~/mambaforge/envs/cgcnn/lib/python3.11/site-packages/torch/utils/data/dataloader.py:1317\u001b[0m, in \u001b[0;36m_MultiProcessingDataLoaderIter._next_data\u001b[0;34m(self)\u001b[0m\n\u001b[1;32m   1314\u001b[0m \u001b[39melse\u001b[39;00m:\n\u001b[1;32m   1315\u001b[0m     \u001b[39m# no valid `self._rcvd_idx` is found (i.e., didn't break)\u001b[39;00m\n\u001b[1;32m   1316\u001b[0m     \u001b[39mif\u001b[39;00m \u001b[39mnot\u001b[39;00m \u001b[39mself\u001b[39m\u001b[39m.\u001b[39m_persistent_workers:\n\u001b[0;32m-> 1317\u001b[0m         \u001b[39mself\u001b[39;49m\u001b[39m.\u001b[39;49m_shutdown_workers()\n\u001b[1;32m   1318\u001b[0m     \u001b[39mraise\u001b[39;00m \u001b[39mStopIteration\u001b[39;00m\n\u001b[1;32m   1320\u001b[0m \u001b[39m# Now `self._rcvd_idx` is the batch index we want to fetch\u001b[39;00m\n\u001b[1;32m   1321\u001b[0m \n\u001b[1;32m   1322\u001b[0m \u001b[39m# Check if the next sample has already been generated\u001b[39;00m\n",
      "File \u001b[0;32m~/mambaforge/envs/cgcnn/lib/python3.11/site-packages/torch/utils/data/dataloader.py:1442\u001b[0m, in \u001b[0;36m_MultiProcessingDataLoaderIter._shutdown_workers\u001b[0;34m(self)\u001b[0m\n\u001b[1;32m   1437\u001b[0m         \u001b[39mself\u001b[39m\u001b[39m.\u001b[39m_mark_worker_as_unavailable(worker_id, shutdown\u001b[39m=\u001b[39m\u001b[39mTrue\u001b[39;00m)\n\u001b[1;32m   1438\u001b[0m \u001b[39mfor\u001b[39;00m w \u001b[39min\u001b[39;00m \u001b[39mself\u001b[39m\u001b[39m.\u001b[39m_workers:\n\u001b[1;32m   1439\u001b[0m     \u001b[39m# We should be able to join here, but in case anything went\u001b[39;00m\n\u001b[1;32m   1440\u001b[0m     \u001b[39m# wrong, we set a timeout and if the workers fail to join,\u001b[39;00m\n\u001b[1;32m   1441\u001b[0m     \u001b[39m# they are killed in the `finally` block.\u001b[39;00m\n\u001b[0;32m-> 1442\u001b[0m     w\u001b[39m.\u001b[39;49mjoin(timeout\u001b[39m=\u001b[39;49m_utils\u001b[39m.\u001b[39;49mMP_STATUS_CHECK_INTERVAL)\n\u001b[1;32m   1443\u001b[0m \u001b[39mfor\u001b[39;00m q \u001b[39min\u001b[39;00m \u001b[39mself\u001b[39m\u001b[39m.\u001b[39m_index_queues:\n\u001b[1;32m   1444\u001b[0m     q\u001b[39m.\u001b[39mcancel_join_thread()\n",
      "File \u001b[0;32m~/mambaforge/envs/cgcnn/lib/python3.11/multiprocessing/process.py:149\u001b[0m, in \u001b[0;36mBaseProcess.join\u001b[0;34m(self, timeout)\u001b[0m\n\u001b[1;32m    147\u001b[0m \u001b[39massert\u001b[39;00m \u001b[39mself\u001b[39m\u001b[39m.\u001b[39m_parent_pid \u001b[39m==\u001b[39m os\u001b[39m.\u001b[39mgetpid(), \u001b[39m'\u001b[39m\u001b[39mcan only join a child process\u001b[39m\u001b[39m'\u001b[39m\n\u001b[1;32m    148\u001b[0m \u001b[39massert\u001b[39;00m \u001b[39mself\u001b[39m\u001b[39m.\u001b[39m_popen \u001b[39mis\u001b[39;00m \u001b[39mnot\u001b[39;00m \u001b[39mNone\u001b[39;00m, \u001b[39m'\u001b[39m\u001b[39mcan only join a started process\u001b[39m\u001b[39m'\u001b[39m\n\u001b[0;32m--> 149\u001b[0m res \u001b[39m=\u001b[39m \u001b[39mself\u001b[39;49m\u001b[39m.\u001b[39;49m_popen\u001b[39m.\u001b[39;49mwait(timeout)\n\u001b[1;32m    150\u001b[0m \u001b[39mif\u001b[39;00m res \u001b[39mis\u001b[39;00m \u001b[39mnot\u001b[39;00m \u001b[39mNone\u001b[39;00m:\n\u001b[1;32m    151\u001b[0m     _children\u001b[39m.\u001b[39mdiscard(\u001b[39mself\u001b[39m)\n",
      "File \u001b[0;32m~/mambaforge/envs/cgcnn/lib/python3.11/multiprocessing/popen_fork.py:40\u001b[0m, in \u001b[0;36mPopen.wait\u001b[0;34m(self, timeout)\u001b[0m\n\u001b[1;32m     38\u001b[0m \u001b[39mif\u001b[39;00m timeout \u001b[39mis\u001b[39;00m \u001b[39mnot\u001b[39;00m \u001b[39mNone\u001b[39;00m:\n\u001b[1;32m     39\u001b[0m     \u001b[39mfrom\u001b[39;00m \u001b[39mmultiprocessing\u001b[39;00m\u001b[39m.\u001b[39;00m\u001b[39mconnection\u001b[39;00m \u001b[39mimport\u001b[39;00m wait\n\u001b[0;32m---> 40\u001b[0m     \u001b[39mif\u001b[39;00m \u001b[39mnot\u001b[39;00m wait([\u001b[39mself\u001b[39;49m\u001b[39m.\u001b[39;49msentinel], timeout):\n\u001b[1;32m     41\u001b[0m         \u001b[39mreturn\u001b[39;00m \u001b[39mNone\u001b[39;00m\n\u001b[1;32m     42\u001b[0m \u001b[39m# This shouldn't block if wait() returned successfully.\u001b[39;00m\n",
      "File \u001b[0;32m~/mambaforge/envs/cgcnn/lib/python3.11/multiprocessing/connection.py:947\u001b[0m, in \u001b[0;36mwait\u001b[0;34m(object_list, timeout)\u001b[0m\n\u001b[1;32m    944\u001b[0m     deadline \u001b[39m=\u001b[39m time\u001b[39m.\u001b[39mmonotonic() \u001b[39m+\u001b[39m timeout\n\u001b[1;32m    946\u001b[0m \u001b[39mwhile\u001b[39;00m \u001b[39mTrue\u001b[39;00m:\n\u001b[0;32m--> 947\u001b[0m     ready \u001b[39m=\u001b[39m selector\u001b[39m.\u001b[39;49mselect(timeout)\n\u001b[1;32m    948\u001b[0m     \u001b[39mif\u001b[39;00m ready:\n\u001b[1;32m    949\u001b[0m         \u001b[39mreturn\u001b[39;00m [key\u001b[39m.\u001b[39mfileobj \u001b[39mfor\u001b[39;00m (key, events) \u001b[39min\u001b[39;00m ready]\n",
      "File \u001b[0;32m~/mambaforge/envs/cgcnn/lib/python3.11/selectors.py:415\u001b[0m, in \u001b[0;36m_PollLikeSelector.select\u001b[0;34m(self, timeout)\u001b[0m\n\u001b[1;32m    413\u001b[0m ready \u001b[39m=\u001b[39m []\n\u001b[1;32m    414\u001b[0m \u001b[39mtry\u001b[39;00m:\n\u001b[0;32m--> 415\u001b[0m     fd_event_list \u001b[39m=\u001b[39m \u001b[39mself\u001b[39m\u001b[39m.\u001b[39m_selector\u001b[39m.\u001b[39mpoll(timeout)\n\u001b[1;32m    416\u001b[0m \u001b[39mexcept\u001b[39;00m \u001b[39mInterruptedError\u001b[39;00m:\n\u001b[1;32m    417\u001b[0m     \u001b[39mreturn\u001b[39;00m ready\n",
      "\u001b[0;31mKeyboardInterrupt\u001b[0m: "
     ]
    }
   ],
   "source": [
    "with open('./cgcnn/main.py', 'r') as file:\n",
    "    exec(file.read())\n"
   ]
  },
  {
   "cell_type": "code",
   "execution_count": 29,
   "metadata": {},
   "outputs": [
    {
     "name": "stdout",
     "output_type": "stream",
     "text": [
      "[Warning] train_ratio is None, using 1 - val_ratio - test_ratio = 0.8 as training data.\n",
      "Epoch: [0][0/1]\tTime 3.522 (3.522)\tData 3.201 (3.201)\tLoss 1.1749 (1.1749)\tMAE 1.539 (1.539)\n",
      "Test: [0/1]\tTime 1.918 (1.918)\tLoss 12.7251 (12.7251)\tMAE 5.581 (5.581)\n",
      "* MAE 5.581\n",
      "Epoch: [1][0/1]\tTime 3.343 (3.343)\tData 3.082 (3.082)\tLoss 1.6137 (1.6137)\tMAE 1.418 (1.418)\n",
      "Test: [0/1]\tTime 1.981 (1.981)\tLoss 19.3128 (19.3128)\tMAE 7.018 (7.018)\n",
      "* MAE 7.018\n",
      "Epoch: [2][0/1]\tTime 3.418 (3.418)\tData 3.166 (3.166)\tLoss 1.6636 (1.6636)\tMAE 1.932 (1.932)\n",
      "Test: [0/1]\tTime 1.967 (1.967)\tLoss 2.4765 (2.4765)\tMAE 1.978 (1.978)\n",
      "* MAE 1.978\n",
      "Epoch: [3][0/1]\tTime 3.476 (3.476)\tData 3.214 (3.214)\tLoss 0.9798 (0.9798)\tMAE 1.096 (1.096)\n",
      "Test: [0/1]\tTime 1.982 (1.982)\tLoss 1.2052 (1.2052)\tMAE 0.933 (0.933)\n",
      "* MAE 0.933\n",
      "Epoch: [4][0/1]\tTime 3.511 (3.511)\tData 3.225 (3.225)\tLoss 0.7027 (0.7027)\tMAE 0.996 (0.996)\n",
      "Test: [0/1]\tTime 2.052 (2.052)\tLoss 2.1826 (2.1826)\tMAE 2.347 (2.347)\n",
      "* MAE 2.347\n",
      "Epoch: [5][0/1]\tTime 3.826 (3.826)\tData 3.579 (3.579)\tLoss 0.9368 (0.9368)\tMAE 1.415 (1.415)\n",
      "Test: [0/1]\tTime 2.022 (2.022)\tLoss 1.1711 (1.1711)\tMAE 0.911 (0.911)\n",
      "* MAE 0.911\n",
      "Epoch: [6][0/1]\tTime 3.421 (3.421)\tData 3.182 (3.182)\tLoss 0.5544 (0.5544)\tMAE 0.955 (0.955)\n",
      "Test: [0/1]\tTime 2.047 (2.047)\tLoss 1.2972 (1.2972)\tMAE 1.039 (1.039)\n",
      "* MAE 1.039\n",
      "Epoch: [7][0/1]\tTime 3.352 (3.352)\tData 3.086 (3.086)\tLoss 0.5473 (0.5473)\tMAE 0.973 (0.973)\n",
      "Test: [0/1]\tTime 2.005 (2.005)\tLoss 1.1417 (1.1417)\tMAE 1.475 (1.475)\n",
      "* MAE 1.475\n",
      "Epoch: [8][0/1]\tTime 3.325 (3.325)\tData 3.076 (3.076)\tLoss 0.5072 (0.5072)\tMAE 0.960 (0.960)\n",
      "Test: [0/1]\tTime 2.032 (2.032)\tLoss 0.9623 (0.9623)\tMAE 1.232 (1.232)\n",
      "* MAE 1.232\n",
      "Epoch: [9][0/1]\tTime 3.452 (3.452)\tData 3.181 (3.181)\tLoss 0.2998 (0.2998)\tMAE 0.706 (0.706)\n",
      "Test: [0/1]\tTime 1.987 (1.987)\tLoss 1.1974 (1.1974)\tMAE 0.939 (0.939)\n",
      "* MAE 0.939\n",
      "Epoch: [10][0/1]\tTime 3.637 (3.637)\tData 3.210 (3.210)\tLoss 0.4055 (0.4055)\tMAE 0.865 (0.865)\n",
      "Test: [0/1]\tTime 1.980 (1.980)\tLoss 0.9653 (0.9653)\tMAE 1.142 (1.142)\n",
      "* MAE 1.142\n",
      "Epoch: [11][0/1]\tTime 3.403 (3.403)\tData 3.149 (3.149)\tLoss 0.2297 (0.2297)\tMAE 0.608 (0.608)\n",
      "Test: [0/1]\tTime 2.012 (2.012)\tLoss 1.0629 (1.0629)\tMAE 1.374 (1.374)\n",
      "* MAE 1.374\n",
      "Epoch: [12][0/1]\tTime 3.378 (3.378)\tData 3.102 (3.102)\tLoss 0.3514 (0.3514)\tMAE 0.809 (0.809)\n",
      "Test: [0/1]\tTime 1.946 (1.946)\tLoss 0.9811 (0.9811)\tMAE 1.120 (1.120)\n",
      "* MAE 1.120\n",
      "Epoch: [13][0/1]\tTime 3.382 (3.382)\tData 3.139 (3.139)\tLoss 0.2090 (0.2090)\tMAE 0.558 (0.558)\n",
      "Test: [0/1]\tTime 2.008 (2.008)\tLoss 1.0397 (1.0397)\tMAE 1.006 (1.006)\n",
      "* MAE 1.006\n",
      "Epoch: [14][0/1]\tTime 3.506 (3.506)\tData 3.212 (3.212)\tLoss 0.2584 (0.2584)\tMAE 0.669 (0.669)\n",
      "Test: [0/1]\tTime 1.989 (1.989)\tLoss 0.9961 (0.9961)\tMAE 1.265 (1.265)\n",
      "* MAE 1.265\n",
      "Epoch: [15][0/1]\tTime 3.451 (3.451)\tData 3.189 (3.189)\tLoss 0.1424 (0.1424)\tMAE 0.502 (0.502)\n",
      "Test: [0/1]\tTime 2.184 (2.184)\tLoss 1.0882 (1.0882)\tMAE 1.392 (1.392)\n",
      "* MAE 1.392\n",
      "Epoch: [16][0/1]\tTime 3.398 (3.398)\tData 3.135 (3.135)\tLoss 0.1904 (0.1904)\tMAE 0.618 (0.618)\n",
      "Test: [0/1]\tTime 2.063 (2.063)\tLoss 0.9802 (0.9802)\tMAE 1.221 (1.221)\n",
      "* MAE 1.221\n",
      "Epoch: [17][0/1]\tTime 3.688 (3.688)\tData 3.290 (3.290)\tLoss 0.1219 (0.1219)\tMAE 0.413 (0.413)\n",
      "Test: [0/1]\tTime 2.651 (2.651)\tLoss 0.9749 (0.9749)\tMAE 1.134 (1.134)\n",
      "* MAE 1.134\n",
      "Epoch: [18][0/1]\tTime 3.562 (3.562)\tData 3.278 (3.278)\tLoss 0.1763 (0.1763)\tMAE 0.543 (0.543)\n",
      "Test: [0/1]\tTime 2.034 (2.034)\tLoss 1.0160 (1.0160)\tMAE 1.297 (1.297)\n",
      "* MAE 1.297\n",
      "Epoch: [19][0/1]\tTime 3.622 (3.622)\tData 3.354 (3.354)\tLoss 0.1171 (0.1171)\tMAE 0.414 (0.414)\n",
      "Test: [0/1]\tTime 2.042 (2.042)\tLoss 1.1249 (1.1249)\tMAE 1.419 (1.419)\n",
      "* MAE 1.419\n",
      "Epoch: [20][0/1]\tTime 3.386 (3.386)\tData 3.118 (3.118)\tLoss 0.1517 (0.1517)\tMAE 0.521 (0.521)\n",
      "Test: [0/1]\tTime 2.122 (2.122)\tLoss 1.0391 (1.0391)\tMAE 1.324 (1.324)\n",
      "* MAE 1.324\n",
      "Epoch: [21][0/1]\tTime 3.486 (3.486)\tData 3.254 (3.254)\tLoss 0.0938 (0.0938)\tMAE 0.375 (0.375)\n",
      "Test: [0/1]\tTime 2.060 (2.060)\tLoss 0.9912 (0.9912)\tMAE 1.216 (1.216)\n",
      "* MAE 1.216\n",
      "Epoch: [22][0/1]\tTime 3.371 (3.371)\tData 3.109 (3.109)\tLoss 0.1141 (0.1141)\tMAE 0.457 (0.457)\n",
      "Test: [0/1]\tTime 2.028 (2.028)\tLoss 1.0218 (1.0218)\tMAE 1.285 (1.285)\n",
      "* MAE 1.285\n",
      "Epoch: [23][0/1]\tTime 3.416 (3.416)\tData 3.149 (3.149)\tLoss 0.0781 (0.0781)\tMAE 0.339 (0.339)\n",
      "Test: [0/1]\tTime 2.077 (2.077)\tLoss 1.1250 (1.1250)\tMAE 1.409 (1.409)\n",
      "* MAE 1.409\n",
      "Epoch: [24][0/1]\tTime 3.498 (3.498)\tData 3.222 (3.222)\tLoss 0.0879 (0.0879)\tMAE 0.394 (0.394)\n",
      "Test: [0/1]\tTime 2.122 (2.122)\tLoss 1.1107 (1.1107)\tMAE 1.392 (1.392)\n",
      "* MAE 1.392\n",
      "Epoch: [25][0/1]\tTime 3.435 (3.435)\tData 3.149 (3.149)\tLoss 0.0749 (0.0749)\tMAE 0.360 (0.360)\n",
      "Test: [0/1]\tTime 1.981 (1.981)\tLoss 1.0285 (1.0285)\tMAE 1.284 (1.284)\n",
      "* MAE 1.284\n",
      "Epoch: [26][0/1]\tTime 3.457 (3.457)\tData 3.125 (3.125)\tLoss 0.0674 (0.0674)\tMAE 0.323 (0.323)\n",
      "Test: [0/1]\tTime 2.056 (2.056)\tLoss 1.0195 (1.0195)\tMAE 1.269 (1.269)\n",
      "* MAE 1.269\n",
      "Epoch: [27][0/1]\tTime 3.377 (3.377)\tData 3.126 (3.126)\tLoss 0.0690 (0.0690)\tMAE 0.335 (0.335)\n",
      "Test: [0/1]\tTime 2.048 (2.048)\tLoss 1.0885 (1.0885)\tMAE 1.367 (1.367)\n",
      "* MAE 1.367\n",
      "Epoch: [28][0/1]\tTime 3.336 (3.336)\tData 3.095 (3.095)\tLoss 0.0494 (0.0494)\tMAE 0.273 (0.273)\n",
      "Test: [0/1]\tTime 2.058 (2.058)\tLoss 1.1480 (1.1480)\tMAE 1.423 (1.423)\n",
      "* MAE 1.423\n",
      "Epoch: [29][0/1]\tTime 3.465 (3.465)\tData 3.207 (3.207)\tLoss 0.0592 (0.0592)\tMAE 0.335 (0.335)\n",
      "Test: [0/1]\tTime 2.017 (2.017)\tLoss 1.0832 (1.0832)\tMAE 1.363 (1.363)\n",
      "* MAE 1.363\n",
      "---------Evaluate Model on Test Set---------------\n",
      "Test: [0/1]\tTime 2.003 (2.003)\tLoss 0.6158 (0.6158)\tMAE 0.921 (0.921)\n",
      "** MAE 0.921\n"
     ]
    },
    {
     "data": {
      "text/plain": [
       "0"
      ]
     },
     "execution_count": 29,
     "metadata": {},
     "output_type": "execute_result"
    }
   ],
   "source": [
    "# Set the environment variable to ignore warnings\n",
    "os.environ['PYTHONWARNINGS'] = \"ignore\"\n",
    "\n",
    "# Define the path to the script and any arguments\n",
    "script_path = './cgcnn/main.py'\n",
    "args = ['./data/mp/', '--disable-cuda', '--workers', '4']\n",
    "\n",
    "# Construct the command to run the script\n",
    "command = ['python', script_path] + args\n",
    "\n",
    "# Start the process\n",
    "process = subprocess.Popen(command, stdout=subprocess.PIPE, stderr=subprocess.STDOUT, text=True)\n",
    "\n",
    "# Continuously read and print output from the process\n",
    "while True:\n",
    "    output = process.stdout.readline()\n",
    "    if not output and process.poll() is not None:\n",
    "        break\n",
    "    if output:\n",
    "        print(output.strip())\n",
    "\n",
    "# Close the stdout\n",
    "process.stdout.close()\n",
    "\n",
    "# Wait for the process to terminate\n",
    "process.wait()"
   ]
  },
  {
   "cell_type": "code",
   "execution_count": 42,
   "metadata": {},
   "outputs": [
    {
     "name": "stdout",
     "output_type": "stream",
     "text": [
      "/Users/ali/GitHub/rewotes/adavaria\n",
      "\n"
     ]
    }
   ],
   "source": [
    "command = 'echo $PWD'\n",
    "\n",
    "working_directory = './'\n",
    "\n",
    "process = subprocess.run(command, cwd=working_directory, shell=True, stdout=subprocess.PIPE, stderr=subprocess.PIPE, text=True)\n",
    "\n",
    "print(process.stdout)\n"
   ]
  },
  {
   "cell_type": "code",
   "execution_count": 34,
   "metadata": {},
   "outputs": [
    {
     "data": {
      "text/html": [
       "<div>\n",
       "<style scoped>\n",
       "    .dataframe tbody tr th:only-of-type {\n",
       "        vertical-align: middle;\n",
       "    }\n",
       "\n",
       "    .dataframe tbody tr th {\n",
       "        vertical-align: top;\n",
       "    }\n",
       "\n",
       "    .dataframe thead th {\n",
       "        text-align: right;\n",
       "    }\n",
       "</style>\n",
       "<table border=\"1\" class=\"dataframe\">\n",
       "  <thead>\n",
       "    <tr style=\"text-align: right;\">\n",
       "      <th></th>\n",
       "      <th>id</th>\n",
       "      <th>target</th>\n",
       "      <th>predicted</th>\n",
       "    </tr>\n",
       "  </thead>\n",
       "  <tbody>\n",
       "    <tr>\n",
       "      <th>0</th>\n",
       "      <td>mp-1028249</td>\n",
       "      <td>0.0000</td>\n",
       "      <td>0.208231</td>\n",
       "    </tr>\n",
       "    <tr>\n",
       "      <th>1</th>\n",
       "      <td>mp-2646996</td>\n",
       "      <td>2.6467</td>\n",
       "      <td>1.140014</td>\n",
       "    </tr>\n",
       "    <tr>\n",
       "      <th>2</th>\n",
       "      <td>mp-554913</td>\n",
       "      <td>1.4225</td>\n",
       "      <td>0.483516</td>\n",
       "    </tr>\n",
       "    <tr>\n",
       "      <th>3</th>\n",
       "      <td>mp-696678</td>\n",
       "      <td>0.0000</td>\n",
       "      <td>0.387432</td>\n",
       "    </tr>\n",
       "    <tr>\n",
       "      <th>4</th>\n",
       "      <td>mp-1246360</td>\n",
       "      <td>0.6353</td>\n",
       "      <td>0.766418</td>\n",
       "    </tr>\n",
       "    <tr>\n",
       "      <th>...</th>\n",
       "      <td>...</td>\n",
       "      <td>...</td>\n",
       "      <td>...</td>\n",
       "    </tr>\n",
       "    <tr>\n",
       "      <th>1994</th>\n",
       "      <td>mp-2218374</td>\n",
       "      <td>0.2031</td>\n",
       "      <td>0.592060</td>\n",
       "    </tr>\n",
       "    <tr>\n",
       "      <th>1995</th>\n",
       "      <td>mp-1020629</td>\n",
       "      <td>4.1352</td>\n",
       "      <td>3.732746</td>\n",
       "    </tr>\n",
       "    <tr>\n",
       "      <th>1996</th>\n",
       "      <td>mp-1224485</td>\n",
       "      <td>0.0000</td>\n",
       "      <td>0.424620</td>\n",
       "    </tr>\n",
       "    <tr>\n",
       "      <th>1997</th>\n",
       "      <td>mp-567823</td>\n",
       "      <td>3.7368</td>\n",
       "      <td>3.335702</td>\n",
       "    </tr>\n",
       "    <tr>\n",
       "      <th>1998</th>\n",
       "      <td>mp-867356</td>\n",
       "      <td>0.0000</td>\n",
       "      <td>0.205574</td>\n",
       "    </tr>\n",
       "  </tbody>\n",
       "</table>\n",
       "<p>1999 rows × 3 columns</p>\n",
       "</div>"
      ],
      "text/plain": [
       "              id  target  predicted\n",
       "0     mp-1028249  0.0000   0.208231\n",
       "1     mp-2646996  2.6467   1.140014\n",
       "2      mp-554913  1.4225   0.483516\n",
       "3      mp-696678  0.0000   0.387432\n",
       "4     mp-1246360  0.6353   0.766418\n",
       "...          ...     ...        ...\n",
       "1994  mp-2218374  0.2031   0.592060\n",
       "1995  mp-1020629  4.1352   3.732746\n",
       "1996  mp-1224485  0.0000   0.424620\n",
       "1997   mp-567823  3.7368   3.335702\n",
       "1998   mp-867356  0.0000   0.205574\n",
       "\n",
       "[1999 rows x 3 columns]"
      ]
     },
     "execution_count": 34,
     "metadata": {},
     "output_type": "execute_result"
    }
   ],
   "source": [
    "# the csv file doesn't have the header row and index column. I want to call the cols id target and predicted\n",
    "df = pd.read_csv('test_results.csv', header=None, index_col=None)\n",
    "df.columns = ['id', 'target', 'predicted']\n",
    "df"
   ]
  },
  {
   "cell_type": "code",
   "execution_count": 35,
   "metadata": {},
   "outputs": [
    {
     "data": {
      "image/png": "[encoded data removed]",
      "text/plain": [
       "<Figure size 354.331x218.989 with 1 Axes>"
      ]
     },
     "metadata": {},
     "output_type": "display_data"
    },
    {
     "data": {
      "text/plain": [
       "0.5913271722007005"
      ]
     },
     "execution_count": 35,
     "metadata": {},
     "output_type": "execute_result"
    }
   ],
   "source": [
    "# Plot the predicted vs target values parity plot\n",
    "import matplotlib.pyplot as plt\n",
    "\n",
    "plt.scatter(df['target'], df['predicted'])\n",
    "plt.xlabel('target')\n",
    "plt.ylabel('predicted')\n",
    "plt.show()\n",
    "\n",
    "# pring the mean absolute error\n",
    "from sklearn.metrics import mean_absolute_error\n",
    "\n",
    "mean_absolute_error(df['target'], df['predicted'])"
   ]
  },
  {
   "cell_type": "code",
   "execution_count": 43,
   "metadata": {},
   "outputs": [],
   "source": [
    "import torch\n",
    "import numpy as np\n",
    "import random\n",
    "\n",
    "def set_seed(seed_value):\n",
    "    \"\"\"Set seed for reproducibility.\"\"\"\n",
    "    torch.manual_seed(seed_value)\n",
    "    torch.cuda.manual_seed(seed_value)\n",
    "    torch.cuda.manual_seed_all(seed_value)  # if you are using multi-GPU.\n",
    "    np.random.seed(seed_value)  # Numpy module.\n",
    "    random.seed(seed_value)  # Python random module.\n",
    "    torch.backends.cudnn.benchmark = False\n",
    "    torch.backends.cudnn.deterministic = True\n",
    "\n",
    "set_seed(42)  # Use any number to seed all libraries.\n"
   ]
  },
  {
   "cell_type": "code",
   "execution_count": 4,
   "metadata": {},
   "outputs": [
    {
     "ename": "TypeError",
     "evalue": "'SubsetRandomSampler' object is not an iterator",
     "output_type": "error",
     "traceback": [
      "\u001b[0;31m---------------------------------------------------------------------------\u001b[0m",
      "\u001b[0;31mTypeError\u001b[0m                                 Traceback (most recent call last)",
      "\u001b[1;32m/Users/ali/GitHub/rewotes/adavaria/train_cgcnn2.ipynb Cell 14\u001b[0m line \u001b[0;36m7\n\u001b[1;32m      <a href='vscode-notebook-cell:/Users/ali/GitHub/rewotes/adavaria/train_cgcnn2.ipynb#X16sZmlsZQ%3D%3D?line=4'>5</a>\u001b[0m \u001b[39m# Assuming you have a dataset 'dataset'\u001b[39;00m\n\u001b[1;32m      <a href='vscode-notebook-cell:/Users/ali/GitHub/rewotes/adavaria/train_cgcnn2.ipynb#X16sZmlsZQ%3D%3D?line=5'>6</a>\u001b[0m sampler \u001b[39m=\u001b[39m SubsetRandomSampler(indices)\n\u001b[0;32m----> <a href='vscode-notebook-cell:/Users/ali/GitHub/rewotes/adavaria/train_cgcnn2.ipynb#X16sZmlsZQ%3D%3D?line=6'>7</a>\u001b[0m \u001b[39mnext\u001b[39;49m(sampler)\n",
      "\u001b[0;31mTypeError\u001b[0m: 'SubsetRandomSampler' object is not an iterator"
     ]
    }
   ],
   "source": [
    "from torch.utils.data import SubsetRandomSampler\n",
    "\n",
    "indices = [1, 2, 3, 4, 5, 6, 7, 8, 9, 10]\n",
    "\n",
    "# Assuming you have a dataset 'dataset'\n",
    "sampler = SubsetRandomSampler(indices)\n",
    "next(sampler)"
   ]
  },
  {
   "cell_type": "code",
   "execution_count": 65,
   "metadata": {},
   "outputs": [
    {
     "data": {
      "text/plain": [
       "<module 'mlband.config' from '/Users/ali/GitHub/rewotes/adavaria/mlband/config.py'>"
      ]
     },
     "execution_count": 65,
     "metadata": {},
     "output_type": "execute_result"
    }
   ],
   "source": [
    "import mlband.data\n",
    "import mlband.config\n",
    "importlib.reload(mlband.data)\n",
    "importlib.reload(mlband.config)"
   ]
  },
  {
   "cell_type": "code",
   "execution_count": 66,
   "metadata": {},
   "outputs": [],
   "source": [
    "config = mlband.config.Config(data_path='./data/mp/')"
   ]
  },
  {
   "cell_type": "code",
   "execution_count": 68,
   "metadata": {},
   "outputs": [
    {
     "name": "stdout",
     "output_type": "stream",
     "text": [
      "[Warning] train_ratio is None, using 1 - val_ratio - test_ratio = 0.8 as training data.\n"
     ]
    }
   ],
   "source": [
    "train_loader, val_loader, test_loader = mlband.data.get_data_loaders(config)"
   ]
  },
  {
   "cell_type": "code",
   "execution_count": 69,
   "metadata": {},
   "outputs": [
    {
     "data": {
      "text/plain": [
       "<torch.utils.data.dataloader.DataLoader at 0x17a4a5c90>"
      ]
     },
     "execution_count": 69,
     "metadata": {},
     "output_type": "execute_result"
    }
   ],
   "source": [
    "train_loader"
   ]
  },
  {
   "cell_type": "code",
   "execution_count": null,
   "metadata": {},
   "outputs": [],
   "source": []
  },
  {
   "cell_type": "code",
   "execution_count": 62,
   "metadata": {},
   "outputs": [],
   "source": [
    "import cgcnn.data"
   ]
  },
  {
   "cell_type": "code",
   "execution_count": 57,
   "metadata": {},
   "outputs": [
    {
     "data": {
      "text/plain": [
       "'/Users/ali/GitHub/rewotes/adavaria'"
      ]
     },
     "execution_count": 57,
     "metadata": {},
     "output_type": "execute_result"
    }
   ],
   "source": [
    "# print current working directory\n",
    "os.getcwd()"
   ]
  },
  {
   "cell_type": "code",
   "execution_count": 71,
   "metadata": {},
   "outputs": [],
   "source": [
    "st = torch.load('model_best.pth.tar')"
   ]
  },
  {
   "cell_type": "code",
   "execution_count": 72,
   "metadata": {},
   "outputs": [
    {
     "data": {
      "text/plain": [
       "dict_keys(['epoch', 'state_dict', 'best_mae_error', 'optimizer', 'normalizer', 'args'])"
      ]
     },
     "execution_count": 72,
     "metadata": {},
     "output_type": "execute_result"
    }
   ],
   "source": [
    "st.keys()"
   ]
  },
  {
   "cell_type": "code",
   "execution_count": 141,
   "metadata": {},
   "outputs": [
    {
     "data": {
      "text/plain": [
       "<module 'mlband.model' from '/Users/ali/GitHub/rewotes/adavaria/mlband/model.py'>"
      ]
     },
     "execution_count": 141,
     "metadata": {},
     "output_type": "execute_result"
    }
   ],
   "source": [
    "import mlband.model\n",
    "from mlband import utility\n",
    "importlib.reload(mlband.model)"
   ]
  },
  {
   "cell_type": "code",
   "execution_count": 142,
   "metadata": {},
   "outputs": [
    {
     "name": "stdout",
     "output_type": "stream",
     "text": [
      "[Warning] train_ratio is None, using 1 - val_ratio - test_ratio = 0.8 as training data.\n",
      "Evaluating the train set...\n",
      "Saving the predictions to ./results/predictions_train.csv\n",
      "Evaluating the val set...\n",
      "Saving the predictions to ./results/predictions_val.csv\n",
      "Evaluating the test set...\n",
      "Saving the predictions to ./results/predictions_test.csv\n"
     ]
    }
   ],
   "source": [
    "warnings.simplefilter('default')\n",
    "mlband.model.evaluate(config=config)"
   ]
  },
  {
   "cell_type": "code",
   "execution_count": 132,
   "metadata": {},
   "outputs": [
    {
     "name": "stdout",
     "output_type": "stream",
     "text": [
      "[Warning] train_ratio is None, using 1 - val_ratio - test_ratio = 0.8 as training data.\n"
     ]
    }
   ],
   "source": [
    "train_loader, val_loader, test_loader = mlband.data.get_data_loaders(config)"
   ]
  },
  {
   "cell_type": "code",
   "execution_count": 133,
   "metadata": {},
   "outputs": [],
   "source": [
    "best_checkpoint = torch.load('model_best.pth.tar')"
   ]
  },
  {
   "cell_type": "code",
   "execution_count": 136,
   "metadata": {},
   "outputs": [
    {
     "name": "stderr",
     "output_type": "stream",
     "text": [
      "/Users/ali/mambaforge/envs/cgcnn/lib/python3.11/site-packages/pymatgen/io/cif.py:1186: UserWarning: The default value of primitive was changed from True to False in https://github.com/materialsproject/pymatgen/pull/3419. CifParser now returns the cell in the CIF file as is. If you want the primitive cell, please set primitive=True explicitly.\n",
      "  warnings.warn(\n"
     ]
    }
   ],
   "source": [
    "from mlband.model import get_cgcnn_model\n",
    "model = get_cgcnn_model(config)"
   ]
  },
  {
   "cell_type": "code",
   "execution_count": 137,
   "metadata": {},
   "outputs": [],
   "source": [
    "from cgcnn.data import CIFData"
   ]
  },
  {
   "cell_type": "code",
   "execution_count": 138,
   "metadata": {},
   "outputs": [],
   "source": [
    "args = config\n",
    "dataset = CIFData(args.data_path)"
   ]
  },
  {
   "cell_type": "code",
   "execution_count": 139,
   "metadata": {},
   "outputs": [
    {
     "name": "stderr",
     "output_type": "stream",
     "text": [
      "/Users/ali/mambaforge/envs/cgcnn/lib/python3.11/site-packages/pymatgen/io/cif.py:1186: UserWarning: The default value of primitive was changed from True to False in https://github.com/materialsproject/pymatgen/pull/3419. CifParser now returns the cell in the CIF file as is. If you want the primitive cell, please set primitive=True explicitly.\n",
      "  warnings.warn(\n"
     ]
    }
   ],
   "source": [
    "structures, _, _ = dataset[0]"
   ]
  },
  {
   "cell_type": "code",
   "execution_count": 5,
   "metadata": {},
   "outputs": [],
   "source": [
    "import mlband.magpie\n",
    "importlib.reload(mlband.magpie)\n",
    "df = mlband.magpie.get_magpie_data()"
   ]
  },
  {
   "cell_type": "code",
   "execution_count": 6,
   "metadata": {},
   "outputs": [
    {
     "data": {
      "text/plain": [
       "Index(['symbol', 'atomic number', 'atomic mass', 'group', 'period', 'MeltingT',\n",
       "       'MiracleRadius', 'CovalentRadius', 'FirstIonizationEnergy',\n",
       "       'GSestFCClatcnt', 'Electronegativity', 'Density', 'ZungerPP-r_s',\n",
       "       'DipolePolarizability', 'GSestBCClatcnt', 'LogThermalConductivity',\n",
       "       'NsValence', 'GSmagmom', 'Polarizability', 'NValence', 'IsAlkali',\n",
       "       'AtomicVolume', 'phi', 'Number', 'IsNonmetal', 'NfValence', 'HHIp',\n",
       "       'VdWRadius', 'HHIr', 'NpUnfilled', 'BulkModulus', 'ZungerPP-r_p',\n",
       "       'NsUnfilled', 'ZungerPP-r_sigma', 'ThermalConductivity', 'AtomicRadius',\n",
       "       'ShearModulus', 'IonizationEnergies', 'IsMetalloid', 'NfUnfilled',\n",
       "       'SecondIonizationEnergy', 'OxidationStates', 'IsDBlock', 'AtomicWeight',\n",
       "       'HeatVaporization', 'MendeleevNumber', 'GSvolume_pa', 'NUnfilled',\n",
       "       'IsMetal', 'ElectronAffinity', 'NdUnfilled', 'NdValence', 'MolarVolume',\n",
       "       'Column', 'ICSDVolume', 'IsFBlock', 'SpaceGroupNumber',\n",
       "       'HeatCapacityMass', 'AllenElectronegativity', 'BoilingT', 'GSenergy_pa',\n",
       "       'HeatCapacityMolar', 'n_ws^third', 'HeatFusion', 'ZungerPP-r_d',\n",
       "       'ZungerPP-r_pi', 'NpValence', 'Row', 'FusionEnthalpy', 'GSbandgap'],\n",
       "      dtype='object')"
      ]
     },
     "execution_count": 6,
     "metadata": {},
     "output_type": "execute_result"
    }
   ],
   "source": [
    "df.columns"
   ]
  },
  {
   "cell_type": "code",
   "execution_count": 8,
   "metadata": {},
   "outputs": [
    {
     "name": "stdout",
     "output_type": "stream",
     "text": [
      "[1, 0, 0, 0, 1, 0, 1, 0, 0, 0, 0, 0, 0, 0, 0, 0]\n",
      "{'0': 'Group_1', '1': 'Group_2', '2': 'Group_13', '3': 'Group_18', '4': 'Period_1', '5': 'Period_2', '6': 'Atomic Mass_bin_0', '7': 'Atomic Mass_bin_1', '8': 'Atomic Mass_bin_2', '9': 'Atomic Mass_bin_3', '10': 'Atomic Mass_bin_4', '11': 'Atomic Mass_bin_5', '12': 'Atomic Mass_bin_6', '13': 'Atomic Mass_bin_7', '14': 'Atomic Mass_bin_8', '15': 'Atomic Mass_bin_9'}\n"
     ]
    }
   ],
   "source": [
    "import pandas as pd\n",
    "\n",
    "\n",
    "\n",
    "# Sample DataFrame and column names\n",
    "df = pd.DataFrame({\n",
    "    'Symbol': ['H', 'He', 'Li', 'Be', 'B'],\n",
    "    'Atomic Number': [1, 2, 3, 4, 5],\n",
    "    'Atomic Mass': [1.008, 4.002602, 6.94, 9.0121831, 10.81],\n",
    "    'Group': [1, 18, 1, 2, 13],\n",
    "    'Period': [1, 1, 2, 2, 2]\n",
    "})\n",
    "discrete_columns = ['Group', 'Period']\n",
    "continuous_columns = ['Atomic Mass']\n",
    "\n",
    "# Get one-hot encodings and feature names\n",
    "element_encoding, feature_names = one_hot_encode_elements(df, discrete_columns, continuous_columns)\n",
    "\n",
    "# Example output\n",
    "print(element_encoding[\"1\"])  # One-hot encoded features for 'H'\n",
    "print(feature_names)  # Names of all the features\n"
   ]
  },
  {
   "cell_type": "code",
   "execution_count": 5,
   "metadata": {},
   "outputs": [
    {
     "data": {
      "text/plain": [
       "<module 'mlband.features' from '/Users/ali/GitHub/rewotes/adavaria/mlband/features.py'>"
      ]
     },
     "execution_count": 5,
     "metadata": {},
     "output_type": "execute_result"
    }
   ],
   "source": [
    "import mlband.features\n",
    "importlib.reload(mlband.features)"
   ]
  },
  {
   "cell_type": "code",
   "execution_count": 19,
   "metadata": {},
   "outputs": [
    {
     "data": {
      "text/plain": [
       "array([0, 0, 0, 0, 0, 1, 0, 0, 0, 0, 0, 1, 0, 0, 0, 0, 0, 0, 0, 0])"
      ]
     },
     "execution_count": 19,
     "metadata": {},
     "output_type": "execute_result"
    }
   ],
   "source": [
    "enc, names = mlband.features.one_hot_encode_elements(\n",
    "    # discrete_columns=['group', 'period'], \n",
    "    continuous_columns=['Electronegativity', 'CovalentRadius'],\n",
    "    )\n",
    "a = np.array(enc['1'])\n",
    "a"
   ]
  },
  {
   "cell_type": "code",
   "execution_count": 12,
   "metadata": {},
   "outputs": [
    {
     "data": {
      "text/plain": [
       "((46,), (92,))"
      ]
     },
     "execution_count": 12,
     "metadata": {},
     "output_type": "execute_result"
    }
   ],
   "source": [
    "o = np.array([0., 1., 0., 0., 0., 0., 0., 0., 0., 0., 0., 0., 0., 0., 0., 0., 0.,\n",
    "       0., 0., 1., 0., 0., 0., 0., 0., 0., 0., 0., 0., 0., 1., 0., 0., 0.,\n",
    "       0., 0., 1., 0., 0., 0., 0., 0., 0., 0., 0., 0., 1., 0., 0., 0., 0.,\n",
    "       0., 0., 0., 0., 0., 0., 0., 0., 0., 0., 0., 0., 0., 1., 0., 0., 0.,\n",
    "       0., 0., 0., 0., 0., 1., 0., 0., 0., 0., 1., 0., 0., 0., 0., 0., 0.,\n",
    "       0., 1., 0., 0., 0., 0., 0.])\n",
    "a = np.array(enc['1'])\n",
    "a.shape, o.shape"
   ]
  },
  {
   "cell_type": "code",
   "execution_count": 14,
   "metadata": {},
   "outputs": [
    {
     "data": {
      "text/plain": [
       "array([ True,  True,  True,  True,  True,  True,  True,  True,  True,\n",
       "        True,  True,  True,  True,  True,  True,  True,  True,  True,\n",
       "        True,  True,  True,  True,  True,  True,  True,  True,  True,\n",
       "        True,  True,  True, False, False,  True,  True,  True,  True,\n",
       "       False, False,  True,  True,  True,  True,  True,  True,  True,\n",
       "        True])"
      ]
     },
     "execution_count": 14,
     "metadata": {},
     "output_type": "execute_result"
    }
   ],
   "source": [
    "np.array_equal(a, o[:a.shape[0]])\n",
    "a == o[:a.shape[0]]"
   ]
  },
  {
   "cell_type": "code",
   "execution_count": 12,
   "metadata": {},
   "outputs": [
    {
     "data": {
      "text/html": [
       "<div>\n",
       "<style scoped>\n",
       "    .dataframe tbody tr th:only-of-type {\n",
       "        vertical-align: middle;\n",
       "    }\n",
       "\n",
       "    .dataframe tbody tr th {\n",
       "        vertical-align: top;\n",
       "    }\n",
       "\n",
       "    .dataframe thead th {\n",
       "        text-align: right;\n",
       "    }\n",
       "</style>\n",
       "<table border=\"1\" class=\"dataframe\">\n",
       "  <thead>\n",
       "    <tr style=\"text-align: right;\">\n",
       "      <th></th>\n",
       "      <th>symbol</th>\n",
       "      <th>atomic number</th>\n",
       "      <th>atomic mass</th>\n",
       "      <th>group</th>\n",
       "      <th>period</th>\n",
       "      <th>MeltingT</th>\n",
       "      <th>MiracleRadius</th>\n",
       "      <th>CovalentRadius</th>\n",
       "      <th>FirstIonizationEnergy</th>\n",
       "      <th>GSestFCClatcnt</th>\n",
       "      <th>...</th>\n",
       "      <th>n_ws^third</th>\n",
       "      <th>HeatFusion</th>\n",
       "      <th>ZungerPP-r_d</th>\n",
       "      <th>ZungerPP-r_pi</th>\n",
       "      <th>NpValence</th>\n",
       "      <th>Row</th>\n",
       "      <th>FusionEnthalpy</th>\n",
       "      <th>GSbandgap</th>\n",
       "      <th>Electronegativity_binned</th>\n",
       "      <th>CovalentRadius_binned</th>\n",
       "    </tr>\n",
       "  </thead>\n",
       "  <tbody>\n",
       "    <tr>\n",
       "      <th>0</th>\n",
       "      <td>H</td>\n",
       "      <td>1</td>\n",
       "      <td>1.007940</td>\n",
       "      <td>1</td>\n",
       "      <td>1</td>\n",
       "      <td>14.01</td>\n",
       "      <td>0.0</td>\n",
       "      <td>31.0</td>\n",
       "      <td>13.598443</td>\n",
       "      <td>2.979865</td>\n",
       "      <td>...</td>\n",
       "      <td>1.50</td>\n",
       "      <td>0.060</td>\n",
       "      <td>0.0</td>\n",
       "      <td>0.000</td>\n",
       "      <td>0.0</td>\n",
       "      <td>1.0</td>\n",
       "      <td>0.060</td>\n",
       "      <td>7.853</td>\n",
       "      <td>Electronegativity_bin_5</td>\n",
       "      <td>CovalentRadius_bin_1</td>\n",
       "    </tr>\n",
       "    <tr>\n",
       "      <th>1</th>\n",
       "      <td>He</td>\n",
       "      <td>2</td>\n",
       "      <td>4.002602</td>\n",
       "      <td>18</td>\n",
       "      <td>1</td>\n",
       "      <td>0.00</td>\n",
       "      <td>0.0</td>\n",
       "      <td>28.0</td>\n",
       "      <td>24.587387</td>\n",
       "      <td>3.664774</td>\n",
       "      <td>...</td>\n",
       "      <td>0.00</td>\n",
       "      <td>0.000</td>\n",
       "      <td>0.0</td>\n",
       "      <td>0.000</td>\n",
       "      <td>0.0</td>\n",
       "      <td>1.0</td>\n",
       "      <td>0.000</td>\n",
       "      <td>18.098</td>\n",
       "      <td>Electronegativity_bin_0</td>\n",
       "      <td>CovalentRadius_bin_1</td>\n",
       "    </tr>\n",
       "    <tr>\n",
       "      <th>2</th>\n",
       "      <td>Li</td>\n",
       "      <td>3</td>\n",
       "      <td>6.941000</td>\n",
       "      <td>1</td>\n",
       "      <td>2</td>\n",
       "      <td>453.69</td>\n",
       "      <td>152.0</td>\n",
       "      <td>128.0</td>\n",
       "      <td>5.391719</td>\n",
       "      <td>4.048846</td>\n",
       "      <td>...</td>\n",
       "      <td>0.98</td>\n",
       "      <td>3.000</td>\n",
       "      <td>0.0</td>\n",
       "      <td>0.360</td>\n",
       "      <td>0.0</td>\n",
       "      <td>2.0</td>\n",
       "      <td>3.000</td>\n",
       "      <td>0.000</td>\n",
       "      <td>Electronegativity_bin_2</td>\n",
       "      <td>CovalentRadius_bin_4</td>\n",
       "    </tr>\n",
       "    <tr>\n",
       "      <th>3</th>\n",
       "      <td>Be</td>\n",
       "      <td>4</td>\n",
       "      <td>9.012182</td>\n",
       "      <td>2</td>\n",
       "      <td>2</td>\n",
       "      <td>1560.00</td>\n",
       "      <td>112.0</td>\n",
       "      <td>96.0</td>\n",
       "      <td>9.322700</td>\n",
       "      <td>3.160184</td>\n",
       "      <td>...</td>\n",
       "      <td>1.67</td>\n",
       "      <td>7.895</td>\n",
       "      <td>0.0</td>\n",
       "      <td>0.200</td>\n",
       "      <td>0.0</td>\n",
       "      <td>2.0</td>\n",
       "      <td>7.895</td>\n",
       "      <td>0.000</td>\n",
       "      <td>Electronegativity_bin_3</td>\n",
       "      <td>CovalentRadius_bin_3</td>\n",
       "    </tr>\n",
       "    <tr>\n",
       "      <th>4</th>\n",
       "      <td>B</td>\n",
       "      <td>5</td>\n",
       "      <td>10.811000</td>\n",
       "      <td>13</td>\n",
       "      <td>2</td>\n",
       "      <td>2348.00</td>\n",
       "      <td>88.0</td>\n",
       "      <td>84.0</td>\n",
       "      <td>8.298020</td>\n",
       "      <td>3.061330</td>\n",
       "      <td>...</td>\n",
       "      <td>1.75</td>\n",
       "      <td>50.200</td>\n",
       "      <td>0.0</td>\n",
       "      <td>0.165</td>\n",
       "      <td>1.0</td>\n",
       "      <td>2.0</td>\n",
       "      <td>50.200</td>\n",
       "      <td>1.524</td>\n",
       "      <td>Electronegativity_bin_5</td>\n",
       "      <td>CovalentRadius_bin_3</td>\n",
       "    </tr>\n",
       "    <tr>\n",
       "      <th>...</th>\n",
       "      <td>...</td>\n",
       "      <td>...</td>\n",
       "      <td>...</td>\n",
       "      <td>...</td>\n",
       "      <td>...</td>\n",
       "      <td>...</td>\n",
       "      <td>...</td>\n",
       "      <td>...</td>\n",
       "      <td>...</td>\n",
       "      <td>...</td>\n",
       "      <td>...</td>\n",
       "      <td>...</td>\n",
       "      <td>...</td>\n",
       "      <td>...</td>\n",
       "      <td>...</td>\n",
       "      <td>...</td>\n",
       "      <td>...</td>\n",
       "      <td>...</td>\n",
       "      <td>...</td>\n",
       "      <td>...</td>\n",
       "      <td>...</td>\n",
       "    </tr>\n",
       "    <tr>\n",
       "      <th>113</th>\n",
       "      <td>Fl</td>\n",
       "      <td>114</td>\n",
       "      <td>289.000000</td>\n",
       "      <td>14</td>\n",
       "      <td>7</td>\n",
       "      <td>0.00</td>\n",
       "      <td>0.0</td>\n",
       "      <td>0.0</td>\n",
       "      <td>0.000000</td>\n",
       "      <td>0.000000</td>\n",
       "      <td>...</td>\n",
       "      <td>0.00</td>\n",
       "      <td>0.000</td>\n",
       "      <td>0.0</td>\n",
       "      <td>0.000</td>\n",
       "      <td>0.0</td>\n",
       "      <td>0.0</td>\n",
       "      <td>0.000</td>\n",
       "      <td>0.000</td>\n",
       "      <td>Electronegativity_bin_0</td>\n",
       "      <td>CovalentRadius_bin_0</td>\n",
       "    </tr>\n",
       "    <tr>\n",
       "      <th>114</th>\n",
       "      <td>Mc</td>\n",
       "      <td>115</td>\n",
       "      <td>290.000000</td>\n",
       "      <td>15</td>\n",
       "      <td>7</td>\n",
       "      <td>0.00</td>\n",
       "      <td>0.0</td>\n",
       "      <td>0.0</td>\n",
       "      <td>0.000000</td>\n",
       "      <td>0.000000</td>\n",
       "      <td>...</td>\n",
       "      <td>0.00</td>\n",
       "      <td>0.000</td>\n",
       "      <td>0.0</td>\n",
       "      <td>0.000</td>\n",
       "      <td>0.0</td>\n",
       "      <td>0.0</td>\n",
       "      <td>0.000</td>\n",
       "      <td>0.000</td>\n",
       "      <td>Electronegativity_bin_0</td>\n",
       "      <td>CovalentRadius_bin_0</td>\n",
       "    </tr>\n",
       "    <tr>\n",
       "      <th>115</th>\n",
       "      <td>Lv</td>\n",
       "      <td>116</td>\n",
       "      <td>293.000000</td>\n",
       "      <td>16</td>\n",
       "      <td>7</td>\n",
       "      <td>0.00</td>\n",
       "      <td>0.0</td>\n",
       "      <td>0.0</td>\n",
       "      <td>0.000000</td>\n",
       "      <td>0.000000</td>\n",
       "      <td>...</td>\n",
       "      <td>0.00</td>\n",
       "      <td>0.000</td>\n",
       "      <td>0.0</td>\n",
       "      <td>0.000</td>\n",
       "      <td>0.0</td>\n",
       "      <td>0.0</td>\n",
       "      <td>0.000</td>\n",
       "      <td>0.000</td>\n",
       "      <td>Electronegativity_bin_0</td>\n",
       "      <td>CovalentRadius_bin_0</td>\n",
       "    </tr>\n",
       "    <tr>\n",
       "      <th>116</th>\n",
       "      <td>Ts</td>\n",
       "      <td>117</td>\n",
       "      <td>294.000000</td>\n",
       "      <td>17</td>\n",
       "      <td>7</td>\n",
       "      <td>0.00</td>\n",
       "      <td>0.0</td>\n",
       "      <td>0.0</td>\n",
       "      <td>0.000000</td>\n",
       "      <td>0.000000</td>\n",
       "      <td>...</td>\n",
       "      <td>0.00</td>\n",
       "      <td>0.000</td>\n",
       "      <td>0.0</td>\n",
       "      <td>0.000</td>\n",
       "      <td>0.0</td>\n",
       "      <td>0.0</td>\n",
       "      <td>0.000</td>\n",
       "      <td>0.000</td>\n",
       "      <td>Electronegativity_bin_0</td>\n",
       "      <td>CovalentRadius_bin_0</td>\n",
       "    </tr>\n",
       "    <tr>\n",
       "      <th>117</th>\n",
       "      <td>Og</td>\n",
       "      <td>118</td>\n",
       "      <td>294.000000</td>\n",
       "      <td>18</td>\n",
       "      <td>7</td>\n",
       "      <td>0.00</td>\n",
       "      <td>0.0</td>\n",
       "      <td>0.0</td>\n",
       "      <td>0.000000</td>\n",
       "      <td>0.000000</td>\n",
       "      <td>...</td>\n",
       "      <td>0.00</td>\n",
       "      <td>0.000</td>\n",
       "      <td>0.0</td>\n",
       "      <td>0.000</td>\n",
       "      <td>0.0</td>\n",
       "      <td>0.0</td>\n",
       "      <td>0.000</td>\n",
       "      <td>0.000</td>\n",
       "      <td>Electronegativity_bin_0</td>\n",
       "      <td>CovalentRadius_bin_0</td>\n",
       "    </tr>\n",
       "  </tbody>\n",
       "</table>\n",
       "<p>118 rows × 72 columns</p>\n",
       "</div>"
      ],
      "text/plain": [
       "    symbol  atomic number  atomic mass  group  period  MeltingT  \\\n",
       "0        H              1     1.007940      1       1     14.01   \n",
       "1       He              2     4.002602     18       1      0.00   \n",
       "2       Li              3     6.941000      1       2    453.69   \n",
       "3       Be              4     9.012182      2       2   1560.00   \n",
       "4        B              5    10.811000     13       2   2348.00   \n",
       "..     ...            ...          ...    ...     ...       ...   \n",
       "113     Fl            114   289.000000     14       7      0.00   \n",
       "114     Mc            115   290.000000     15       7      0.00   \n",
       "115     Lv            116   293.000000     16       7      0.00   \n",
       "116     Ts            117   294.000000     17       7      0.00   \n",
       "117     Og            118   294.000000     18       7      0.00   \n",
       "\n",
       "     MiracleRadius  CovalentRadius  FirstIonizationEnergy  GSestFCClatcnt  \\\n",
       "0              0.0            31.0              13.598443        2.979865   \n",
       "1              0.0            28.0              24.587387        3.664774   \n",
       "2            152.0           128.0               5.391719        4.048846   \n",
       "3            112.0            96.0               9.322700        3.160184   \n",
       "4             88.0            84.0               8.298020        3.061330   \n",
       "..             ...             ...                    ...             ...   \n",
       "113            0.0             0.0               0.000000        0.000000   \n",
       "114            0.0             0.0               0.000000        0.000000   \n",
       "115            0.0             0.0               0.000000        0.000000   \n",
       "116            0.0             0.0               0.000000        0.000000   \n",
       "117            0.0             0.0               0.000000        0.000000   \n",
       "\n",
       "     ...  n_ws^third  HeatFusion  ZungerPP-r_d  ZungerPP-r_pi  NpValence  Row  \\\n",
       "0    ...        1.50       0.060           0.0          0.000        0.0  1.0   \n",
       "1    ...        0.00       0.000           0.0          0.000        0.0  1.0   \n",
       "2    ...        0.98       3.000           0.0          0.360        0.0  2.0   \n",
       "3    ...        1.67       7.895           0.0          0.200        0.0  2.0   \n",
       "4    ...        1.75      50.200           0.0          0.165        1.0  2.0   \n",
       "..   ...         ...         ...           ...            ...        ...  ...   \n",
       "113  ...        0.00       0.000           0.0          0.000        0.0  0.0   \n",
       "114  ...        0.00       0.000           0.0          0.000        0.0  0.0   \n",
       "115  ...        0.00       0.000           0.0          0.000        0.0  0.0   \n",
       "116  ...        0.00       0.000           0.0          0.000        0.0  0.0   \n",
       "117  ...        0.00       0.000           0.0          0.000        0.0  0.0   \n",
       "\n",
       "     FusionEnthalpy  GSbandgap  Electronegativity_binned  \\\n",
       "0             0.060      7.853   Electronegativity_bin_5   \n",
       "1             0.000     18.098   Electronegativity_bin_0   \n",
       "2             3.000      0.000   Electronegativity_bin_2   \n",
       "3             7.895      0.000   Electronegativity_bin_3   \n",
       "4            50.200      1.524   Electronegativity_bin_5   \n",
       "..              ...        ...                       ...   \n",
       "113           0.000      0.000   Electronegativity_bin_0   \n",
       "114           0.000      0.000   Electronegativity_bin_0   \n",
       "115           0.000      0.000   Electronegativity_bin_0   \n",
       "116           0.000      0.000   Electronegativity_bin_0   \n",
       "117           0.000      0.000   Electronegativity_bin_0   \n",
       "\n",
       "     CovalentRadius_binned  \n",
       "0     CovalentRadius_bin_1  \n",
       "1     CovalentRadius_bin_1  \n",
       "2     CovalentRadius_bin_4  \n",
       "3     CovalentRadius_bin_3  \n",
       "4     CovalentRadius_bin_3  \n",
       "..                     ...  \n",
       "113   CovalentRadius_bin_0  \n",
       "114   CovalentRadius_bin_0  \n",
       "115   CovalentRadius_bin_0  \n",
       "116   CovalentRadius_bin_0  \n",
       "117   CovalentRadius_bin_0  \n",
       "\n",
       "[118 rows x 72 columns]"
      ]
     },
     "execution_count": 12,
     "metadata": {},
     "output_type": "execute_result"
    }
   ],
   "source": [
    "mlband.features.pt"
   ]
  }
 ],
 "metadata": {
  "kernelspec": {
   "display_name": "cgcnn",
   "language": "python",
   "name": "python3"
  },
  "language_info": {
   "codemirror_mode": {
    "name": "ipython",
    "version": 3
   },
   "file_extension": ".py",
   "mimetype": "text/x-python",
   "name": "python",
   "nbconvert_exporter": "python",
   "pygments_lexer": "ipython3",
   "version": "3.11.6"
  }
 },
 "nbformat": 4,
 "nbformat_minor": 2
}
