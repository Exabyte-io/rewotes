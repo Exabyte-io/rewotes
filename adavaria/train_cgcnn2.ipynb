{
 "cells": [
  {
   "cell_type": "code",
   "execution_count": 1,
   "metadata": {},
   "outputs": [],
   "source": [
    "from mlband.imports import *"
   ]
  },
  {
   "cell_type": "code",
   "execution_count": null,
   "metadata": {},
   "outputs": [],
   "source": [
    "# Backup the original sys.argv\n",
    "original_argv = sys.argv"
   ]
  },
  {
   "cell_type": "code",
   "execution_count": 18,
   "metadata": {},
   "outputs": [],
   "source": [
    "# Replace sys.argv with the arguments you want to pass\n",
    "sys.argv = ['main.py', './data/mp/', '--disable-cuda', '--workers', '4']\n",
    "\n"
   ]
  },
  {
   "cell_type": "code",
   "execution_count": 3,
   "metadata": {},
   "outputs": [],
   "source": [
    "sys.path.append(Path('./cgcnn/').absolute().__str__())"
   ]
  },
  {
   "cell_type": "code",
   "execution_count": 4,
   "metadata": {},
   "outputs": [
    {
     "data": {
      "text/plain": [
       "['/Users/ali/GitHub/rewotes/adavaria',\n",
       " '/Users/ali/mambaforge/envs/cgcnn/lib/python311.zip',\n",
       " '/Users/ali/mambaforge/envs/cgcnn/lib/python3.11',\n",
       " '/Users/ali/mambaforge/envs/cgcnn/lib/python3.11/lib-dynload',\n",
       " '',\n",
       " '/Users/ali/mambaforge/envs/cgcnn/lib/python3.11/site-packages',\n",
       " '/Users/ali/GitHub/rewotes/adavaria/cgcnn']"
      ]
     },
     "execution_count": 4,
     "metadata": {},
     "output_type": "execute_result"
    }
   ],
   "source": [
    "sys.path"
   ]
  },
  {
   "cell_type": "code",
   "execution_count": 6,
   "metadata": {},
   "outputs": [
    {
     "ename": "ImportError",
     "evalue": "cannot import name 'main' from 'cgcnn' (/Users/ali/GitHub/rewotes/adavaria/cgcnn/cgcnn/__init__.py)",
     "output_type": "error",
     "traceback": [
      "\u001b[0;31m---------------------------------------------------------------------------\u001b[0m",
      "\u001b[0;31mImportError\u001b[0m                               Traceback (most recent call last)",
      "\u001b[1;32m/Users/ali/GitHub/rewotes/adavaria/train_cgcnn2.ipynb Cell 5\u001b[0m line \u001b[0;36m1\n\u001b[0;32m----> <a href='vscode-notebook-cell:/Users/ali/GitHub/rewotes/adavaria/train_cgcnn2.ipynb#W2sZmlsZQ%3D%3D?line=0'>1</a>\u001b[0m \u001b[39mfrom\u001b[39;00m \u001b[39mcgcnn\u001b[39;00m \u001b[39mimport\u001b[39;00m main \u001b[39mas\u001b[39;00m cgcnn_main\n",
      "\u001b[0;31mImportError\u001b[0m: cannot import name 'main' from 'cgcnn' (/Users/ali/GitHub/rewotes/adavaria/cgcnn/cgcnn/__init__.py)"
     ]
    }
   ],
   "source": [
    "from cgcnn import main as cgcnn_main"
   ]
  },
  {
   "cell_type": "code",
   "execution_count": 15,
   "metadata": {},
   "outputs": [],
   "source": [
    "# There is no index and header in the csv file\n",
    "# df = pd.read_csv('./data/mp/id_prop.csv', index_col=None, header=None)\n",
    "#Save it again with no index and header\n",
    "# df.to_csv('./data/mp/id_prop_org.csv', index=False, header=False)\n",
    "# df.to_csv('./data/mp/id_prop.csv', index=False, header=False)\n",
    "# df[:100].to_csv('./data/mp/id_prop.csv', index=False, header=False)"
   ]
  },
  {
   "cell_type": "code",
   "execution_count": 19,
   "metadata": {},
   "outputs": [],
   "source": [
    "# with open('./cgcnn/main.py', 'r') as file:\n",
    "#     exec(file.read())\n"
   ]
  },
  {
   "cell_type": "code",
   "execution_count": 22,
   "metadata": {},
   "outputs": [
    {
     "name": "stdout",
     "output_type": "stream",
     "text": [
      "cgcnn\n",
      "\n",
      "\n"
     ]
    }
   ],
   "source": [
    "import subprocess\n",
    "\n",
    "# Define the path to the script and any arguments\n",
    "# script_path = './cgcnn/main.py'\n",
    "# args = ['./data/mp/', '--disable-cuda', '--workers', '4']\n",
    "\n",
    "# # Construct the command to run the script\n",
    "# command = ['python', script_path] + args\n",
    "# check the conda activate env\n",
    "# command = ['echo', '$CONDA_DEFAULT_ENV']\n",
    "command = 'echo $CONDA_DEFAULT_ENV'\n",
    "\n",
    "# Run the script and capture the output\n",
    "process = subprocess.run(command, stdout=subprocess.PIPE, stderr=subprocess.PIPE, text=True, shell=True)\n",
    "\n",
    "# Print the output and error messages, if any\n",
    "print(process.stdout)\n",
    "print(process.stderr)"
   ]
  }
 ],
 "metadata": {
  "kernelspec": {
   "display_name": "cgcnn",
   "language": "python",
   "name": "python3"
  },
  "language_info": {
   "codemirror_mode": {
    "name": "ipython",
    "version": 3
   },
   "file_extension": ".py",
   "mimetype": "text/x-python",
   "name": "python",
   "nbconvert_exporter": "python",
   "pygments_lexer": "ipython3",
   "version": "3.11.6"
  }
 },
 "nbformat": 4,
 "nbformat_minor": 2
}
