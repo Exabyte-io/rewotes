{
 "cells": [
  {
   "cell_type": "code",
   "execution_count": 1,
   "id": "0ee5d85e-4eae-4a7a-ac32-224b0b3a8790",
   "metadata": {},
   "outputs": [],
   "source": [
    "from utils.settings import ENDPOINT_ARGS, ACCOUNT_ID\n",
    "from utils.generic import display_JSON\n",
    "\n",
    "from exabyte_api_client.endpoints.jobs import JobEndpoints\n",
    "from exabyte_api_client.endpoints.materials import MaterialEndpoints\n",
    "from exabyte_api_client.endpoints.workflows import WorkflowEndpoints\n",
    "from exabyte_api_client.endpoints.workflows import WorkflowEndpoints\n",
    "from exabyte_api_client.endpoints.raw_properties import RawPropertiesEndpoints"
   ]
  },
  {
   "cell_type": "code",
   "execution_count": 2,
   "id": "de2c80b1-81d1-4384-9590-8dba396cd9a4",
   "metadata": {},
   "outputs": [
    {
     "data": {
      "text/plain": [
       "'2XAeZaPHoyCokZMAB'"
      ]
     },
     "execution_count": 2,
     "metadata": {},
     "output_type": "execute_result"
    }
   ],
   "source": [
    "ACCOUNT_ID"
   ]
  },
  {
   "cell_type": "code",
   "execution_count": 2,
   "id": "c1afdade-ed4d-4f67-8e31-8c0c57f1a34f",
   "metadata": {},
   "outputs": [],
   "source": [
    "job_endpoints = JobEndpoints(*ENDPOINT_ARGS)\n",
    "material_endpoints = MaterialEndpoints(*ENDPOINT_ARGS)\n",
    "workflow_endpoints = WorkflowEndpoints(*ENDPOINT_ARGS)\n",
    "raw_property_endpoints = RawPropertiesEndpoints(*ENDPOINT_ARGS)\n"
   ]
  },
  {
   "cell_type": "markdown",
   "id": "559b5cc5-2c35-483f-a044-81cab156e6f6",
   "metadata": {},
   "source": [
    "## Tutorial 1: Submitting a simple job"
   ]
  },
  {
   "cell_type": "code",
   "execution_count": 23,
   "id": "b9e4bea1-6277-477f-b594-777e817a6df5",
   "metadata": {},
   "outputs": [],
   "source": [
    "default_material = material_endpoints.list({\"isDefault\": True, \"owner._id\": ACCOUNT_ID})[0]\n",
    "default_workflow = workflow_endpoints.list({\"isDefault\": True, \"owner._id\": ACCOUNT_ID})[0]\n",
    "\n",
    "material_id = default_material[\"_id\"]\n",
    "workflow_id = default_workflow[\"_id\"]\n",
    "owner_id = default_material[\"owner\"][\"_id\"]\n"
   ]
  },
  {
   "cell_type": "code",
   "execution_count": 24,
   "id": "0c5cbe48-bf4c-4163-9292-9ff505cb80fa",
   "metadata": {},
   "outputs": [],
   "source": [
    "config = {\n",
    "    \"owner\": {\"_id\": owner_id},\n",
    "    \"_material\": {\"_id\": material_id},\n",
    "    \"workflow\": {\"_id\": workflow_id},\n",
    "    \"name\": \"TEST JOB\",\n",
    "    \"compute\" : job_endpoints.get_compute(cluster = 'master-production-20160630-cluster-001.exabyte.io',ppn=1,queue='SR')\n",
    "\n",
    "}\n",
    "\n",
    "job = job_endpoints.create(config)\n",
    "#job_endpoints.submit(job[\"_id\"])\n",
    "\n",
    "# This works as expected"
   ]
  },
  {
   "cell_type": "code",
   "execution_count": 19,
   "id": "e9e22b38-cc4b-4c7c-a46c-2c8b7cc3d96e",
   "metadata": {},
   "outputs": [],
   "source": [
    "default_material = material_endpoints.list({\"isDefault\": True, \"owner._id\": ACCOUNT_ID})[0]\n",
    "default_workflow = workflow_endpoints.list({\"isDefault\": True, \"owner._id\": ACCOUNT_ID})[0]"
   ]
  },
  {
   "cell_type": "markdown",
   "id": "e2ed2b58-de74-4963-abb1-f403d3431a4a",
   "metadata": {},
   "source": [
    "# Explicit pw.in files"
   ]
  },
  {
   "cell_type": "code",
   "execution_count": 22,
   "id": "dc00331e-58f6-4995-8200-9d92c27b51df",
   "metadata": {},
   "outputs": [],
   "source": [
    "workflow_body = default_workflow.copy()\n",
    "with open(\"Si/pw.in\", \"r\") as f:\n",
    "    workflow_body[\"subworkflows\"][0][\"units\"][0][\"input\"][0][\"content\"] = f.read()\n",
    "workflow = workflow_endpoints.create(workflow_body)\n",
    "\n",
    "material_id = default_material[\"_id\"]\n",
    "workflow_id = workflow[\"_id\"]\n",
    "owner_id = default_material[\"owner\"][\"_id\"]\n",
    "\n",
    "config = {\n",
    "    \"owner\": {\"_id\": owner_id},\n",
    "    \"_material\": {\"_id\": material_id},\n",
    "    \"workflow\": {\"_id\": workflow_id},\n",
    "    \"name\": \"Explicit pw.in\",\n",
    "    \"compute\" : job_endpoints.get_compute(cluster = 'master-production-20160630-cluster-001.exabyte.io',ppn=1,queue='SR')\n",
    "}\n",
    "\n",
    "job = job_endpoints.create(config)\n"
   ]
  },
  {
   "cell_type": "code",
   "execution_count": 21,
   "id": "986c3d38-6275-4df4-98f1-0237ad2b01b1",
   "metadata": {},
   "outputs": [
    {
     "name": "stdout",
     "output_type": "stream",
     "text": [
      "{% if subworkflowContext.MATERIAL_INDEX %}\n",
      "{%- set input = input.perMaterial[subworkflowContext.MATERIAL_INDEX] -%}\n",
      "{% endif -%}\n",
      "&CONTROL\n",
      "    calculation = 'scf'\n",
      "    title = ''\n",
      "    verbosity = 'low'\n",
      "    restart_mode = '{{ input.RESTART_MODE }}'\n",
      "    wf_collect = .true.\n",
      "    tstress = .true.\n",
      "    tprnfor = .true.\n",
      "    outdir = {% raw %}'{{ JOB_WORK_DIR }}/outdir'{% endraw %}\n",
      "    wfcdir = {% raw %}'{{ JOB_WORK_DIR }}/outdir'{% endraw %}\n",
      "    prefix = '__prefix__'\n",
      "    pseudo_dir = {% raw %}'{{ JOB_WORK_DIR }}/pseudo'{% endraw %}\n",
      "/\n",
      "&SYSTEM\n",
      "    ibrav = {{ input.IBRAV }}\n",
      "    nat = {{ input.NAT }}\n",
      "    ntyp = {{ input.NTYP }}\n",
      "    ecutwfc = {{ cutoffs.wavefunction }}\n",
      "    ecutrho = {{ cutoffs.density }}\n",
      "    occupations = 'smearing'\n",
      "    degauss = 0.005\n",
      "/\n",
      "&ELECTRONS\n",
      "    diagonalization = 'david'\n",
      "    diago_david_ndim = 4\n",
      "    diago_full_acc = .true.\n",
      "    mixing_beta = 0.3\n",
      "    startingwfc = 'atomic+random'\n",
      "/\n",
      "&IONS\n",
      "/\n",
      "&CELL\n",
      "/\n",
      "ATOMIC_SPECIES\n",
      "{{ input.ATOMIC_SPECIES }}\n",
      "ATOMIC_POSITIONS crystal\n",
      "{{ input.ATOMIC_POSITIONS }}\n",
      "CELL_PARAMETERS angstrom\n",
      "{{ input.CELL_PARAMETERS }}\n",
      "K_POINTS automatic\n",
      "{% for d in kgrid.dimensions %}{{d}} {% endfor %}{% for s in kgrid.shifts %}{{s}} {% endfor %}\n"
     ]
    }
   ],
   "source": [
    "print(default_workflow[\"subworkflows\"][0][\"units\"][0][\"input\"][0][\"content\"])"
   ]
  },
  {
   "cell_type": "markdown",
   "id": "4acba9ba-02d9-4be4-b447-1c5ca2bfdd81",
   "metadata": {},
   "source": [
    "# Explicit pw.in file job without material"
   ]
  },
  {
   "cell_type": "code",
   "execution_count": 26,
   "id": "46dc8ec1-c823-4a51-8ff0-5beb8df98340",
   "metadata": {},
   "outputs": [],
   "source": [
    "workflow_body = default_workflow.copy()\n",
    "with open(\"Si/pw.in\", \"r\") as f:\n",
    "    workflow_body[\"subworkflows\"][0][\"units\"][0][\"input\"][0][\"content\"] = f.read()\n",
    "workflow = workflow_endpoints.create(workflow_body)\n",
    "\n",
    "material_id = default_material[\"_id\"]\n",
    "workflow_id = workflow[\"_id\"]\n",
    "owner_id = default_material[\"owner\"][\"_id\"]\n",
    "\n",
    "config = {\n",
    "    \"owner\": {\"_id\": owner_id},\n",
    "    \"workflow\": {\"_id\": workflow_id},\n",
    "    \"name\": \"Explicit pw.in no material\",\n",
    "    \"compute\" : job_endpoints.get_compute(cluster = 'master-production-20160630-cluster-001.exabyte.io',ppn=1,queue='SR')\n",
    "}\n",
    "\n",
    "job = job_endpoints.create(config)\n"
   ]
  },
  {
   "cell_type": "markdown",
   "id": "b5aec0f4-09b3-4200-972a-9a6a04328700",
   "metadata": {},
   "source": [
    "## extract energy"
   ]
  },
  {
   "cell_type": "code",
   "execution_count": 27,
   "id": "18386eb6-ad58-47be-93d8-5f75e4d21a14",
   "metadata": {},
   "outputs": [],
   "source": [
    "unit_flowchart_Id = workflow['subworkflows'][0]['units'][0]['flowchartId']\n",
    "total_energy = raw_property_endpoints.get_property(job['_id'], unit_flowchart_Id, 'total_energy')"
   ]
  },
  {
   "cell_type": "code",
   "execution_count": 28,
   "id": "8b0397ca-1fb7-47aa-9009-9f570b24c09a",
   "metadata": {},
   "outputs": [
    {
     "data": {
      "text/plain": [
       "{'_id': 'kmjZXtfBehFXjsL9L',\n",
       " 'data': {'name': 'total_energy',\n",
       "  'units': 'eV',\n",
       "  'value': -258.6293950171692,\n",
       "  'repetition': 0},\n",
       " 'owner': {'_id': '2XAeZaPHoyCokZMAB', 'slug': 'wolearyc', 'cls': 'Account'},\n",
       " 'creator': {'_id': 'LSr3sjC7BE5hF5fwD', 'slug': 'wolearyc', 'cls': 'User'},\n",
       " 'source': {'type': 'exabyte',\n",
       "  'info': {'jobId': 'xJ9uABZ9iL9HeBT8P',\n",
       "   'unitId': '139044b1-f2c2-4cd0-aa2e-1d2804afd1b8'}},\n",
       " 'group': 'qe:dft:gga:pbe',\n",
       " 'slug': 'total_energy',\n",
       " 'schemaVersion': '2022.8.16',\n",
       " 'isDefault': False,\n",
       " 'createdAt': '2023-10-11T15:11:28.817Z',\n",
       " 'createdBy': '0',\n",
       " 'inSet': [{'_id': 'nQtFH6EKKxYJFY98d', 'slug': 'read', 'cls': 'Team'},\n",
       "  {'_id': 'BzSwk5ZcXW36nbFKN', 'slug': 'admin', 'cls': 'Team'},\n",
       "  {'_id': 'srRCJEpiCshbKcATp', 'slug': 'owner', 'cls': 'Team'},\n",
       "  {'_id': '7CCqhi9XQ3uLCs32F', 'slug': 'read', 'cls': 'Team'},\n",
       "  {'_id': 'BZCrK7WG3EPvnTook', 'slug': 'comment', 'cls': 'Team'},\n",
       "  {'_id': 'iBYCnzdaFSpyrX6JJ', 'slug': 'execute', 'cls': 'Team'},\n",
       "  {'_id': 'ZTAW5Lhvu2EXG2Hhb', 'slug': 'edit', 'cls': 'Team'}],\n",
       " 'updatedAt': '2023-10-11T15:11:29.062Z',\n",
       " 'updatedBy': '0'}"
      ]
     },
     "execution_count": 28,
     "metadata": {},
     "output_type": "execute_result"
    }
   ],
   "source": [
    "total_energy"
   ]
  },
  {
   "cell_type": "code",
   "execution_count": null,
   "id": "72262644-08de-4780-a3f9-b2821186aeaa",
   "metadata": {},
   "outputs": [],
   "source": []
  }
 ],
 "metadata": {
  "kernelspec": {
   "display_name": "Python 3 (ipykernel)",
   "language": "python",
   "name": "python3"
  },
  "language_info": {
   "codemirror_mode": {
    "name": "ipython",
    "version": 3
   },
   "file_extension": ".py",
   "mimetype": "text/x-python",
   "name": "python",
   "nbconvert_exporter": "python",
   "pygments_lexer": "ipython3",
   "version": "3.9.6"
  }
 },
 "nbformat": 4,
 "nbformat_minor": 5
}
