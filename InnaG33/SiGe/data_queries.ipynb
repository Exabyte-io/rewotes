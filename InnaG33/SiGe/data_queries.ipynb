{
 "cells": [
  {
   "cell_type": "markdown",
   "metadata": {},
   "source": [
    "### API data queries"
   ]
  },
  {
   "cell_type": "markdown",
   "metadata": {},
   "source": [
    "`API Data queries from https://materialsproject.org/ for train dataset`"
   ]
  },
  {
   "cell_type": "code",
   "execution_count": 1,
   "metadata": {},
   "outputs": [],
   "source": [
    "import json\n",
    "import requests\n",
    "from pprint import pprint\n",
    "import pandas as pd"
   ]
  },
  {
   "cell_type": "code",
   "execution_count": 2,
   "metadata": {},
   "outputs": [],
   "source": [
    "api_key=\"API_KEY\""
   ]
  },
  {
   "cell_type": "code",
   "execution_count": 3,
   "metadata": {},
   "outputs": [],
   "source": [
    "data = {\n",
    "    'criteria': {\n",
    "        'elements': {'$in': ['Si'], '$all': ['Ge']},\n",
    "        'nelements': 2,\n",
    "    },\n",
    "    'properties': [\n",
    "        'full_formula',\n",
    "        'volume',\n",
    "        'cif',\n",
    "        'formation_energy_per_atom',\n",
    "        'band_gap',\n",
    "        'density',\n",
    "        'e_above_hull'\n",
    "        \n",
    "    ]\n",
    "}\n",
    "r = requests.post('https://materialsproject.org/rest/v2/query',\n",
    "                 headers={'X-API-KEY': api_key},\n",
    "                 data={k: json.dumps(v) for k,v in data.items()})\n",
    "res1 = r.json() "
   ]
  },
  {
   "cell_type": "code",
   "execution_count": 10,
   "metadata": {},
   "outputs": [],
   "source": [
    "data = {\n",
    "    'criteria': {\n",
    "        'elements': {'$in': ['Si']},\n",
    "        'nelements': 1,\n",
    "    },\n",
    "    'properties': [\n",
    "        'full_formula',\n",
    "        'volume',\n",
    "        'cif',\n",
    "        'formation_energy_per_atom',\n",
    "        'band_gap',\n",
    "        'density',\n",
    "        'e_above_hull'\n",
    "        \n",
    "    ]\n",
    "}\n",
    "r = requests.post('https://materialsproject.org/rest/v2/query',\n",
    "                 headers={'X-API-KEY': api_key},\n",
    "                 data={k: json.dumps(v) for k,v in data.items()})\n",
    "res2 = r.json() "
   ]
  },
  {
   "cell_type": "code",
   "execution_count": 9,
   "metadata": {},
   "outputs": [],
   "source": [
    "data = {\n",
    "    'criteria': {\n",
    "        'elements': {'$in': ['Ge']},\n",
    "        'nelements': 1,\n",
    "    },\n",
    "    'properties': [\n",
    "        'full_formula',\n",
    "        'volume',\n",
    "        'cif',\n",
    "        'formation_energy_per_atom',\n",
    "        'band_gap',\n",
    "        'density',\n",
    "        'e_above_hull'\n",
    "        \n",
    "    ]\n",
    "}\n",
    "r = requests.post('https://materialsproject.org/rest/v2/query',\n",
    "                 headers={'X-API-KEY': api_key},\n",
    "                 data={k: json.dumps(v) for k,v in data.items()})\n",
    "res3 = r.json() # a dict"
   ]
  },
  {
   "cell_type": "code",
   "execution_count": 11,
   "metadata": {},
   "outputs": [],
   "source": [
    "tot_res=[]\n",
    "tot_res.append(res1)\n",
    "tot_res.append(res2)\n",
    "tot_res.append(res3)\n"
   ]
  },
  {
   "cell_type": "code",
   "execution_count": 14,
   "metadata": {},
   "outputs": [
    {
     "data": {
      "text/plain": [
       "8"
      ]
     },
     "execution_count": 14,
     "metadata": {},
     "output_type": "execute_result"
    }
   ],
   "source": [
    "len(tot_res[1])"
   ]
  },
  {
   "cell_type": "code",
   "execution_count": 15,
   "metadata": {},
   "outputs": [],
   "source": [
    "band_gaps=[]\n",
    "a=[]\n",
    "b=[]\n",
    "c=[]\n",
    "alpha=[]\n",
    "beta=[]\n",
    "gamma=[]\n",
    "volume=[]\n",
    "\n",
    "formula=[]\n",
    "density=[]\n",
    "e_above_hull=[]\n",
    "formation_energy_per_atom=[]"
   ]
  },
  {
   "cell_type": "code",
   "execution_count": 16,
   "metadata": {},
   "outputs": [],
   "source": [
    "for res in tot_res:\n",
    "    \n",
    "    for i in range(len(res)-2):\n",
    "\n",
    "        band_gaps.append(res['response'][i][\"band_gap\"])\n",
    "        volume.append(res['response'][i][\"volume\"])\n",
    "        formula.append(res['response'][i][\"full_formula\"])\n",
    "        density.append(res['response'][i][\"density\"])\n",
    "        e_above_hull.append(res['response'][i][\"e_above_hull\"])\n",
    "        formation_energy_per_atom.append(res['response'][i][\"formation_energy_per_atom\"])\n",
    "    \n",
    "        a.append(res['response'][i][\"cif\"].split('\\n')[3])\n",
    "        b.append(res['response'][i][\"cif\"].split('\\n')[4])\n",
    "        c.append(res['response'][i][\"cif\"].split('\\n')[5])\n",
    "    \n",
    "        alpha.append(res['response'][i][\"cif\"].split('\\n')[6])\n",
    "        beta.append(res['response'][i][\"cif\"].split('\\n')[7])\n",
    "        gamma.append(res['response'][i][\"cif\"].split('\\n')[8])"
   ]
  },
  {
   "cell_type": "code",
   "execution_count": 22,
   "metadata": {},
   "outputs": [],
   "source": [
    "df_api=pd.DataFrame({\n",
    "    'a_str':a,\n",
    "    'b_str':b,\n",
    "    'c_str':c,\n",
    "    'alpha_str':alpha,\n",
    "    'beta_str':beta,\n",
    "    'gamma_str':gamma,\n",
    "    'volume':volume,\n",
    "    'formula':formula,\n",
    "    'band_gap':band_gaps,\n",
    "    'density':density,\n",
    "    'formation_energy_per_atom':formation_energy_per_atom,\n",
    "    'e_above_hull':e_above_hull\n",
    "})"
   ]
  },
  {
   "cell_type": "code",
   "execution_count": 23,
   "metadata": {},
   "outputs": [
    {
     "data": {
      "text/html": [
       "<div>\n",
       "<style scoped>\n",
       "    .dataframe tbody tr th:only-of-type {\n",
       "        vertical-align: middle;\n",
       "    }\n",
       "\n",
       "    .dataframe tbody tr th {\n",
       "        vertical-align: top;\n",
       "    }\n",
       "\n",
       "    .dataframe thead th {\n",
       "        text-align: right;\n",
       "    }\n",
       "</style>\n",
       "<table border=\"1\" class=\"dataframe\">\n",
       "  <thead>\n",
       "    <tr style=\"text-align: right;\">\n",
       "      <th></th>\n",
       "      <th>volume</th>\n",
       "      <th>formula</th>\n",
       "      <th>band_gap</th>\n",
       "      <th>density</th>\n",
       "      <th>formation_energy_per_atom</th>\n",
       "      <th>e_above_hull</th>\n",
       "      <th>a</th>\n",
       "      <th>b</th>\n",
       "      <th>c</th>\n",
       "      <th>alpha</th>\n",
       "      <th>beta</th>\n",
       "      <th>gamma</th>\n",
       "    </tr>\n",
       "  </thead>\n",
       "  <tbody>\n",
       "    <tr>\n",
       "      <th>0</th>\n",
       "      <td>166.289891</td>\n",
       "      <td>Si7Ge1</td>\n",
       "      <td>0.4267</td>\n",
       "      <td>2.688564</td>\n",
       "      <td>0.070136</td>\n",
       "      <td>0.070136</td>\n",
       "      <td>5.499062</td>\n",
       "      <td>5.499062</td>\n",
       "      <td>5.499062</td>\n",
       "      <td>90.000000</td>\n",
       "      <td>90.000000</td>\n",
       "      <td>90.000000</td>\n",
       "    </tr>\n",
       "    <tr>\n",
       "      <th>1</th>\n",
       "      <td>43.740926</td>\n",
       "      <td>Si1Ge1</td>\n",
       "      <td>0.8585</td>\n",
       "      <td>3.823847</td>\n",
       "      <td>0.060242</td>\n",
       "      <td>0.060242</td>\n",
       "      <td>3.954889</td>\n",
       "      <td>3.954889</td>\n",
       "      <td>3.954889</td>\n",
       "      <td>60.000000</td>\n",
       "      <td>60.000000</td>\n",
       "      <td>60.000000</td>\n",
       "    </tr>\n",
       "    <tr>\n",
       "      <th>2</th>\n",
       "      <td>63.539127</td>\n",
       "      <td>Si3Ge1</td>\n",
       "      <td>0.0000</td>\n",
       "      <td>4.100352</td>\n",
       "      <td>0.580800</td>\n",
       "      <td>0.580800</td>\n",
       "      <td>4.479045</td>\n",
       "      <td>4.479045</td>\n",
       "      <td>4.479045</td>\n",
       "      <td>60.000000</td>\n",
       "      <td>60.000000</td>\n",
       "      <td>60.000000</td>\n",
       "    </tr>\n",
       "    <tr>\n",
       "      <th>3</th>\n",
       "      <td>74.245754</td>\n",
       "      <td>Si1Ge3</td>\n",
       "      <td>0.0000</td>\n",
       "      <td>5.502022</td>\n",
       "      <td>0.421127</td>\n",
       "      <td>0.421127</td>\n",
       "      <td>5.471575</td>\n",
       "      <td>5.471575</td>\n",
       "      <td>5.471575</td>\n",
       "      <td>137.375371</td>\n",
       "      <td>137.375371</td>\n",
       "      <td>61.861006</td>\n",
       "    </tr>\n",
       "    <tr>\n",
       "      <th>4</th>\n",
       "      <td>702.558518</td>\n",
       "      <td>Si16Ge16</td>\n",
       "      <td>0.5091</td>\n",
       "      <td>3.809132</td>\n",
       "      <td>0.052983</td>\n",
       "      <td>0.052983</td>\n",
       "      <td>5.600638</td>\n",
       "      <td>11.199397</td>\n",
       "      <td>11.200834</td>\n",
       "      <td>89.993959</td>\n",
       "      <td>90.000000</td>\n",
       "      <td>90.000000</td>\n",
       "    </tr>\n",
       "  </tbody>\n",
       "</table>\n",
       "</div>"
      ],
      "text/plain": [
       "       volume   formula  band_gap   density  formation_energy_per_atom  \\\n",
       "0  166.289891    Si7Ge1    0.4267  2.688564                   0.070136   \n",
       "1   43.740926    Si1Ge1    0.8585  3.823847                   0.060242   \n",
       "2   63.539127    Si3Ge1    0.0000  4.100352                   0.580800   \n",
       "3   74.245754    Si1Ge3    0.0000  5.502022                   0.421127   \n",
       "4  702.558518  Si16Ge16    0.5091  3.809132                   0.052983   \n",
       "\n",
       "   e_above_hull         a          b          c       alpha        beta  \\\n",
       "0      0.070136  5.499062   5.499062   5.499062   90.000000   90.000000   \n",
       "1      0.060242  3.954889   3.954889   3.954889   60.000000   60.000000   \n",
       "2      0.580800  4.479045   4.479045   4.479045   60.000000   60.000000   \n",
       "3      0.421127  5.471575   5.471575   5.471575  137.375371  137.375371   \n",
       "4      0.052983  5.600638  11.199397  11.200834   89.993959   90.000000   \n",
       "\n",
       "       gamma  \n",
       "0  90.000000  \n",
       "1  60.000000  \n",
       "2  60.000000  \n",
       "3  61.861006  \n",
       "4  90.000000  "
      ]
     },
     "execution_count": 23,
     "metadata": {},
     "output_type": "execute_result"
    }
   ],
   "source": [
    "for i in range(len(df_api)):\n",
    "    df_api.loc[i, 'a']=float(df_api['a_str'][i].split(' ')[3])\n",
    "    df_api.loc[i, 'b']=float(df_api['b_str'][i].split(' ')[3])\n",
    "    df_api.loc[i, 'c']=float(df_api['c_str'][i].split(' ')[3])\n",
    "    df_api.loc[i, 'alpha']=float(df_api['alpha_str'][i].split(' ')[3])\n",
    "    df_api.loc[i, 'beta']=float(df_api['beta_str'][i].split(' ')[3])\n",
    "    df_api.loc[i,'gamma']=float(df_api['gamma_str'][i].split(' ')[3])\n",
    "\n",
    "str_cols=['a_str', 'b_str', 'c_str', 'alpha_str', 'beta_str', 'gamma_str']\n",
    "df_api.drop(columns=str_cols, axis=1, inplace=True)\n",
    "\n",
    "df_api.head()"
   ]
  },
  {
   "cell_type": "code",
   "execution_count": 25,
   "metadata": {},
   "outputs": [],
   "source": [
    "df_api.to_csv('data/tran_df_mp1.csv')"
   ]
  },
  {
   "cell_type": "code",
   "execution_count": null,
   "metadata": {},
   "outputs": [],
   "source": []
  }
 ],
 "metadata": {
  "kernelspec": {
   "display_name": "Python 3",
   "language": "python",
   "name": "python3"
  },
  "language_info": {
   "codemirror_mode": {
    "name": "ipython",
    "version": 3
   },
   "file_extension": ".py",
   "mimetype": "text/x-python",
   "name": "python",
   "nbconvert_exporter": "python",
   "pygments_lexer": "ipython3",
   "version": "3.7.9"
  }
 },
 "nbformat": 4,
 "nbformat_minor": 4
}
