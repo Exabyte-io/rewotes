{
 "cells": [
  {
   "cell_type": "code",
   "execution_count": 1,
   "metadata": {},
   "outputs": [],
   "source": [
    "from copy import deepcopy\n",
    "from pathlib import Path\n",
    "\n",
    "import seaborn as sns\n",
    "from converger import Manager"
   ]
  },
  {
   "cell_type": "code",
   "execution_count": 2,
   "metadata": {},
   "outputs": [],
   "source": [
    "# Test structures obtained from https://gitlab.com/QEF/q-e/-/tree/master/PW/examples\n",
    "\n",
    "tests = Path.home().joinpath(\"tests\")\n",
    "\n",
    "base_input = {\n",
    "    \"solver_input\": {\n",
    "        \"name\": \"espresso\",\n",
    "    },\n",
    "    \"input_path\": '',\n",
    "    \"target\": \"etot\",\n",
    "    \"tol\": 1.0e-3,\n",
    "    \"parameter_space\": [\n",
    "        {\n",
    "            \"name\": \"k\",\n",
    "            \"start\": 1,\n",
    "            \"max\": 10,\n",
    "            \"delta\": 1\n",
    "        },\n",
    "    ]\n",
    "}"
   ]
  },
  {
   "cell_type": "code",
   "execution_count": 17,
   "metadata": {},
   "outputs": [
    {
     "data": {
      "text/html": [
       "<div>\n",
       "<style scoped>\n",
       "    .dataframe tbody tr th:only-of-type {\n",
       "        vertical-align: middle;\n",
       "    }\n",
       "\n",
       "    .dataframe tbody tr th {\n",
       "        vertical-align: top;\n",
       "    }\n",
       "\n",
       "    .dataframe thead th {\n",
       "        text-align: right;\n",
       "    }\n",
       "</style>\n",
       "<table border=\"1\" class=\"dataframe\">\n",
       "  <thead>\n",
       "    <tr style=\"text-align: right;\">\n",
       "      <th></th>\n",
       "      <th>k</th>\n",
       "      <th>etot</th>\n",
       "      <th>relative_tol</th>\n",
       "    </tr>\n",
       "  </thead>\n",
       "  <tbody>\n",
       "    <tr>\n",
       "      <th>0</th>\n",
       "      <td>1</td>\n",
       "      <td>-1.937625</td>\n",
       "      <td>1.000000</td>\n",
       "    </tr>\n",
       "    <tr>\n",
       "      <th>1</th>\n",
       "      <td>2</td>\n",
       "      <td>-1.937829</td>\n",
       "      <td>0.000106</td>\n",
       "    </tr>\n",
       "    <tr>\n",
       "      <th>2</th>\n",
       "      <td>3</td>\n",
       "      <td>-1.937832</td>\n",
       "      <td>0.000002</td>\n",
       "    </tr>\n",
       "  </tbody>\n",
       "</table>\n",
       "</div>"
      ],
      "text/plain": [
       "   k      etot  relative_tol\n",
       "0  1 -1.937625      1.000000\n",
       "1  2 -1.937829      0.000106\n",
       "2  3 -1.937832      0.000002"
      ]
     },
     "execution_count": 17,
     "metadata": {},
     "output_type": "execute_result"
    },
    {
     "data": {
      "image/png": "[encoded data removed]",
      "text/plain": [
       "<Figure size 500x500 with 1 Axes>"
      ]
     },
     "metadata": {},
     "output_type": "display_data"
    }
   ],
   "source": [
    "# Al - single atom\n",
    "al_dir = str(tests.joinpath(\"Al\"))\n",
    "input_al = deepcopy(base_input)\n",
    "input_al['input_path'] = al_dir\n",
    "input_al['tol'] = 1.0e-5\n",
    "\n",
    "m1 = Manager(input_al)\n",
    "m1.run()\n",
    "sns.relplot(data=m1.data, x='k', y='etot')\n",
    "m1.data"
   ]
  },
  {
   "cell_type": "code",
   "execution_count": 16,
   "metadata": {},
   "outputs": [
    {
     "data": {
      "text/html": [
       "<div>\n",
       "<style scoped>\n",
       "    .dataframe tbody tr th:only-of-type {\n",
       "        vertical-align: middle;\n",
       "    }\n",
       "\n",
       "    .dataframe tbody tr th {\n",
       "        vertical-align: top;\n",
       "    }\n",
       "\n",
       "    .dataframe thead th {\n",
       "        text-align: right;\n",
       "    }\n",
       "</style>\n",
       "<table border=\"1\" class=\"dataframe\">\n",
       "  <thead>\n",
       "    <tr style=\"text-align: right;\">\n",
       "      <th></th>\n",
       "      <th>k</th>\n",
       "      <th>etot</th>\n",
       "      <th>relative_tol</th>\n",
       "    </tr>\n",
       "  </thead>\n",
       "  <tbody>\n",
       "    <tr>\n",
       "      <th>0</th>\n",
       "      <td>1</td>\n",
       "      <td>-7.843738</td>\n",
       "      <td>1.000000</td>\n",
       "    </tr>\n",
       "    <tr>\n",
       "      <th>1</th>\n",
       "      <td>2</td>\n",
       "      <td>-8.369950</td>\n",
       "      <td>0.067087</td>\n",
       "    </tr>\n",
       "    <tr>\n",
       "      <th>2</th>\n",
       "      <td>3</td>\n",
       "      <td>-8.440101</td>\n",
       "      <td>0.008381</td>\n",
       "    </tr>\n",
       "    <tr>\n",
       "      <th>3</th>\n",
       "      <td>4</td>\n",
       "      <td>-8.455677</td>\n",
       "      <td>0.001846</td>\n",
       "    </tr>\n",
       "    <tr>\n",
       "      <th>4</th>\n",
       "      <td>5</td>\n",
       "      <td>-8.460150</td>\n",
       "      <td>0.000529</td>\n",
       "    </tr>\n",
       "  </tbody>\n",
       "</table>\n",
       "</div>"
      ],
      "text/plain": [
       "   k      etot  relative_tol\n",
       "0  1 -7.843738      1.000000\n",
       "1  2 -8.369950      0.067087\n",
       "2  3 -8.440101      0.008381\n",
       "3  4 -8.455677      0.001846\n",
       "4  5 -8.460150      0.000529"
      ]
     },
     "execution_count": 16,
     "metadata": {},
     "output_type": "execute_result"
    },
    {
     "data": {
      "image/png": "[encoded data removed]",
      "text/plain": [
       "<Figure size 500x500 with 1 Axes>"
      ]
     },
     "metadata": {},
     "output_type": "display_data"
    }
   ],
   "source": [
    "# Si2 2 atom\n",
    "\n",
    "si_dir = str(tests.joinpath(\"Si\"))\n",
    "input_si = deepcopy(base_input)\n",
    "input_si['input_path'] = si_dir\n",
    "\n",
    "m2 = Manager(input_si)\n",
    "m2.run()\n",
    "sns.relplot(data=m2.data, x='k', y='etot')\n",
    "m2.data"
   ]
  },
  {
   "cell_type": "code",
   "execution_count": 18,
   "metadata": {},
   "outputs": [
    {
     "data": {
      "text/html": [
       "<div>\n",
       "<style scoped>\n",
       "    .dataframe tbody tr th:only-of-type {\n",
       "        vertical-align: middle;\n",
       "    }\n",
       "\n",
       "    .dataframe tbody tr th {\n",
       "        vertical-align: top;\n",
       "    }\n",
       "\n",
       "    .dataframe thead th {\n",
       "        text-align: right;\n",
       "    }\n",
       "</style>\n",
       "<table border=\"1\" class=\"dataframe\">\n",
       "  <thead>\n",
       "    <tr style=\"text-align: right;\">\n",
       "      <th></th>\n",
       "      <th>k</th>\n",
       "      <th>etot</th>\n",
       "      <th>relative_tol</th>\n",
       "    </tr>\n",
       "  </thead>\n",
       "  <tbody>\n",
       "    <tr>\n",
       "      <th>0</th>\n",
       "      <td>1</td>\n",
       "      <td>-365.096798</td>\n",
       "      <td>1.000000</td>\n",
       "    </tr>\n",
       "    <tr>\n",
       "      <th>1</th>\n",
       "      <td>2</td>\n",
       "      <td>-365.839634</td>\n",
       "      <td>0.002035</td>\n",
       "    </tr>\n",
       "    <tr>\n",
       "      <th>2</th>\n",
       "      <td>3</td>\n",
       "      <td>-365.772991</td>\n",
       "      <td>-0.000182</td>\n",
       "    </tr>\n",
       "  </tbody>\n",
       "</table>\n",
       "</div>"
      ],
      "text/plain": [
       "   k        etot  relative_tol\n",
       "0  1 -365.096798      1.000000\n",
       "1  2 -365.839634      0.002035\n",
       "2  3 -365.772991     -0.000182"
      ]
     },
     "execution_count": 18,
     "metadata": {},
     "output_type": "execute_result"
    },
    {
     "data": {
      "image/png": "[encoded data removed]",
      "text/plain": [
       "<Figure size 500x500 with 1 Axes>"
      ]
     },
     "metadata": {},
     "output_type": "display_data"
    }
   ],
   "source": [
    "# FeO 3 atom\n",
    "feo_dir = str(tests.joinpath(\"FeO\"))\n",
    "input_feo = deepcopy(base_input)\n",
    "input_feo['input_path'] = feo_dir\n",
    "\n",
    "m3 = Manager(input_feo)\n",
    "m3.run()\n",
    "sns.relplot(data=m3.data, x='k', y='etot')\n",
    "m3.data"
   ]
  },
  {
   "cell_type": "code",
   "execution_count": 19,
   "metadata": {},
   "outputs": [
    {
     "data": {
      "text/html": [
       "<div>\n",
       "<style scoped>\n",
       "    .dataframe tbody tr th:only-of-type {\n",
       "        vertical-align: middle;\n",
       "    }\n",
       "\n",
       "    .dataframe tbody tr th {\n",
       "        vertical-align: top;\n",
       "    }\n",
       "\n",
       "    .dataframe thead th {\n",
       "        text-align: right;\n",
       "    }\n",
       "</style>\n",
       "<table border=\"1\" class=\"dataframe\">\n",
       "  <thead>\n",
       "    <tr style=\"text-align: right;\">\n",
       "      <th></th>\n",
       "      <th>k</th>\n",
       "      <th>etot</th>\n",
       "      <th>relative_tol</th>\n",
       "    </tr>\n",
       "  </thead>\n",
       "  <tbody>\n",
       "    <tr>\n",
       "      <th>0</th>\n",
       "      <td>1</td>\n",
       "      <td>-36.394971</td>\n",
       "      <td>1.000000</td>\n",
       "    </tr>\n",
       "    <tr>\n",
       "      <th>1</th>\n",
       "      <td>2</td>\n",
       "      <td>-36.741448</td>\n",
       "      <td>0.009520</td>\n",
       "    </tr>\n",
       "    <tr>\n",
       "      <th>2</th>\n",
       "      <td>3</td>\n",
       "      <td>-36.855517</td>\n",
       "      <td>0.003105</td>\n",
       "    </tr>\n",
       "    <tr>\n",
       "      <th>3</th>\n",
       "      <td>4</td>\n",
       "      <td>-36.898898</td>\n",
       "      <td>0.001177</td>\n",
       "    </tr>\n",
       "    <tr>\n",
       "      <th>4</th>\n",
       "      <td>5</td>\n",
       "      <td>-36.894758</td>\n",
       "      <td>-0.000112</td>\n",
       "    </tr>\n",
       "  </tbody>\n",
       "</table>\n",
       "</div>"
      ],
      "text/plain": [
       "   k       etot  relative_tol\n",
       "0  1 -36.394971      1.000000\n",
       "1  2 -36.741448      0.009520\n",
       "2  3 -36.855517      0.003105\n",
       "3  4 -36.898898      0.001177\n",
       "4  5 -36.894758     -0.000112"
      ]
     },
     "execution_count": 19,
     "metadata": {},
     "output_type": "execute_result"
    },
    {
     "data": {
      "image/png": "[encoded data removed]",
      "text/plain": [
       "<Figure size 500x500 with 1 Axes>"
      ]
     },
     "metadata": {},
     "output_type": "display_data"
    }
   ],
   "source": [
    "# C4 4 atom\n",
    "c4_dir = str(tests.joinpath(\"C4\"))\n",
    "input_c4 = deepcopy(base_input)\n",
    "input_c4['input_path'] = c4_dir\n",
    "\n",
    "m4 = Manager(input_c4)\n",
    "m4.run()\n",
    "sns.relplot(data=m4.data, x='k', y='etot')\n",
    "m4.data"
   ]
  },
  {
   "cell_type": "code",
   "execution_count": 3,
   "metadata": {},
   "outputs": [
    {
     "data": {
      "text/html": [
       "<div>\n",
       "<style scoped>\n",
       "    .dataframe tbody tr th:only-of-type {\n",
       "        vertical-align: middle;\n",
       "    }\n",
       "\n",
       "    .dataframe tbody tr th {\n",
       "        vertical-align: top;\n",
       "    }\n",
       "\n",
       "    .dataframe thead th {\n",
       "        text-align: right;\n",
       "    }\n",
       "</style>\n",
       "<table border=\"1\" class=\"dataframe\">\n",
       "  <thead>\n",
       "    <tr style=\"text-align: right;\">\n",
       "      <th></th>\n",
       "      <th>k</th>\n",
       "      <th>etot</th>\n",
       "      <th>relative_tol</th>\n",
       "    </tr>\n",
       "  </thead>\n",
       "  <tbody>\n",
       "    <tr>\n",
       "      <th>0</th>\n",
       "      <td>3</td>\n",
       "      <td>-166.856894</td>\n",
       "      <td>1.000000</td>\n",
       "    </tr>\n",
       "    <tr>\n",
       "      <th>1</th>\n",
       "      <td>4</td>\n",
       "      <td>-166.859332</td>\n",
       "      <td>0.000015</td>\n",
       "    </tr>\n",
       "  </tbody>\n",
       "</table>\n",
       "</div>"
      ],
      "text/plain": [
       "   k        etot  relative_tol\n",
       "0  3 -166.856894      1.000000\n",
       "1  4 -166.859332      0.000015"
      ]
     },
     "execution_count": 3,
     "metadata": {},
     "output_type": "execute_result"
    },
    {
     "data": {
      "image/png": "[encoded data removed]",
      "text/plain": [
       "<Figure size 500x500 with 1 Axes>"
      ]
     },
     "metadata": {},
     "output_type": "display_data"
    }
   ],
   "source": [
    "# PbTiO3 5 atom\n",
    "pbtio3_dir = str(tests.joinpath(\"PbTiO3\"))\n",
    "input_pbtio3 = deepcopy(base_input)\n",
    "input_pbtio3['input_path'] = pbtio3_dir\n",
    "input_pbtio3['tol'] = 1.0e-4\n",
    "input_pbtio3['parameter_space'][0]['start'] = 3 # increase initial k value \n",
    "\n",
    "m5 = Manager(input_pbtio3)\n",
    "m5.run()\n",
    "sns.relplot(data=m5.data, x='k', y='etot')\n",
    "m5.data"
   ]
  },
  {
   "cell_type": "code",
   "execution_count": 11,
   "metadata": {},
   "outputs": [
    {
     "data": {
      "text/plain": [
       "0"
      ]
     },
     "execution_count": 11,
     "metadata": {},
     "output_type": "execute_result"
    }
   ],
   "source": [
    "# SrVO3 5 atom\n",
    "srvo3_dir = str(tests.joinpath(\"SrVO3\"))\n",
    "input_srvo3 = deepcopy(base_input)\n",
    "input_srvo3['input_path'] = srvo3_dir\n",
    "input_srvo3['tol'] = 1.0e-4\n",
    "\n",
    "m5_2 = Manager(input_srvo3)\n",
    "m5.run()\n",
    "sns.relplot(data=m5.data, x='k', y='etot')\n",
    "m5.data"
   ]
  },
  {
   "cell_type": "code",
   "execution_count": null,
   "metadata": {},
   "outputs": [],
   "source": []
  },
  {
   "cell_type": "code",
   "execution_count": 6,
   "metadata": {},
   "outputs": [
    {
     "data": {
      "text/plain": [
       "0"
      ]
     },
     "execution_count": 6,
     "metadata": {},
     "output_type": "execute_result"
    }
   ],
   "source": [
    "# C4H6 10 atom\n",
    "c4h6_dir = str(tests.joinpath(\"C4H6\"))\n",
    "input_c4h6 = deepcopy(base_input)\n",
    "input_c4h6['input_path'] = c4h6_dir\n",
    "input_c4h6['tol'] = 1.0e-4\n",
    "\n",
    "m10 = Manager(input_c4h6)\n",
    "m10.run()\n",
    "sns.relplot(data=m10.data, x='k', y='etot')\n"
   ]
  }
 ],
 "metadata": {
  "kernelspec": {
   "display_name": "venv",
   "language": "python",
   "name": "python3"
  },
  "language_info": {
   "codemirror_mode": {
    "name": "ipython",
    "version": 3
   },
   "file_extension": ".py",
   "mimetype": "text/x-python",
   "name": "python",
   "nbconvert_exporter": "python",
   "pygments_lexer": "ipython3",
   "version": "3.11.2"
  },
  "orig_nbformat": 4
 },
 "nbformat": 4,
 "nbformat_minor": 2
}
