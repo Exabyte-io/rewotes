{
 "cells": [
  {
   "cell_type": "code",
   "execution_count": 205,
   "metadata": {},
   "outputs": [],
   "source": [
    "import pandas as pd\n",
    "import numpy as np\n",
    "import sklearn as sk\n",
    "from urllib.request import urlopen\n",
    "import json   \n",
    "from matplotlib import pyplot"
   ]
  },
  {
   "cell_type": "markdown",
   "metadata": {},
   "source": [
    "### Getting training data"
   ]
  },
  {
   "cell_type": "code",
   "execution_count": 242,
   "metadata": {},
   "outputs": [],
   "source": [
    "MP_json_dir = \"../data/training/materialsproject_json\"\n",
    "\n",
    "training_compounds = [\n",
    "    \"Si\",\n",
    "    \"Ge\",\n",
    "    \"SiGe\",\n",
    "]"
   ]
  },
  {
   "cell_type": "code",
   "execution_count": 243,
   "metadata": {},
   "outputs": [],
   "source": [
    "training_data = dict()\n",
    "for training_compound in training_compounds:\n",
    "    with open(f\"{MP_json_dir}/{training_compound}.json\") as fname:\n",
    "        training_compound_results = dict(json.load(fname))\n",
    "        for ID, training_compound_result in training_compound_results.items():\n",
    "            training_data[ID] = training_compound_result"
   ]
  },
  {
   "cell_type": "code",
   "execution_count": 244,
   "metadata": {},
   "outputs": [],
   "source": [
    "training_data_IDs = list(training_data.keys())"
   ]
  },
  {
   "cell_type": "code",
   "execution_count": 245,
   "metadata": {},
   "outputs": [
    {
     "data": {
      "text/plain": [
       "{'formula': 'Si3Ge',\n",
       " 'spacegroup': 'Fm3m',\n",
       " 'formation_energy__eV': 0.525,\n",
       " 'E_above_hull__eV': 0.525,\n",
       " 'band_gap__eV': 0.0,\n",
       " 'has_bandstructure': True,\n",
       " 'volume': 63.538999999999994,\n",
       " 'Nsites': 4,\n",
       " 'theoretical': True,\n",
       " 'count': nan,\n",
       " 'density__gm_per_cc': 4.1,\n",
       " 'crystal_system': 'cubic'}"
      ]
     },
     "execution_count": 245,
     "metadata": {},
     "output_type": "execute_result"
    }
   ],
   "source": [
    "training_data[training_data_IDs[-1]]"
   ]
  },
  {
   "cell_type": "markdown",
   "metadata": {},
   "source": [
    "### Extract stoichiometry for each result"
   ]
  },
  {
   "cell_type": "code",
   "execution_count": 251,
   "metadata": {},
   "outputs": [],
   "source": [
    "def get_stoichiomertry(formula):\n",
    "    symbols = []\n",
    "    stoichiometry = dict()\n",
    "    for ii in range(len(formula)-1):\n",
    "        item_ii = formula[ii]\n",
    "        item_jj = formula[ii+1]\n",
    "        if item_ii.isupper() and item_jj.islower():\n",
    "            symbols.append((ii,formula[ii:ii+2]))\n",
    "                        \n",
    "    for ii in range(len(symbols)):\n",
    "        start_slc = symbols[ii][0]+2\n",
    "        if ii < len(symbols)-1:\n",
    "            end_slc = symbols[ii+1][0]\n",
    "            tmp_value = formula[start_slc:symbols[ii+1][0]]\n",
    "        else:\n",
    "            tmp_value = formula[start_slc:]\n",
    "        stoichiometry[symbols[ii][1]] = int(tmp_value) if len(tmp_value) != 0 else 1\n",
    "        \n",
    "    return stoichiometry\n",
    "\n",
    "def get_norm_stoichiomertry(formula):\n",
    "    stoichiometry = get_stoichiomertry(formula)\n",
    "    num_atoms = [ atoms for (element, atoms) in stoichiometry.items() ]\n",
    "    num_atoms_total = sum(num_atoms)\n",
    "    norm_stoichiometry = { element:atoms/num_atoms_total for (element, atoms) in stoichiometry.items()} \n",
    "    return norm_stoichiometry"
   ]
  },
  {
   "cell_type": "code",
   "execution_count": 252,
   "metadata": {},
   "outputs": [],
   "source": [
    "for ID, result in training_data.items():\n",
    "    norm_stoichiometry = get_norm_stoichiomertry(result[\"formula\"])\n",
    "    training_data[ID][\"stoichiometry\"] = norm_stoichiometry"
   ]
  },
  {
   "cell_type": "code",
   "execution_count": 254,
   "metadata": {},
   "outputs": [
    {
     "data": {
      "text/plain": [
       "{'formula': 'Si3Ge',\n",
       " 'spacegroup': 'Fm3m',\n",
       " 'formation_energy__eV': 0.525,\n",
       " 'E_above_hull__eV': 0.525,\n",
       " 'band_gap__eV': 0.0,\n",
       " 'has_bandstructure': True,\n",
       " 'volume': 63.538999999999994,\n",
       " 'Nsites': 4,\n",
       " 'theoretical': True,\n",
       " 'count': nan,\n",
       " 'density__gm_per_cc': 4.1,\n",
       " 'crystal_system': 'cubic',\n",
       " 'stoichiometry': {'Si': 0.75, 'Ge': 0.25}}"
      ]
     },
     "execution_count": 254,
     "metadata": {},
     "output_type": "execute_result"
    }
   ],
   "source": [
    "training_data[training_data_IDs[-1]]"
   ]
  },
  {
   "cell_type": "code",
   "execution_count": null,
   "metadata": {},
   "outputs": [],
   "source": []
  },
  {
   "cell_type": "code",
   "execution_count": 255,
   "metadata": {},
   "outputs": [],
   "source": [
    "# use period table from exabyte.io github:\n",
    "periodic_table_url = urlopen(\"https://raw.githubusercontent.com/Exabyte-io/periodic-table.js/master/periodic-table.json\")\n",
    "periodic_table = json.loads(periodic_table_url.read())\n",
    "\n",
    "symbol_to_element_map = { details[\"symbol\"]:element for (element, details) in periodic_table.items()}"
   ]
  },
  {
   "cell_type": "code",
   "execution_count": 264,
   "metadata": {},
   "outputs": [
    {
     "name": "stdout",
     "output_type": "stream",
     "text": [
      "['Si', 'Ge']\n",
      "['Silicon', 'Germanium']\n"
     ]
    }
   ],
   "source": [
    "sample = training_data[training_data_IDs[-1]]\n",
    "sample_atoms = list(sample[\"stoichiometry\"].keys())\n",
    "print(sample_atoms)\n",
    "sample_atoms_elements = [ symbol_to_element_map[sample_atom] for sample_atom in sample_atoms ]\n",
    "print(sample_atoms_elements)"
   ]
  },
  {
   "cell_type": "code",
   "execution_count": 267,
   "metadata": {},
   "outputs": [
    {
     "data": {
      "text/plain": [
       "{'symbol': 'Si',\n",
       " 'atomic_number': 14,\n",
       " 'atomic_weight': 28.0855,\n",
       " 'density_g_per_cm3': 2.33,\n",
       " 'melting_point_K': 1683,\n",
       " 'boiling_point_K': 2628,\n",
       " 'atomic_radius_pm': 132,\n",
       " 'covalent_radius_pm': 111,\n",
       " 'ionic_radius_pm': '',\n",
       " 'atomic_volume_cm3_per_mol': 12.1,\n",
       " 'specific_heat_J_g_mol': 0.703,\n",
       " 'fusion_heat_kJ_mol': 50.6,\n",
       " 'evaporation_heat_kJ_mol': 383,\n",
       " 'thermal_conductivity_25C_W_m_K': 149,\n",
       " 'pauling_negativity': 1.9,\n",
       " 'first_ionizing_kJ_mol': 786,\n",
       " 'oxidation_states': '4, -4',\n",
       " 'electronic_configuration': '[Ne]3s²3p²',\n",
       " 'lattice_structure': 'DIA',\n",
       " 'lattice_constant_ang': 5.43}"
      ]
     },
     "execution_count": 267,
     "metadata": {},
     "output_type": "execute_result"
    }
   ],
   "source": [
    "periodic_table[sample_atoms_elements[0]]"
   ]
  },
  {
   "cell_type": "code",
   "execution_count": 34,
   "metadata": {},
   "outputs": [],
   "source": [
    "# change crystal system to an identification number\n",
    "crystal_systems = [\n",
    "    \"triclinic\",\n",
    "    \"monoclinic\",\n",
    "    \"orthorhombic\",\n",
    "    \"tetragonal\",\n",
    "    \"hexagonal\",\n",
    "    \"trigonal\",\n",
    "    \"cubic\",\n",
    "]\n",
    "crystal_system_mapping = dict(zip(crystal_systems, range(0,len(crystal_systems))))"
   ]
  },
  {
   "cell_type": "code",
   "execution_count": null,
   "metadata": {},
   "outputs": [],
   "source": []
  }
 ],
 "metadata": {
  "kernelspec": {
   "display_name": "Python 3",
   "language": "python",
   "name": "python3"
  },
  "language_info": {
   "codemirror_mode": {
    "name": "ipython",
    "version": 3
   },
   "file_extension": ".py",
   "mimetype": "text/x-python",
   "name": "python",
   "nbconvert_exporter": "python",
   "pygments_lexer": "ipython3",
   "version": "3.7.4"
  }
 },
 "nbformat": 4,
 "nbformat_minor": 2
}
