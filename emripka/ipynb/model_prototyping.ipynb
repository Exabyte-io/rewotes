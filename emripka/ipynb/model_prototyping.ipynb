{
 "cells": [
  {
   "cell_type": "code",
   "execution_count": 365,
   "metadata": {},
   "outputs": [],
   "source": [
    "import pandas as pd\n",
    "import numpy as np\n",
    "import sklearn as sk\n",
    "from urllib.request import urlopen\n",
    "import json   \n",
    "import matplotlib.pyplot as plt\n",
    "from pylab import rcParams"
   ]
  },
  {
   "cell_type": "markdown",
   "metadata": {},
   "source": [
    "### Getting training data"
   ]
  },
  {
   "cell_type": "code",
   "execution_count": 340,
   "metadata": {},
   "outputs": [],
   "source": [
    "MP_json_dir = \"../data/training/materialsproject_json\"\n",
    "\n",
    "training_compounds = [\n",
    "    \"Si\",\n",
    "    \"Ge\",\n",
    "    \"SiGe\",\n",
    "]"
   ]
  },
  {
   "cell_type": "code",
   "execution_count": 341,
   "metadata": {},
   "outputs": [],
   "source": [
    "training_data = dict()\n",
    "for training_compound in training_compounds:\n",
    "    with open(f\"{MP_json_dir}/{training_compound}.json\") as fname:\n",
    "        training_compound_results = dict(json.load(fname))\n",
    "        for ID, training_compound_result in training_compound_results.items():\n",
    "            training_data[ID] = training_compound_result"
   ]
  },
  {
   "cell_type": "code",
   "execution_count": 342,
   "metadata": {},
   "outputs": [],
   "source": [
    "training_data_IDs = list(training_data.keys())"
   ]
  },
  {
   "cell_type": "code",
   "execution_count": 343,
   "metadata": {},
   "outputs": [
    {
     "data": {
      "text/plain": [
       "{'formula': 'Si3Ge',\n",
       " 'spacegroup': 'Fm3m',\n",
       " 'formation_energy__eV': 0.525,\n",
       " 'E_above_hull__eV': 0.525,\n",
       " 'band_gap__eV': 0.0,\n",
       " 'has_bandstructure': True,\n",
       " 'volume': 63.538999999999994,\n",
       " 'Nsites': 4,\n",
       " 'theoretical': True,\n",
       " 'count': nan,\n",
       " 'density__gm_per_cc': 4.1,\n",
       " 'crystal_system': 'cubic'}"
      ]
     },
     "execution_count": 343,
     "metadata": {},
     "output_type": "execute_result"
    }
   ],
   "source": [
    "training_data[training_data_IDs[-1]]"
   ]
  },
  {
   "cell_type": "markdown",
   "metadata": {},
   "source": [
    "### Extract stoichiometry for each result"
   ]
  },
  {
   "cell_type": "code",
   "execution_count": 344,
   "metadata": {},
   "outputs": [],
   "source": [
    "def get_stoichiomertry(formula):\n",
    "    symbols = []\n",
    "    stoichiometry = dict()\n",
    "    for ii in range(len(formula)-1):\n",
    "        item_ii = formula[ii]\n",
    "        item_jj = formula[ii+1]\n",
    "        if item_ii.isupper() and item_jj.islower():\n",
    "            symbols.append((ii,formula[ii:ii+2]))\n",
    "                        \n",
    "    for ii in range(len(symbols)):\n",
    "        start_slc = symbols[ii][0]+2\n",
    "        if ii < len(symbols)-1:\n",
    "            end_slc = symbols[ii+1][0]\n",
    "            tmp_value = formula[start_slc:symbols[ii+1][0]]\n",
    "        else:\n",
    "            tmp_value = formula[start_slc:]\n",
    "        stoichiometry[symbols[ii][1]] = int(tmp_value) if len(tmp_value) != 0 else 1\n",
    "        \n",
    "    return stoichiometry\n",
    "\n",
    "def get_norm_stoichiomertry(formula):\n",
    "    stoichiometry = get_stoichiomertry(formula)\n",
    "    num_atoms = [ atoms for (element, atoms) in stoichiometry.items() ]\n",
    "    num_atoms_total = sum(num_atoms)\n",
    "    norm_stoichiometry = { element:atoms/num_atoms_total for (element, atoms) in stoichiometry.items()} \n",
    "    return norm_stoichiometry"
   ]
  },
  {
   "cell_type": "code",
   "execution_count": 345,
   "metadata": {},
   "outputs": [],
   "source": [
    "for ID, result in training_data.items():\n",
    "    norm_stoichiometry = get_norm_stoichiomertry(result[\"formula\"])\n",
    "    training_data[ID][\"stoichiometry\"] = norm_stoichiometry"
   ]
  },
  {
   "cell_type": "code",
   "execution_count": 346,
   "metadata": {},
   "outputs": [
    {
     "data": {
      "text/plain": [
       "{'formula': 'Si3Ge',\n",
       " 'spacegroup': 'Fm3m',\n",
       " 'formation_energy__eV': 0.525,\n",
       " 'E_above_hull__eV': 0.525,\n",
       " 'band_gap__eV': 0.0,\n",
       " 'has_bandstructure': True,\n",
       " 'volume': 63.538999999999994,\n",
       " 'Nsites': 4,\n",
       " 'theoretical': True,\n",
       " 'count': nan,\n",
       " 'density__gm_per_cc': 4.1,\n",
       " 'crystal_system': 'cubic',\n",
       " 'stoichiometry': {'Si': 0.75, 'Ge': 0.25}}"
      ]
     },
     "execution_count": 346,
     "metadata": {},
     "output_type": "execute_result"
    }
   ],
   "source": [
    "training_data[training_data_IDs[-1]]"
   ]
  },
  {
   "cell_type": "markdown",
   "metadata": {},
   "source": [
    "### Create a simple dataframe \n",
    "The dataframe contains the following:\n",
    "1. Stoichiomery\n",
    "2. Bandgap\n",
    "3. Density \n",
    "4. Volume\n",
    "5. Formation energy\n",
    "6. Proxy for crystal system"
   ]
  },
  {
   "cell_type": "code",
   "execution_count": 358,
   "metadata": {},
   "outputs": [],
   "source": [
    "# use period table from exabyte.io github:\n",
    "periodic_table_url = urlopen(\"https://raw.githubusercontent.com/Exabyte-io/periodic-table.js/master/periodic-table.json\")\n",
    "periodic_table = json.loads(periodic_table_url.read())\n",
    "\n",
    "symbol_to_element_map = { details[\"symbol\"]:element for (element, details) in periodic_table.items()}\n",
    "symbols = list(symbol_to_element_map.keys())"
   ]
  },
  {
   "cell_type": "code",
   "execution_count": 359,
   "metadata": {},
   "outputs": [],
   "source": [
    "# change crystal system to an identification number\n",
    "crystal_systems = [\n",
    "    \"triclinic\",\n",
    "    \"monoclinic\",\n",
    "    \"orthorhombic\",\n",
    "    \"tetragonal\",\n",
    "    \"hexagonal\",\n",
    "    \"trigonal\",\n",
    "    \"cubic\",\n",
    "]\n",
    "crystal_system_mapping = dict(zip(crystal_systems, range(0,len(crystal_systems))))"
   ]
  },
  {
   "cell_type": "code",
   "execution_count": 360,
   "metadata": {},
   "outputs": [],
   "source": [
    "# create new dictionary\n",
    "training_data_clean = {\n",
    "    \"ID\": [],\n",
    "    \"band_gap__eV\": [],\n",
    "    \"density__gm_per_cc\": [],\n",
    "    \"volume\": [],\n",
    "    \"formation_energy__eV\": [],\n",
    "    \"crystal_system\": [],\n",
    "}\n",
    "\n",
    "non_element_data_keys = list(training_data_clean.keys())\n",
    "\n",
    "# populate the dictionary with keys of all symbols of elements\n",
    "for symbol in symbols:\n",
    "    training_data_clean[symbol] = []\n",
    "\n",
    "# populate the dictionary with the training data\n",
    "for ID, result in training_data.items():\n",
    "    training_data_clean[\"ID\"].append(ID)\n",
    "    \n",
    "    # Stoichiomery\n",
    "    elements = list(result[\"stoichiometry\"].keys())   \n",
    "    for symbol in symbols:\n",
    "        value = result[\"stoichiometry\"][symbol] if symbol in elements else 0\n",
    "        training_data_clean[symbol].append(value)\n",
    "        \n",
    "    #Bandgap\n",
    "    training_data_clean[\"band_gap__eV\"].append(result[\"band_gap__eV\"])\n",
    "    \n",
    "    #Density\n",
    "    training_data_clean[\"density__gm_per_cc\"].append(result[\"density__gm_per_cc\"])\n",
    "    \n",
    "    #Volume\n",
    "    training_data_clean[\"volume\"].append(result[\"volume\"])\n",
    "    \n",
    "    #Formation energy\n",
    "    training_data_clean[\"formation_energy__eV\"].append(result[\"formation_energy__eV\"])\n",
    "    \n",
    "    #Proxy for crystal system\n",
    "    crystal_system_identifier = crystal_system_mapping[result[\"crystal_system\"]]\n",
    "    training_data_clean[\"crystal_system\"].append(crystal_system_identifier)"
   ]
  },
  {
   "cell_type": "code",
   "execution_count": 361,
   "metadata": {},
   "outputs": [],
   "source": [
    "# create dataframe from dictionary\n",
    "training_data_clean_df = pd.DataFrame(training_data_clean)"
   ]
  },
  {
   "cell_type": "code",
   "execution_count": 362,
   "metadata": {},
   "outputs": [
    {
     "data": {
      "text/html": [
       "<div>\n",
       "<style scoped>\n",
       "    .dataframe tbody tr th:only-of-type {\n",
       "        vertical-align: middle;\n",
       "    }\n",
       "\n",
       "    .dataframe tbody tr th {\n",
       "        vertical-align: top;\n",
       "    }\n",
       "\n",
       "    .dataframe thead th {\n",
       "        text-align: right;\n",
       "    }\n",
       "</style>\n",
       "<table border=\"1\" class=\"dataframe\">\n",
       "  <thead>\n",
       "    <tr style=\"text-align: right;\">\n",
       "      <th></th>\n",
       "      <th>ID</th>\n",
       "      <th>band_gap__eV</th>\n",
       "      <th>density__gm_per_cc</th>\n",
       "      <th>volume</th>\n",
       "      <th>formation_energy__eV</th>\n",
       "      <th>crystal_system</th>\n",
       "      <th>H</th>\n",
       "      <th>He</th>\n",
       "      <th>Li</th>\n",
       "      <th>Be</th>\n",
       "      <th>...</th>\n",
       "      <th>Mt</th>\n",
       "      <th>Uun</th>\n",
       "      <th>Uuu</th>\n",
       "      <th>Uub</th>\n",
       "      <th>Uut</th>\n",
       "      <th>Uuq</th>\n",
       "      <th>Uup</th>\n",
       "      <th>Uuh</th>\n",
       "      <th>Uus</th>\n",
       "      <th>Uuo</th>\n",
       "    </tr>\n",
       "  </thead>\n",
       "  <tbody>\n",
       "    <tr>\n",
       "      <td>11</td>\n",
       "      <td>mp-1201492</td>\n",
       "      <td>1.011</td>\n",
       "      <td>1.969</td>\n",
       "      <td>5494.177</td>\n",
       "      <td>0.119</td>\n",
       "      <td>6</td>\n",
       "      <td>0</td>\n",
       "      <td>0</td>\n",
       "      <td>0</td>\n",
       "      <td>0</td>\n",
       "      <td>...</td>\n",
       "      <td>0</td>\n",
       "      <td>0</td>\n",
       "      <td>0</td>\n",
       "      <td>0</td>\n",
       "      <td>0</td>\n",
       "      <td>0</td>\n",
       "      <td>0</td>\n",
       "      <td>0</td>\n",
       "      <td>0</td>\n",
       "      <td>0</td>\n",
       "    </tr>\n",
       "    <tr>\n",
       "      <td>56</td>\n",
       "      <td>mp-1094056</td>\n",
       "      <td>0.427</td>\n",
       "      <td>2.689</td>\n",
       "      <td>166.290</td>\n",
       "      <td>0.006</td>\n",
       "      <td>6</td>\n",
       "      <td>0</td>\n",
       "      <td>0</td>\n",
       "      <td>0</td>\n",
       "      <td>0</td>\n",
       "      <td>...</td>\n",
       "      <td>0</td>\n",
       "      <td>0</td>\n",
       "      <td>0</td>\n",
       "      <td>0</td>\n",
       "      <td>0</td>\n",
       "      <td>0</td>\n",
       "      <td>0</td>\n",
       "      <td>0</td>\n",
       "      <td>0</td>\n",
       "      <td>0</td>\n",
       "    </tr>\n",
       "    <tr>\n",
       "      <td>47</td>\n",
       "      <td>mp-137</td>\n",
       "      <td>0.873</td>\n",
       "      <td>5.608</td>\n",
       "      <td>258.089</td>\n",
       "      <td>0.238</td>\n",
       "      <td>3</td>\n",
       "      <td>0</td>\n",
       "      <td>0</td>\n",
       "      <td>0</td>\n",
       "      <td>0</td>\n",
       "      <td>...</td>\n",
       "      <td>0</td>\n",
       "      <td>0</td>\n",
       "      <td>0</td>\n",
       "      <td>0</td>\n",
       "      <td>0</td>\n",
       "      <td>0</td>\n",
       "      <td>0</td>\n",
       "      <td>0</td>\n",
       "      <td>0</td>\n",
       "      <td>0</td>\n",
       "    </tr>\n",
       "    <tr>\n",
       "      <td>31</td>\n",
       "      <td>mp-676011</td>\n",
       "      <td>0.000</td>\n",
       "      <td>2.345</td>\n",
       "      <td>159.131</td>\n",
       "      <td>0.445</td>\n",
       "      <td>0</td>\n",
       "      <td>0</td>\n",
       "      <td>0</td>\n",
       "      <td>0</td>\n",
       "      <td>0</td>\n",
       "      <td>...</td>\n",
       "      <td>0</td>\n",
       "      <td>0</td>\n",
       "      <td>0</td>\n",
       "      <td>0</td>\n",
       "      <td>0</td>\n",
       "      <td>0</td>\n",
       "      <td>0</td>\n",
       "      <td>0</td>\n",
       "      <td>0</td>\n",
       "      <td>0</td>\n",
       "    </tr>\n",
       "    <tr>\n",
       "      <td>12</td>\n",
       "      <td>mp-1199894</td>\n",
       "      <td>0.998</td>\n",
       "      <td>1.997</td>\n",
       "      <td>1915.457</td>\n",
       "      <td>0.127</td>\n",
       "      <td>1</td>\n",
       "      <td>0</td>\n",
       "      <td>0</td>\n",
       "      <td>0</td>\n",
       "      <td>0</td>\n",
       "      <td>...</td>\n",
       "      <td>0</td>\n",
       "      <td>0</td>\n",
       "      <td>0</td>\n",
       "      <td>0</td>\n",
       "      <td>0</td>\n",
       "      <td>0</td>\n",
       "      <td>0</td>\n",
       "      <td>0</td>\n",
       "      <td>0</td>\n",
       "      <td>0</td>\n",
       "    </tr>\n",
       "  </tbody>\n",
       "</table>\n",
       "<p>5 rows × 124 columns</p>\n",
       "</div>"
      ],
      "text/plain": [
       "            ID  band_gap__eV  density__gm_per_cc    volume  \\\n",
       "11  mp-1201492         1.011               1.969  5494.177   \n",
       "56  mp-1094056         0.427               2.689   166.290   \n",
       "47      mp-137         0.873               5.608   258.089   \n",
       "31   mp-676011         0.000               2.345   159.131   \n",
       "12  mp-1199894         0.998               1.997  1915.457   \n",
       "\n",
       "    formation_energy__eV  crystal_system  H  He  Li  Be  ...  Mt  Uun  Uuu  \\\n",
       "11                 0.119               6  0   0   0   0  ...   0    0    0   \n",
       "56                 0.006               6  0   0   0   0  ...   0    0    0   \n",
       "47                 0.238               3  0   0   0   0  ...   0    0    0   \n",
       "31                 0.445               0  0   0   0   0  ...   0    0    0   \n",
       "12                 0.127               1  0   0   0   0  ...   0    0    0   \n",
       "\n",
       "    Uub  Uut  Uuq  Uup  Uuh  Uus  Uuo  \n",
       "11    0    0    0    0    0    0    0  \n",
       "56    0    0    0    0    0    0    0  \n",
       "47    0    0    0    0    0    0    0  \n",
       "31    0    0    0    0    0    0    0  \n",
       "12    0    0    0    0    0    0    0  \n",
       "\n",
       "[5 rows x 124 columns]"
      ]
     },
     "execution_count": 362,
     "metadata": {},
     "output_type": "execute_result"
    }
   ],
   "source": [
    "training_data_clean_df.sample(5)"
   ]
  },
  {
   "cell_type": "code",
   "execution_count": 374,
   "metadata": {},
   "outputs": [
    {
     "data": {
      "image/png": "[encoded data removed]",
      "text/plain": [
       "<Figure size 1080x1080 with 5 Axes>"
      ]
     },
     "metadata": {
      "needs_background": "light"
     },
     "output_type": "display_data"
    }
   ],
   "source": [
    "rcParams['figure.figsize'] = 15,15\n",
    "rows, cols = 3, 3\n",
    "\n",
    "yaxis = training_data_clean_df['band_gap__eV']\n",
    "for idx, key in enumerate(non_element_data_keys[1:]):\n",
    "    xaxis = training_data_clean_df[key]\n",
    "\n",
    "    plt.subplot(rows,cols,idx+1)\n",
    "    plt.plot(xaxis, yaxis, \"ro\")\n",
    "    plt.xlabel(key)\n",
    "    plt.ylabel('band_gap__eV')\n",
    "    \n",
    "    plt.subplots_adjust(wspace=0.2, hspace=0.2)"
   ]
  },
  {
   "cell_type": "code",
   "execution_count": null,
   "metadata": {},
   "outputs": [],
   "source": []
  },
  {
   "cell_type": "code",
   "execution_count": null,
   "metadata": {},
   "outputs": [],
   "source": []
  },
  {
   "cell_type": "code",
   "execution_count": 255,
   "metadata": {},
   "outputs": [],
   "source": []
  },
  {
   "cell_type": "code",
   "execution_count": 264,
   "metadata": {},
   "outputs": [
    {
     "name": "stdout",
     "output_type": "stream",
     "text": [
      "['Si', 'Ge']\n",
      "['Silicon', 'Germanium']\n"
     ]
    }
   ],
   "source": [
    "sample = training_data[training_data_IDs[-1]]\n",
    "sample_atoms = list(sample[\"stoichiometry\"].keys())\n",
    "print(sample_atoms)\n",
    "sample_atoms_elements = [ symbol_to_element_map[sample_atom] for sample_atom in sample_atoms ]\n",
    "print(sample_atoms_elements)"
   ]
  },
  {
   "cell_type": "code",
   "execution_count": 267,
   "metadata": {},
   "outputs": [
    {
     "data": {
      "text/plain": [
       "{'symbol': 'Si',\n",
       " 'atomic_number': 14,\n",
       " 'atomic_weight': 28.0855,\n",
       " 'density_g_per_cm3': 2.33,\n",
       " 'melting_point_K': 1683,\n",
       " 'boiling_point_K': 2628,\n",
       " 'atomic_radius_pm': 132,\n",
       " 'covalent_radius_pm': 111,\n",
       " 'ionic_radius_pm': '',\n",
       " 'atomic_volume_cm3_per_mol': 12.1,\n",
       " 'specific_heat_J_g_mol': 0.703,\n",
       " 'fusion_heat_kJ_mol': 50.6,\n",
       " 'evaporation_heat_kJ_mol': 383,\n",
       " 'thermal_conductivity_25C_W_m_K': 149,\n",
       " 'pauling_negativity': 1.9,\n",
       " 'first_ionizing_kJ_mol': 786,\n",
       " 'oxidation_states': '4, -4',\n",
       " 'electronic_configuration': '[Ne]3s²3p²',\n",
       " 'lattice_structure': 'DIA',\n",
       " 'lattice_constant_ang': 5.43}"
      ]
     },
     "execution_count": 267,
     "metadata": {},
     "output_type": "execute_result"
    }
   ],
   "source": [
    "periodic_table[sample_atoms_elements[0]]"
   ]
  },
  {
   "cell_type": "code",
   "execution_count": null,
   "metadata": {},
   "outputs": [],
   "source": []
  }
 ],
 "metadata": {
  "kernelspec": {
   "display_name": "Python 3",
   "language": "python",
   "name": "python3"
  },
  "language_info": {
   "codemirror_mode": {
    "name": "ipython",
    "version": 3
   },
   "file_extension": ".py",
   "mimetype": "text/x-python",
   "name": "python",
   "nbconvert_exporter": "python",
   "pygments_lexer": "ipython3",
   "version": "3.7.4"
  }
 },
 "nbformat": 4,
 "nbformat_minor": 2
}
