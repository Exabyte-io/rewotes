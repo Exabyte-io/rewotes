{
 "cells": [
  {
   "cell_type": "code",
   "execution_count": 21,
   "metadata": {},
   "outputs": [],
   "source": [
    "import numpy as np\n",
    "from sklearn.model_selection import train_test_split\n",
    "from sklearn import linear_model\n",
    "\n",
    "import sys\n",
    "sys.path.insert(1, \"../src/\")\n",
    "from material import Material\n",
    "from materialsdataset import MaterialsDataset\n",
    "from periodictable import PeriodicTable\n",
    "from materialspredictiondata import MaterialsPredictionData\n",
    "from bandgapdataset import BandGapDataset\n",
    "from bandgapdataframe import BandGapDataFrame"
   ]
  },
  {
   "cell_type": "code",
   "execution_count": 2,
   "metadata": {},
   "outputs": [],
   "source": [
    "csv_path = \"../data/training/materialsproject_output/\"\n",
    "json_path = \"../data/training/materialsproject_json/\""
   ]
  },
  {
   "cell_type": "markdown",
   "metadata": {},
   "source": [
    "### MaterialsPredictionData class\n",
    "- the user creates an object of this type to use the package\n",
    "- takes in a MaterialsDatset type object which contains materials and their params to use for prediction\n",
    "- houses array of data to run through the model to predict the bandgap\n",
    "- also houses information needed to create the correct training data based on the user input"
   ]
  },
  {
   "cell_type": "code",
   "execution_count": 3,
   "metadata": {},
   "outputs": [
    {
     "name": "stdout",
     "output_type": "stream",
     "text": [
      "['density__gm_per_cc', 'volume']\n",
      "['density__gm_per_cc']\n"
     ]
    }
   ],
   "source": [
    "Si3Ge4 = Material(formula=\"Si3Ge4\",density=1.23,volume=57)\n",
    "Cd22S45 = Material(formula=\"Cd22S45\",density=2.34)\n",
    "\n",
    "print(Si3Ge4.training_params)\n",
    "print(Cd22S45.training_params)"
   ]
  },
  {
   "cell_type": "code",
   "execution_count": 4,
   "metadata": {},
   "outputs": [],
   "source": [
    "material_dataset = MaterialsDataset([Si3Ge4,Cd22S45])"
   ]
  },
  {
   "cell_type": "code",
   "execution_count": 5,
   "metadata": {},
   "outputs": [
    {
     "data": {
      "text/plain": [
       "{'params': {'density__gm_per_cc': 1.23,\n",
       "  'volume': 57,\n",
       "  'formation_energy_eV': None},\n",
       " 'stoichiometry': {'Si': 0.42857142857142855, 'Ge': 0.5714285714285714}}"
      ]
     },
     "execution_count": 5,
     "metadata": {},
     "output_type": "execute_result"
    }
   ],
   "source": [
    "material_dataset.materials_dict[\"Si3Ge4\"]"
   ]
  },
  {
   "cell_type": "code",
   "execution_count": 6,
   "metadata": {},
   "outputs": [],
   "source": [
    "periodic_table = PeriodicTable()\n",
    "symbol_to_element_map = periodic_table.symbol_to_element_map\n",
    "symbols = periodic_table.symbols"
   ]
  },
  {
   "cell_type": "code",
   "execution_count": 7,
   "metadata": {},
   "outputs": [],
   "source": [
    "materials_prediction_data = MaterialsPredictionData(material_dataset,symbols)"
   ]
  },
  {
   "cell_type": "code",
   "execution_count": 17,
   "metadata": {},
   "outputs": [
    {
     "name": "stdout",
     "output_type": "stream",
     "text": [
      "[1.23, 57, 0, 0, 0, 0, 0, 0, 0, 0, 0, 0, 0, 0, 0, 0.42857142857142855, 0, 0, 0, 0, 0, 0, 0, 0, 0, 0, 0, 0, 0, 0, 0, 0, 0, 0.5714285714285714, 0, 0, 0, 0, 0, 0, 0, 0, 0, 0, 0, 0, 0, 0, 0, 0, 0, 0, 0, 0, 0, 0, 0, 0, 0, 0, 0, 0, 0, 0, 0, 0, 0, 0, 0, 0, 0, 0, 0, 0, 0, 0, 0, 0, 0, 0, 0, 0, 0, 0, 0, 0, 0, 0, 0, 0, 0, 0, 0, 0, 0, 0, 0, 0, 0, 0, 0, 0, 0, 0, 0, 0, 0, 0, 0, 0, 0, 0, 0, 0, 0, 0, 0, 0, 0, 0]\n"
     ]
    }
   ],
   "source": [
    "print(materials_prediction_data.prediction_data[\"Si3Ge4\"])"
   ]
  },
  {
   "cell_type": "code",
   "execution_count": 9,
   "metadata": {},
   "outputs": [
    {
     "data": {
      "text/plain": [
       "['Si3Ge4', 'Cd22S45']"
      ]
     },
     "execution_count": 9,
     "metadata": {},
     "output_type": "execute_result"
    }
   ],
   "source": [
    "materials_to_predict = list(materials_prediction_data.prediction_data.keys())\n",
    "materials_to_predict"
   ]
  },
  {
   "cell_type": "markdown",
   "metadata": {},
   "source": [
    "### BandGapDataset class\n",
    "- need to create unique one for each material, as each material can have unique input parameters"
   ]
  },
  {
   "cell_type": "code",
   "execution_count": 40,
   "metadata": {},
   "outputs": [
    {
     "name": "stdout",
     "output_type": "stream",
     "text": [
      "Si3Ge4 params: ['density__gm_per_cc', 'volume']\n",
      "X_train shape: (1059, 120)\n",
      "y_train shape: (1059,)\n",
      " X_test shape: (522, 120)\n",
      " y_test shape: (522,)\n",
      "Model Score: 0.3267281511811151\n",
      "Si3Ge4's predicted bandgap = [0.8039398] eV\n",
      "\n",
      "Cd22S45 params: ['density__gm_per_cc']\n",
      "X_train shape: (1059, 119)\n",
      "y_train shape: (1059,)\n",
      " X_test shape: (522, 119)\n",
      " y_test shape: (522,)\n",
      "Model Score: 0.2716404534025594\n",
      "Cd22S45's predicted bandgap = [1.35876311] eV\n",
      "\n"
     ]
    }
   ],
   "source": [
    "for material in materials_to_predict:\n",
    "    dataset = BandGapDataset(csv_path,json_path)\n",
    "    data_dict = dataset.data_dict\n",
    "    data_IDs = dataset.data_IDs\n",
    "    \n",
    "    material_training_params = [ \n",
    "        param for (param,value) in material_dataset.materials_dict[material][\"params\"].items() if value is not None\n",
    "    ]\n",
    "    \n",
    "    bandgap_dataframe = BandGapDataFrame(data_dict, symbols, material_training_params)\n",
    "    dataframe = bandgap_dataframe.dataframe\n",
    "    non_element_keys = bandgap_dataframe.non_element_keys\n",
    "    \n",
    "    print(f\"{material} params: {non_element_keys[1:]}\")\n",
    "    \n",
    "    X_keys = list(dataframe.keys())[2:]\n",
    "    X = np.asarray(dataframe[X_keys])\n",
    "    y = np.asarray(dataframe['band_gap__eV'])\n",
    "            \n",
    "    X_train, X_test, y_train, y_test = train_test_split(X, y, test_size=0.33, shuffle= True)\n",
    "    \n",
    "    print(f\"X_train shape: {np.shape(X_train)}\")\n",
    "    print(f\"y_train shape: {np.shape(y_train)}\")\n",
    "    print(f\" X_test shape: {np.shape(X_test)}\")\n",
    "    print(f\" y_test shape: {np.shape(y_test)}\")\n",
    "    \n",
    "    model = linear_model.Ridge(alpha = .5)\n",
    "    model.fit(X_train, y_train)\n",
    "    print(f\"Model Score: {model.score(X_test, y_test)}\")\n",
    "    #print('Weights: ', model.coef_)\n",
    "\n",
    "    this_prediction_data = np.asarray(materials_prediction_data.prediction_data[material])\n",
    "    this_prediction_data = np.reshape(this_prediction_data, (1,np.shape(this_prediction_data)[0]))\n",
    "        \n",
    "    band_gap_prediction = model.predict(this_prediction_data)\n",
    "    print(f\"{material}'s predicted bandgap = {band_gap_prediction} eV\\n\")"
   ]
  },
  {
   "cell_type": "code",
   "execution_count": null,
   "metadata": {},
   "outputs": [],
   "source": []
  }
 ],
 "metadata": {
  "kernelspec": {
   "display_name": "Python 3",
   "language": "python",
   "name": "python3"
  },
  "language_info": {
   "codemirror_mode": {
    "name": "ipython",
    "version": 3
   },
   "file_extension": ".py",
   "mimetype": "text/x-python",
   "name": "python",
   "nbconvert_exporter": "python",
   "pygments_lexer": "ipython3",
   "version": "3.7.4"
  }
 },
 "nbformat": 4,
 "nbformat_minor": 2
}
