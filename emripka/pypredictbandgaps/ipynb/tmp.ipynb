{
 "cells": [
  {
   "cell_type": "code",
   "execution_count": 1,
   "metadata": {},
   "outputs": [
    {
     "name": "stderr",
     "output_type": "stream",
     "text": [
      "/usr/local/lib/python2.7/site-packages/pymatgen/__init__.py:87: UserWarning: \n",
      "Pymatgen will drop Py2k support from v2019.1.1. Pls consult the documentation\n",
      "at https://www.pymatgen.org for more details.\n",
      "  at https://www.pymatgen.org for more details.\"\"\")\n"
     ]
    }
   ],
   "source": [
    "from pymatgen.ext.matproj import MPRester\n",
    "from pymatgen.symmetry.groups import SpaceGroup, SYMM_DATA, sg_symbol_from_int_number"
   ]
  },
  {
   "cell_type": "code",
   "execution_count": 2,
   "metadata": {},
   "outputs": [],
   "source": [
    "# To make Materials Project queries, you need to have your Materials Project API key set in ~/.pmgrc.yaml with:\n",
    "# PMG_MAPI_KEY: YOUR_API_KEY\n",
    "a = MPRester()"
   ]
  },
  {
   "cell_type": "code",
   "execution_count": 3,
   "metadata": {},
   "outputs": [
    {
     "name": "stdout",
     "output_type": "stream",
     "text": [
      "Number of point groups denoted in pymatgen:  40\n",
      "Number of point groups in conventional notation:  32\n"
     ]
    }
   ],
   "source": [
    "# This is a list of the point groups as noted in pymatgen\n",
    "point_groups = []\n",
    "for i in range(1,231):\n",
    "    symbol = sg_symbol_from_int_number(i)\n",
    "    point_groups.append(SYMM_DATA['space_group_encoding'][symbol]['point_group'])\n",
    "\n",
    "# Note that there are 40 of them, rather than 32.\n",
    "print \"Number of point groups denoted in pymatgen: \", len(set(point_groups))\n",
    "\n",
    "# This is because multiple conventions are used for the same point group.\n",
    "# This dictionary can be used to convert between them.\n",
    "point_group_conv = {'321' :'32', '312': '32', '3m1' :'3m', '31m': '3m',\n",
    "                    '-3m1' : '-3m', '-31m': '-3m', '-4m2': '-42m', '-62m': '-6m2' }\n",
    "\n",
    "# Using this dictionary we can correct to the standard point group notation.\n",
    "corrected_point_groups = [point_group_conv.get(pg, pg) for pg in point_groups]\n",
    "# Which produces the correct number of point groups. 32.\n",
    "print \"Number of point groups in conventional notation: \", len(set(corrected_point_groups))"
   ]
  },
  {
   "cell_type": "code",
   "execution_count": 4,
   "metadata": {},
   "outputs": [
    {
     "name": "stdout",
     "output_type": "stream",
     "text": [
      "Number of polar spacegroups:  68\n"
     ]
    }
   ],
   "source": [
    "# polar_point_groups = ['1', '2', 'm', 'mm2', '4', '4mm', '3', '3m', '3m1', '31m','6', '6mm']\n",
    "# There are 10 polar point groups\n",
    "polar_point_groups = ['1', '2', 'm', 'mm2', '4', '4mm', '3', '3m', '6', '6mm']\n",
    "\n",
    "# Polar spacegroups have polar point groups.\n",
    "polar_spacegroups = []\n",
    "# There are 230 spacegroups\n",
    "for i in range(1,231):\n",
    "    symbol = sg_symbol_from_int_number(i)\n",
    "    pg = SYMM_DATA['space_group_encoding'][symbol]['point_group']\n",
    "    if point_group_conv.get(pg, pg) in polar_point_groups:\n",
    "        polar_spacegroups.append(i)\n",
    "        \n",
    "# 68 of the 230 spacegroups are polar.\n",
    "print \"Number of polar spacegroups: \", len(polar_spacegroups)"
   ]
  },
  {
   "cell_type": "code",
   "execution_count": 6,
   "metadata": {},
   "outputs": [
    {
     "name": "stdout",
     "output_type": "stream",
     "text": [
      "Number of polar metals in Materials Project:  3466\n"
     ]
    }
   ],
   "source": [
    "# Now we are ready to make the query.\n",
    "max_band_gap = 0.0\n",
    "results = a.query(criteria={'band_gap': {'$lte': max_band_gap}, \n",
    "                            'spacegroup.number': {'$in': polar_spacegroups}}, \n",
    "                  properties=['material_id', 'pretty_formula', 'band_gap'])\n",
    "print \"Number of polar metals in Materials Project: \", len(results)"
   ]
  },
  {
   "cell_type": "code",
   "execution_count": 7,
   "metadata": {},
   "outputs": [
    {
     "data": {
      "text/plain": [
       "[{u'band_gap': 0, u'material_id': u'mvc-8154', u'pretty_formula': u'Cr3O8'},\n",
       " {u'band_gap': 0,\n",
       "  u'material_id': u'mvc-12765',\n",
       "  u'pretty_formula': u'Ca3Fe2(ReO6)2'},\n",
       " {u'band_gap': 0,\n",
       "  u'material_id': u'mvc-16106',\n",
       "  u'pretty_formula': u'BaAlSn4O7'},\n",
       " {u'band_gap': 0,\n",
       "  u'material_id': u'mvc-883',\n",
       "  u'pretty_formula': u'Sr2AlCrCu2O7'},\n",
       " {u'band_gap': 0, u'material_id': u'mvc-887', u'pretty_formula': u'Sr2VCu2O7'},\n",
       " {u'band_gap': 0,\n",
       "  u'material_id': u'mvc-13160',\n",
       "  u'pretty_formula': u'Ba6YTl3(Cu2O7)3'},\n",
       " {u'band_gap': 0,\n",
       "  u'material_id': u'mvc-12903',\n",
       "  u'pretty_formula': u'Pr(CoO3)2'},\n",
       " {u'band_gap': 0,\n",
       "  u'material_id': u'mvc-15106',\n",
       "  u'pretty_formula': u'Sr2ZnNi2(PO4)4'},\n",
       " {u'band_gap': 0, u'material_id': u'mvc-12157', u'pretty_formula': u'Ti4ZnO8'},\n",
       " {u'band_gap': 0,\n",
       "  u'material_id': u'mvc-438',\n",
       "  u'pretty_formula': u'BaTl(WO3)2'}]"
      ]
     },
     "execution_count": 7,
     "metadata": {},
     "output_type": "execute_result"
    }
   ],
   "source": [
    "# Show the first 10 results\n",
    "results[0:10]"
   ]
  },
  {
   "cell_type": "code",
   "execution_count": null,
   "metadata": {},
   "outputs": [],
   "source": []
  }
 ],
 "metadata": {
  "kernelspec": {
   "display_name": "Python 3",
   "language": "python",
   "name": "python3"
  },
  "language_info": {
   "codemirror_mode": {
    "name": "ipython",
    "version": 3
   },
   "file_extension": ".py",
   "mimetype": "text/x-python",
   "name": "python",
   "nbconvert_exporter": "python",
   "pygments_lexer": "ipython3",
   "version": "3.7.4"
  }
 },
 "nbformat": 4,
 "nbformat_minor": 2
}
