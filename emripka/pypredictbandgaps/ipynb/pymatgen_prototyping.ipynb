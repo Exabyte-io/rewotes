{
 "cells": [
  {
   "cell_type": "markdown",
   "metadata": {},
   "source": [
    "SiGe = Material(formula=\"SiGe\",a=,b=,c=,alpha=,beta=,gamma=,volume=)\n",
    "\n",
    "** each training dataset has these values, as well as band_gap\n"
   ]
  },
  {
   "cell_type": "code",
   "execution_count": null,
   "metadata": {},
   "outputs": [],
   "source": [
    "import pymatgen as mg\n",
    "from pymatgen.ext.matproj import MPRester"
   ]
  },
  {
   "cell_type": "code",
   "execution_count": 10,
   "metadata": {},
   "outputs": [
    {
     "name": "stdout",
     "output_type": "stream",
     "text": [
      "Connection established to Materials Project database, version 2020_09_08.\n"
     ]
    }
   ],
   "source": [
    "test = MPRester().get_entry_by_material_id(\"mp-1234\")"
   ]
  },
  {
   "cell_type": "markdown",
   "metadata": {},
   "source": [
    "### prop for get_data\n",
    "('energy', 'energy_per_atom', 'volume', 'formation_energy_per_atom', 'nsites', 'unit_cell_formula', 'pretty_formula', 'is_hubbard', 'elements', 'nelements', 'e_above_hull', 'hubbards', 'is_compatible', 'spacegroup', 'band_gap', 'density', 'icsd_id', 'cif')"
   ]
  },
  {
   "cell_type": "code",
   "execution_count": 74,
   "metadata": {},
   "outputs": [
    {
     "name": "stdout",
     "output_type": "stream",
     "text": [
      "Connection established to Materials Project database, version 2020_09_08.\n"
     ]
    },
    {
     "data": {
      "text/plain": [
       "[{'material_id': 'mp-1095493',\n",
       "  'spacegroup': {'symprec': 0.1,\n",
       "   'source': 'spglib',\n",
       "   'symbol': 'Pa-3',\n",
       "   'number': 205,\n",
       "   'point_group': 'm-3',\n",
       "   'crystal_system': 'cubic',\n",
       "   'hall': '-P 2ac 2ab 3'}}]"
      ]
     },
     "execution_count": 74,
     "metadata": {},
     "output_type": "execute_result"
    }
   ],
   "source": [
    "MPRester().get_data(\"mp-1095493\",prop=\"spacegroup\")#[0][\"band_gap\"]"
   ]
  },
  {
   "cell_type": "code",
   "execution_count": null,
   "metadata": {},
   "outputs": [],
   "source": []
  },
  {
   "cell_type": "code",
   "execution_count": 77,
   "metadata": {},
   "outputs": [
    {
     "name": "stdout",
     "output_type": "stream",
     "text": [
      "Connection established to Materials Project database, version 2020_09_08.\n"
     ]
    },
    {
     "data": {
      "text/plain": [
       "{'Cd': 4.0, 'Se': 8.0}"
      ]
     },
     "execution_count": 77,
     "metadata": {},
     "output_type": "execute_result"
    }
   ],
   "source": [
    "MPRester().get_data(\"mp-1095493\",prop=\"unit_cell_formula\")[0][\"unit_cell_formula\"]"
   ]
  },
  {
   "cell_type": "code",
   "execution_count": null,
   "metadata": {},
   "outputs": [],
   "source": []
  },
  {
   "cell_type": "code",
   "execution_count": null,
   "metadata": {},
   "outputs": [],
   "source": []
  },
  {
   "cell_type": "code",
   "execution_count": null,
   "metadata": {},
   "outputs": [],
   "source": []
  },
  {
   "cell_type": "code",
   "execution_count": 78,
   "metadata": {},
   "outputs": [
    {
     "name": "stdout",
     "output_type": "stream",
     "text": [
      "Connection established to Materials Project database, version 2020_09_08.\n"
     ]
    },
    {
     "data": {
      "text/plain": [
       "'CdSe2'"
      ]
     },
     "execution_count": 78,
     "metadata": {},
     "output_type": "execute_result"
    }
   ],
   "source": [
    "MPRester().get_data(\"CdSe2\",prop=\"pretty_formula\")[0][\"pretty_formula\"]"
   ]
  },
  {
   "cell_type": "code",
   "execution_count": 64,
   "metadata": {},
   "outputs": [
    {
     "name": "stdout",
     "output_type": "stream",
     "text": [
      "Connection established to Materials Project database, version 2020_09_08.\n"
     ]
    }
   ],
   "source": [
    "cif_info = MPRester().get_data(\"mp-1219182\",prop=\"cif\")[0][\"cif\"]\n",
    "f = open(\"tmp.cif\", \"a\")\n",
    "f.write(cif_info)\n",
    "f.close()\n",
    "structure = mg.Structure.from_file(\"tmp.cif\")"
   ]
  },
  {
   "cell_type": "code",
   "execution_count": 65,
   "metadata": {},
   "outputs": [
    {
     "data": {
      "text/plain": [
       "Lattice\n",
       "    abc : 3.9548892400000004 3.9548892400000004 3.95488924\n",
       " angles : 59.99999999999999 59.99999999999999 60.00000000000001\n",
       " volume : 43.740926501007\n",
       "      A : 3.4250345509937317 0.0 1.9774446200000004\n",
       "      B : 1.1416781836645773 3.229153542407853 1.9774446200000004\n",
       "      C : 0.0 0.0 3.95488924"
      ]
     },
     "execution_count": 65,
     "metadata": {},
     "output_type": "execute_result"
    }
   ],
   "source": [
    "structure.lattice"
   ]
  },
  {
   "cell_type": "code",
   "execution_count": 71,
   "metadata": {},
   "outputs": [
    {
     "name": "stdout",
     "output_type": "stream",
     "text": [
      "a 3.9548892400000004\n",
      "b 3.9548892400000004\n",
      "c 3.95488924\n"
     ]
    }
   ],
   "source": [
    "for ii, lattice_param in enumerate([\"a\",\"b\",\"c\"]):\n",
    "    print(lattice_param, structure.lattice.abc[ii])"
   ]
  },
  {
   "cell_type": "code",
   "execution_count": 56,
   "metadata": {},
   "outputs": [
    {
     "data": {
      "text/plain": [
       "(59.99999999999999, 59.99999999999999, 60.00000000000001)"
      ]
     },
     "execution_count": 56,
     "metadata": {},
     "output_type": "execute_result"
    }
   ],
   "source": [
    "structure.lattice.angles "
   ]
  },
  {
   "cell_type": "code",
   "execution_count": null,
   "metadata": {},
   "outputs": [],
   "source": []
  },
  {
   "cell_type": "code",
   "execution_count": null,
   "metadata": {},
   "outputs": [],
   "source": [
    "composition.get_atomic_fraction(element)"
   ]
  },
  {
   "cell_type": "code",
   "execution_count": null,
   "metadata": {},
   "outputs": [],
   "source": []
  },
  {
   "cell_type": "code",
   "execution_count": null,
   "metadata": {},
   "outputs": [],
   "source": []
  },
  {
   "cell_type": "code",
   "execution_count": 6,
   "metadata": {},
   "outputs": [
    {
     "name": "stdout",
     "output_type": "stream",
     "text": [
      "Connection established to Materials Project database, version 2020_09_08.\n",
      "Ge4\n",
      "Ge2\n",
      "Ge4\n",
      "Ge2\n",
      "Ge2\n",
      "Ge34\n",
      "Ge1\n",
      "Ge8\n",
      "Ge12\n",
      "Ge34\n",
      "Ge8\n",
      "Ge1\n",
      "Ge1\n",
      "Ge2\n",
      "Ge4\n",
      "Ge8\n",
      "Ge8\n",
      "Ge16 Se32\n",
      "Ge1 Se1\n",
      "Ge4 Se4\n",
      "Ge2 Se4\n",
      "Ge16 Se36\n",
      "Se2\n",
      "Se1\n",
      "Se2\n",
      "Se6\n",
      "Se3\n",
      "Se4\n",
      "Se32\n",
      "Se64\n",
      "Se32\n",
      "Se1\n"
     ]
    }
   ],
   "source": [
    "with MPRester() as mpr:\n",
    "    training_ids = mpr.get_materials_ids(\"Si-Ge\")\n",
    "    \n",
    "    for training_id in training_ids:\n",
    "        structure = mpr.get_structure_by_material_id(training_id)\n",
    "        print(structure.composition.alphabetical_formula)"
   ]
  },
  {
   "cell_type": "code",
   "execution_count": null,
   "metadata": {},
   "outputs": [],
   "source": []
  },
  {
   "cell_type": "code",
   "execution_count": null,
   "metadata": {},
   "outputs": [],
   "source": []
  },
  {
   "cell_type": "code",
   "execution_count": 86,
   "metadata": {},
   "outputs": [
    {
     "name": "stdout",
     "output_type": "stream",
     "text": [
      "Connection established to Materials Project database, version 2020_09_08.\n",
      "Connection established to Materials Project database, version 2020_09_08.\n"
     ]
    }
   ],
   "source": [
    "training_materials = [\"Si-Ge\"]\n",
    "with MPRester() as mpr:\n",
    "    training_ids = mpr.get_materials_ids(training_materials[0])\n",
    "    \n",
    "with MPRester() as mpr:\n",
    "    structures = { training_id: mpr.get_structure_by_material_id(training_id) for training_id in training_ids }\n",
    "    #band_structures = { training_id: mpr.get_bandstructure_by_material_id(training_id) for training_id in training_ids }"
   ]
  },
  {
   "cell_type": "code",
   "execution_count": 122,
   "metadata": {},
   "outputs": [],
   "source": [
    "structure_dict = structures[training_ids[0]].as_dict()"
   ]
  },
  {
   "cell_type": "code",
   "execution_count": 130,
   "metadata": {},
   "outputs": [
    {
     "data": {
      "text/plain": [
       "mp-1067619 ComputedEntry - Ge4          (Ge)\n",
       "Energy (Uncorrected)     = -16.5875  eV (-4.1469  eV/atom)\n",
       "Correction               = 0.0000    eV (0.0000   eV/atom)\n",
       "Energy (Final)           = -16.5875  eV (-4.1469  eV/atom)\n",
       "Energy Adjustments:\n",
       "  None\n",
       "Parameters:\n",
       "  run_type               = GGA\n",
       "  is_hubbard             = False\n",
       "  pseudo_potential       = {'functional': 'PBE', 'labels': ['Ge_d'], 'pot_type': 'paw'}\n",
       "  hubbards               = {}\n",
       "  potcar_symbols         = ['PBE Ge_d']\n",
       "  oxide_type             = None\n",
       "Data:\n",
       "  oxide_type             = None"
      ]
     },
     "execution_count": 130,
     "metadata": {},
     "output_type": "execute_result"
    }
   ],
   "source": [
    "tmp[0]"
   ]
  },
  {
   "cell_type": "code",
   "execution_count": 160,
   "metadata": {},
   "outputs": [
    {
     "name": "stdout",
     "output_type": "stream",
     "text": [
      "0\n",
      "Connection established to Materials Project database, version 2020_09_08.\n",
      "1\n",
      "Connection established to Materials Project database, version 2020_09_08.\n"
     ]
    }
   ],
   "source": [
    "for ii in range(2):\n",
    "    print(ii)\n",
    "    try:\n",
    "        structure = MPRester().get_bandstructure_by_material_id(\"mp-542461\")\n",
    "    except:\n",
    "        continue"
   ]
  },
  {
   "cell_type": "code",
   "execution_count": 161,
   "metadata": {},
   "outputs": [
    {
     "name": "stdout",
     "output_type": "stream",
     "text": [
      "Cd 0.4\n",
      "Se 0.6\n"
     ]
    }
   ],
   "source": [
    "composition = mg.Composition(\"Cd2Se3\")\n",
    "for element in composition:\n",
    "    print(element.value,composition.get_atomic_fraction(element))"
   ]
  },
  {
   "cell_type": "code",
   "execution_count": 167,
   "metadata": {},
   "outputs": [
    {
     "data": {
      "text/plain": [
       "['Cd', 'Se']"
      ]
     },
     "execution_count": 167,
     "metadata": {},
     "output_type": "execute_result"
    }
   ],
   "source": [
    "list({ element.value: composition.get_atomic_fraction(element) for element in composition }.keys())"
   ]
  },
  {
   "cell_type": "code",
   "execution_count": null,
   "metadata": {},
   "outputs": [],
   "source": []
  },
  {
   "cell_type": "code",
   "execution_count": null,
   "metadata": {},
   "outputs": [],
   "source": []
  },
  {
   "cell_type": "code",
   "execution_count": 155,
   "metadata": {},
   "outputs": [],
   "source": [
    "tmp = structure.as_dict()"
   ]
  },
  {
   "cell_type": "code",
   "execution_count": 156,
   "metadata": {},
   "outputs": [
    {
     "data": {
      "text/plain": [
       "{'matrix': [[0.0, 2.796529, 2.796529],\n",
       "  [2.796529, 0.0, 2.796529],\n",
       "  [2.796529, 2.796529, 0.0]],\n",
       " 'a': 3.954889239369669,\n",
       " 'b': 3.954889239369669,\n",
       " 'c': 3.954889239369669,\n",
       " 'alpha': 59.99999999999999,\n",
       " 'beta': 59.99999999999999,\n",
       " 'gamma': 59.99999999999999,\n",
       " 'volume': 43.74092648009269}"
      ]
     },
     "execution_count": 156,
     "metadata": {},
     "output_type": "execute_result"
    }
   ],
   "source": [
    "tmp[\"lattice\"]"
   ]
  },
  {
   "cell_type": "code",
   "execution_count": null,
   "metadata": {},
   "outputs": [],
   "source": []
  },
  {
   "cell_type": "code",
   "execution_count": 136,
   "metadata": {},
   "outputs": [
    {
     "data": {
      "text/plain": [
       "'Ge34'"
      ]
     },
     "execution_count": 136,
     "metadata": {},
     "output_type": "execute_result"
    }
   ],
   "source": [
    "structures[training_ids[5]].composition.alphabetical_formula"
   ]
  },
  {
   "cell_type": "code",
   "execution_count": null,
   "metadata": {},
   "outputs": [],
   "source": []
  },
  {
   "cell_type": "code",
   "execution_count": 36,
   "metadata": {},
   "outputs": [
    {
     "data": {
      "text/plain": [
       "28.0855"
      ]
     },
     "execution_count": 36,
     "metadata": {},
     "output_type": "execute_result"
    }
   ],
   "source": [
    "si = mg.Element(\"Si\")\n",
    "si.atomic_mass"
   ]
  },
  {
   "cell_type": "code",
   "execution_count": 37,
   "metadata": {},
   "outputs": [
    {
     "data": {
      "text/plain": [
       "1687.0"
      ]
     },
     "execution_count": 37,
     "metadata": {},
     "output_type": "execute_result"
    }
   ],
   "source": [
    "si.melting_point"
   ]
  },
  {
   "cell_type": "code",
   "execution_count": 38,
   "metadata": {},
   "outputs": [
    {
     "data": {
      "text/plain": [
       "259.1205"
      ]
     },
     "execution_count": 38,
     "metadata": {},
     "output_type": "execute_result"
    }
   ],
   "source": [
    "comp = mg.Composition(\"Cu2(CO2)3\")\n",
    "comp.weight"
   ]
  },
  {
   "cell_type": "code",
   "execution_count": 39,
   "metadata": {},
   "outputs": [
    {
     "data": {
      "text/plain": [
       "6.0"
      ]
     },
     "execution_count": 39,
     "metadata": {},
     "output_type": "execute_result"
    }
   ],
   "source": [
    "# Note that Composition conveniently allows strings to be treated just\n",
    "# like an Element object.\n",
    "comp[\"O\"]"
   ]
  },
  {
   "cell_type": "code",
   "execution_count": 43,
   "metadata": {},
   "outputs": [
    {
     "data": {
      "text/plain": [
       "0.18181818181818182"
      ]
     },
     "execution_count": 43,
     "metadata": {},
     "output_type": "execute_result"
    }
   ],
   "source": [
    "comp.get_atomic_fraction(\"Cu\")"
   ]
  },
  {
   "cell_type": "code",
   "execution_count": 56,
   "metadata": {},
   "outputs": [],
   "source": [
    "norm_stoichiometry = { element.value: comp.get_atomic_fraction(element) for element in comp }"
   ]
  },
  {
   "cell_type": "code",
   "execution_count": 57,
   "metadata": {},
   "outputs": [
    {
     "data": {
      "text/plain": [
       "{'Cu': 0.18181818181818182, 'C': 0.2727272727272727, 'O': 0.5454545454545454}"
      ]
     },
     "execution_count": 57,
     "metadata": {},
     "output_type": "execute_result"
    }
   ],
   "source": [
    "norm_stoichiometry"
   ]
  },
  {
   "cell_type": "code",
   "execution_count": 120,
   "metadata": {},
   "outputs": [],
   "source": [
    "comp = mg.Composition(\"Cu2(CO2)3\")"
   ]
  },
  {
   "cell_type": "code",
   "execution_count": 121,
   "metadata": {},
   "outputs": [
    {
     "data": {
      "text/plain": [
       "'C-Cu-O'"
      ]
     },
     "execution_count": 121,
     "metadata": {},
     "output_type": "execute_result"
    }
   ],
   "source": [
    "comp.chemical_system"
   ]
  },
  {
   "cell_type": "code",
   "execution_count": 147,
   "metadata": {},
   "outputs": [
    {
     "ename": "TypeError",
     "evalue": "type() takes 1 or 3 arguments",
     "output_type": "error",
     "traceback": [
      "\u001b[1;31m---------------------------------------------------------------------------\u001b[0m",
      "\u001b[1;31mTypeError\u001b[0m                                 Traceback (most recent call last)",
      "\u001b[1;32m<ipython-input-147-ff6dcb82abed>\u001b[0m in \u001b[0;36m<module>\u001b[1;34m\u001b[0m\n\u001b[1;32m----> 1\u001b[1;33m \u001b[0mtype\u001b[0m\u001b[1;33m(\u001b[0m\u001b[1;33m)\u001b[0m\u001b[1;33m\u001b[0m\u001b[1;33m\u001b[0m\u001b[0m\n\u001b[0m",
      "\u001b[1;31mTypeError\u001b[0m: type() takes 1 or 3 arguments"
     ]
    }
   ],
   "source": [
    "type()"
   ]
  },
  {
   "cell_type": "code",
   "execution_count": null,
   "metadata": {},
   "outputs": [],
   "source": []
  },
  {
   "cell_type": "code",
   "execution_count": null,
   "metadata": {},
   "outputs": [],
   "source": []
  },
  {
   "cell_type": "code",
   "execution_count": 148,
   "metadata": {},
   "outputs": [
    {
     "name": "stdout",
     "output_type": "stream",
     "text": [
      "Connection established to Materials Project database, version 2020_09_08.\n"
     ]
    }
   ],
   "source": [
    "with MPRester() as mprest:\n",
    "    structure = mprest.get_structure_by_material_id(\"mp-1219182\")\n",
    "    band_structures = { training_id: mpr.get_bandstructure_by_material_id(training_id) for training_id in [\"mp-1010136\",\"mp-1234\"] }"
   ]
  },
  {
   "cell_type": "code",
   "execution_count": 149,
   "metadata": {},
   "outputs": [
    {
     "data": {
      "text/plain": [
       "{'energy': 0.0, 'direct': False, 'transition': None}"
      ]
     },
     "execution_count": 149,
     "metadata": {},
     "output_type": "execute_result"
    }
   ],
   "source": [
    "band_structures[\"mp-1010136\"].get_band_gap()"
   ]
  },
  {
   "cell_type": "code",
   "execution_count": 27,
   "metadata": {},
   "outputs": [],
   "source": [
    "structure_dict = structure.as_dict()"
   ]
  },
  {
   "cell_type": "code",
   "execution_count": 28,
   "metadata": {},
   "outputs": [
    {
     "data": {
      "text/plain": [
       "{'@module': 'pymatgen.core.structure',\n",
       " '@class': 'Structure',\n",
       " 'charge': None,\n",
       " 'lattice': {'matrix': [[0.0, 2.796529, 2.796529],\n",
       "   [2.796529, 0.0, 2.796529],\n",
       "   [2.796529, 2.796529, 0.0]],\n",
       "  'a': 3.954889239369669,\n",
       "  'b': 3.954889239369669,\n",
       "  'c': 3.954889239369669,\n",
       "  'alpha': 59.99999999999999,\n",
       "  'beta': 59.99999999999999,\n",
       "  'gamma': 59.99999999999999,\n",
       "  'volume': 43.74092648009269},\n",
       " 'sites': [{'species': [{'element': 'Si', 'occu': 1}],\n",
       "   'abc': [0.0, 0.0, 0.0],\n",
       "   'xyz': [0.0, 0.0, 0.0],\n",
       "   'label': 'Si',\n",
       "   'properties': {'magmom': 0.0}},\n",
       "  {'species': [{'element': 'Ge', 'occu': 1}],\n",
       "   'abc': [0.25, 0.25, 0.25],\n",
       "   'xyz': [1.3982645, 1.3982645, 1.3982645],\n",
       "   'label': 'Ge',\n",
       "   'properties': {'magmom': -0.0}}]}"
      ]
     },
     "execution_count": 28,
     "metadata": {},
     "output_type": "execute_result"
    }
   ],
   "source": [
    "structure_dict"
   ]
  },
  {
   "cell_type": "code",
   "execution_count": 33,
   "metadata": {},
   "outputs": [],
   "source": [
    "test = {\"name\":\"emily\",\"number\":1}"
   ]
  },
  {
   "cell_type": "code",
   "execution_count": 34,
   "metadata": {},
   "outputs": [],
   "source": [
    "test.update({\"name\":\"reed\"})"
   ]
  },
  {
   "cell_type": "code",
   "execution_count": 35,
   "metadata": {},
   "outputs": [
    {
     "data": {
      "text/plain": [
       "{'name': 'reed', 'number': 1}"
      ]
     },
     "execution_count": 35,
     "metadata": {},
     "output_type": "execute_result"
    }
   ],
   "source": [
    "test"
   ]
  },
  {
   "cell_type": "code",
   "execution_count": 67,
   "metadata": {},
   "outputs": [],
   "source": [
    "MPRester.get_materials_ids?"
   ]
  },
  {
   "cell_type": "code",
   "execution_count": null,
   "metadata": {},
   "outputs": [],
   "source": []
  }
 ],
 "metadata": {
  "kernelspec": {
   "display_name": "Python 3",
   "language": "python",
   "name": "python3"
  },
  "language_info": {
   "codemirror_mode": {
    "name": "ipython",
    "version": 3
   },
   "file_extension": ".py",
   "mimetype": "text/x-python",
   "name": "python",
   "nbconvert_exporter": "python",
   "pygments_lexer": "ipython3",
   "version": "3.7.4"
  }
 },
 "nbformat": 4,
 "nbformat_minor": 2
}
