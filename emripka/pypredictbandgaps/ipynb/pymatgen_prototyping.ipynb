{
 "cells": [
  {
   "cell_type": "code",
   "execution_count": 1,
   "metadata": {},
   "outputs": [],
   "source": [
    "import pymatgen as mg\n",
    "from pymatgen.ext.matproj import MPRester"
   ]
  },
  {
   "cell_type": "code",
   "execution_count": 36,
   "metadata": {},
   "outputs": [
    {
     "data": {
      "text/plain": [
       "28.0855"
      ]
     },
     "execution_count": 36,
     "metadata": {},
     "output_type": "execute_result"
    }
   ],
   "source": [
    "si = mg.Element(\"Si\")\n",
    "si.atomic_mass"
   ]
  },
  {
   "cell_type": "code",
   "execution_count": 37,
   "metadata": {},
   "outputs": [
    {
     "data": {
      "text/plain": [
       "1687.0"
      ]
     },
     "execution_count": 37,
     "metadata": {},
     "output_type": "execute_result"
    }
   ],
   "source": [
    "si.melting_point"
   ]
  },
  {
   "cell_type": "code",
   "execution_count": 38,
   "metadata": {},
   "outputs": [
    {
     "data": {
      "text/plain": [
       "259.1205"
      ]
     },
     "execution_count": 38,
     "metadata": {},
     "output_type": "execute_result"
    }
   ],
   "source": [
    "comp = mg.Composition(\"Cu2(CO2)3\")\n",
    "comp.weight"
   ]
  },
  {
   "cell_type": "code",
   "execution_count": 39,
   "metadata": {},
   "outputs": [
    {
     "data": {
      "text/plain": [
       "6.0"
      ]
     },
     "execution_count": 39,
     "metadata": {},
     "output_type": "execute_result"
    }
   ],
   "source": [
    "# Note that Composition conveniently allows strings to be treated just\n",
    "# like an Element object.\n",
    "comp[\"O\"]"
   ]
  },
  {
   "cell_type": "code",
   "execution_count": 43,
   "metadata": {},
   "outputs": [
    {
     "data": {
      "text/plain": [
       "0.18181818181818182"
      ]
     },
     "execution_count": 43,
     "metadata": {},
     "output_type": "execute_result"
    }
   ],
   "source": [
    "comp.get_atomic_fraction(\"Cu\")"
   ]
  },
  {
   "cell_type": "code",
   "execution_count": 56,
   "metadata": {},
   "outputs": [],
   "source": [
    "norm_stoichiometry = { element.value: comp.get_atomic_fraction(element) for element in comp }"
   ]
  },
  {
   "cell_type": "code",
   "execution_count": 57,
   "metadata": {},
   "outputs": [
    {
     "data": {
      "text/plain": [
       "{'Cu': 0.18181818181818182, 'C': 0.2727272727272727, 'O': 0.5454545454545454}"
      ]
     },
     "execution_count": 57,
     "metadata": {},
     "output_type": "execute_result"
    }
   ],
   "source": [
    "norm_stoichiometry"
   ]
  },
  {
   "cell_type": "code",
   "execution_count": null,
   "metadata": {},
   "outputs": [],
   "source": []
  },
  {
   "cell_type": "code",
   "execution_count": null,
   "metadata": {},
   "outputs": [],
   "source": []
  },
  {
   "cell_type": "code",
   "execution_count": 19,
   "metadata": {},
   "outputs": [
    {
     "name": "stdout",
     "output_type": "stream",
     "text": [
      "Connection established to Materials Project database, version 2020_09_08.\n"
     ]
    }
   ],
   "source": [
    "with MPRester() as mprest:\n",
    "    structure = mprest.get_structure_by_material_id(\"mp-1219182\")\n",
    "    band_structure = mprest.get_bandstructure_by_material_id(\"mp-1219182\")"
   ]
  },
  {
   "cell_type": "code",
   "execution_count": 15,
   "metadata": {},
   "outputs": [
    {
     "data": {
      "text/plain": [
       "{'direct': False,\n",
       " 'energy': 0.6059999999999999,\n",
       " 'transition': '\\\\Gamma-(0.413,0.000,0.413)'}"
      ]
     },
     "execution_count": 15,
     "metadata": {},
     "output_type": "execute_result"
    }
   ],
   "source": [
    "band_structure.get_band_gap()"
   ]
  },
  {
   "cell_type": "code",
   "execution_count": 27,
   "metadata": {},
   "outputs": [],
   "source": [
    "structure_dict = structure.as_dict()"
   ]
  },
  {
   "cell_type": "code",
   "execution_count": 28,
   "metadata": {},
   "outputs": [
    {
     "data": {
      "text/plain": [
       "{'@module': 'pymatgen.core.structure',\n",
       " '@class': 'Structure',\n",
       " 'charge': None,\n",
       " 'lattice': {'matrix': [[0.0, 2.796529, 2.796529],\n",
       "   [2.796529, 0.0, 2.796529],\n",
       "   [2.796529, 2.796529, 0.0]],\n",
       "  'a': 3.954889239369669,\n",
       "  'b': 3.954889239369669,\n",
       "  'c': 3.954889239369669,\n",
       "  'alpha': 59.99999999999999,\n",
       "  'beta': 59.99999999999999,\n",
       "  'gamma': 59.99999999999999,\n",
       "  'volume': 43.74092648009269},\n",
       " 'sites': [{'species': [{'element': 'Si', 'occu': 1}],\n",
       "   'abc': [0.0, 0.0, 0.0],\n",
       "   'xyz': [0.0, 0.0, 0.0],\n",
       "   'label': 'Si',\n",
       "   'properties': {'magmom': 0.0}},\n",
       "  {'species': [{'element': 'Ge', 'occu': 1}],\n",
       "   'abc': [0.25, 0.25, 0.25],\n",
       "   'xyz': [1.3982645, 1.3982645, 1.3982645],\n",
       "   'label': 'Ge',\n",
       "   'properties': {'magmom': -0.0}}]}"
      ]
     },
     "execution_count": 28,
     "metadata": {},
     "output_type": "execute_result"
    }
   ],
   "source": [
    "structure_dict"
   ]
  },
  {
   "cell_type": "code",
   "execution_count": 33,
   "metadata": {},
   "outputs": [],
   "source": [
    "test = {\"name\":\"emily\",\"number\":1}"
   ]
  },
  {
   "cell_type": "code",
   "execution_count": 34,
   "metadata": {},
   "outputs": [],
   "source": [
    "test.update({\"name\":\"reed\"})"
   ]
  },
  {
   "cell_type": "code",
   "execution_count": 35,
   "metadata": {},
   "outputs": [
    {
     "data": {
      "text/plain": [
       "{'name': 'reed', 'number': 1}"
      ]
     },
     "execution_count": 35,
     "metadata": {},
     "output_type": "execute_result"
    }
   ],
   "source": [
    "test"
   ]
  },
  {
   "cell_type": "code",
   "execution_count": null,
   "metadata": {},
   "outputs": [],
   "source": []
  }
 ],
 "metadata": {
  "kernelspec": {
   "display_name": "Python 3",
   "language": "python",
   "name": "python3"
  },
  "language_info": {
   "codemirror_mode": {
    "name": "ipython",
    "version": 3
   },
   "file_extension": ".py",
   "mimetype": "text/x-python",
   "name": "python",
   "nbconvert_exporter": "python",
   "pygments_lexer": "ipython3",
   "version": "3.7.4"
  }
 },
 "nbformat": 4,
 "nbformat_minor": 2
}
