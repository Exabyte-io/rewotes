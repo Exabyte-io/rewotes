{
 "cells": [
  {
   "cell_type": "code",
   "execution_count": 1,
   "metadata": {},
   "outputs": [
    {
     "name": "stdout",
     "output_type": "stream",
     "text": [
      "Connection established to Materials Project database, version 2020_09_08.\n"
     ]
    }
   ],
   "source": [
    "import numpy as np\n",
    "import pandas as pd\n",
    "from sklearn import model_selection, metrics, linear_model\n",
    "import matplotlib.pyplot as plt\n",
    "import matplotlib.ticker as ticker\n",
    "\n",
    "from pypredictbandgaps.material import Material\n",
    "from pypredictbandgaps.bandgappredictions import BandGapPredictions"
   ]
  },
  {
   "cell_type": "code",
   "execution_count": 2,
   "metadata": {},
   "outputs": [],
   "source": [
    "Cd2Se3 = Material(formula=\"Cd2Se3\",spacegroup=\"F-43m\",a=3.95,b=3.95,c=3.95,alpha=59.99,beta=59.99,gamma=59.99,volume=45) # mp-1219182\n",
    "Cd25Se80 = Material(formula=\"Cd25Se80\",spacegroup=\"F-43m\",a=3,b=3,c=3,alpha=59.99,beta=59.99,gamma=59.99,volume=45) # mp-1219182\n",
    "\n",
    "Si2Ge3 = Material(formula=\"Si2Ge3\",spacegroup=\"F-43m\",a=4.12,b=4.12,c=4.12,alpha=59.99,beta=59.99,gamma=59.99,volume=45) # mp-1219182\n",
    "Si82Ge17 = Material(formula=\"Si82Ge17\",spacegroup=\"F-43m\",a=3.98,b=3.98,c=3.98,alpha=59.99,beta=59.99,gamma=59.99,volume=45) # mp-1219182\n",
    "#Si2Ge4 = Material(formula=\"Si2Ge4\")\n",
    "#Si5Ge2 = Material(formula=\"Si5Ge2\")\n",
    "#Cu = Material(formula=\"Cu\",a=1,b=1,c=2,alpha=90,beta=90,gamma=90,volume=11.1)"
   ]
  },
  {
   "cell_type": "code",
   "execution_count": 3,
   "metadata": {
    "scrolled": false
   },
   "outputs": [
    {
     "name": "stdout",
     "output_type": "stream",
     "text": [
      "\n",
      "Starting prediciton for Cd2Se3 using decision_tree model type...\n",
      "Material training params: ['spacegroup', 'a', 'b', 'c', 'alpha', 'beta', 'gamma', 'volume', 'Cd', 'Se', 'molecular_weight']\n",
      "\n",
      "Getting Materials Project data for the chemical system: Cd-Se ...\n",
      "Number of Cd-Se system entries in Materials Project: 5\n",
      "Number of results for training: 5\n"
     ]
    },
    {
     "name": "stderr",
     "output_type": "stream",
     "text": [
      "C:\\Users\\emily\\Anaconda3\\lib\\site-packages\\pymatgen\\io\\cif.py:1123: UserWarning: Issues encountered while parsing CIF: Some fractional co-ordinates rounded to ideal values to avoid issues with finite precision.\n",
      "  warnings.warn(\"Issues encountered while parsing CIF: %s\" % \"\\n\".join(self.warnings))\n"
     ]
    },
    {
     "name": "stdout",
     "output_type": "stream",
     "text": [
      "Training the model...\n",
      "training params= ['spacegroup', 'a', 'b', 'c', 'alpha', 'beta', 'gamma', 'volume', 'Cd', 'Se', 'molecular_weight']\n",
      "Making predictions...\n",
      "predicted bandgap for  Cd2Se3 : 0.5095\n",
      "\n",
      "Starting prediciton for Si82Ge17 using decision_tree model type...\n",
      "Material training params: ['spacegroup', 'a', 'b', 'c', 'alpha', 'beta', 'gamma', 'volume', 'Si', 'Ge', 'molecular_weight']\n",
      "\n",
      "Getting Materials Project data for the chemical system: Ge-Si ...\n",
      "Number of Ge-Si system entries in Materials Project: 6\n",
      "Number of results for training: 6\n"
     ]
    },
    {
     "name": "stderr",
     "output_type": "stream",
     "text": [
      "C:\\Users\\emily\\Anaconda3\\lib\\site-packages\\pymatgen\\io\\cif.py:1123: UserWarning: Issues encountered while parsing CIF: Some fractional co-ordinates rounded to ideal values to avoid issues with finite precision.\n",
      "  warnings.warn(\"Issues encountered while parsing CIF: %s\" % \"\\n\".join(self.warnings))\n"
     ]
    },
    {
     "name": "stdout",
     "output_type": "stream",
     "text": [
      "Training the model...\n",
      "training params= ['spacegroup', 'a', 'b', 'c', 'alpha', 'beta', 'gamma', 'volume', 'Si', 'Ge', 'molecular_weight']\n",
      "Making predictions...\n",
      "predicted bandgap for  Si82Ge17 : 0.8585000000000003\n"
     ]
    }
   ],
   "source": [
    "#materials_list = [Si2Ge3,Si82Ge17]#[SiGe,Si2Ge4,Si5Ge2]\n",
    "materials_list = [Cd2Se3,Si82Ge17]#[SiGe,Si2Ge4,Si5Ge2]\n",
    "band_gap_predictions = BandGapPredictions(materials_list,model_type=\"decision_tree\")\n",
    "band_gap_prediction_objects = band_gap_predictions.band_gap_prediction_objects"
   ]
  },
  {
   "cell_type": "code",
   "execution_count": 6,
   "metadata": {},
   "outputs": [
    {
     "name": "stdout",
     "output_type": "stream",
     "text": [
      " \n",
      "    Cd2Se3\n",
      "    -----------\n",
      "    R-squared: 0.08612066868745072\n",
      "    band gap: 0.5095 eV\n",
      " \n",
      "    Si82Ge17\n",
      "    -----------\n",
      "    R-squared: -88.29052700816658\n",
      "    band gap: 0.8585000000000003 eV\n"
     ]
    }
   ],
   "source": [
    "#model score: {band_gap_prediction_object.model_score}\n",
    "for material, band_gap_prediction_object in band_gap_prediction_objects.items():\n",
    "    x = band_gap_prediction_object.X_train\n",
    "    y = band_gap_prediction_object.y_train\n",
    "    band_gap = band_gap_prediction_object.predicted_band_gap\n",
    "    score = band_gap_prediction_object.model.score(x,y)\n",
    "    #mse = metrics.mean_squared_error(y, band_gap)\n",
    "    print(f\"\"\" \n",
    "    {material}\n",
    "    -----------\n",
    "    R-squared: {score}\n",
    "    band gap: {band_gap} eV\"\"\")"
   ]
  },
  {
   "cell_type": "code",
   "execution_count": null,
   "metadata": {},
   "outputs": [],
   "source": []
  },
  {
   "cell_type": "code",
   "execution_count": 5,
   "metadata": {},
   "outputs": [
    {
     "name": "stdout",
     "output_type": "stream",
     "text": [
      "Connection established to Materials Project database, version 2020_09_08.\n"
     ]
    }
   ],
   "source": [
    "from pymatgen.ext.matproj import MPRester\n",
    "mpr = MPRester()"
   ]
  },
  {
   "cell_type": "code",
   "execution_count": 6,
   "metadata": {},
   "outputs": [
    {
     "name": "stdout",
     "output_type": "stream",
     "text": [
      "average Si bandgap: 0.7591789473684211 eV\n",
      "average Ge bandgap: 0.6050250000000001 eV\n"
     ]
    },
    {
     "name": "stderr",
     "output_type": "stream",
     "text": [
      "C:\\Users\\emily\\Anaconda3\\lib\\site-packages\\numpy\\lib\\function_base.py:392: RuntimeWarning: Mean of empty slice.\n",
      "  avg = a.mean(axis)\n",
      "C:\\Users\\emily\\Anaconda3\\lib\\site-packages\\numpy\\core\\_methods.py:85: RuntimeWarning: invalid value encountered in double_scalars\n",
      "  ret = ret.dtype.type(ret / rcount)\n"
     ]
    },
    {
     "name": "stdout",
     "output_type": "stream",
     "text": [
      "average Cd bandgap: nan eV\n",
      "average Se bandgap: 1.44546 eV\n"
     ]
    }
   ],
   "source": [
    "elements = [\"Si\",\"Ge\",\"Cd\",\"Se\"]\n",
    "properties = [\"material_id\",\"pretty_formula\",\"band_gap\",\"spacegroup\",\"cif\"]\n",
    "\n",
    "for element in elements:\n",
    "    results = mpr.query(criteria=element,properties=properties)\n",
    "    band_gaps = [ result[\"band_gap\"] for result in results if result[\"band_gap\"] ]\n",
    "    print(f\"average {element} bandgap:\", np.average(band_gaps),\"eV\")"
   ]
  },
  {
   "cell_type": "code",
   "execution_count": null,
   "metadata": {},
   "outputs": [],
   "source": []
  },
  {
   "cell_type": "code",
   "execution_count": null,
   "metadata": {},
   "outputs": [],
   "source": []
  },
  {
   "cell_type": "code",
   "execution_count": null,
   "metadata": {},
   "outputs": [],
   "source": []
  },
  {
   "cell_type": "code",
   "execution_count": null,
   "metadata": {},
   "outputs": [],
   "source": []
  },
  {
   "cell_type": "code",
   "execution_count": null,
   "metadata": {},
   "outputs": [],
   "source": []
  },
  {
   "cell_type": "code",
   "execution_count": null,
   "metadata": {},
   "outputs": [],
   "source": []
  },
  {
   "cell_type": "code",
   "execution_count": null,
   "metadata": {},
   "outputs": [],
   "source": []
  },
  {
   "cell_type": "code",
   "execution_count": 5,
   "metadata": {},
   "outputs": [
    {
     "name": "stderr",
     "output_type": "stream",
     "text": [
      "C:\\Users\\emily\\Anaconda3\\lib\\site-packages\\sklearn\\metrics\\regression.py:543: UndefinedMetricWarning: R^2 score is not well-defined with less than two samples.\n",
      "  warnings.warn(msg, UndefinedMetricWarning)\n",
      "C:\\Users\\emily\\Anaconda3\\lib\\site-packages\\sklearn\\metrics\\regression.py:543: UndefinedMetricWarning: R^2 score is not well-defined with less than two samples.\n",
      "  warnings.warn(msg, UndefinedMetricWarning)\n",
      "C:\\Users\\emily\\Anaconda3\\lib\\site-packages\\sklearn\\metrics\\regression.py:543: UndefinedMetricWarning: R^2 score is not well-defined with less than two samples.\n",
      "  warnings.warn(msg, UndefinedMetricWarning)\n",
      "C:\\Users\\emily\\Anaconda3\\lib\\site-packages\\sklearn\\metrics\\regression.py:543: UndefinedMetricWarning: R^2 score is not well-defined with less than two samples.\n",
      "  warnings.warn(msg, UndefinedMetricWarning)\n"
     ]
    },
    {
     "data": {
      "image/png": "[encoded data removed]",
      "text/plain": [
       "<Figure size 432x288 with 1 Axes>"
      ]
     },
     "metadata": {
      "needs_background": "light"
     },
     "output_type": "display_data"
    },
    {
     "name": "stderr",
     "output_type": "stream",
     "text": [
      "C:\\Users\\emily\\Anaconda3\\lib\\site-packages\\sklearn\\metrics\\regression.py:543: UndefinedMetricWarning: R^2 score is not well-defined with less than two samples.\n",
      "  warnings.warn(msg, UndefinedMetricWarning)\n",
      "C:\\Users\\emily\\Anaconda3\\lib\\site-packages\\sklearn\\metrics\\regression.py:543: UndefinedMetricWarning: R^2 score is not well-defined with less than two samples.\n",
      "  warnings.warn(msg, UndefinedMetricWarning)\n",
      "C:\\Users\\emily\\Anaconda3\\lib\\site-packages\\sklearn\\metrics\\regression.py:543: UndefinedMetricWarning: R^2 score is not well-defined with less than two samples.\n",
      "  warnings.warn(msg, UndefinedMetricWarning)\n",
      "C:\\Users\\emily\\Anaconda3\\lib\\site-packages\\sklearn\\metrics\\regression.py:543: UndefinedMetricWarning: R^2 score is not well-defined with less than two samples.\n",
      "  warnings.warn(msg, UndefinedMetricWarning)\n"
     ]
    },
    {
     "data": {
      "image/png": "[encoded data removed]",
      "text/plain": [
       "<Figure size 432x288 with 1 Axes>"
      ]
     },
     "metadata": {
      "needs_background": "light"
     },
     "output_type": "display_data"
    }
   ],
   "source": [
    "# K fold validation\n",
    "# https://towardsdatascience.com/machine-learning-with-python-regression-complete-tutorial-47268e546cea\n",
    "for material, band_gap_prediction_object in band_gap_prediction_objects.items():\n",
    "    scores = list()\n",
    "    cv = model_selection.KFold(n_splits=4, shuffle=True)\n",
    "    fig = plt.figure()\n",
    "    i = 1\n",
    "\n",
    "    X_train = band_gap_prediction_object.X_train\n",
    "    y_train = band_gap_prediction_object.y_train\n",
    "    model = band_gap_prediction_object.model\n",
    "    \n",
    "    for train, test in cv.split(X_train, y_train):\n",
    "        prediction = model.fit(X_train[train],\n",
    "                        y_train[train]).predict(X_train[test])\n",
    "        true = y_train[test]\n",
    "        score = metrics.r2_score(true, prediction)\n",
    "        scores.append(score)\n",
    "        plt.scatter(prediction, true, lw=2, alpha=0.3, \n",
    "                    label='Fold %d (R2 = %0.2f)' % (i,score))\n",
    "        i = i+1\n",
    "    plt.plot([min(y_train),max(y_train)], [min(y_train),max(y_train)], \n",
    "                linestyle='--', lw=2, color='black')\n",
    "    plt.xlabel('Predicted')\n",
    "    plt.ylabel('True')\n",
    "    plt.title(f\"{material}'s model K-Fold Validation\")\n",
    "    plt.legend()\n",
    "    plt.show()"
   ]
  },
  {
   "cell_type": "code",
   "execution_count": 7,
   "metadata": {},
   "outputs": [
    {
     "data": {
      "text/plain": [
       "Index(['spacegroup', 'a', 'b', 'c', 'Cd', 'Se'], dtype='object')"
      ]
     },
     "execution_count": 7,
     "metadata": {},
     "output_type": "execute_result"
    }
   ],
   "source": [
    "feature_names = band_gap_prediction_objects[\"Cd2Se3\"].band_gap_dataframe_obj.dataframe.keys()[2:]\n",
    "feature_names"
   ]
  },
  {
   "cell_type": "code",
   "execution_count": 14,
   "metadata": {},
   "outputs": [
    {
     "data": {
      "image/png": "[encoded data removed]",
      "text/plain": [
       "<Figure size 720x360 with 1 Axes>"
      ]
     },
     "metadata": {
      "needs_background": "light"
     },
     "output_type": "display_data"
    }
   ],
   "source": [
    "coef = band_gap_prediction_objects[\"Cd2Se3\"].model_weights \n",
    "\n",
    "ridge_df = pd.DataFrame({'variable': feature_names, 'weights': coef})\n",
    "ridge_train_pred = []\n",
    "ridge_test_pred = []\n",
    "\n",
    "X_train = band_gap_prediction_objects[\"Cd2Se3\"].X_train\n",
    "y_train = band_gap_prediction_objects[\"Cd2Se3\"].y_train\n",
    "X_test = band_gap_prediction_objects[\"Cd2Se3\"].X_test\n",
    "y_test = band_gap_prediction_objects[\"Cd2Se3\"].y_test\n",
    "\n",
    "alphas = np.arange(1e-3,1e2,0.1)\n",
    "\n",
    "for alpha in alphas:\n",
    "    ridge_reg = linear_model.Ridge(alpha=alpha)\n",
    "    ridge_reg.fit(X_train, y_train)\n",
    "    var_name = str(alpha)\n",
    "    ridge_df[var_name] = ridge_reg.coef_\n",
    "    \n",
    "    # prediction\n",
    "    ridge_train_pred.append(ridge_reg.predict(X_train))\n",
    "    ridge_test_pred.append(ridge_reg.predict(X_test))\n",
    "    \n",
    "#ridge_df = ridge_df.set_index('variable').T.rename_axis('estimate').rename_axis(None, 1).reset_index()\n",
    "del ridge_df['weights']\n",
    "ridge_df = ridge_df.set_index('variable').T\n",
    "\n",
    "fig, ax = plt.subplots(figsize=(10, 5))\n",
    "#ax.plot(ridge_df.RM, 'r', ridge_df.ZN, 'g', ridge_df.RAD, 'b', ridge_df.CRIM, 'c', ridge_df.TAX, 'y')\n",
    "ax.plot(\n",
    "    ridge_df.a, \"b\",\n",
    "    ridge_df.b, \"g\",\n",
    "    ridge_df.c, \"y\",\n",
    "    ridge_df.Cd, \"m\",\n",
    "    ridge_df.Se, \"c\",\n",
    "    ridge_df.spacegroup, \"r\",\n",
    ")\n",
    "ax.axhline(y=0, color='black', linestyle='--')\n",
    "ax.set_xlabel(\"Lambda\")\n",
    "ax.set_ylabel(\"Beta Estimate\")\n",
    "ax.set_title(\"Ridge Regression Trace\", fontsize=16)\n",
    "ax.legend(labels=[\"a\",\"b\",\"c\",\"Cd\",\"Se\",\"spacegroup\"])\n",
    "ax.xaxis.set_major_locator(ticker.MultipleLocator(100))\n",
    "ax.set_ylim(-0.01,0.01)\n",
    "ax.grid(True)"
   ]
  },
  {
   "cell_type": "code",
   "execution_count": 7,
   "metadata": {},
   "outputs": [],
   "source": [
    "# features that are the least efficient in your estimation will \"shrink\" the fastest\n",
    "# the faster a coefficient is shrinking the less important it is in prediction"
   ]
  },
  {
   "cell_type": "code",
   "execution_count": null,
   "metadata": {},
   "outputs": [],
   "source": []
  },
  {
   "cell_type": "code",
   "execution_count": null,
   "metadata": {},
   "outputs": [],
   "source": []
  },
  {
   "cell_type": "code",
   "execution_count": null,
   "metadata": {},
   "outputs": [],
   "source": []
  },
  {
   "cell_type": "code",
   "execution_count": null,
   "metadata": {},
   "outputs": [],
   "source": []
  }
 ],
 "metadata": {
  "kernelspec": {
   "display_name": "Python 3",
   "language": "python",
   "name": "python3"
  },
  "language_info": {
   "codemirror_mode": {
    "name": "ipython",
    "version": 3
   },
   "file_extension": ".py",
   "mimetype": "text/x-python",
   "name": "python",
   "nbconvert_exporter": "python",
   "pygments_lexer": "ipython3",
   "version": "3.7.4"
  }
 },
 "nbformat": 4,
 "nbformat_minor": 2
}
