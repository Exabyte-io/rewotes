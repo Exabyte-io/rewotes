{
 "cells": [
  {
   "cell_type": "markdown",
   "metadata": {},
   "source": [
    "### Notes:\n",
    "Everytime a user tries to predict a bandgap, I want to do the following:\n",
    "1. check if there are any .csv files in data directory that have not been converted to json files; if so, convert them\n",
    "2. User can input new training data using the TrainingData class\n",
    "3. create a new training data set based on the formula and parameters input by the user\n",
    "    - should I only train w/ compounds containing the elements in the input? \n",
    "        - I don't think so, because there are structural related aspects to the prediction as well\n",
    "    - But I should only train w/ the parameters input by the user\n",
    "4. train the model\n",
    "5. predict the bandgap"
   ]
  },
  {
   "cell_type": "code",
   "execution_count": 6,
   "metadata": {},
   "outputs": [],
   "source": [
    "import pandas as pd\n",
    "import numpy as np\n",
    "import matplotlib.pyplot as plt\n",
    "from pylab import rcParams\n",
    "\n",
    "from sklearn.model_selection import train_test_split\n",
    "from sklearn import linear_model"
   ]
  },
  {
   "cell_type": "code",
   "execution_count": 7,
   "metadata": {},
   "outputs": [],
   "source": [
    "import sys\n",
    "sys.path.insert(1, \"../src/\")\n",
    "from trainingdata import TrainingData\n",
    "from bandgapdataset import BandGapDataset\n",
    "from periodictable import PeriodicTable\n",
    "from bandgapdataframe import BandGapDataFrame"
   ]
  },
  {
   "cell_type": "markdown",
   "metadata": {},
   "source": [
    "### TrainingData class \n",
    "- allows user to input and save training data in correct json format"
   ]
  },
  {
   "cell_type": "code",
   "execution_count": 8,
   "metadata": {},
   "outputs": [
    {
     "name": "stdout",
     "output_type": "stream",
     "text": [
      "{'user-07246': {'formula': 'SiGe', 'spacegroup': '', 'formation_energy__eV': 0.0, 'E_above_hull__eV': 0.0, 'band_gap__eV': 1.2, 'has_bandstructure': False, 'volume': 0.0, 'Nsites': 0, 'theoretical': False, 'count': 0.0, 'density__gm_per_cc': 0.0, 'crystal_system': ''}}\n"
     ]
    }
   ],
   "source": [
    "test_training_data = TrainingData(\"SiGe\")\n",
    "test_training_data.band_gap = 1.2\n",
    "test_training_data.show_data()"
   ]
  },
  {
   "cell_type": "code",
   "execution_count": 9,
   "metadata": {},
   "outputs": [],
   "source": [
    "# would use this to store user-input data\n",
    "#test_training_data.store_data()"
   ]
  },
  {
   "cell_type": "markdown",
   "metadata": {},
   "source": [
    "### BandGapDataset class\n",
    "- creates object which contains stored data as a dictionary"
   ]
  },
  {
   "cell_type": "code",
   "execution_count": 10,
   "metadata": {},
   "outputs": [],
   "source": [
    "csv_path = \"../data/training/materialsproject_output/\"\n",
    "json_path = \"../data/training/materialsproject_json/\"\n",
    "\n",
    "dataset = BandGapDataset(csv_path,json_path)\n",
    "data_dict = dataset.data_dict\n",
    "data_IDs = dataset.data_IDs"
   ]
  },
  {
   "cell_type": "code",
   "execution_count": 11,
   "metadata": {},
   "outputs": [
    {
     "data": {
      "text/plain": [
       "{'formula': 'ZnTe',\n",
       " 'spacegroup': 'Fm3m',\n",
       " 'formation_energy__eV': -0.185,\n",
       " 'E_above_hull__eV': 0.289,\n",
       " 'band_gap__eV': 0.0,\n",
       " 'has_bandstructure': True,\n",
       " 'volume': 48.038000000000004,\n",
       " 'Nsites': 2,\n",
       " 'theoretical': False,\n",
       " 'count': nan,\n",
       " 'density__gm_per_cc': 6.672000000000001,\n",
       " 'crystal_system': 'cubic',\n",
       " 'stoichiometry': {'Zn': 0.5, 'Te': 0.5}}"
      ]
     },
     "execution_count": 11,
     "metadata": {},
     "output_type": "execute_result"
    }
   ],
   "source": [
    "data_dict[data_IDs[-1]]"
   ]
  },
  {
   "cell_type": "markdown",
   "metadata": {},
   "source": [
    "### PeriodicTable class\n",
    "- creates object which contains the periodic table json from exabyte.io's github\n",
    "- houses map from symbol to element\n",
    "- houses list of symbols"
   ]
  },
  {
   "cell_type": "code",
   "execution_count": 12,
   "metadata": {},
   "outputs": [],
   "source": [
    "periodic_table = PeriodicTable()\n",
    "symbol_to_element_map = periodic_table.symbol_to_element_map\n",
    "symbols = periodic_table.symbols"
   ]
  },
  {
   "cell_type": "markdown",
   "metadata": {},
   "source": [
    "### BandGapDataframe class\n",
    "The dataframe contains the following:\n",
    "1. Stoichiomery\n",
    "2. Bandgap\n",
    "3. Density \n",
    "4. Volume\n",
    "5. Formation energy"
   ]
  },
  {
   "cell_type": "code",
   "execution_count": 13,
   "metadata": {},
   "outputs": [],
   "source": [
    "bandgap_dataframe = BandGapDataFrame(data_dict, symbols)\n",
    "dataframe = bandgap_dataframe.dataframe\n",
    "non_element_keys = bandgap_dataframe.non_element_keys"
   ]
  },
  {
   "cell_type": "code",
   "execution_count": 14,
   "metadata": {},
   "outputs": [
    {
     "data": {
      "text/html": [
       "<div>\n",
       "<style scoped>\n",
       "    .dataframe tbody tr th:only-of-type {\n",
       "        vertical-align: middle;\n",
       "    }\n",
       "\n",
       "    .dataframe tbody tr th {\n",
       "        vertical-align: top;\n",
       "    }\n",
       "\n",
       "    .dataframe thead th {\n",
       "        text-align: right;\n",
       "    }\n",
       "</style>\n",
       "<table border=\"1\" class=\"dataframe\">\n",
       "  <thead>\n",
       "    <tr style=\"text-align: right;\">\n",
       "      <th></th>\n",
       "      <th>ID</th>\n",
       "      <th>band_gap__eV</th>\n",
       "      <th>density__gm_per_cc</th>\n",
       "      <th>volume</th>\n",
       "      <th>formation_energy__eV</th>\n",
       "      <th>H</th>\n",
       "      <th>He</th>\n",
       "      <th>Li</th>\n",
       "      <th>Be</th>\n",
       "      <th>B</th>\n",
       "      <th>...</th>\n",
       "      <th>Mt</th>\n",
       "      <th>Uun</th>\n",
       "      <th>Uuu</th>\n",
       "      <th>Uub</th>\n",
       "      <th>Uut</th>\n",
       "      <th>Uuq</th>\n",
       "      <th>Uup</th>\n",
       "      <th>Uuh</th>\n",
       "      <th>Uus</th>\n",
       "      <th>Uuo</th>\n",
       "    </tr>\n",
       "  </thead>\n",
       "  <tbody>\n",
       "    <tr>\n",
       "      <td>153</td>\n",
       "      <td>mvc-7514</td>\n",
       "      <td>0.000</td>\n",
       "      <td>8.030</td>\n",
       "      <td>823.764</td>\n",
       "      <td>-1.097</td>\n",
       "      <td>0</td>\n",
       "      <td>0</td>\n",
       "      <td>0.0</td>\n",
       "      <td>0</td>\n",
       "      <td>0.0</td>\n",
       "      <td>...</td>\n",
       "      <td>0</td>\n",
       "      <td>0</td>\n",
       "      <td>0</td>\n",
       "      <td>0</td>\n",
       "      <td>0</td>\n",
       "      <td>0</td>\n",
       "      <td>0</td>\n",
       "      <td>0</td>\n",
       "      <td>0</td>\n",
       "      <td>0</td>\n",
       "    </tr>\n",
       "    <tr>\n",
       "      <td>476</td>\n",
       "      <td>mp-1007824</td>\n",
       "      <td>1.371</td>\n",
       "      <td>3.690</td>\n",
       "      <td>75.361</td>\n",
       "      <td>-0.315</td>\n",
       "      <td>0</td>\n",
       "      <td>0</td>\n",
       "      <td>0.0</td>\n",
       "      <td>0</td>\n",
       "      <td>0.0</td>\n",
       "      <td>...</td>\n",
       "      <td>0</td>\n",
       "      <td>0</td>\n",
       "      <td>0</td>\n",
       "      <td>0</td>\n",
       "      <td>0</td>\n",
       "      <td>0</td>\n",
       "      <td>0</td>\n",
       "      <td>0</td>\n",
       "      <td>0</td>\n",
       "      <td>0</td>\n",
       "    </tr>\n",
       "    <tr>\n",
       "      <td>789</td>\n",
       "      <td>mp-19717</td>\n",
       "      <td>1.058</td>\n",
       "      <td>7.857</td>\n",
       "      <td>70.758</td>\n",
       "      <td>-0.406</td>\n",
       "      <td>0</td>\n",
       "      <td>0</td>\n",
       "      <td>0.0</td>\n",
       "      <td>0</td>\n",
       "      <td>0.0</td>\n",
       "      <td>...</td>\n",
       "      <td>0</td>\n",
       "      <td>0</td>\n",
       "      <td>0</td>\n",
       "      <td>0</td>\n",
       "      <td>0</td>\n",
       "      <td>0</td>\n",
       "      <td>0</td>\n",
       "      <td>0</td>\n",
       "      <td>0</td>\n",
       "      <td>0</td>\n",
       "    </tr>\n",
       "    <tr>\n",
       "      <td>347</td>\n",
       "      <td>mp-1224175</td>\n",
       "      <td>0.218</td>\n",
       "      <td>5.166</td>\n",
       "      <td>258.034</td>\n",
       "      <td>-0.480</td>\n",
       "      <td>0</td>\n",
       "      <td>0</td>\n",
       "      <td>0.0</td>\n",
       "      <td>0</td>\n",
       "      <td>0.0</td>\n",
       "      <td>...</td>\n",
       "      <td>0</td>\n",
       "      <td>0</td>\n",
       "      <td>0</td>\n",
       "      <td>0</td>\n",
       "      <td>0</td>\n",
       "      <td>0</td>\n",
       "      <td>0</td>\n",
       "      <td>0</td>\n",
       "      <td>0</td>\n",
       "      <td>0</td>\n",
       "    </tr>\n",
       "    <tr>\n",
       "      <td>1038</td>\n",
       "      <td>mp-30524</td>\n",
       "      <td>0.000</td>\n",
       "      <td>4.189</td>\n",
       "      <td>367.239</td>\n",
       "      <td>-3.442</td>\n",
       "      <td>0</td>\n",
       "      <td>0</td>\n",
       "      <td>0.0</td>\n",
       "      <td>0</td>\n",
       "      <td>0.0</td>\n",
       "      <td>...</td>\n",
       "      <td>0</td>\n",
       "      <td>0</td>\n",
       "      <td>0</td>\n",
       "      <td>0</td>\n",
       "      <td>0</td>\n",
       "      <td>0</td>\n",
       "      <td>0</td>\n",
       "      <td>0</td>\n",
       "      <td>0</td>\n",
       "      <td>0</td>\n",
       "    </tr>\n",
       "  </tbody>\n",
       "</table>\n",
       "<p>5 rows × 123 columns</p>\n",
       "</div>"
      ],
      "text/plain": [
       "              ID  band_gap__eV  density__gm_per_cc   volume  \\\n",
       "153     mvc-7514         0.000               8.030  823.764   \n",
       "476   mp-1007824         1.371               3.690   75.361   \n",
       "789     mp-19717         1.058               7.857   70.758   \n",
       "347   mp-1224175         0.218               5.166  258.034   \n",
       "1038    mp-30524         0.000               4.189  367.239   \n",
       "\n",
       "      formation_energy__eV  H  He   Li  Be    B  ...  Mt  Uun  Uuu  Uub  Uut  \\\n",
       "153                 -1.097  0   0  0.0   0  0.0  ...   0    0    0    0    0   \n",
       "476                 -0.315  0   0  0.0   0  0.0  ...   0    0    0    0    0   \n",
       "789                 -0.406  0   0  0.0   0  0.0  ...   0    0    0    0    0   \n",
       "347                 -0.480  0   0  0.0   0  0.0  ...   0    0    0    0    0   \n",
       "1038                -3.442  0   0  0.0   0  0.0  ...   0    0    0    0    0   \n",
       "\n",
       "      Uuq  Uup  Uuh  Uus  Uuo  \n",
       "153     0    0    0    0    0  \n",
       "476     0    0    0    0    0  \n",
       "789     0    0    0    0    0  \n",
       "347     0    0    0    0    0  \n",
       "1038    0    0    0    0    0  \n",
       "\n",
       "[5 rows x 123 columns]"
      ]
     },
     "execution_count": 14,
     "metadata": {},
     "output_type": "execute_result"
    }
   ],
   "source": [
    "dataframe.sample(5)"
   ]
  },
  {
   "cell_type": "code",
   "execution_count": 15,
   "metadata": {},
   "outputs": [
    {
     "data": {
      "image/png": "[encoded data removed]",
      "text/plain": [
       "<Figure size 1080x1080 with 4 Axes>"
      ]
     },
     "metadata": {
      "needs_background": "light"
     },
     "output_type": "display_data"
    }
   ],
   "source": [
    "rcParams['figure.figsize'] = 15,15\n",
    "rows, cols = 3, 3\n",
    "\n",
    "yaxis = dataframe['band_gap__eV']\n",
    "for idx, key in enumerate(non_element_keys):\n",
    "    xaxis = dataframe[key]\n",
    "\n",
    "    plt.subplot(rows,cols,idx+1)\n",
    "    plt.plot(xaxis, yaxis, \"ro\")\n",
    "    plt.xlabel(key)\n",
    "    plt.ylabel('band_gap__eV')\n",
    "    \n",
    "    plt.subplots_adjust(wspace=0.2, hspace=0.2)"
   ]
  },
  {
   "cell_type": "code",
   "execution_count": 16,
   "metadata": {},
   "outputs": [
    {
     "data": {
      "image/png": "[encoded data removed]",
      "text/plain": [
       "<Figure size 1080x1080 with 5 Axes>"
      ]
     },
     "metadata": {
      "needs_background": "light"
     },
     "output_type": "display_data"
    }
   ],
   "source": [
    "rcParams['figure.figsize'] = 15,15\n",
    "rows, cols = 3, 3\n",
    "\n",
    "yaxis = dataframe['band_gap__eV']\n",
    "for idx, key in enumerate([\"Si\",\"Ge\",\"Te\",\"S\",\"Al\"]):\n",
    "    xaxis = dataframe[key]\n",
    "\n",
    "    plt.subplot(rows,cols,idx+1)\n",
    "    plt.plot(xaxis, yaxis, \"ro\")\n",
    "    plt.xlabel(key)\n",
    "    plt.ylabel('band_gap__eV')"
   ]
  },
  {
   "cell_type": "code",
   "execution_count": null,
   "metadata": {},
   "outputs": [],
   "source": []
  },
  {
   "cell_type": "code",
   "execution_count": null,
   "metadata": {},
   "outputs": [],
   "source": []
  },
  {
   "cell_type": "code",
   "execution_count": null,
   "metadata": {},
   "outputs": [],
   "source": []
  },
  {
   "cell_type": "code",
   "execution_count": 17,
   "metadata": {},
   "outputs": [],
   "source": [
    "X_keys = list(dataframe.keys())[1:]\n",
    "X = np.asarray(dataframe[X_keys])\n",
    "#X = np.asarray(training_data_clean_df[[\"density__gm_per_cc\",\"formation_energy__eV\",\"volume\"]])\n",
    "y = np.asarray(dataframe['band_gap__eV'])\n",
    "\n",
    "X_train, X_test, y_train, y_test = train_test_split(X, y, test_size=0.33, shuffle= True)"
   ]
  },
  {
   "cell_type": "code",
   "execution_count": 18,
   "metadata": {},
   "outputs": [
    {
     "name": "stdout",
     "output_type": "stream",
     "text": [
      "X_train shape: (1059, 122)\n",
      "y_train shape: (1059,)\n",
      " X_test shape: (522, 122)\n",
      " y_test shape: (522,)\n"
     ]
    }
   ],
   "source": [
    "print(f\"X_train shape: {np.shape(X_train)}\")\n",
    "print(f\"y_train shape: {np.shape(y_train)}\")\n",
    "print(f\" X_test shape: {np.shape(X_test)}\")\n",
    "print(f\" y_test shape: {np.shape(y_test)}\")"
   ]
  },
  {
   "cell_type": "code",
   "execution_count": 19,
   "metadata": {},
   "outputs": [
    {
     "data": {
      "text/plain": [
       "array([0.000000e+00, 5.082000e+00, 2.363025e+03, 5.700000e-02,\n",
       "       0.000000e+00, 0.000000e+00, 0.000000e+00, 0.000000e+00,\n",
       "       0.000000e+00, 0.000000e+00, 0.000000e+00, 0.000000e+00,\n",
       "       0.000000e+00, 0.000000e+00, 0.000000e+00, 0.000000e+00,\n",
       "       0.000000e+00, 0.000000e+00, 0.000000e+00, 0.000000e+00,\n",
       "       0.000000e+00, 0.000000e+00, 0.000000e+00, 0.000000e+00,\n",
       "       0.000000e+00, 0.000000e+00, 0.000000e+00, 0.000000e+00,\n",
       "       0.000000e+00, 0.000000e+00, 0.000000e+00, 0.000000e+00,\n",
       "       0.000000e+00, 0.000000e+00, 5.000000e-01, 0.000000e+00,\n",
       "       5.000000e-01, 0.000000e+00, 0.000000e+00, 0.000000e+00,\n",
       "       0.000000e+00, 0.000000e+00, 0.000000e+00, 0.000000e+00,\n",
       "       0.000000e+00, 0.000000e+00, 0.000000e+00, 0.000000e+00,\n",
       "       0.000000e+00, 0.000000e+00, 0.000000e+00, 0.000000e+00,\n",
       "       0.000000e+00, 0.000000e+00, 0.000000e+00, 0.000000e+00,\n",
       "       0.000000e+00, 0.000000e+00, 0.000000e+00, 0.000000e+00,\n",
       "       0.000000e+00, 0.000000e+00, 0.000000e+00, 0.000000e+00,\n",
       "       0.000000e+00, 0.000000e+00, 0.000000e+00, 0.000000e+00,\n",
       "       0.000000e+00, 0.000000e+00, 0.000000e+00, 0.000000e+00,\n",
       "       0.000000e+00, 0.000000e+00, 0.000000e+00, 0.000000e+00,\n",
       "       0.000000e+00, 0.000000e+00, 0.000000e+00, 0.000000e+00,\n",
       "       0.000000e+00, 0.000000e+00, 0.000000e+00, 0.000000e+00,\n",
       "       0.000000e+00, 0.000000e+00, 0.000000e+00, 0.000000e+00,\n",
       "       0.000000e+00, 0.000000e+00, 0.000000e+00, 0.000000e+00,\n",
       "       0.000000e+00, 0.000000e+00, 0.000000e+00, 0.000000e+00,\n",
       "       0.000000e+00, 0.000000e+00, 0.000000e+00, 0.000000e+00,\n",
       "       0.000000e+00, 0.000000e+00, 0.000000e+00, 0.000000e+00,\n",
       "       0.000000e+00, 0.000000e+00, 0.000000e+00, 0.000000e+00,\n",
       "       0.000000e+00, 0.000000e+00, 0.000000e+00, 0.000000e+00,\n",
       "       0.000000e+00, 0.000000e+00, 0.000000e+00, 0.000000e+00,\n",
       "       0.000000e+00, 0.000000e+00, 0.000000e+00, 0.000000e+00,\n",
       "       0.000000e+00, 0.000000e+00])"
      ]
     },
     "execution_count": 19,
     "metadata": {},
     "output_type": "execute_result"
    }
   ],
   "source": [
    "X_train[-1]"
   ]
  },
  {
   "cell_type": "code",
   "execution_count": null,
   "metadata": {},
   "outputs": [],
   "source": []
  },
  {
   "cell_type": "code",
   "execution_count": 20,
   "metadata": {},
   "outputs": [
    {
     "name": "stdout",
     "output_type": "stream",
     "text": [
      "Score:  0.9999996277967453\n",
      "Weights:  [ 9.99204753e-01 -1.43428275e-04 -1.21116068e-07 -4.82571613e-04\n",
      "  0.00000000e+00  0.00000000e+00  5.63147681e-04  0.00000000e+00\n",
      "  1.25895198e-03  9.74280524e-04  6.45370869e-04 -3.59089222e-04\n",
      "  0.00000000e+00  0.00000000e+00  0.00000000e+00  0.00000000e+00\n",
      "  1.19806973e-03  9.88377638e-05  2.22178931e-04  6.74736278e-04\n",
      " -4.26155885e-04  0.00000000e+00  0.00000000e+00  0.00000000e+00\n",
      "  0.00000000e+00 -1.82502944e-03 -1.13929738e-03  0.00000000e+00\n",
      "  0.00000000e+00 -1.41930339e-03  0.00000000e+00  2.86304873e-04\n",
      " -6.40856484e-04  5.55976306e-04 -1.81017692e-04  1.83522054e-04\n",
      "  1.88128090e-04  4.05833091e-04  9.44041490e-04  0.00000000e+00\n",
      "  0.00000000e+00 -8.21594619e-04  0.00000000e+00  0.00000000e+00\n",
      " -1.21806277e-03 -1.77190499e-03  0.00000000e+00  0.00000000e+00\n",
      "  0.00000000e+00  0.00000000e+00  4.86407276e-04  1.09167328e-04\n",
      " -7.46866539e-05  6.30027099e-05  1.45307687e-04  1.14190583e-04\n",
      "  1.67311278e-03  0.00000000e+00  0.00000000e+00  1.84852045e-04\n",
      " -1.72332513e-03  0.00000000e+00  0.00000000e+00  0.00000000e+00\n",
      "  0.00000000e+00  0.00000000e+00  0.00000000e+00  0.00000000e+00\n",
      "  0.00000000e+00  0.00000000e+00  0.00000000e+00  0.00000000e+00\n",
      "  0.00000000e+00  0.00000000e+00  0.00000000e+00  0.00000000e+00\n",
      "  0.00000000e+00  0.00000000e+00  0.00000000e+00  0.00000000e+00\n",
      "  0.00000000e+00  0.00000000e+00  0.00000000e+00 -2.82788989e-04\n",
      "  6.45582448e-04  6.42726455e-04  1.09909800e-03  0.00000000e+00\n",
      "  0.00000000e+00  0.00000000e+00  0.00000000e+00  0.00000000e+00\n",
      "  0.00000000e+00  0.00000000e+00  0.00000000e+00 -1.47971432e-03\n",
      "  0.00000000e+00  0.00000000e+00  0.00000000e+00  0.00000000e+00\n",
      "  0.00000000e+00  0.00000000e+00  0.00000000e+00  0.00000000e+00\n",
      "  0.00000000e+00  0.00000000e+00  0.00000000e+00  0.00000000e+00\n",
      "  0.00000000e+00  0.00000000e+00  0.00000000e+00  0.00000000e+00\n",
      "  0.00000000e+00  0.00000000e+00  0.00000000e+00  0.00000000e+00\n",
      "  0.00000000e+00  0.00000000e+00  0.00000000e+00  0.00000000e+00\n",
      "  0.00000000e+00  0.00000000e+00]\n"
     ]
    }
   ],
   "source": [
    "model = linear_model.Ridge(alpha = .5)\n",
    "model.fit(X_train, y_train)\n",
    "print('Score: ', model.score(X_test, y_test))\n",
    "print('Weights: ', model.coef_)\n",
    "\n",
    "predictions = model.predict(X_test)"
   ]
  },
  {
   "cell_type": "code",
   "execution_count": 21,
   "metadata": {},
   "outputs": [
    {
     "data": {
      "image/png": "[encoded data removed]",
      "text/plain": [
       "<Figure size 360x360 with 1 Axes>"
      ]
     },
     "metadata": {
      "needs_background": "light"
     },
     "output_type": "display_data"
    }
   ],
   "source": [
    "rcParams['figure.figsize'] = 5,5\n",
    "\n",
    "plt.plot(X_test, predictions, \"ro\")\n",
    "plt.show()"
   ]
  },
  {
   "cell_type": "code",
   "execution_count": 22,
   "metadata": {},
   "outputs": [
    {
     "name": "stdout",
     "output_type": "stream",
     "text": [
      "-0.0011646519223393217 4.646299836588179\n"
     ]
    }
   ],
   "source": [
    "print(min(predictions),max(predictions))"
   ]
  },
  {
   "cell_type": "markdown",
   "metadata": {},
   "source": [
    "### Need to convert an input material and structural parameters into test data like the data created for BandGapDataFrame"
   ]
  },
  {
   "cell_type": "code",
   "execution_count": 23,
   "metadata": {},
   "outputs": [
    {
     "data": {
      "text/plain": [
       "(522, 122)"
      ]
     },
     "execution_count": 23,
     "metadata": {},
     "output_type": "execute_result"
    }
   ],
   "source": [
    "np.shape(X_test)"
   ]
  },
  {
   "cell_type": "code",
   "execution_count": 24,
   "metadata": {},
   "outputs": [
    {
     "data": {
      "text/plain": [
       "118"
      ]
     },
     "execution_count": 24,
     "metadata": {},
     "output_type": "execute_result"
    }
   ],
   "source": [
    "len(symbols)"
   ]
  },
  {
   "cell_type": "code",
   "execution_count": null,
   "metadata": {},
   "outputs": [],
   "source": []
  },
  {
   "cell_type": "code",
   "execution_count": null,
   "metadata": {},
   "outputs": [],
   "source": []
  },
  {
   "cell_type": "code",
   "execution_count": 15,
   "metadata": {},
   "outputs": [
    {
     "name": "stdout",
     "output_type": "stream",
     "text": [
      "['Si', 'Ge']\n",
      "['Silicon', 'Germanium']\n"
     ]
    }
   ],
   "source": [
    "sample = training_data[training_data_IDs[-1]]\n",
    "sample_atoms = list(sample[\"stoichiometry\"].keys())\n",
    "print(sample_atoms)\n",
    "sample_atoms_elements = [ symbol_to_element_map[sample_atom] for sample_atom in sample_atoms ]\n",
    "print(sample_atoms_elements)"
   ]
  },
  {
   "cell_type": "code",
   "execution_count": 16,
   "metadata": {},
   "outputs": [
    {
     "data": {
      "text/plain": [
       "{'symbol': 'Si',\n",
       " 'atomic_number': 14,\n",
       " 'atomic_weight': 28.0855,\n",
       " 'density_g_per_cm3': 2.33,\n",
       " 'melting_point_K': 1683,\n",
       " 'boiling_point_K': 2628,\n",
       " 'atomic_radius_pm': 132,\n",
       " 'covalent_radius_pm': 111,\n",
       " 'ionic_radius_pm': '',\n",
       " 'atomic_volume_cm3_per_mol': 12.1,\n",
       " 'specific_heat_J_g_mol': 0.703,\n",
       " 'fusion_heat_kJ_mol': 50.6,\n",
       " 'evaporation_heat_kJ_mol': 383,\n",
       " 'thermal_conductivity_25C_W_m_K': 149,\n",
       " 'pauling_negativity': 1.9,\n",
       " 'first_ionizing_kJ_mol': 786,\n",
       " 'oxidation_states': '4, -4',\n",
       " 'electronic_configuration': '[Ne]3s²3p²',\n",
       " 'lattice_structure': 'DIA',\n",
       " 'lattice_constant_ang': 5.43}"
      ]
     },
     "execution_count": 16,
     "metadata": {},
     "output_type": "execute_result"
    }
   ],
   "source": [
    "periodic_table[sample_atoms_elements[0]]"
   ]
  },
  {
   "cell_type": "code",
   "execution_count": null,
   "metadata": {},
   "outputs": [],
   "source": [
    "# change crystal system to an identification number\n",
    "crystal_systems = [\n",
    "    \"triclinic\",\n",
    "    \"monoclinic\",\n",
    "    \"orthorhombic\",\n",
    "    \"tetragonal\",\n",
    "    \"hexagonal\",\n",
    "    \"trigonal\",\n",
    "    \"cubic\",\n",
    "]\n",
    "crystal_system_mapping = dict(zip(crystal_systems, range(0,len(crystal_systems))))"
   ]
  }
 ],
 "metadata": {
  "kernelspec": {
   "display_name": "Python 3",
   "language": "python",
   "name": "python3"
  },
  "language_info": {
   "codemirror_mode": {
    "name": "ipython",
    "version": 3
   },
   "file_extension": ".py",
   "mimetype": "text/x-python",
   "name": "python",
   "nbconvert_exporter": "python",
   "pygments_lexer": "ipython3",
   "version": "3.7.4"
  }
 },
 "nbformat": 4,
 "nbformat_minor": 2
}
