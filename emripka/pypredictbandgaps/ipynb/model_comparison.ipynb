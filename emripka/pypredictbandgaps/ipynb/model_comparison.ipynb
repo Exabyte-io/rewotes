{
 "cells": [
  {
   "cell_type": "code",
   "execution_count": 1,
   "metadata": {},
   "outputs": [
    {
     "name": "stdout",
     "output_type": "stream",
     "text": [
      "Connection established to Materials Project database, version 2020_09_08.\n",
      "Connection established to Materials Project database, version 2020_09_08.\n"
     ]
    }
   ],
   "source": [
    "import numpy as np\n",
    "import pandas as pd\n",
    "from sklearn import model_selection, metrics, linear_model\n",
    "import matplotlib.pyplot as plt\n",
    "import matplotlib.ticker as ticker\n",
    "\n",
    "from pypredictbandgaps.material import Material\n",
    "from pypredictbandgaps.bandgappredictions import BandGapPredictions\n",
    "import pymatgen as mg\n",
    "from pymatgen.ext.matproj import MPRester\n",
    "mpr = MPRester()"
   ]
  },
  {
   "cell_type": "code",
   "execution_count": 2,
   "metadata": {},
   "outputs": [],
   "source": [
    "def get_info(inp):\n",
    "    properties = [\"material_id\",\"band_gap\",\"spacegroup\",\"unit_cell_formula\"]\n",
    "    results = mpr.query(criteria=inp,properties=properties)\n",
    "    band_gaps = [ result[\"band_gap\"] for result in results if result[\"band_gap\"] ]\n",
    "    return results, band_gaps"
   ]
  },
  {
   "cell_type": "code",
   "execution_count": 3,
   "metadata": {},
   "outputs": [],
   "source": [
    "Si_res, Si_band_gaps = get_info(\"Si\")\n",
    "Ge_res, Ge_band_gaps = get_info(\"Ge\")"
   ]
  },
  {
   "cell_type": "code",
   "execution_count": 4,
   "metadata": {},
   "outputs": [
    {
     "name": "stdout",
     "output_type": "stream",
     "text": [
      "Training Average Band gaps:\n",
      "Si: 0.7591789473684211 eV\n",
      "Ge: 0.6050250000000001 eV \n"
     ]
    }
   ],
   "source": [
    "print(f\"\"\"Training Average Band gaps:\n",
    "Si: {np.average(Si_band_gaps)} eV\n",
    "Ge: {np.average(Ge_band_gaps)} eV \"\"\")"
   ]
  },
  {
   "cell_type": "code",
   "execution_count": 5,
   "metadata": {},
   "outputs": [],
   "source": [
    "Si2Ge3 = Material(formula=\"Si2Ge3\",spacegroup=\"F-43m\",a=4.12,b=4.12,c=4.12,alpha=59.99,beta=59.99,gamma=59.99)#,volume=48) \n",
    "Si82Ge17 = Material(formula=\"Si82Ge17\",spacegroup=\"F-43m\",a=3.98,b=3.98,c=3.98,alpha=59.99,beta=59.99,gamma=59.99)#,volume=44) \n",
    "materials_list = [Si2Ge3,Si82Ge17]"
   ]
  },
  {
   "cell_type": "markdown",
   "metadata": {},
   "source": [
    "### Ridge Regression"
   ]
  },
  {
   "cell_type": "code",
   "execution_count": 6,
   "metadata": {
    "scrolled": true
   },
   "outputs": [
    {
     "name": "stdout",
     "output_type": "stream",
     "text": [
      "\n",
      "Starting prediciton for Si2Ge3 using ridge_regression model type...\n",
      "Material training params: ['a', 'b', 'c', 'alpha', 'beta', 'gamma', 'Si', 'Ge']\n",
      "Getting Materials Project data ...\n",
      "Number of Ge-Si system entries in Materials Project: 6\n",
      "Number of Si entries in Materials Project: 39\n",
      "Number of Ge entries in Materials Project: 17\n",
      "Number of results for training: 62\n"
     ]
    },
    {
     "name": "stderr",
     "output_type": "stream",
     "text": [
      "C:\\Users\\emily\\Anaconda3\\lib\\site-packages\\pymatgen\\io\\cif.py:1123: UserWarning: Issues encountered while parsing CIF: Some fractional co-ordinates rounded to ideal values to avoid issues with finite precision.\n",
      "  warnings.warn(\"Issues encountered while parsing CIF: %s\" % \"\\n\".join(self.warnings))\n"
     ]
    },
    {
     "name": "stdout",
     "output_type": "stream",
     "text": [
      "Training the model...\n",
      "training params= ['a', 'b', 'c', 'alpha', 'beta', 'gamma', 'Si', 'Ge']\n"
     ]
    },
    {
     "name": "stderr",
     "output_type": "stream",
     "text": [
      "C:\\Users\\emily\\Anaconda3\\lib\\site-packages\\sklearn\\model_selection\\_search.py:814: DeprecationWarning: The default of the `iid` parameter will change from True to False in version 0.22 and will be removed in 0.24. This will change numeric results when test-set sizes are unequal.\n",
      "  DeprecationWarning)\n"
     ]
    },
    {
     "name": "stdout",
     "output_type": "stream",
     "text": [
      "ridge regression alpha_choice = 10.0\n",
      "Making predictions...\n",
      "predicted bandgap for  Si2Ge3 : 0.14512800224603423\n",
      "\n",
      "Starting prediciton for Si82Ge17 using ridge_regression model type...\n",
      "Material training params: ['a', 'b', 'c', 'alpha', 'beta', 'gamma', 'Si', 'Ge']\n",
      "Getting Materials Project data ...\n",
      "Number of Ge-Si system entries in Materials Project: 6\n",
      "Number of Si entries in Materials Project: 39\n",
      "Number of Ge entries in Materials Project: 17\n",
      "Number of results for training: 62\n"
     ]
    },
    {
     "name": "stderr",
     "output_type": "stream",
     "text": [
      "C:\\Users\\emily\\Anaconda3\\lib\\site-packages\\pymatgen\\io\\cif.py:1123: UserWarning: Issues encountered while parsing CIF: Some fractional co-ordinates rounded to ideal values to avoid issues with finite precision.\n",
      "  warnings.warn(\"Issues encountered while parsing CIF: %s\" % \"\\n\".join(self.warnings))\n"
     ]
    },
    {
     "name": "stdout",
     "output_type": "stream",
     "text": [
      "Training the model...\n",
      "training params= ['a', 'b', 'c', 'alpha', 'beta', 'gamma', 'Si', 'Ge']\n"
     ]
    },
    {
     "name": "stderr",
     "output_type": "stream",
     "text": [
      "C:\\Users\\emily\\Anaconda3\\lib\\site-packages\\sklearn\\model_selection\\_search.py:814: DeprecationWarning: The default of the `iid` parameter will change from True to False in version 0.22 and will be removed in 0.24. This will change numeric results when test-set sizes are unequal.\n",
      "  DeprecationWarning)\n"
     ]
    },
    {
     "name": "stdout",
     "output_type": "stream",
     "text": [
      "ridge regression alpha_choice = 10.0\n",
      "Making predictions...\n",
      "predicted bandgap for  Si82Ge17 : 0.07850939819429834\n"
     ]
    }
   ],
   "source": [
    "band_gap_predictions = BandGapPredictions(materials_list,model_type=\"ridge_regression\")\n",
    "band_gap_prediction_objects = band_gap_predictions.band_gap_prediction_objects"
   ]
  },
  {
   "cell_type": "code",
   "execution_count": 7,
   "metadata": {},
   "outputs": [
    {
     "name": "stdout",
     "output_type": "stream",
     "text": [
      " \n",
      "    Si2Ge3\n",
      "    -----------\n",
      "    R-squared: 0.18690621938811214\n",
      "    band gap: 0.14512800224603423 eV\n",
      " \n",
      "    Si82Ge17\n",
      "    -----------\n",
      "    R-squared: 0.23796775923230473\n",
      "    band gap: 0.07850939819429834 eV\n"
     ]
    }
   ],
   "source": [
    "#model score: {band_gap_prediction_object.model_score}\n",
    "for material, band_gap_prediction_object in band_gap_prediction_objects.items():\n",
    "    x = band_gap_prediction_object.X_train\n",
    "    y = band_gap_prediction_object.y_train\n",
    "    band_gap = band_gap_prediction_object.predicted_band_gap\n",
    "    score = band_gap_prediction_object.model.score(x,y)\n",
    "    print(f\"\"\" \n",
    "    {material}\n",
    "    -----------\n",
    "    R-squared: {score}\n",
    "    band gap: {band_gap} eV\"\"\")"
   ]
  },
  {
   "cell_type": "code",
   "execution_count": 8,
   "metadata": {},
   "outputs": [
    {
     "data": {
      "image/png": "[encoded data removed]",
      "text/plain": [
       "<Figure size 432x288 with 1 Axes>"
      ]
     },
     "metadata": {
      "needs_background": "light"
     },
     "output_type": "display_data"
    },
    {
     "data": {
      "image/png": "[encoded data removed]",
      "text/plain": [
       "<Figure size 432x288 with 1 Axes>"
      ]
     },
     "metadata": {
      "needs_background": "light"
     },
     "output_type": "display_data"
    }
   ],
   "source": [
    "# K fold validation\n",
    "# https://towardsdatascience.com/machine-learning-with-python-regression-complete-tutorial-47268e546cea\n",
    "for material, band_gap_prediction_object in band_gap_prediction_objects.items():\n",
    "    scores = list()\n",
    "    cv = model_selection.KFold(n_splits=4, shuffle=True)\n",
    "    fig = plt.figure()\n",
    "    i = 1\n",
    "\n",
    "    X_train = band_gap_prediction_object.X_train\n",
    "    y_train = band_gap_prediction_object.y_train\n",
    "    model = band_gap_prediction_object.model\n",
    "    \n",
    "    for train, test in cv.split(X_train, y_train):\n",
    "        prediction = model.fit(X_train[train],\n",
    "                        y_train[train]).predict(X_train[test])\n",
    "        true = y_train[test]\n",
    "        score = metrics.r2_score(true, prediction)\n",
    "        scores.append(score)\n",
    "        plt.scatter(prediction, true, lw=2, alpha=0.3, \n",
    "                    label='Fold %d (R2 = %0.2f)' % (i,score))\n",
    "        i = i+1\n",
    "    plt.plot([min(y_train),max(y_train)], [min(y_train),max(y_train)], \n",
    "                linestyle='--', lw=2, color='black')\n",
    "    plt.xlabel('Predicted')\n",
    "    plt.ylabel('True')\n",
    "    plt.title(f\"{material}'s model K-Fold Validation\")\n",
    "    plt.legend()\n",
    "    plt.show()"
   ]
  },
  {
   "cell_type": "code",
   "execution_count": 10,
   "metadata": {},
   "outputs": [
    {
     "data": {
      "image/png": "[encoded data removed]",
      "text/plain": [
       "<Figure size 720x360 with 1 Axes>"
      ]
     },
     "metadata": {
      "needs_background": "light"
     },
     "output_type": "display_data"
    }
   ],
   "source": [
    "feature_names = band_gap_prediction_objects[\"Si2Ge3\"].band_gap_dataframe_obj.dataframe.keys()[2:]\n",
    "coef = band_gap_prediction_objects[\"Si2Ge3\"].model_weights \n",
    "\n",
    "ridge_df = pd.DataFrame({'variable': feature_names, 'weights': coef})\n",
    "ridge_train_pred = []\n",
    "ridge_test_pred = []\n",
    "\n",
    "X_train = band_gap_prediction_objects[\"Si2Ge3\"].X_train\n",
    "y_train = band_gap_prediction_objects[\"Si2Ge3\"].y_train\n",
    "X_test = band_gap_prediction_objects[\"Si2Ge3\"].X_test\n",
    "y_test = band_gap_prediction_objects[\"Si2Ge3\"].y_test\n",
    "\n",
    "alphas = np.arange(1e-3,1e2,0.1)\n",
    "\n",
    "for alpha in alphas:\n",
    "    ridge_reg = linear_model.Ridge(alpha=alpha)\n",
    "    ridge_reg.fit(X_train, y_train)\n",
    "    var_name = str(alpha)\n",
    "    ridge_df[var_name] = ridge_reg.coef_\n",
    "    \n",
    "    # prediction\n",
    "    ridge_train_pred.append(ridge_reg.predict(X_train))\n",
    "    ridge_test_pred.append(ridge_reg.predict(X_test))\n",
    "    \n",
    "#ridge_df = ridge_df.set_index('variable').T.rename_axis('estimate').rename_axis(None, 1).reset_index()\n",
    "del ridge_df['weights']\n",
    "ridge_df = ridge_df.set_index('variable').T\n",
    "\n",
    "fig, ax = plt.subplots(figsize=(10, 5))\n",
    "#ax.plot(ridge_df.RM, 'r', ridge_df.ZN, 'g', ridge_df.RAD, 'b', ridge_df.CRIM, 'c', ridge_df.TAX, 'y')\n",
    "ax.plot(\n",
    "    ridge_df.a, \"b\",\n",
    "    ridge_df.b, \"g\",\n",
    "    ridge_df.c, \"y\",\n",
    "    ridge_df.Si, \"m\",\n",
    "    ridge_df.Ge, \"c\",\n",
    ")\n",
    "ax.axhline(y=0, color='black', linestyle='--')\n",
    "ax.set_xlabel(\"Lambda\")\n",
    "ax.set_ylabel(\"Beta Estimate\")\n",
    "ax.set_title(\"Ridge Regression Trace\", fontsize=16)\n",
    "ax.legend(labels=[\"a\",\"b\",\"c\",\"Si\",\"Ge\"])\n",
    "ax.xaxis.set_major_locator(ticker.MultipleLocator(100))\n",
    "ax.set_ylim(-0.1,0.1)\n",
    "ax.grid(True)"
   ]
  },
  {
   "cell_type": "markdown",
   "metadata": {},
   "source": [
    "### SVM "
   ]
  },
  {
   "cell_type": "code",
   "execution_count": 11,
   "metadata": {
    "scrolled": true
   },
   "outputs": [
    {
     "name": "stdout",
     "output_type": "stream",
     "text": [
      "\n",
      "Starting prediciton for Si2Ge3 using svm model type...\n",
      "Material training params: ['a', 'b', 'c', 'alpha', 'beta', 'gamma', 'Si', 'Ge']\n",
      "Getting Materials Project data ...\n",
      "Number of Ge-Si system entries in Materials Project: 6\n",
      "Number of Si entries in Materials Project: 39\n",
      "Number of Ge entries in Materials Project: 17\n",
      "Number of results for training: 62\n"
     ]
    },
    {
     "name": "stderr",
     "output_type": "stream",
     "text": [
      "C:\\Users\\emily\\Anaconda3\\lib\\site-packages\\pymatgen\\io\\cif.py:1123: UserWarning: Issues encountered while parsing CIF: Some fractional co-ordinates rounded to ideal values to avoid issues with finite precision.\n",
      "  warnings.warn(\"Issues encountered while parsing CIF: %s\" % \"\\n\".join(self.warnings))\n"
     ]
    },
    {
     "name": "stdout",
     "output_type": "stream",
     "text": [
      "Training the model...\n",
      "Making predictions...\n"
     ]
    },
    {
     "name": "stderr",
     "output_type": "stream",
     "text": [
      "C:\\Users\\emily\\Anaconda3\\lib\\site-packages\\sklearn\\utils\\validation.py:724: DataConversionWarning: A column-vector y was passed when a 1d array was expected. Please change the shape of y to (n_samples, ), for example using ravel().\n",
      "  y = column_or_1d(y, warn=True)\n"
     ]
    },
    {
     "name": "stdout",
     "output_type": "stream",
     "text": [
      "predicted bandgap for  Si2Ge3 : [0.11454508]\n",
      "\n",
      "Starting prediciton for Si82Ge17 using svm model type...\n",
      "Material training params: ['a', 'b', 'c', 'alpha', 'beta', 'gamma', 'Si', 'Ge']\n",
      "Getting Materials Project data ...\n",
      "Number of Ge-Si system entries in Materials Project: 6\n",
      "Number of Si entries in Materials Project: 39\n",
      "Number of Ge entries in Materials Project: 17\n",
      "Number of results for training: 62\n"
     ]
    },
    {
     "name": "stderr",
     "output_type": "stream",
     "text": [
      "C:\\Users\\emily\\Anaconda3\\lib\\site-packages\\pymatgen\\io\\cif.py:1123: UserWarning: Issues encountered while parsing CIF: Some fractional co-ordinates rounded to ideal values to avoid issues with finite precision.\n",
      "  warnings.warn(\"Issues encountered while parsing CIF: %s\" % \"\\n\".join(self.warnings))\n"
     ]
    },
    {
     "name": "stdout",
     "output_type": "stream",
     "text": [
      "Training the model...\n",
      "Making predictions...\n"
     ]
    },
    {
     "name": "stderr",
     "output_type": "stream",
     "text": [
      "C:\\Users\\emily\\Anaconda3\\lib\\site-packages\\sklearn\\utils\\validation.py:724: DataConversionWarning: A column-vector y was passed when a 1d array was expected. Please change the shape of y to (n_samples, ), for example using ravel().\n",
      "  y = column_or_1d(y, warn=True)\n"
     ]
    },
    {
     "name": "stdout",
     "output_type": "stream",
     "text": [
      "predicted bandgap for  Si82Ge17 : [0.10900411]\n"
     ]
    }
   ],
   "source": [
    "band_gap_predictions = BandGapPredictions(materials_list,model_type=\"svm\")\n",
    "band_gap_prediction_objects = band_gap_predictions.band_gap_prediction_objects"
   ]
  },
  {
   "cell_type": "markdown",
   "metadata": {},
   "source": [
    "### Decision Tree"
   ]
  },
  {
   "cell_type": "code",
   "execution_count": 12,
   "metadata": {
    "scrolled": true
   },
   "outputs": [
    {
     "name": "stdout",
     "output_type": "stream",
     "text": [
      "\n",
      "Starting prediciton for Si2Ge3 using decision_tree model type...\n",
      "Material training params: ['a', 'b', 'c', 'alpha', 'beta', 'gamma', 'Si', 'Ge']\n",
      "Getting Materials Project data ...\n",
      "Number of Ge-Si system entries in Materials Project: 6\n",
      "Number of Si entries in Materials Project: 39\n",
      "Number of Ge entries in Materials Project: 17\n",
      "Number of results for training: 62\n"
     ]
    },
    {
     "name": "stderr",
     "output_type": "stream",
     "text": [
      "C:\\Users\\emily\\Anaconda3\\lib\\site-packages\\pymatgen\\io\\cif.py:1123: UserWarning: Issues encountered while parsing CIF: Some fractional co-ordinates rounded to ideal values to avoid issues with finite precision.\n",
      "  warnings.warn(\"Issues encountered while parsing CIF: %s\" % \"\\n\".join(self.warnings))\n"
     ]
    },
    {
     "name": "stdout",
     "output_type": "stream",
     "text": [
      "Training the model...\n",
      "training params= ['a', 'b', 'c', 'alpha', 'beta', 'gamma', 'Si', 'Ge']\n",
      "Making predictions...\n",
      "predicted bandgap for  Si2Ge3 : 0.0\n",
      "\n",
      "Starting prediciton for Si82Ge17 using decision_tree model type...\n",
      "Material training params: ['a', 'b', 'c', 'alpha', 'beta', 'gamma', 'Si', 'Ge']\n",
      "Getting Materials Project data ...\n",
      "Number of Ge-Si system entries in Materials Project: 6\n",
      "Number of Si entries in Materials Project: 39\n",
      "Number of Ge entries in Materials Project: 17\n",
      "Number of results for training: 62\n"
     ]
    },
    {
     "name": "stderr",
     "output_type": "stream",
     "text": [
      "C:\\Users\\emily\\Anaconda3\\lib\\site-packages\\pymatgen\\io\\cif.py:1123: UserWarning: Issues encountered while parsing CIF: Some fractional co-ordinates rounded to ideal values to avoid issues with finite precision.\n",
      "  warnings.warn(\"Issues encountered while parsing CIF: %s\" % \"\\n\".join(self.warnings))\n"
     ]
    },
    {
     "name": "stdout",
     "output_type": "stream",
     "text": [
      "Training the model...\n",
      "training params= ['a', 'b', 'c', 'alpha', 'beta', 'gamma', 'Si', 'Ge']\n",
      "Making predictions...\n",
      "predicted bandgap for  Si82Ge17 : 0.0\n"
     ]
    }
   ],
   "source": [
    "band_gap_predictions = BandGapPredictions(materials_list,model_type=\"decision_tree\")\n",
    "band_gap_prediction_objects = band_gap_predictions.band_gap_prediction_objects"
   ]
  },
  {
   "cell_type": "markdown",
   "metadata": {},
   "source": [
    "### Random Forest"
   ]
  },
  {
   "cell_type": "code",
   "execution_count": 13,
   "metadata": {
    "scrolled": true
   },
   "outputs": [
    {
     "name": "stdout",
     "output_type": "stream",
     "text": [
      "\n",
      "Starting prediciton for Si2Ge3 using random_forest model type...\n",
      "Material training params: ['a', 'b', 'c', 'alpha', 'beta', 'gamma', 'Si', 'Ge']\n",
      "Getting Materials Project data ...\n",
      "Number of Ge-Si system entries in Materials Project: 6\n",
      "Number of Si entries in Materials Project: 39\n",
      "Number of Ge entries in Materials Project: 17\n",
      "Number of results for training: 62\n"
     ]
    },
    {
     "name": "stderr",
     "output_type": "stream",
     "text": [
      "C:\\Users\\emily\\Anaconda3\\lib\\site-packages\\pymatgen\\io\\cif.py:1123: UserWarning: Issues encountered while parsing CIF: Some fractional co-ordinates rounded to ideal values to avoid issues with finite precision.\n",
      "  warnings.warn(\"Issues encountered while parsing CIF: %s\" % \"\\n\".join(self.warnings))\n"
     ]
    },
    {
     "name": "stdout",
     "output_type": "stream",
     "text": [
      "Training the model...\n",
      "training params= ['a', 'b', 'c', 'alpha', 'beta', 'gamma', 'Si', 'Ge']\n",
      "Making predictions...\n",
      "predicted bandgap for  Si2Ge3 : 0.2661349999999999\n",
      "\n",
      "Starting prediciton for Si82Ge17 using random_forest model type...\n",
      "Material training params: ['a', 'b', 'c', 'alpha', 'beta', 'gamma', 'Si', 'Ge']\n",
      "Getting Materials Project data ...\n",
      "Number of Ge-Si system entries in Materials Project: 6\n",
      "Number of Si entries in Materials Project: 39\n",
      "Number of Ge entries in Materials Project: 17\n",
      "Number of results for training: 62\n"
     ]
    },
    {
     "name": "stderr",
     "output_type": "stream",
     "text": [
      "C:\\Users\\emily\\Anaconda3\\lib\\site-packages\\pymatgen\\io\\cif.py:1123: UserWarning: Issues encountered while parsing CIF: Some fractional co-ordinates rounded to ideal values to avoid issues with finite precision.\n",
      "  warnings.warn(\"Issues encountered while parsing CIF: %s\" % \"\\n\".join(self.warnings))\n"
     ]
    },
    {
     "name": "stdout",
     "output_type": "stream",
     "text": [
      "Training the model...\n",
      "training params= ['a', 'b', 'c', 'alpha', 'beta', 'gamma', 'Si', 'Ge']\n",
      "Making predictions...\n",
      "predicted bandgap for  Si82Ge17 : 0.5573779999999995\n"
     ]
    }
   ],
   "source": [
    "band_gap_predictions = BandGapPredictions(materials_list,model_type=\"random_forest\")\n",
    "band_gap_prediction_objects = band_gap_predictions.band_gap_prediction_objects"
   ]
  },
  {
   "cell_type": "code",
   "execution_count": 14,
   "metadata": {},
   "outputs": [
    {
     "name": "stdout",
     "output_type": "stream",
     "text": [
      " \n",
      "    Si2Ge3\n",
      "    -----------\n",
      "    R-squared: 0.8773422239706925\n",
      "    band gap: 0.2661349999999999 eV\n",
      " \n",
      "    Si82Ge17\n",
      "    -----------\n",
      "    R-squared: 0.878043356771643\n",
      "    band gap: 0.5573779999999995 eV\n"
     ]
    }
   ],
   "source": [
    "for material, band_gap_prediction_object in band_gap_prediction_objects.items():\n",
    "    x = band_gap_prediction_object.X_train\n",
    "    y = band_gap_prediction_object.y_train\n",
    "    band_gap = band_gap_prediction_object.predicted_band_gap\n",
    "    score = band_gap_prediction_object.model.score(x,y)\n",
    "    print(f\"\"\" \n",
    "    {material}\n",
    "    -----------\n",
    "    R-squared: {score}\n",
    "    band gap: {band_gap} eV\"\"\")"
   ]
  },
  {
   "cell_type": "code",
   "execution_count": null,
   "metadata": {},
   "outputs": [],
   "source": []
  }
 ],
 "metadata": {
  "kernelspec": {
   "display_name": "Python 3",
   "language": "python",
   "name": "python3"
  },
  "language_info": {
   "codemirror_mode": {
    "name": "ipython",
    "version": 3
   },
   "file_extension": ".py",
   "mimetype": "text/x-python",
   "name": "python",
   "nbconvert_exporter": "python",
   "pygments_lexer": "ipython3",
   "version": "3.7.4"
  }
 },
 "nbformat": 4,
 "nbformat_minor": 2
}
