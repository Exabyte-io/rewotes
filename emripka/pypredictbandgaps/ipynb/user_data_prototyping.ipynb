{
 "cells": [
  {
   "cell_type": "code",
   "execution_count": 1,
   "metadata": {},
   "outputs": [],
   "source": [
    "import numpy as np\n",
    "import pandas as pd\n",
    "from sklearn import model_selection, metrics, linear_model\n",
    "import matplotlib.pyplot as plt\n",
    "\n",
    "from pypredictbandgaps.trainingdata import TrainingData\n",
    "from pypredictbandgaps.material import Material\n",
    "from pypredictbandgaps.bandgappredictions import BandGapPredictions"
   ]
  },
  {
   "cell_type": "code",
   "execution_count": 2,
   "metadata": {},
   "outputs": [],
   "source": [
    "# input materials\n",
    "SiGe = Material(formula=\"SiGe\",density=1.234,crystal_system=\"cubic\")\n",
    "Si2Ge3 = Material(formula=\"Si2Ge3\",density=2.135,crystal_system=\"cubic\")"
   ]
  },
  {
   "cell_type": "code",
   "execution_count": 3,
   "metadata": {},
   "outputs": [],
   "source": [
    "# create training data\n",
    "Si_training_data = TrainingData(\"Si\",band_gap=0.514,density=2.282,crystal_system=\"hexagonal\")\n",
    "Ge_training_data = TrainingData(\"Ge\",band_gap=0.67,density=4.445,crystal_system=\"cubic\")"
   ]
  },
  {
   "cell_type": "code",
   "execution_count": 4,
   "metadata": {},
   "outputs": [
    {
     "name": "stderr",
     "output_type": "stream",
     "text": [
      "C:\\Users\\emily\\Anaconda3\\lib\\site-packages\\sklearn\\model_selection\\_search.py:814: DeprecationWarning: The default of the `iid` parameter will change from True to False in version 0.22 and will be removed in 0.24. This will change numeric results when test-set sizes are unequal.\n",
      "  DeprecationWarning)\n"
     ]
    },
    {
     "name": "stdout",
     "output_type": "stream",
     "text": [
      "ridge regression alpha_choice = 0.20506122448979594\n"
     ]
    },
    {
     "name": "stderr",
     "output_type": "stream",
     "text": [
      "C:\\Users\\emily\\Anaconda3\\lib\\site-packages\\sklearn\\model_selection\\_search.py:814: DeprecationWarning: The default of the `iid` parameter will change from True to False in version 0.22 and will be removed in 0.24. This will change numeric results when test-set sizes are unequal.\n",
      "  DeprecationWarning)\n"
     ]
    },
    {
     "name": "stdout",
     "output_type": "stream",
     "text": [
      "ridge regression alpha_choice = 0.20506122448979594\n"
     ]
    }
   ],
   "source": [
    "# train the model and predict the bandgaps\n",
    "# using only the input training data\n",
    "materials_list = [SiGe, Si2Ge3]\n",
    "input_training_data = [Si_training_data, Ge_training_data]\n",
    "#band_gap_predictions = BandGapPredictions(materials_list,input_training_data,use_database_data=False)\n",
    "band_gap_predictions = BandGapPredictions(materials_list,input_training_data,use_database_data=True)"
   ]
  },
  {
   "cell_type": "code",
   "execution_count": 5,
   "metadata": {},
   "outputs": [
    {
     "name": "stdout",
     "output_type": "stream",
     "text": [
      " \n",
      "    SiGe\n",
      "    -----------\n",
      "    model score: 0.41287971145435026\n",
      "    band gap: 0.8506243958195882 eV\n",
      " \n",
      "    Si2Ge3\n",
      "    -----------\n",
      "    model score: 0.29532464041464723\n",
      "    band gap: 0.8295878421591918 eV\n"
     ]
    }
   ],
   "source": [
    "band_gap_prediction_objects = band_gap_predictions.band_gap_prediction_objects\n",
    "for material, band_gap_prediction_object in band_gap_prediction_objects.items():\n",
    "    print(f\"\"\" \n",
    "    {material}\n",
    "    -----------\n",
    "    model score: {band_gap_prediction_object.model_score}\n",
    "    band gap: {band_gap_prediction_object.predicted_band_gap} eV\"\"\")"
   ]
  },
  {
   "cell_type": "code",
   "execution_count": null,
   "metadata": {},
   "outputs": [],
   "source": []
  }
 ],
 "metadata": {
  "kernelspec": {
   "display_name": "Python 3",
   "language": "python",
   "name": "python3"
  },
  "language_info": {
   "codemirror_mode": {
    "name": "ipython",
    "version": 3
   },
   "file_extension": ".py",
   "mimetype": "text/x-python",
   "name": "python",
   "nbconvert_exporter": "python",
   "pygments_lexer": "ipython3",
   "version": "3.7.4"
  }
 },
 "nbformat": 4,
 "nbformat_minor": 2
}
